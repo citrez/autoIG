{
 "cells": [
  {
   "cell_type": "raw",
   "metadata": {},
   "source": [
    "3 upgrades:\n",
    "- Use yfinance data so can get it at 5 second intervals. --UPDATE: yfinance only offers 1min minimum interval. \n",
    "- Use stacked model"
   ]
  },
  {
   "cell_type": "code",
   "execution_count": 1,
   "metadata": {},
   "outputs": [],
   "source": [
    "import pandas as pd\n",
    "# pd.options.mode.chained_assignment = None\n",
    "import numpy as np\n",
    "import joblib\n",
    "from autoIG.epics import Epics,Tickers\n",
    "from autoIG.config import Source\n",
    "from autoIG.utils import print_shape,ROOT_DIR\n",
    "from sklearn.linear_model import LinearRegression\n",
    "from sklearn.pipeline import Pipeline\n",
    "from sklearn.preprocessing import FunctionTransformer\n",
    "from sklearn.ensemble import StackingRegressor\n",
    "from sklearn import set_config\n",
    "from autoIG.modelling import (\n",
    "    create_future_bid_Open,\n",
    "    fillna_,\n",
    "    create_past_ask_Open,\n",
    "    normalise_,\n",
    "    generate_target_2,\n",
    "    adapt_IG_data_for_training,\n",
    "    adapt_YF_data_for_training,\n",
    ")\n",
    "# import mlflow\n",
    "# import mlflow.sklearn\n",
    "# mlflow.autolog()\n",
    "# mlflow.set_tracking_uri(\"file://\"+str(ROOT_DIR.parent.absolute())+\"/mlruns\")\n",
    "# mlflow.set_tracking_uri(\"http://localhost:5000\")\n",
    "# mlflow.set_registry_uri(\"sqlite://\"+str(ROOT_DIR.parent.absolute())+ \"/mlflow.db\")\n",
    "# mlflow.set_registry_uri()\n",
    "set_config(transform_output=\"pandas\")"
   ]
  },
  {
   "cell_type": "code",
   "execution_count": 2,
   "metadata": {},
   "outputs": [],
   "source": [
    "# mlflow.tracking.get_tracking_uri()\n",
    "# mlflow.tracking.get_registry_uri()\n",
    "# mlflow.get_artifact_uri()"
   ]
  },
  {
   "cell_type": "code",
   "execution_count": 3,
   "metadata": {},
   "outputs": [],
   "source": [
    "# Persist the data, so we can train on the same dataset each time.\n",
    "# This should be tracked with DVC\n",
    "SOURCE = Source[\"YF\"].name\n",
    "RELOAD_DATA = False\n",
    "SAVE_MODEL = False\n",
    "# !! BUY AT ASK\n",
    "# !! SELL AT BID\n",
    "model_config = dict()\n",
    "model_config[\"NUMBER_OF_PAST_ASKS\"] = 15  # This is for training.\n",
    "model_config[\"EPIC\"] = Epics.BITCOIN_EPIC.name\n",
    "model_config[\"TICKER\"] = Tickers.BITCOIN_TICKER.name\n",
    "\n",
    "historical_prices_config = dict()\n",
    "historical_prices_config[\"resolution\"] = \"1Min\"\n",
    "historical_prices_config[\"numpoints\"] = 500"
   ]
  },
  {
   "cell_type": "code",
   "execution_count": 4,
   "metadata": {},
   "outputs": [],
   "source": [
    "if RELOAD_DATA:\n",
    "    if SOURCE == \"IG\":\n",
    "        from trading_ig.config import config\n",
    "        from trading_ig.rest import IGService\n",
    "        ig_service = IGService(config.username, config.password, config.api_key)\n",
    "        ig = ig_service.create_session()\n",
    "        results_ = ig_service.fetch_historical_prices_by_epic(\n",
    "            model_config[\"EPIC\"], **historical_prices_config\n",
    "        )\n",
    "        model_data = results_[\"prices\"]\n",
    "        model_data.to_pickle(\"model_data_ig.pkl\")\n",
    "    if SOURCE == \"YF\":\n",
    "        import yfinance as yf\n",
    "        ticker = yf.Ticker(model_config[\"TICKER\"])\n",
    "        model_data = ticker.history(\n",
    "            interval=\"1m\", start=\"2022-12-05\", end=\"2022-12-10\"\n",
    "        )\n",
    "        model_data.to_pickle(\"model_data_yf.pkl\")\n",
    "    else:\n",
    "        Exception(\"Please provide source to reload data from: (IG/YF)\")\n",
    "\n",
    "else:\n",
    "    if SOURCE == \"IG\":\n",
    "        model_data = pd.read_pickle(\"model_data_ig.pkl\")\n",
    "    if SOURCE == \"YF\":\n",
    "        model_data = pd.read_pickle(\"model_data_yf.pkl\")\n"
   ]
  },
  {
   "cell_type": "code",
   "execution_count": 5,
   "metadata": {},
   "outputs": [
    {
     "name": "stdout",
     "output_type": "stream",
     "text": [
      "Shape: 6,873 4\n"
     ]
    },
    {
     "data": {
      "text/html": [
       "<div>\n",
       "<style scoped>\n",
       "    .dataframe tbody tr th:only-of-type {\n",
       "        vertical-align: middle;\n",
       "    }\n",
       "\n",
       "    .dataframe tbody tr th {\n",
       "        vertical-align: top;\n",
       "    }\n",
       "\n",
       "    .dataframe thead th {\n",
       "        text-align: right;\n",
       "    }\n",
       "</style>\n",
       "<table border=\"1\" class=\"dataframe\">\n",
       "  <thead>\n",
       "    <tr style=\"text-align: right;\">\n",
       "      <th></th>\n",
       "      <th>ASK_OPEN</th>\n",
       "      <th>BID_OPEN</th>\n",
       "      <th>BID_OPEN_S1</th>\n",
       "      <th>r</th>\n",
       "    </tr>\n",
       "    <tr>\n",
       "      <th>UPDATED_AT</th>\n",
       "      <th></th>\n",
       "      <th></th>\n",
       "      <th></th>\n",
       "      <th></th>\n",
       "    </tr>\n",
       "  </thead>\n",
       "  <tbody>\n",
       "    <tr>\n",
       "      <th>2022-12-05 00:00:00+00:00</th>\n",
       "      <td>17128.894531</td>\n",
       "      <td>17131.894531</td>\n",
       "      <td>17125.783203</td>\n",
       "      <td>0.999818</td>\n",
       "    </tr>\n",
       "    <tr>\n",
       "      <th>2022-12-05 00:01:00+00:00</th>\n",
       "      <td>17122.783203</td>\n",
       "      <td>17125.783203</td>\n",
       "      <td>17121.808594</td>\n",
       "      <td>0.999943</td>\n",
       "    </tr>\n",
       "    <tr>\n",
       "      <th>2022-12-05 00:02:00+00:00</th>\n",
       "      <td>17118.808594</td>\n",
       "      <td>17121.808594</td>\n",
       "      <td>17117.835938</td>\n",
       "      <td>0.999943</td>\n",
       "    </tr>\n",
       "  </tbody>\n",
       "</table>\n",
       "</div>"
      ],
      "text/plain": [
       "                               ASK_OPEN      BID_OPEN   BID_OPEN_S1         r\n",
       "UPDATED_AT                                                                   \n",
       "2022-12-05 00:00:00+00:00  17128.894531  17131.894531  17125.783203  0.999818\n",
       "2022-12-05 00:01:00+00:00  17122.783203  17125.783203  17121.808594  0.999943\n",
       "2022-12-05 00:02:00+00:00  17118.808594  17121.808594  17117.835938  0.999943"
      ]
     },
     "execution_count": 5,
     "metadata": {},
     "output_type": "execute_result"
    }
   ],
   "source": [
    "if SOURCE == 'IG':\n",
    "    model_data= model_data.pipe(adapt_IG_data_for_training)\n",
    "if SOURCE == 'YF':\n",
    "    model_data=  model_data.pipe(adapt_YF_data_for_training)\n",
    "model_data.pipe(print_shape).head(3)"
   ]
  },
  {
   "cell_type": "code",
   "execution_count": 6,
   "metadata": {},
   "outputs": [
    {
     "data": {
      "text/plain": [
       "count    6873.0\n",
       "mean       -3.0\n",
       "std         0.0\n",
       "min        -3.0\n",
       "25%        -3.0\n",
       "50%        -3.0\n",
       "75%        -3.0\n",
       "max        -3.0\n",
       "dtype: float64"
      ]
     },
     "execution_count": 6,
     "metadata": {},
     "output_type": "execute_result"
    }
   ],
   "source": [
    "# Difference between ask price (buy for) and bid price (sell price)\n",
    "(model_data.ASK_OPEN - model_data.BID_OPEN).describe()"
   ]
  },
  {
   "cell_type": "code",
   "execution_count": 8,
   "metadata": {},
   "outputs": [],
   "source": [
    "from functools import partial\n",
    "create_past_ask_Open_num_small = partial(create_past_ask_Open,num = 3)\n",
    "create_past_ask_Open_num_medium = partial(create_past_ask_Open,num = 10)\n",
    "create_past_ask_Open_num_large = partial(create_past_ask_Open,num = 15)"
   ]
  },
  {
   "cell_type": "code",
   "execution_count": 20,
   "metadata": {},
   "outputs": [
    {
     "data": {
      "text/html": [
       "<style>#sk-container-id-4 {color: black;background-color: white;}#sk-container-id-4 pre{padding: 0;}#sk-container-id-4 div.sk-toggleable {background-color: white;}#sk-container-id-4 label.sk-toggleable__label {cursor: pointer;display: block;width: 100%;margin-bottom: 0;padding: 0.3em;box-sizing: border-box;text-align: center;}#sk-container-id-4 label.sk-toggleable__label-arrow:before {content: \"▸\";float: left;margin-right: 0.25em;color: #696969;}#sk-container-id-4 label.sk-toggleable__label-arrow:hover:before {color: black;}#sk-container-id-4 div.sk-estimator:hover label.sk-toggleable__label-arrow:before {color: black;}#sk-container-id-4 div.sk-toggleable__content {max-height: 0;max-width: 0;overflow: hidden;text-align: left;background-color: #f0f8ff;}#sk-container-id-4 div.sk-toggleable__content pre {margin: 0.2em;color: black;border-radius: 0.25em;background-color: #f0f8ff;}#sk-container-id-4 input.sk-toggleable__control:checked~div.sk-toggleable__content {max-height: 200px;max-width: 100%;overflow: auto;}#sk-container-id-4 input.sk-toggleable__control:checked~label.sk-toggleable__label-arrow:before {content: \"▾\";}#sk-container-id-4 div.sk-estimator input.sk-toggleable__control:checked~label.sk-toggleable__label {background-color: #d4ebff;}#sk-container-id-4 div.sk-label input.sk-toggleable__control:checked~label.sk-toggleable__label {background-color: #d4ebff;}#sk-container-id-4 input.sk-hidden--visually {border: 0;clip: rect(1px 1px 1px 1px);clip: rect(1px, 1px, 1px, 1px);height: 1px;margin: -1px;overflow: hidden;padding: 0;position: absolute;width: 1px;}#sk-container-id-4 div.sk-estimator {font-family: monospace;background-color: #f0f8ff;border: 1px dotted black;border-radius: 0.25em;box-sizing: border-box;margin-bottom: 0.5em;}#sk-container-id-4 div.sk-estimator:hover {background-color: #d4ebff;}#sk-container-id-4 div.sk-parallel-item::after {content: \"\";width: 100%;border-bottom: 1px solid gray;flex-grow: 1;}#sk-container-id-4 div.sk-label:hover label.sk-toggleable__label {background-color: #d4ebff;}#sk-container-id-4 div.sk-serial::before {content: \"\";position: absolute;border-left: 1px solid gray;box-sizing: border-box;top: 0;bottom: 0;left: 50%;z-index: 0;}#sk-container-id-4 div.sk-serial {display: flex;flex-direction: column;align-items: center;background-color: white;padding-right: 0.2em;padding-left: 0.2em;position: relative;}#sk-container-id-4 div.sk-item {position: relative;z-index: 1;}#sk-container-id-4 div.sk-parallel {display: flex;align-items: stretch;justify-content: center;background-color: white;position: relative;}#sk-container-id-4 div.sk-item::before, #sk-container-id-4 div.sk-parallel-item::before {content: \"\";position: absolute;border-left: 1px solid gray;box-sizing: border-box;top: 0;bottom: 0;left: 50%;z-index: -1;}#sk-container-id-4 div.sk-parallel-item {display: flex;flex-direction: column;z-index: 1;position: relative;background-color: white;}#sk-container-id-4 div.sk-parallel-item:first-child::after {align-self: flex-end;width: 50%;}#sk-container-id-4 div.sk-parallel-item:last-child::after {align-self: flex-start;width: 50%;}#sk-container-id-4 div.sk-parallel-item:only-child::after {width: 0;}#sk-container-id-4 div.sk-dashed-wrapped {border: 1px dashed gray;margin: 0 0.4em 0.5em 0.4em;box-sizing: border-box;padding-bottom: 0.4em;background-color: white;}#sk-container-id-4 div.sk-label label {font-family: monospace;font-weight: bold;display: inline-block;line-height: 1.2em;}#sk-container-id-4 div.sk-label-container {text-align: center;}#sk-container-id-4 div.sk-container {/* jupyter's `normalize.less` sets `[hidden] { display: none; }` but bootstrap.min.css set `[hidden] { display: none !important; }` so we also need the `!important` here to be able to override the default hidden behavior on the sphinx rendered scikit-learn.org. See: https://github.com/scikit-learn/scikit-learn/issues/21755 */display: inline-block !important;position: relative;}#sk-container-id-4 div.sk-text-repr-fallback {display: none;}</style><div id=\"sk-container-id-4\" class=\"sk-top-container\"><div class=\"sk-text-repr-fallback\"><pre>StackingRegressor(estimators=[(&#x27;small_lookback&#x27;,\n",
       "                               Pipeline(steps=[(&#x27;add_past_period_columns&#x27;,\n",
       "                                                FunctionTransformer(func=functools.partial(&lt;function create_past_ask_Open at 0x1212b2790&gt;, num=3))),\n",
       "                                               (&#x27;fill_na&#x27;,\n",
       "                                                FunctionTransformer(func=&lt;function fillna_ at 0x1212b2820&gt;)),\n",
       "                                               (&#x27;normalise&#x27;,\n",
       "                                                FunctionTransformer(func=&lt;function normalise_ at 0x1212b28b0&gt;)),\n",
       "                                               (&#x27;predictor&#x27;,\n",
       "                                                LinearR...\n",
       "                               Pipeline(steps=[(&#x27;add_past_period_columns&#x27;,\n",
       "                                                FunctionTransformer(func=functools.partial(&lt;function create_past_ask_Open at 0x1212b2790&gt;, num=15))),\n",
       "                                               (&#x27;fill_na&#x27;,\n",
       "                                                FunctionTransformer(func=&lt;function fillna_ at 0x1212b2820&gt;)),\n",
       "                                               (&#x27;normalise&#x27;,\n",
       "                                                FunctionTransformer(func=&lt;function normalise_ at 0x1212b28b0&gt;)),\n",
       "                                               (&#x27;predictor&#x27;,\n",
       "                                                LinearRegression())]))],\n",
       "                  final_estimator=LinearRegression())</pre><b>In a Jupyter environment, please rerun this cell to show the HTML representation or trust the notebook. <br />On GitHub, the HTML representation is unable to render, please try loading this page with nbviewer.org.</b></div><div class=\"sk-container\" hidden><div class=\"sk-item sk-dashed-wrapped\"><div class=\"sk-label-container\"><div class=\"sk-label sk-toggleable\"><input class=\"sk-toggleable__control sk-hidden--visually\" id=\"sk-estimator-id-43\" type=\"checkbox\" ><label for=\"sk-estimator-id-43\" class=\"sk-toggleable__label sk-toggleable__label-arrow\">StackingRegressor</label><div class=\"sk-toggleable__content\"><pre>StackingRegressor(estimators=[(&#x27;small_lookback&#x27;,\n",
       "                               Pipeline(steps=[(&#x27;add_past_period_columns&#x27;,\n",
       "                                                FunctionTransformer(func=functools.partial(&lt;function create_past_ask_Open at 0x1212b2790&gt;, num=3))),\n",
       "                                               (&#x27;fill_na&#x27;,\n",
       "                                                FunctionTransformer(func=&lt;function fillna_ at 0x1212b2820&gt;)),\n",
       "                                               (&#x27;normalise&#x27;,\n",
       "                                                FunctionTransformer(func=&lt;function normalise_ at 0x1212b28b0&gt;)),\n",
       "                                               (&#x27;predictor&#x27;,\n",
       "                                                LinearR...\n",
       "                               Pipeline(steps=[(&#x27;add_past_period_columns&#x27;,\n",
       "                                                FunctionTransformer(func=functools.partial(&lt;function create_past_ask_Open at 0x1212b2790&gt;, num=15))),\n",
       "                                               (&#x27;fill_na&#x27;,\n",
       "                                                FunctionTransformer(func=&lt;function fillna_ at 0x1212b2820&gt;)),\n",
       "                                               (&#x27;normalise&#x27;,\n",
       "                                                FunctionTransformer(func=&lt;function normalise_ at 0x1212b28b0&gt;)),\n",
       "                                               (&#x27;predictor&#x27;,\n",
       "                                                LinearRegression())]))],\n",
       "                  final_estimator=LinearRegression())</pre></div></div></div><div class=\"sk-serial\"><div class=\"sk-item\"><div class=\"sk-parallel\"><div class=\"sk-parallel-item\"><div class=\"sk-item\"><div class=\"sk-label-container\"><div class=\"sk-label sk-toggleable\"><label>small_lookback</label></div></div><div class=\"sk-serial\"><div class=\"sk-item\"><div class=\"sk-serial\"><div class=\"sk-item\"><div class=\"sk-estimator sk-toggleable\"><input class=\"sk-toggleable__control sk-hidden--visually\" id=\"sk-estimator-id-44\" type=\"checkbox\" ><label for=\"sk-estimator-id-44\" class=\"sk-toggleable__label sk-toggleable__label-arrow\">FunctionTransformer</label><div class=\"sk-toggleable__content\"><pre>FunctionTransformer(func=functools.partial(&lt;function create_past_ask_Open at 0x1212b2790&gt;, num=3))</pre></div></div></div><div class=\"sk-item\"><div class=\"sk-estimator sk-toggleable\"><input class=\"sk-toggleable__control sk-hidden--visually\" id=\"sk-estimator-id-45\" type=\"checkbox\" ><label for=\"sk-estimator-id-45\" class=\"sk-toggleable__label sk-toggleable__label-arrow\">FunctionTransformer</label><div class=\"sk-toggleable__content\"><pre>FunctionTransformer(func=&lt;function fillna_ at 0x1212b2820&gt;)</pre></div></div></div><div class=\"sk-item\"><div class=\"sk-estimator sk-toggleable\"><input class=\"sk-toggleable__control sk-hidden--visually\" id=\"sk-estimator-id-46\" type=\"checkbox\" ><label for=\"sk-estimator-id-46\" class=\"sk-toggleable__label sk-toggleable__label-arrow\">FunctionTransformer</label><div class=\"sk-toggleable__content\"><pre>FunctionTransformer(func=&lt;function normalise_ at 0x1212b28b0&gt;)</pre></div></div></div><div class=\"sk-item\"><div class=\"sk-estimator sk-toggleable\"><input class=\"sk-toggleable__control sk-hidden--visually\" id=\"sk-estimator-id-47\" type=\"checkbox\" ><label for=\"sk-estimator-id-47\" class=\"sk-toggleable__label sk-toggleable__label-arrow\">LinearRegression</label><div class=\"sk-toggleable__content\"><pre>LinearRegression()</pre></div></div></div></div></div></div></div></div><div class=\"sk-parallel-item\"><div class=\"sk-item\"><div class=\"sk-label-container\"><div class=\"sk-label sk-toggleable\"><label>medium_lookback</label></div></div><div class=\"sk-serial\"><div class=\"sk-item\"><div class=\"sk-serial\"><div class=\"sk-item\"><div class=\"sk-estimator sk-toggleable\"><input class=\"sk-toggleable__control sk-hidden--visually\" id=\"sk-estimator-id-48\" type=\"checkbox\" ><label for=\"sk-estimator-id-48\" class=\"sk-toggleable__label sk-toggleable__label-arrow\">FunctionTransformer</label><div class=\"sk-toggleable__content\"><pre>FunctionTransformer(func=functools.partial(&lt;function create_past_ask_Open at 0x1212b2790&gt;, num=10))</pre></div></div></div><div class=\"sk-item\"><div class=\"sk-estimator sk-toggleable\"><input class=\"sk-toggleable__control sk-hidden--visually\" id=\"sk-estimator-id-49\" type=\"checkbox\" ><label for=\"sk-estimator-id-49\" class=\"sk-toggleable__label sk-toggleable__label-arrow\">FunctionTransformer</label><div class=\"sk-toggleable__content\"><pre>FunctionTransformer(func=&lt;function fillna_ at 0x1212b2820&gt;)</pre></div></div></div><div class=\"sk-item\"><div class=\"sk-estimator sk-toggleable\"><input class=\"sk-toggleable__control sk-hidden--visually\" id=\"sk-estimator-id-50\" type=\"checkbox\" ><label for=\"sk-estimator-id-50\" class=\"sk-toggleable__label sk-toggleable__label-arrow\">FunctionTransformer</label><div class=\"sk-toggleable__content\"><pre>FunctionTransformer(func=&lt;function normalise_ at 0x1212b28b0&gt;)</pre></div></div></div><div class=\"sk-item\"><div class=\"sk-estimator sk-toggleable\"><input class=\"sk-toggleable__control sk-hidden--visually\" id=\"sk-estimator-id-51\" type=\"checkbox\" ><label for=\"sk-estimator-id-51\" class=\"sk-toggleable__label sk-toggleable__label-arrow\">LinearRegression</label><div class=\"sk-toggleable__content\"><pre>LinearRegression()</pre></div></div></div></div></div></div></div></div><div class=\"sk-parallel-item\"><div class=\"sk-item\"><div class=\"sk-label-container\"><div class=\"sk-label sk-toggleable\"><label>large_lookback</label></div></div><div class=\"sk-serial\"><div class=\"sk-item\"><div class=\"sk-serial\"><div class=\"sk-item\"><div class=\"sk-estimator sk-toggleable\"><input class=\"sk-toggleable__control sk-hidden--visually\" id=\"sk-estimator-id-52\" type=\"checkbox\" ><label for=\"sk-estimator-id-52\" class=\"sk-toggleable__label sk-toggleable__label-arrow\">FunctionTransformer</label><div class=\"sk-toggleable__content\"><pre>FunctionTransformer(func=functools.partial(&lt;function create_past_ask_Open at 0x1212b2790&gt;, num=15))</pre></div></div></div><div class=\"sk-item\"><div class=\"sk-estimator sk-toggleable\"><input class=\"sk-toggleable__control sk-hidden--visually\" id=\"sk-estimator-id-53\" type=\"checkbox\" ><label for=\"sk-estimator-id-53\" class=\"sk-toggleable__label sk-toggleable__label-arrow\">FunctionTransformer</label><div class=\"sk-toggleable__content\"><pre>FunctionTransformer(func=&lt;function fillna_ at 0x1212b2820&gt;)</pre></div></div></div><div class=\"sk-item\"><div class=\"sk-estimator sk-toggleable\"><input class=\"sk-toggleable__control sk-hidden--visually\" id=\"sk-estimator-id-54\" type=\"checkbox\" ><label for=\"sk-estimator-id-54\" class=\"sk-toggleable__label sk-toggleable__label-arrow\">FunctionTransformer</label><div class=\"sk-toggleable__content\"><pre>FunctionTransformer(func=&lt;function normalise_ at 0x1212b28b0&gt;)</pre></div></div></div><div class=\"sk-item\"><div class=\"sk-estimator sk-toggleable\"><input class=\"sk-toggleable__control sk-hidden--visually\" id=\"sk-estimator-id-55\" type=\"checkbox\" ><label for=\"sk-estimator-id-55\" class=\"sk-toggleable__label sk-toggleable__label-arrow\">LinearRegression</label><div class=\"sk-toggleable__content\"><pre>LinearRegression()</pre></div></div></div></div></div></div></div></div></div></div><div class=\"sk-item\"><div class=\"sk-parallel\"><div class=\"sk-parallel-item\"><div class=\"sk-item\"><div class=\"sk-label-container\"><div class=\"sk-label sk-toggleable\"><label>final_estimator</label></div></div><div class=\"sk-serial\"><div class=\"sk-item\"><div class=\"sk-estimator sk-toggleable\"><input class=\"sk-toggleable__control sk-hidden--visually\" id=\"sk-estimator-id-56\" type=\"checkbox\" ><label for=\"sk-estimator-id-56\" class=\"sk-toggleable__label sk-toggleable__label-arrow\">LinearRegression</label><div class=\"sk-toggleable__content\"><pre>LinearRegression()</pre></div></div></div></div></div></div></div></div></div></div></div></div>"
      ],
      "text/plain": [
       "StackingRegressor(estimators=[('small_lookback',\n",
       "                               Pipeline(steps=[('add_past_period_columns',\n",
       "                                                FunctionTransformer(func=functools.partial(<function create_past_ask_Open at 0x1212b2790>, num=3))),\n",
       "                                               ('fill_na',\n",
       "                                                FunctionTransformer(func=<function fillna_ at 0x1212b2820>)),\n",
       "                                               ('normalise',\n",
       "                                                FunctionTransformer(func=<function normalise_ at 0x1212b28b0>)),\n",
       "                                               ('predictor',\n",
       "                                                LinearR...\n",
       "                               Pipeline(steps=[('add_past_period_columns',\n",
       "                                                FunctionTransformer(func=functools.partial(<function create_past_ask_Open at 0x1212b2790>, num=15))),\n",
       "                                               ('fill_na',\n",
       "                                                FunctionTransformer(func=<function fillna_ at 0x1212b2820>)),\n",
       "                                               ('normalise',\n",
       "                                                FunctionTransformer(func=<function normalise_ at 0x1212b28b0>)),\n",
       "                                               ('predictor',\n",
       "                                                LinearRegression())]))],\n",
       "                  final_estimator=LinearRegression())"
      ]
     },
     "execution_count": 20,
     "metadata": {},
     "output_type": "execute_result"
    }
   ],
   "source": [
    "fillna_transformer = FunctionTransformer(fillna_)\n",
    "normalise_transformer = FunctionTransformer(normalise_)\n",
    "pl1 = Pipeline(\n",
    "    [\n",
    "        (\"add_past_period_columns\", FunctionTransformer(create_past_ask_Open_num_small)),\n",
    "        (\"fill_na\", fillna_transformer),\n",
    "        (\"normalise\", normalise_transformer),\n",
    "        (\"predictor\", LinearRegression()),\n",
    "    ]\n",
    ")\n",
    "pl2 = Pipeline(\n",
    "    [\n",
    "        (\"add_past_period_columns\", FunctionTransformer(create_past_ask_Open_num_medium)),\n",
    "        (\"fill_na\", fillna_transformer),\n",
    "        (\"normalise\", normalise_transformer),\n",
    "        (\"predictor\", LinearRegression()),\n",
    "    ]\n",
    ")\n",
    "pl3 = Pipeline(\n",
    "    [\n",
    "        (\"add_past_period_columns\", FunctionTransformer(create_past_ask_Open_num_large)),\n",
    "        (\"fill_na\", fillna_transformer),\n",
    "        (\"normalise\", normalise_transformer),\n",
    "        (\"predictor\", LinearRegression()),\n",
    "    ]\n",
    ")\n",
    "\n",
    "stack = StackingRegressor(\n",
    "    [(\"small_lookback\", pl1), (\"medium_lookback\", pl2), (\"large_lookback\", pl3)], final_estimator=LinearRegression()\n",
    ")\n",
    "stack\n"
   ]
  },
  {
   "cell_type": "code",
   "execution_count": 10,
   "metadata": {},
   "outputs": [],
   "source": [
    "X = model_data[['ASK_OPEN']]\n",
    "y = model_data['r']"
   ]
  },
  {
   "cell_type": "code",
   "execution_count": 11,
   "metadata": {},
   "outputs": [
    {
     "data": {
      "text/html": [
       "<style>#sk-container-id-2 {color: black;background-color: white;}#sk-container-id-2 pre{padding: 0;}#sk-container-id-2 div.sk-toggleable {background-color: white;}#sk-container-id-2 label.sk-toggleable__label {cursor: pointer;display: block;width: 100%;margin-bottom: 0;padding: 0.3em;box-sizing: border-box;text-align: center;}#sk-container-id-2 label.sk-toggleable__label-arrow:before {content: \"▸\";float: left;margin-right: 0.25em;color: #696969;}#sk-container-id-2 label.sk-toggleable__label-arrow:hover:before {color: black;}#sk-container-id-2 div.sk-estimator:hover label.sk-toggleable__label-arrow:before {color: black;}#sk-container-id-2 div.sk-toggleable__content {max-height: 0;max-width: 0;overflow: hidden;text-align: left;background-color: #f0f8ff;}#sk-container-id-2 div.sk-toggleable__content pre {margin: 0.2em;color: black;border-radius: 0.25em;background-color: #f0f8ff;}#sk-container-id-2 input.sk-toggleable__control:checked~div.sk-toggleable__content {max-height: 200px;max-width: 100%;overflow: auto;}#sk-container-id-2 input.sk-toggleable__control:checked~label.sk-toggleable__label-arrow:before {content: \"▾\";}#sk-container-id-2 div.sk-estimator input.sk-toggleable__control:checked~label.sk-toggleable__label {background-color: #d4ebff;}#sk-container-id-2 div.sk-label input.sk-toggleable__control:checked~label.sk-toggleable__label {background-color: #d4ebff;}#sk-container-id-2 input.sk-hidden--visually {border: 0;clip: rect(1px 1px 1px 1px);clip: rect(1px, 1px, 1px, 1px);height: 1px;margin: -1px;overflow: hidden;padding: 0;position: absolute;width: 1px;}#sk-container-id-2 div.sk-estimator {font-family: monospace;background-color: #f0f8ff;border: 1px dotted black;border-radius: 0.25em;box-sizing: border-box;margin-bottom: 0.5em;}#sk-container-id-2 div.sk-estimator:hover {background-color: #d4ebff;}#sk-container-id-2 div.sk-parallel-item::after {content: \"\";width: 100%;border-bottom: 1px solid gray;flex-grow: 1;}#sk-container-id-2 div.sk-label:hover label.sk-toggleable__label {background-color: #d4ebff;}#sk-container-id-2 div.sk-serial::before {content: \"\";position: absolute;border-left: 1px solid gray;box-sizing: border-box;top: 0;bottom: 0;left: 50%;z-index: 0;}#sk-container-id-2 div.sk-serial {display: flex;flex-direction: column;align-items: center;background-color: white;padding-right: 0.2em;padding-left: 0.2em;position: relative;}#sk-container-id-2 div.sk-item {position: relative;z-index: 1;}#sk-container-id-2 div.sk-parallel {display: flex;align-items: stretch;justify-content: center;background-color: white;position: relative;}#sk-container-id-2 div.sk-item::before, #sk-container-id-2 div.sk-parallel-item::before {content: \"\";position: absolute;border-left: 1px solid gray;box-sizing: border-box;top: 0;bottom: 0;left: 50%;z-index: -1;}#sk-container-id-2 div.sk-parallel-item {display: flex;flex-direction: column;z-index: 1;position: relative;background-color: white;}#sk-container-id-2 div.sk-parallel-item:first-child::after {align-self: flex-end;width: 50%;}#sk-container-id-2 div.sk-parallel-item:last-child::after {align-self: flex-start;width: 50%;}#sk-container-id-2 div.sk-parallel-item:only-child::after {width: 0;}#sk-container-id-2 div.sk-dashed-wrapped {border: 1px dashed gray;margin: 0 0.4em 0.5em 0.4em;box-sizing: border-box;padding-bottom: 0.4em;background-color: white;}#sk-container-id-2 div.sk-label label {font-family: monospace;font-weight: bold;display: inline-block;line-height: 1.2em;}#sk-container-id-2 div.sk-label-container {text-align: center;}#sk-container-id-2 div.sk-container {/* jupyter's `normalize.less` sets `[hidden] { display: none; }` but bootstrap.min.css set `[hidden] { display: none !important; }` so we also need the `!important` here to be able to override the default hidden behavior on the sphinx rendered scikit-learn.org. See: https://github.com/scikit-learn/scikit-learn/issues/21755 */display: inline-block !important;position: relative;}#sk-container-id-2 div.sk-text-repr-fallback {display: none;}</style><div id=\"sk-container-id-2\" class=\"sk-top-container\"><div class=\"sk-text-repr-fallback\"><pre>StackingRegressor(estimators=[(&#x27;small_lookback&#x27;,\n",
       "                               Pipeline(steps=[(&#x27;add_past_period_columns&#x27;,\n",
       "                                                FunctionTransformer(func=functools.partial(&lt;function create_past_ask_Open at 0x1212b2790&gt;, num=3))),\n",
       "                                               (&#x27;fill_na&#x27;,\n",
       "                                                FunctionTransformer(func=&lt;function fillna_ at 0x1212b2820&gt;)),\n",
       "                                               (&#x27;normalise&#x27;,\n",
       "                                                FunctionTransformer(func=&lt;function normalise_ at 0x1212b28b0&gt;)),\n",
       "                                               (&#x27;predictor&#x27;,\n",
       "                                                LinearR...\n",
       "                               Pipeline(steps=[(&#x27;add_past_period_columns&#x27;,\n",
       "                                                FunctionTransformer(func=functools.partial(&lt;function create_past_ask_Open at 0x1212b2790&gt;, num=15))),\n",
       "                                               (&#x27;fill_na&#x27;,\n",
       "                                                FunctionTransformer(func=&lt;function fillna_ at 0x1212b2820&gt;)),\n",
       "                                               (&#x27;normalise&#x27;,\n",
       "                                                FunctionTransformer(func=&lt;function normalise_ at 0x1212b28b0&gt;)),\n",
       "                                               (&#x27;predictor&#x27;,\n",
       "                                                LinearRegression())]))],\n",
       "                  final_estimator=LinearRegression())</pre><b>In a Jupyter environment, please rerun this cell to show the HTML representation or trust the notebook. <br />On GitHub, the HTML representation is unable to render, please try loading this page with nbviewer.org.</b></div><div class=\"sk-container\" hidden><div class=\"sk-item sk-dashed-wrapped\"><div class=\"sk-label-container\"><div class=\"sk-label sk-toggleable\"><input class=\"sk-toggleable__control sk-hidden--visually\" id=\"sk-estimator-id-15\" type=\"checkbox\" ><label for=\"sk-estimator-id-15\" class=\"sk-toggleable__label sk-toggleable__label-arrow\">StackingRegressor</label><div class=\"sk-toggleable__content\"><pre>StackingRegressor(estimators=[(&#x27;small_lookback&#x27;,\n",
       "                               Pipeline(steps=[(&#x27;add_past_period_columns&#x27;,\n",
       "                                                FunctionTransformer(func=functools.partial(&lt;function create_past_ask_Open at 0x1212b2790&gt;, num=3))),\n",
       "                                               (&#x27;fill_na&#x27;,\n",
       "                                                FunctionTransformer(func=&lt;function fillna_ at 0x1212b2820&gt;)),\n",
       "                                               (&#x27;normalise&#x27;,\n",
       "                                                FunctionTransformer(func=&lt;function normalise_ at 0x1212b28b0&gt;)),\n",
       "                                               (&#x27;predictor&#x27;,\n",
       "                                                LinearR...\n",
       "                               Pipeline(steps=[(&#x27;add_past_period_columns&#x27;,\n",
       "                                                FunctionTransformer(func=functools.partial(&lt;function create_past_ask_Open at 0x1212b2790&gt;, num=15))),\n",
       "                                               (&#x27;fill_na&#x27;,\n",
       "                                                FunctionTransformer(func=&lt;function fillna_ at 0x1212b2820&gt;)),\n",
       "                                               (&#x27;normalise&#x27;,\n",
       "                                                FunctionTransformer(func=&lt;function normalise_ at 0x1212b28b0&gt;)),\n",
       "                                               (&#x27;predictor&#x27;,\n",
       "                                                LinearRegression())]))],\n",
       "                  final_estimator=LinearRegression())</pre></div></div></div><div class=\"sk-serial\"><div class=\"sk-item\"><div class=\"sk-parallel\"><div class=\"sk-parallel-item\"><div class=\"sk-item\"><div class=\"sk-label-container\"><div class=\"sk-label sk-toggleable\"><label>small_lookback</label></div></div><div class=\"sk-serial\"><div class=\"sk-item\"><div class=\"sk-serial\"><div class=\"sk-item\"><div class=\"sk-estimator sk-toggleable\"><input class=\"sk-toggleable__control sk-hidden--visually\" id=\"sk-estimator-id-16\" type=\"checkbox\" ><label for=\"sk-estimator-id-16\" class=\"sk-toggleable__label sk-toggleable__label-arrow\">FunctionTransformer</label><div class=\"sk-toggleable__content\"><pre>FunctionTransformer(func=functools.partial(&lt;function create_past_ask_Open at 0x1212b2790&gt;, num=3))</pre></div></div></div><div class=\"sk-item\"><div class=\"sk-estimator sk-toggleable\"><input class=\"sk-toggleable__control sk-hidden--visually\" id=\"sk-estimator-id-17\" type=\"checkbox\" ><label for=\"sk-estimator-id-17\" class=\"sk-toggleable__label sk-toggleable__label-arrow\">FunctionTransformer</label><div class=\"sk-toggleable__content\"><pre>FunctionTransformer(func=&lt;function fillna_ at 0x1212b2820&gt;)</pre></div></div></div><div class=\"sk-item\"><div class=\"sk-estimator sk-toggleable\"><input class=\"sk-toggleable__control sk-hidden--visually\" id=\"sk-estimator-id-18\" type=\"checkbox\" ><label for=\"sk-estimator-id-18\" class=\"sk-toggleable__label sk-toggleable__label-arrow\">FunctionTransformer</label><div class=\"sk-toggleable__content\"><pre>FunctionTransformer(func=&lt;function normalise_ at 0x1212b28b0&gt;)</pre></div></div></div><div class=\"sk-item\"><div class=\"sk-estimator sk-toggleable\"><input class=\"sk-toggleable__control sk-hidden--visually\" id=\"sk-estimator-id-19\" type=\"checkbox\" ><label for=\"sk-estimator-id-19\" class=\"sk-toggleable__label sk-toggleable__label-arrow\">LinearRegression</label><div class=\"sk-toggleable__content\"><pre>LinearRegression()</pre></div></div></div></div></div></div></div></div><div class=\"sk-parallel-item\"><div class=\"sk-item\"><div class=\"sk-label-container\"><div class=\"sk-label sk-toggleable\"><label>medium_lookback</label></div></div><div class=\"sk-serial\"><div class=\"sk-item\"><div class=\"sk-serial\"><div class=\"sk-item\"><div class=\"sk-estimator sk-toggleable\"><input class=\"sk-toggleable__control sk-hidden--visually\" id=\"sk-estimator-id-20\" type=\"checkbox\" ><label for=\"sk-estimator-id-20\" class=\"sk-toggleable__label sk-toggleable__label-arrow\">FunctionTransformer</label><div class=\"sk-toggleable__content\"><pre>FunctionTransformer(func=functools.partial(&lt;function create_past_ask_Open at 0x1212b2790&gt;, num=10))</pre></div></div></div><div class=\"sk-item\"><div class=\"sk-estimator sk-toggleable\"><input class=\"sk-toggleable__control sk-hidden--visually\" id=\"sk-estimator-id-21\" type=\"checkbox\" ><label for=\"sk-estimator-id-21\" class=\"sk-toggleable__label sk-toggleable__label-arrow\">FunctionTransformer</label><div class=\"sk-toggleable__content\"><pre>FunctionTransformer(func=&lt;function fillna_ at 0x1212b2820&gt;)</pre></div></div></div><div class=\"sk-item\"><div class=\"sk-estimator sk-toggleable\"><input class=\"sk-toggleable__control sk-hidden--visually\" id=\"sk-estimator-id-22\" type=\"checkbox\" ><label for=\"sk-estimator-id-22\" class=\"sk-toggleable__label sk-toggleable__label-arrow\">FunctionTransformer</label><div class=\"sk-toggleable__content\"><pre>FunctionTransformer(func=&lt;function normalise_ at 0x1212b28b0&gt;)</pre></div></div></div><div class=\"sk-item\"><div class=\"sk-estimator sk-toggleable\"><input class=\"sk-toggleable__control sk-hidden--visually\" id=\"sk-estimator-id-23\" type=\"checkbox\" ><label for=\"sk-estimator-id-23\" class=\"sk-toggleable__label sk-toggleable__label-arrow\">LinearRegression</label><div class=\"sk-toggleable__content\"><pre>LinearRegression()</pre></div></div></div></div></div></div></div></div><div class=\"sk-parallel-item\"><div class=\"sk-item\"><div class=\"sk-label-container\"><div class=\"sk-label sk-toggleable\"><label>large_lookback</label></div></div><div class=\"sk-serial\"><div class=\"sk-item\"><div class=\"sk-serial\"><div class=\"sk-item\"><div class=\"sk-estimator sk-toggleable\"><input class=\"sk-toggleable__control sk-hidden--visually\" id=\"sk-estimator-id-24\" type=\"checkbox\" ><label for=\"sk-estimator-id-24\" class=\"sk-toggleable__label sk-toggleable__label-arrow\">FunctionTransformer</label><div class=\"sk-toggleable__content\"><pre>FunctionTransformer(func=functools.partial(&lt;function create_past_ask_Open at 0x1212b2790&gt;, num=15))</pre></div></div></div><div class=\"sk-item\"><div class=\"sk-estimator sk-toggleable\"><input class=\"sk-toggleable__control sk-hidden--visually\" id=\"sk-estimator-id-25\" type=\"checkbox\" ><label for=\"sk-estimator-id-25\" class=\"sk-toggleable__label sk-toggleable__label-arrow\">FunctionTransformer</label><div class=\"sk-toggleable__content\"><pre>FunctionTransformer(func=&lt;function fillna_ at 0x1212b2820&gt;)</pre></div></div></div><div class=\"sk-item\"><div class=\"sk-estimator sk-toggleable\"><input class=\"sk-toggleable__control sk-hidden--visually\" id=\"sk-estimator-id-26\" type=\"checkbox\" ><label for=\"sk-estimator-id-26\" class=\"sk-toggleable__label sk-toggleable__label-arrow\">FunctionTransformer</label><div class=\"sk-toggleable__content\"><pre>FunctionTransformer(func=&lt;function normalise_ at 0x1212b28b0&gt;)</pre></div></div></div><div class=\"sk-item\"><div class=\"sk-estimator sk-toggleable\"><input class=\"sk-toggleable__control sk-hidden--visually\" id=\"sk-estimator-id-27\" type=\"checkbox\" ><label for=\"sk-estimator-id-27\" class=\"sk-toggleable__label sk-toggleable__label-arrow\">LinearRegression</label><div class=\"sk-toggleable__content\"><pre>LinearRegression()</pre></div></div></div></div></div></div></div></div></div></div><div class=\"sk-item\"><div class=\"sk-parallel\"><div class=\"sk-parallel-item\"><div class=\"sk-item\"><div class=\"sk-label-container\"><div class=\"sk-label sk-toggleable\"><label>final_estimator</label></div></div><div class=\"sk-serial\"><div class=\"sk-item\"><div class=\"sk-estimator sk-toggleable\"><input class=\"sk-toggleable__control sk-hidden--visually\" id=\"sk-estimator-id-28\" type=\"checkbox\" ><label for=\"sk-estimator-id-28\" class=\"sk-toggleable__label sk-toggleable__label-arrow\">LinearRegression</label><div class=\"sk-toggleable__content\"><pre>LinearRegression()</pre></div></div></div></div></div></div></div></div></div></div></div></div>"
      ],
      "text/plain": [
       "StackingRegressor(estimators=[('small_lookback',\n",
       "                               Pipeline(steps=[('add_past_period_columns',\n",
       "                                                FunctionTransformer(func=functools.partial(<function create_past_ask_Open at 0x1212b2790>, num=3))),\n",
       "                                               ('fill_na',\n",
       "                                                FunctionTransformer(func=<function fillna_ at 0x1212b2820>)),\n",
       "                                               ('normalise',\n",
       "                                                FunctionTransformer(func=<function normalise_ at 0x1212b28b0>)),\n",
       "                                               ('predictor',\n",
       "                                                LinearR...\n",
       "                               Pipeline(steps=[('add_past_period_columns',\n",
       "                                                FunctionTransformer(func=functools.partial(<function create_past_ask_Open at 0x1212b2790>, num=15))),\n",
       "                                               ('fill_na',\n",
       "                                                FunctionTransformer(func=<function fillna_ at 0x1212b2820>)),\n",
       "                                               ('normalise',\n",
       "                                                FunctionTransformer(func=<function normalise_ at 0x1212b28b0>)),\n",
       "                                               ('predictor',\n",
       "                                                LinearRegression())]))],\n",
       "                  final_estimator=LinearRegression())"
      ]
     },
     "execution_count": 11,
     "metadata": {},
     "output_type": "execute_result"
    }
   ],
   "source": [
    "stack.fit(X,y)"
   ]
  },
  {
   "cell_type": "code",
   "execution_count": 12,
   "metadata": {},
   "outputs": [
    {
     "name": "stdout",
     "output_type": "stream",
     "text": [
      "Pipeline 0 prediction: 1.0000868119126154\n",
      "Pipeline 1 prediction: 1.0000865497720413\n",
      "Pipeline 2 prediction: 1.0000865181305065\n",
      "Stacked prediction: 1.0000793682499196\n"
     ]
    },
    {
     "name": "stderr",
     "output_type": "stream",
     "text": [
      "/Users/ezracitron/my_projects/auto_IG/.venv/lib/python3.9/site-packages/sklearn/base.py:402: UserWarning: X has feature names, but LinearRegression was fitted without feature names\n",
      "  warnings.warn(\n"
     ]
    }
   ],
   "source": [
    "for  x,i in enumerate([pl1,pl2,pl3]):\n",
    "    i.fit(X,y)\n",
    "    print(f'Pipeline {x} prediction: {pd.Series(i.predict(X))[1]}' )\n",
    "print(f'Stacked prediction: {stack.predict(X)[1]}')\n"
   ]
  },
  {
   "cell_type": "code",
   "execution_count": 13,
   "metadata": {},
   "outputs": [],
   "source": [
    "# persist the model\n",
    "if SAVE_MODEL:\n",
    "    joblib.dump(stack,'model.pkl')\n",
    "else:\n",
    "    stack = joblib.load('model.pkl')"
   ]
  },
  {
   "cell_type": "code",
   "execution_count": 14,
   "metadata": {},
   "outputs": [
    {
     "data": {
      "text/html": [
       "<style>#sk-container-id-3 {color: black;background-color: white;}#sk-container-id-3 pre{padding: 0;}#sk-container-id-3 div.sk-toggleable {background-color: white;}#sk-container-id-3 label.sk-toggleable__label {cursor: pointer;display: block;width: 100%;margin-bottom: 0;padding: 0.3em;box-sizing: border-box;text-align: center;}#sk-container-id-3 label.sk-toggleable__label-arrow:before {content: \"▸\";float: left;margin-right: 0.25em;color: #696969;}#sk-container-id-3 label.sk-toggleable__label-arrow:hover:before {color: black;}#sk-container-id-3 div.sk-estimator:hover label.sk-toggleable__label-arrow:before {color: black;}#sk-container-id-3 div.sk-toggleable__content {max-height: 0;max-width: 0;overflow: hidden;text-align: left;background-color: #f0f8ff;}#sk-container-id-3 div.sk-toggleable__content pre {margin: 0.2em;color: black;border-radius: 0.25em;background-color: #f0f8ff;}#sk-container-id-3 input.sk-toggleable__control:checked~div.sk-toggleable__content {max-height: 200px;max-width: 100%;overflow: auto;}#sk-container-id-3 input.sk-toggleable__control:checked~label.sk-toggleable__label-arrow:before {content: \"▾\";}#sk-container-id-3 div.sk-estimator input.sk-toggleable__control:checked~label.sk-toggleable__label {background-color: #d4ebff;}#sk-container-id-3 div.sk-label input.sk-toggleable__control:checked~label.sk-toggleable__label {background-color: #d4ebff;}#sk-container-id-3 input.sk-hidden--visually {border: 0;clip: rect(1px 1px 1px 1px);clip: rect(1px, 1px, 1px, 1px);height: 1px;margin: -1px;overflow: hidden;padding: 0;position: absolute;width: 1px;}#sk-container-id-3 div.sk-estimator {font-family: monospace;background-color: #f0f8ff;border: 1px dotted black;border-radius: 0.25em;box-sizing: border-box;margin-bottom: 0.5em;}#sk-container-id-3 div.sk-estimator:hover {background-color: #d4ebff;}#sk-container-id-3 div.sk-parallel-item::after {content: \"\";width: 100%;border-bottom: 1px solid gray;flex-grow: 1;}#sk-container-id-3 div.sk-label:hover label.sk-toggleable__label {background-color: #d4ebff;}#sk-container-id-3 div.sk-serial::before {content: \"\";position: absolute;border-left: 1px solid gray;box-sizing: border-box;top: 0;bottom: 0;left: 50%;z-index: 0;}#sk-container-id-3 div.sk-serial {display: flex;flex-direction: column;align-items: center;background-color: white;padding-right: 0.2em;padding-left: 0.2em;position: relative;}#sk-container-id-3 div.sk-item {position: relative;z-index: 1;}#sk-container-id-3 div.sk-parallel {display: flex;align-items: stretch;justify-content: center;background-color: white;position: relative;}#sk-container-id-3 div.sk-item::before, #sk-container-id-3 div.sk-parallel-item::before {content: \"\";position: absolute;border-left: 1px solid gray;box-sizing: border-box;top: 0;bottom: 0;left: 50%;z-index: -1;}#sk-container-id-3 div.sk-parallel-item {display: flex;flex-direction: column;z-index: 1;position: relative;background-color: white;}#sk-container-id-3 div.sk-parallel-item:first-child::after {align-self: flex-end;width: 50%;}#sk-container-id-3 div.sk-parallel-item:last-child::after {align-self: flex-start;width: 50%;}#sk-container-id-3 div.sk-parallel-item:only-child::after {width: 0;}#sk-container-id-3 div.sk-dashed-wrapped {border: 1px dashed gray;margin: 0 0.4em 0.5em 0.4em;box-sizing: border-box;padding-bottom: 0.4em;background-color: white;}#sk-container-id-3 div.sk-label label {font-family: monospace;font-weight: bold;display: inline-block;line-height: 1.2em;}#sk-container-id-3 div.sk-label-container {text-align: center;}#sk-container-id-3 div.sk-container {/* jupyter's `normalize.less` sets `[hidden] { display: none; }` but bootstrap.min.css set `[hidden] { display: none !important; }` so we also need the `!important` here to be able to override the default hidden behavior on the sphinx rendered scikit-learn.org. See: https://github.com/scikit-learn/scikit-learn/issues/21755 */display: inline-block !important;position: relative;}#sk-container-id-3 div.sk-text-repr-fallback {display: none;}</style><div id=\"sk-container-id-3\" class=\"sk-top-container\"><div class=\"sk-text-repr-fallback\"><pre>StackingRegressor(estimators=[(&#x27;small_lookback&#x27;,\n",
       "                               Pipeline(steps=[(&#x27;add_past_period_columns&#x27;,\n",
       "                                                FunctionTransformer(func=functools.partial(&lt;function create_past_ask_Open at 0x1212b2790&gt;, num=3))),\n",
       "                                               (&#x27;fill_na&#x27;,\n",
       "                                                FunctionTransformer(func=&lt;function fillna_ at 0x1212b2820&gt;)),\n",
       "                                               (&#x27;normalise&#x27;,\n",
       "                                                FunctionTransformer(func=&lt;function normalise_ at 0x1212b28b0&gt;)),\n",
       "                                               (&#x27;predictor&#x27;,\n",
       "                                                LinearR...\n",
       "                               Pipeline(steps=[(&#x27;add_past_period_columns&#x27;,\n",
       "                                                FunctionTransformer(func=functools.partial(&lt;function create_past_ask_Open at 0x1212b2790&gt;, num=15))),\n",
       "                                               (&#x27;fill_na&#x27;,\n",
       "                                                FunctionTransformer(func=&lt;function fillna_ at 0x1212b2820&gt;)),\n",
       "                                               (&#x27;normalise&#x27;,\n",
       "                                                FunctionTransformer(func=&lt;function normalise_ at 0x1212b28b0&gt;)),\n",
       "                                               (&#x27;predictor&#x27;,\n",
       "                                                LinearRegression())]))],\n",
       "                  final_estimator=LinearRegression())</pre><b>In a Jupyter environment, please rerun this cell to show the HTML representation or trust the notebook. <br />On GitHub, the HTML representation is unable to render, please try loading this page with nbviewer.org.</b></div><div class=\"sk-container\" hidden><div class=\"sk-item sk-dashed-wrapped\"><div class=\"sk-label-container\"><div class=\"sk-label sk-toggleable\"><input class=\"sk-toggleable__control sk-hidden--visually\" id=\"sk-estimator-id-29\" type=\"checkbox\" ><label for=\"sk-estimator-id-29\" class=\"sk-toggleable__label sk-toggleable__label-arrow\">StackingRegressor</label><div class=\"sk-toggleable__content\"><pre>StackingRegressor(estimators=[(&#x27;small_lookback&#x27;,\n",
       "                               Pipeline(steps=[(&#x27;add_past_period_columns&#x27;,\n",
       "                                                FunctionTransformer(func=functools.partial(&lt;function create_past_ask_Open at 0x1212b2790&gt;, num=3))),\n",
       "                                               (&#x27;fill_na&#x27;,\n",
       "                                                FunctionTransformer(func=&lt;function fillna_ at 0x1212b2820&gt;)),\n",
       "                                               (&#x27;normalise&#x27;,\n",
       "                                                FunctionTransformer(func=&lt;function normalise_ at 0x1212b28b0&gt;)),\n",
       "                                               (&#x27;predictor&#x27;,\n",
       "                                                LinearR...\n",
       "                               Pipeline(steps=[(&#x27;add_past_period_columns&#x27;,\n",
       "                                                FunctionTransformer(func=functools.partial(&lt;function create_past_ask_Open at 0x1212b2790&gt;, num=15))),\n",
       "                                               (&#x27;fill_na&#x27;,\n",
       "                                                FunctionTransformer(func=&lt;function fillna_ at 0x1212b2820&gt;)),\n",
       "                                               (&#x27;normalise&#x27;,\n",
       "                                                FunctionTransformer(func=&lt;function normalise_ at 0x1212b28b0&gt;)),\n",
       "                                               (&#x27;predictor&#x27;,\n",
       "                                                LinearRegression())]))],\n",
       "                  final_estimator=LinearRegression())</pre></div></div></div><div class=\"sk-serial\"><div class=\"sk-item\"><div class=\"sk-parallel\"><div class=\"sk-parallel-item\"><div class=\"sk-item\"><div class=\"sk-label-container\"><div class=\"sk-label sk-toggleable\"><label>small_lookback</label></div></div><div class=\"sk-serial\"><div class=\"sk-item\"><div class=\"sk-serial\"><div class=\"sk-item\"><div class=\"sk-estimator sk-toggleable\"><input class=\"sk-toggleable__control sk-hidden--visually\" id=\"sk-estimator-id-30\" type=\"checkbox\" ><label for=\"sk-estimator-id-30\" class=\"sk-toggleable__label sk-toggleable__label-arrow\">FunctionTransformer</label><div class=\"sk-toggleable__content\"><pre>FunctionTransformer(func=functools.partial(&lt;function create_past_ask_Open at 0x1212b2790&gt;, num=3))</pre></div></div></div><div class=\"sk-item\"><div class=\"sk-estimator sk-toggleable\"><input class=\"sk-toggleable__control sk-hidden--visually\" id=\"sk-estimator-id-31\" type=\"checkbox\" ><label for=\"sk-estimator-id-31\" class=\"sk-toggleable__label sk-toggleable__label-arrow\">FunctionTransformer</label><div class=\"sk-toggleable__content\"><pre>FunctionTransformer(func=&lt;function fillna_ at 0x1212b2820&gt;)</pre></div></div></div><div class=\"sk-item\"><div class=\"sk-estimator sk-toggleable\"><input class=\"sk-toggleable__control sk-hidden--visually\" id=\"sk-estimator-id-32\" type=\"checkbox\" ><label for=\"sk-estimator-id-32\" class=\"sk-toggleable__label sk-toggleable__label-arrow\">FunctionTransformer</label><div class=\"sk-toggleable__content\"><pre>FunctionTransformer(func=&lt;function normalise_ at 0x1212b28b0&gt;)</pre></div></div></div><div class=\"sk-item\"><div class=\"sk-estimator sk-toggleable\"><input class=\"sk-toggleable__control sk-hidden--visually\" id=\"sk-estimator-id-33\" type=\"checkbox\" ><label for=\"sk-estimator-id-33\" class=\"sk-toggleable__label sk-toggleable__label-arrow\">LinearRegression</label><div class=\"sk-toggleable__content\"><pre>LinearRegression()</pre></div></div></div></div></div></div></div></div><div class=\"sk-parallel-item\"><div class=\"sk-item\"><div class=\"sk-label-container\"><div class=\"sk-label sk-toggleable\"><label>medium_lookback</label></div></div><div class=\"sk-serial\"><div class=\"sk-item\"><div class=\"sk-serial\"><div class=\"sk-item\"><div class=\"sk-estimator sk-toggleable\"><input class=\"sk-toggleable__control sk-hidden--visually\" id=\"sk-estimator-id-34\" type=\"checkbox\" ><label for=\"sk-estimator-id-34\" class=\"sk-toggleable__label sk-toggleable__label-arrow\">FunctionTransformer</label><div class=\"sk-toggleable__content\"><pre>FunctionTransformer(func=functools.partial(&lt;function create_past_ask_Open at 0x1212b2790&gt;, num=10))</pre></div></div></div><div class=\"sk-item\"><div class=\"sk-estimator sk-toggleable\"><input class=\"sk-toggleable__control sk-hidden--visually\" id=\"sk-estimator-id-35\" type=\"checkbox\" ><label for=\"sk-estimator-id-35\" class=\"sk-toggleable__label sk-toggleable__label-arrow\">FunctionTransformer</label><div class=\"sk-toggleable__content\"><pre>FunctionTransformer(func=&lt;function fillna_ at 0x1212b2820&gt;)</pre></div></div></div><div class=\"sk-item\"><div class=\"sk-estimator sk-toggleable\"><input class=\"sk-toggleable__control sk-hidden--visually\" id=\"sk-estimator-id-36\" type=\"checkbox\" ><label for=\"sk-estimator-id-36\" class=\"sk-toggleable__label sk-toggleable__label-arrow\">FunctionTransformer</label><div class=\"sk-toggleable__content\"><pre>FunctionTransformer(func=&lt;function normalise_ at 0x1212b28b0&gt;)</pre></div></div></div><div class=\"sk-item\"><div class=\"sk-estimator sk-toggleable\"><input class=\"sk-toggleable__control sk-hidden--visually\" id=\"sk-estimator-id-37\" type=\"checkbox\" ><label for=\"sk-estimator-id-37\" class=\"sk-toggleable__label sk-toggleable__label-arrow\">LinearRegression</label><div class=\"sk-toggleable__content\"><pre>LinearRegression()</pre></div></div></div></div></div></div></div></div><div class=\"sk-parallel-item\"><div class=\"sk-item\"><div class=\"sk-label-container\"><div class=\"sk-label sk-toggleable\"><label>large_lookback</label></div></div><div class=\"sk-serial\"><div class=\"sk-item\"><div class=\"sk-serial\"><div class=\"sk-item\"><div class=\"sk-estimator sk-toggleable\"><input class=\"sk-toggleable__control sk-hidden--visually\" id=\"sk-estimator-id-38\" type=\"checkbox\" ><label for=\"sk-estimator-id-38\" class=\"sk-toggleable__label sk-toggleable__label-arrow\">FunctionTransformer</label><div class=\"sk-toggleable__content\"><pre>FunctionTransformer(func=functools.partial(&lt;function create_past_ask_Open at 0x1212b2790&gt;, num=15))</pre></div></div></div><div class=\"sk-item\"><div class=\"sk-estimator sk-toggleable\"><input class=\"sk-toggleable__control sk-hidden--visually\" id=\"sk-estimator-id-39\" type=\"checkbox\" ><label for=\"sk-estimator-id-39\" class=\"sk-toggleable__label sk-toggleable__label-arrow\">FunctionTransformer</label><div class=\"sk-toggleable__content\"><pre>FunctionTransformer(func=&lt;function fillna_ at 0x1212b2820&gt;)</pre></div></div></div><div class=\"sk-item\"><div class=\"sk-estimator sk-toggleable\"><input class=\"sk-toggleable__control sk-hidden--visually\" id=\"sk-estimator-id-40\" type=\"checkbox\" ><label for=\"sk-estimator-id-40\" class=\"sk-toggleable__label sk-toggleable__label-arrow\">FunctionTransformer</label><div class=\"sk-toggleable__content\"><pre>FunctionTransformer(func=&lt;function normalise_ at 0x1212b28b0&gt;)</pre></div></div></div><div class=\"sk-item\"><div class=\"sk-estimator sk-toggleable\"><input class=\"sk-toggleable__control sk-hidden--visually\" id=\"sk-estimator-id-41\" type=\"checkbox\" ><label for=\"sk-estimator-id-41\" class=\"sk-toggleable__label sk-toggleable__label-arrow\">LinearRegression</label><div class=\"sk-toggleable__content\"><pre>LinearRegression()</pre></div></div></div></div></div></div></div></div></div></div><div class=\"sk-item\"><div class=\"sk-parallel\"><div class=\"sk-parallel-item\"><div class=\"sk-item\"><div class=\"sk-label-container\"><div class=\"sk-label sk-toggleable\"><label>final_estimator</label></div></div><div class=\"sk-serial\"><div class=\"sk-item\"><div class=\"sk-estimator sk-toggleable\"><input class=\"sk-toggleable__control sk-hidden--visually\" id=\"sk-estimator-id-42\" type=\"checkbox\" ><label for=\"sk-estimator-id-42\" class=\"sk-toggleable__label sk-toggleable__label-arrow\">LinearRegression</label><div class=\"sk-toggleable__content\"><pre>LinearRegression()</pre></div></div></div></div></div></div></div></div></div></div></div></div>"
      ],
      "text/plain": [
       "StackingRegressor(estimators=[('small_lookback',\n",
       "                               Pipeline(steps=[('add_past_period_columns',\n",
       "                                                FunctionTransformer(func=functools.partial(<function create_past_ask_Open at 0x1212b2790>, num=3))),\n",
       "                                               ('fill_na',\n",
       "                                                FunctionTransformer(func=<function fillna_ at 0x1212b2820>)),\n",
       "                                               ('normalise',\n",
       "                                                FunctionTransformer(func=<function normalise_ at 0x1212b28b0>)),\n",
       "                                               ('predictor',\n",
       "                                                LinearR...\n",
       "                               Pipeline(steps=[('add_past_period_columns',\n",
       "                                                FunctionTransformer(func=functools.partial(<function create_past_ask_Open at 0x1212b2790>, num=15))),\n",
       "                                               ('fill_na',\n",
       "                                                FunctionTransformer(func=<function fillna_ at 0x1212b2820>)),\n",
       "                                               ('normalise',\n",
       "                                                FunctionTransformer(func=<function normalise_ at 0x1212b28b0>)),\n",
       "                                               ('predictor',\n",
       "                                                LinearRegression())]))],\n",
       "                  final_estimator=LinearRegression())"
      ]
     },
     "execution_count": 14,
     "metadata": {},
     "output_type": "execute_result"
    }
   ],
   "source": [
    "stack"
   ]
  },
  {
   "cell_type": "code",
   "execution_count": 15,
   "metadata": {},
   "outputs": [
    {
     "data": {
      "text/plain": [
       "array(['ASK_OPEN'], dtype=object)"
      ]
     },
     "execution_count": 15,
     "metadata": {},
     "output_type": "execute_result"
    }
   ],
   "source": [
    "stack.feature_names_in_"
   ]
  },
  {
   "cell_type": "code",
   "execution_count": 16,
   "metadata": {},
   "outputs": [
    {
     "data": {
      "text/plain": [
       "array([0.33627437, 0.54713913, 0.2099421 ])"
      ]
     },
     "execution_count": 16,
     "metadata": {},
     "output_type": "execute_result"
    }
   ],
   "source": [
    "stack.final_estimator_.coef_"
   ]
  },
  {
   "cell_type": "code",
   "execution_count": 17,
   "metadata": {},
   "outputs": [
    {
     "data": {
      "text/plain": [
       "[21, 22, 23, 24, 4, 5, 6, 7, 8]"
      ]
     },
     "execution_count": 17,
     "metadata": {},
     "output_type": "execute_result"
    }
   ],
   "source": [
    "\n",
    "from autoIG.utils import selling_lengths_read_\n",
    "selling_lengths_read_()"
   ]
  },
  {
   "cell_type": "code",
   "execution_count": 18,
   "metadata": {},
   "outputs": [],
   "source": [
    "from autoIG.utils import read_stream_\n",
    "# l,s = read_stream_(nrows = 0)\n",
    "# s.resample()\n"
   ]
  },
  {
   "cell_type": "code",
   "execution_count": 19,
   "metadata": {},
   "outputs": [
    {
     "data": {
      "text/plain": [
       "count    6873.000000\n",
       "mean        1.000176\n",
       "std         0.000191\n",
       "min         0.996834\n",
       "25%         1.000112\n",
       "50%         1.000177\n",
       "75%         1.000241\n",
       "max         1.002522\n",
       "Name: r, dtype: float64"
      ]
     },
     "execution_count": 19,
     "metadata": {},
     "output_type": "execute_result"
    }
   ],
   "source": [
    "y.describe()"
   ]
  },
  {
   "cell_type": "code",
   "execution_count": null,
   "metadata": {},
   "outputs": [],
   "source": []
  }
 ],
 "metadata": {
  "kernelspec": {
   "display_name": "Python 3.9.5 ('.venv': poetry)",
   "language": "python",
   "name": "python3"
  },
  "language_info": {
   "codemirror_mode": {
    "name": "ipython",
    "version": 3
   },
   "file_extension": ".py",
   "mimetype": "text/x-python",
   "name": "python",
   "nbconvert_exporter": "python",
   "pygments_lexer": "ipython3",
   "version": "3.9.5"
  },
  "orig_nbformat": 4,
  "vscode": {
   "interpreter": {
    "hash": "a6f487c99caa30a143fa23621bc9ce160857a5bdd835349e8b66e6beb37010aa"
   }
  }
 },
 "nbformat": 4,
 "nbformat_minor": 2
}
