{
 "cells": [
  {
   "cell_type": "raw",
   "metadata": {},
   "source": [
    "This creates the second most simple model I can think of, that will give more resonable results.\n",
    "It predict returns based on the last 3 open BID prices."
   ]
  },
  {
   "cell_type": "code",
   "execution_count": 29,
   "metadata": {},
   "outputs": [],
   "source": [
    "import pandas as pd\n",
    "# pd.options.mode.chained_assignment = None\n",
    "import numpy as np\n",
    "import joblib\n",
    "from autoIG.epics import GOLD_EPIC, US_CRUDE_OIL_EPIC\n",
    "from sklearn.linear_model import LinearRegression\n",
    "from sklearn.pipeline import Pipeline\n",
    "from sklearn.compose import ColumnTransformer\n",
    "from sklearn.preprocessing import FunctionTransformer\n",
    "from sklearn import set_config\n",
    "from autoIG.modelling import create_future_bid_Open\n",
    "from autoIG.modelling import fillna_,create_past_ask_Open\n",
    "\n",
    "\n",
    "set_config(transform_output=\"pandas\")\n",
    "\n",
    "\n",
    "# Persist the data, so we can train on the same dataset each time.\n",
    "# This should be tracked with DVC\n",
    "LOAD_DATA = False\n",
    "SAVE_MODEL = True\n",
    "\n",
    "\n",
    "\n",
    "def generate_target_2(df,number_of_periods=None):\n",
    "    return df[\"BID_OPEN_S3\"] / df[\"ASK_OPEN\"]\n",
    "\n",
    "\n",
    "historical_prices_config = dict()\n",
    "historical_prices_config[\"resolution\"] = \"1Min\"\n",
    "historical_prices_config[\"numpoints\"] = 1_000\n",
    "\n",
    "if LOAD_DATA:\n",
    "    from trading_ig.config import config\n",
    "    from trading_ig.rest import IGService\n",
    "\n",
    "    ig_service = IGService(config.username, config.password, config.api_key)\n",
    "    ig = ig_service.create_session()\n",
    "    results_ = ig_service.fetch_historical_prices_by_epic(\n",
    "        US_CRUDE_OIL_EPIC, **historical_prices_config\n",
    "    )\n",
    "    model_data = results_[\"prices\"]\n",
    "    model_data.to_pickle(\"model_data.pkl\")\n",
    "else:\n",
    "    model_data = pd.read_pickle(\"model_data.pkl\")\n"
   ]
  },
  {
   "cell_type": "code",
   "execution_count": 30,
   "metadata": {},
   "outputs": [],
   "source": [
    "# !! DO ALL PREPROCESSING AS PART OF A MODEL PIPELINES SO IT CAN EASILY BE USED IN PROD\n",
    "# !! The building of the target we not do in pipeline"
   ]
  },
  {
   "cell_type": "code",
   "execution_count": 31,
   "metadata": {},
   "outputs": [],
   "source": [
    "# we buy at the ask price, we sell at bid price\n",
    "# We buy at bid, but from then on everything we care\n",
    "# about it ask, as that is our exit\n",
    "def adapt_data_for_training(df):\n",
    "    \"\"\"\n",
    "    This takes in the historical data used for training and makes it consistent (column name wise etc).\n",
    "    With the form of the data being predicted on in production.\n",
    "    None: This doesnt actually do any of the pre-propcessing steps, \n",
    "    this is reserved to the pipeline. However, for the pipeline to take place \n",
    "    it needs to be in the right form.\n",
    "    Furthermore, the creation of the target it something only done in training \n",
    "    and therefor is not part of any preprocessing step.\n",
    "    \"\"\"\n",
    "    return df\n",
    "    \n",
    "model_data.columns = (\n",
    "    model_data.columns.get_level_values(0)\n",
    "    + \"_\"\n",
    "    + model_data.columns.get_level_values(1)\n",
    ")\n",
    "model_data = model_data[[\"ask_Open\", \"bid_Open\"]]\n",
    "model_data = model_data.rename(columns={ \"ask_Open\": \"ASK_OPEN\",\"bid_Open\": \"BID_OPEN\"})\n",
    "model_data.index.name = 'UPDATED_AT'\n",
    "model_data = create_future_bid_Open(model_data)\n",
    "model_data['r'] = generate_target_2(model_data)\n",
    "model_data = model_data.dropna()\n",
    "# Another idea for return is, did it go up by x in y periods.\n",
    "# We are not _only_ interested in the period after\n",
    "# To chose a specific case, lets see if it went up by 1 in the next 3 periods.\n"
   ]
  },
  {
   "cell_type": "code",
   "execution_count": 32,
   "metadata": {},
   "outputs": [],
   "source": [
    "\n",
    "\n",
    "pastperiods_transformer = FunctionTransformer(create_past_ask_Open)\n",
    "from autoIG.modelling import normalise_\n",
    "# We chose not to drop because otherwise y is not the same size as X after transform\n",
    "# drop_na_transformer = FunctionTransformer(lambda df: df.dropna(axis = 'index', how=  'any'))\n",
    "fillna_transformer  = FunctionTransformer(fillna_ )\n",
    "normalise_transformer = FunctionTransformer(normalise_)\n",
    "\n",
    "pl = Pipeline(\n",
    "    [\n",
    "        (\"add_past_period_columns\", pastperiods_transformer),\n",
    "        ('fill_na', fillna_transformer),\n",
    "        ('normalise',normalise_transformer),\n",
    "        ('predictor', LinearRegression())\n",
    "    ]\n",
    ")\n",
    "# pl.transform(model_data)\n"
   ]
  },
  {
   "cell_type": "code",
   "execution_count": 33,
   "metadata": {},
   "outputs": [],
   "source": [
    "# Predit the return from the bid price\n",
    "X = model_data[['ASK_OPEN']]\n",
    "y = model_data['r']"
   ]
  },
  {
   "cell_type": "code",
   "execution_count": 34,
   "metadata": {},
   "outputs": [
    {
     "data": {
      "text/html": [
       "<div>\n",
       "<style scoped>\n",
       "    .dataframe tbody tr th:only-of-type {\n",
       "        vertical-align: middle;\n",
       "    }\n",
       "\n",
       "    .dataframe tbody tr th {\n",
       "        vertical-align: top;\n",
       "    }\n",
       "\n",
       "    .dataframe thead th {\n",
       "        text-align: right;\n",
       "    }\n",
       "</style>\n",
       "<table border=\"1\" class=\"dataframe\">\n",
       "  <thead>\n",
       "    <tr style=\"text-align: right;\">\n",
       "      <th></th>\n",
       "      <th>ASK_OPEN</th>\n",
       "      <th>ASK_OPEN_S1</th>\n",
       "      <th>ASK_OPEN_S2</th>\n",
       "      <th>ASK_OPEN_S3</th>\n",
       "    </tr>\n",
       "    <tr>\n",
       "      <th>UPDATED_AT</th>\n",
       "      <th></th>\n",
       "      <th></th>\n",
       "      <th></th>\n",
       "      <th></th>\n",
       "    </tr>\n",
       "  </thead>\n",
       "  <tbody>\n",
       "    <tr>\n",
       "      <th>2022-12-08 19:17:00</th>\n",
       "      <td>1.0</td>\n",
       "      <td>1.000000</td>\n",
       "      <td>1.000000</td>\n",
       "      <td>1.000000</td>\n",
       "    </tr>\n",
       "    <tr>\n",
       "      <th>2022-12-08 19:18:00</th>\n",
       "      <td>1.0</td>\n",
       "      <td>0.999805</td>\n",
       "      <td>0.999805</td>\n",
       "      <td>0.999805</td>\n",
       "    </tr>\n",
       "    <tr>\n",
       "      <th>2022-12-08 19:19:00</th>\n",
       "      <td>1.0</td>\n",
       "      <td>1.000376</td>\n",
       "      <td>1.000181</td>\n",
       "      <td>1.000181</td>\n",
       "    </tr>\n",
       "    <tr>\n",
       "      <th>2022-12-08 19:20:00</th>\n",
       "      <td>1.0</td>\n",
       "      <td>0.999624</td>\n",
       "      <td>1.000000</td>\n",
       "      <td>0.999805</td>\n",
       "    </tr>\n",
       "    <tr>\n",
       "      <th>2022-12-08 19:21:00</th>\n",
       "      <td>1.0</td>\n",
       "      <td>0.999221</td>\n",
       "      <td>0.998846</td>\n",
       "      <td>0.999221</td>\n",
       "    </tr>\n",
       "    <tr>\n",
       "      <th>...</th>\n",
       "      <td>...</td>\n",
       "      <td>...</td>\n",
       "      <td>...</td>\n",
       "      <td>...</td>\n",
       "    </tr>\n",
       "    <tr>\n",
       "      <th>2022-12-08 20:49:00</th>\n",
       "      <td>1.0</td>\n",
       "      <td>0.999021</td>\n",
       "      <td>0.998881</td>\n",
       "      <td>0.998322</td>\n",
       "    </tr>\n",
       "    <tr>\n",
       "      <th>2022-12-08 20:50:00</th>\n",
       "      <td>1.0</td>\n",
       "      <td>0.999776</td>\n",
       "      <td>0.998798</td>\n",
       "      <td>0.998658</td>\n",
       "    </tr>\n",
       "    <tr>\n",
       "      <th>2022-12-08 20:51:00</th>\n",
       "      <td>1.0</td>\n",
       "      <td>1.000741</td>\n",
       "      <td>1.000518</td>\n",
       "      <td>0.999538</td>\n",
       "    </tr>\n",
       "    <tr>\n",
       "      <th>2022-12-08 20:52:00</th>\n",
       "      <td>1.0</td>\n",
       "      <td>0.999678</td>\n",
       "      <td>1.000420</td>\n",
       "      <td>1.000196</td>\n",
       "    </tr>\n",
       "    <tr>\n",
       "      <th>2022-12-08 20:53:00</th>\n",
       "      <td>1.0</td>\n",
       "      <td>0.999623</td>\n",
       "      <td>0.999301</td>\n",
       "      <td>1.000042</td>\n",
       "    </tr>\n",
       "  </tbody>\n",
       "</table>\n",
       "<p>97 rows × 4 columns</p>\n",
       "</div>"
      ],
      "text/plain": [
       "                     ASK_OPEN  ASK_OPEN_S1  ASK_OPEN_S2  ASK_OPEN_S3\n",
       "UPDATED_AT                                                          \n",
       "2022-12-08 19:17:00       1.0     1.000000     1.000000     1.000000\n",
       "2022-12-08 19:18:00       1.0     0.999805     0.999805     0.999805\n",
       "2022-12-08 19:19:00       1.0     1.000376     1.000181     1.000181\n",
       "2022-12-08 19:20:00       1.0     0.999624     1.000000     0.999805\n",
       "2022-12-08 19:21:00       1.0     0.999221     0.998846     0.999221\n",
       "...                       ...          ...          ...          ...\n",
       "2022-12-08 20:49:00       1.0     0.999021     0.998881     0.998322\n",
       "2022-12-08 20:50:00       1.0     0.999776     0.998798     0.998658\n",
       "2022-12-08 20:51:00       1.0     1.000741     1.000518     0.999538\n",
       "2022-12-08 20:52:00       1.0     0.999678     1.000420     1.000196\n",
       "2022-12-08 20:53:00       1.0     0.999623     0.999301     1.000042\n",
       "\n",
       "[97 rows x 4 columns]"
      ]
     },
     "execution_count": 34,
     "metadata": {},
     "output_type": "execute_result"
    }
   ],
   "source": [
    "pl[:-1].transform(X)"
   ]
  },
  {
   "cell_type": "code",
   "execution_count": 35,
   "metadata": {},
   "outputs": [
    {
     "data": {
      "text/html": [
       "<style>#sk-container-id-5 {color: black;background-color: white;}#sk-container-id-5 pre{padding: 0;}#sk-container-id-5 div.sk-toggleable {background-color: white;}#sk-container-id-5 label.sk-toggleable__label {cursor: pointer;display: block;width: 100%;margin-bottom: 0;padding: 0.3em;box-sizing: border-box;text-align: center;}#sk-container-id-5 label.sk-toggleable__label-arrow:before {content: \"▸\";float: left;margin-right: 0.25em;color: #696969;}#sk-container-id-5 label.sk-toggleable__label-arrow:hover:before {color: black;}#sk-container-id-5 div.sk-estimator:hover label.sk-toggleable__label-arrow:before {color: black;}#sk-container-id-5 div.sk-toggleable__content {max-height: 0;max-width: 0;overflow: hidden;text-align: left;background-color: #f0f8ff;}#sk-container-id-5 div.sk-toggleable__content pre {margin: 0.2em;color: black;border-radius: 0.25em;background-color: #f0f8ff;}#sk-container-id-5 input.sk-toggleable__control:checked~div.sk-toggleable__content {max-height: 200px;max-width: 100%;overflow: auto;}#sk-container-id-5 input.sk-toggleable__control:checked~label.sk-toggleable__label-arrow:before {content: \"▾\";}#sk-container-id-5 div.sk-estimator input.sk-toggleable__control:checked~label.sk-toggleable__label {background-color: #d4ebff;}#sk-container-id-5 div.sk-label input.sk-toggleable__control:checked~label.sk-toggleable__label {background-color: #d4ebff;}#sk-container-id-5 input.sk-hidden--visually {border: 0;clip: rect(1px 1px 1px 1px);clip: rect(1px, 1px, 1px, 1px);height: 1px;margin: -1px;overflow: hidden;padding: 0;position: absolute;width: 1px;}#sk-container-id-5 div.sk-estimator {font-family: monospace;background-color: #f0f8ff;border: 1px dotted black;border-radius: 0.25em;box-sizing: border-box;margin-bottom: 0.5em;}#sk-container-id-5 div.sk-estimator:hover {background-color: #d4ebff;}#sk-container-id-5 div.sk-parallel-item::after {content: \"\";width: 100%;border-bottom: 1px solid gray;flex-grow: 1;}#sk-container-id-5 div.sk-label:hover label.sk-toggleable__label {background-color: #d4ebff;}#sk-container-id-5 div.sk-serial::before {content: \"\";position: absolute;border-left: 1px solid gray;box-sizing: border-box;top: 0;bottom: 0;left: 50%;z-index: 0;}#sk-container-id-5 div.sk-serial {display: flex;flex-direction: column;align-items: center;background-color: white;padding-right: 0.2em;padding-left: 0.2em;position: relative;}#sk-container-id-5 div.sk-item {position: relative;z-index: 1;}#sk-container-id-5 div.sk-parallel {display: flex;align-items: stretch;justify-content: center;background-color: white;position: relative;}#sk-container-id-5 div.sk-item::before, #sk-container-id-5 div.sk-parallel-item::before {content: \"\";position: absolute;border-left: 1px solid gray;box-sizing: border-box;top: 0;bottom: 0;left: 50%;z-index: -1;}#sk-container-id-5 div.sk-parallel-item {display: flex;flex-direction: column;z-index: 1;position: relative;background-color: white;}#sk-container-id-5 div.sk-parallel-item:first-child::after {align-self: flex-end;width: 50%;}#sk-container-id-5 div.sk-parallel-item:last-child::after {align-self: flex-start;width: 50%;}#sk-container-id-5 div.sk-parallel-item:only-child::after {width: 0;}#sk-container-id-5 div.sk-dashed-wrapped {border: 1px dashed gray;margin: 0 0.4em 0.5em 0.4em;box-sizing: border-box;padding-bottom: 0.4em;background-color: white;}#sk-container-id-5 div.sk-label label {font-family: monospace;font-weight: bold;display: inline-block;line-height: 1.2em;}#sk-container-id-5 div.sk-label-container {text-align: center;}#sk-container-id-5 div.sk-container {/* jupyter's `normalize.less` sets `[hidden] { display: none; }` but bootstrap.min.css set `[hidden] { display: none !important; }` so we also need the `!important` here to be able to override the default hidden behavior on the sphinx rendered scikit-learn.org. See: https://github.com/scikit-learn/scikit-learn/issues/21755 */display: inline-block !important;position: relative;}#sk-container-id-5 div.sk-text-repr-fallback {display: none;}</style><div id=\"sk-container-id-5\" class=\"sk-top-container\"><div class=\"sk-text-repr-fallback\"><pre>Pipeline(steps=[(&#x27;add_past_period_columns&#x27;,\n",
       "                 FunctionTransformer(func=&lt;function create_past_ask_Open at 0x120047c10&gt;)),\n",
       "                (&#x27;fill_na&#x27;,\n",
       "                 FunctionTransformer(func=&lt;function fillna_ at 0x120047ca0&gt;)),\n",
       "                (&#x27;normalise&#x27;,\n",
       "                 FunctionTransformer(func=&lt;function normalise_ at 0x120047d30&gt;)),\n",
       "                (&#x27;predictor&#x27;, LinearRegression())])</pre><b>In a Jupyter environment, please rerun this cell to show the HTML representation or trust the notebook. <br />On GitHub, the HTML representation is unable to render, please try loading this page with nbviewer.org.</b></div><div class=\"sk-container\" hidden><div class=\"sk-item sk-dashed-wrapped\"><div class=\"sk-label-container\"><div class=\"sk-label sk-toggleable\"><input class=\"sk-toggleable__control sk-hidden--visually\" id=\"sk-estimator-id-19\" type=\"checkbox\" ><label for=\"sk-estimator-id-19\" class=\"sk-toggleable__label sk-toggleable__label-arrow\">Pipeline</label><div class=\"sk-toggleable__content\"><pre>Pipeline(steps=[(&#x27;add_past_period_columns&#x27;,\n",
       "                 FunctionTransformer(func=&lt;function create_past_ask_Open at 0x120047c10&gt;)),\n",
       "                (&#x27;fill_na&#x27;,\n",
       "                 FunctionTransformer(func=&lt;function fillna_ at 0x120047ca0&gt;)),\n",
       "                (&#x27;normalise&#x27;,\n",
       "                 FunctionTransformer(func=&lt;function normalise_ at 0x120047d30&gt;)),\n",
       "                (&#x27;predictor&#x27;, LinearRegression())])</pre></div></div></div><div class=\"sk-serial\"><div class=\"sk-item\"><div class=\"sk-estimator sk-toggleable\"><input class=\"sk-toggleable__control sk-hidden--visually\" id=\"sk-estimator-id-20\" type=\"checkbox\" ><label for=\"sk-estimator-id-20\" class=\"sk-toggleable__label sk-toggleable__label-arrow\">FunctionTransformer</label><div class=\"sk-toggleable__content\"><pre>FunctionTransformer(func=&lt;function create_past_ask_Open at 0x120047c10&gt;)</pre></div></div></div><div class=\"sk-item\"><div class=\"sk-estimator sk-toggleable\"><input class=\"sk-toggleable__control sk-hidden--visually\" id=\"sk-estimator-id-21\" type=\"checkbox\" ><label for=\"sk-estimator-id-21\" class=\"sk-toggleable__label sk-toggleable__label-arrow\">FunctionTransformer</label><div class=\"sk-toggleable__content\"><pre>FunctionTransformer(func=&lt;function fillna_ at 0x120047ca0&gt;)</pre></div></div></div><div class=\"sk-item\"><div class=\"sk-estimator sk-toggleable\"><input class=\"sk-toggleable__control sk-hidden--visually\" id=\"sk-estimator-id-22\" type=\"checkbox\" ><label for=\"sk-estimator-id-22\" class=\"sk-toggleable__label sk-toggleable__label-arrow\">FunctionTransformer</label><div class=\"sk-toggleable__content\"><pre>FunctionTransformer(func=&lt;function normalise_ at 0x120047d30&gt;)</pre></div></div></div><div class=\"sk-item\"><div class=\"sk-estimator sk-toggleable\"><input class=\"sk-toggleable__control sk-hidden--visually\" id=\"sk-estimator-id-23\" type=\"checkbox\" ><label for=\"sk-estimator-id-23\" class=\"sk-toggleable__label sk-toggleable__label-arrow\">LinearRegression</label><div class=\"sk-toggleable__content\"><pre>LinearRegression()</pre></div></div></div></div></div></div></div>"
      ],
      "text/plain": [
       "Pipeline(steps=[('add_past_period_columns',\n",
       "                 FunctionTransformer(func=<function create_past_ask_Open at 0x120047c10>)),\n",
       "                ('fill_na',\n",
       "                 FunctionTransformer(func=<function fillna_ at 0x120047ca0>)),\n",
       "                ('normalise',\n",
       "                 FunctionTransformer(func=<function normalise_ at 0x120047d30>)),\n",
       "                ('predictor', LinearRegression())])"
      ]
     },
     "execution_count": 35,
     "metadata": {},
     "output_type": "execute_result"
    }
   ],
   "source": [
    "# model = LinearRegression()\n",
    "pl.fit(X,y)"
   ]
  },
  {
   "cell_type": "code",
   "execution_count": 36,
   "metadata": {},
   "outputs": [
    {
     "data": {
      "text/plain": [
       "count    97.000000\n",
       "mean      0.999422\n",
       "std       0.000088\n",
       "min       0.999144\n",
       "25%       0.999375\n",
       "50%       0.999418\n",
       "75%       0.999478\n",
       "max       0.999671\n",
       "dtype: float64"
      ]
     },
     "execution_count": 36,
     "metadata": {},
     "output_type": "execute_result"
    }
   ],
   "source": [
    "pd.Series(pl.predict(X)).describe()"
   ]
  },
  {
   "cell_type": "code",
   "execution_count": 37,
   "metadata": {},
   "outputs": [],
   "source": [
    "# persist the model\n",
    "if SAVE_MODEL:\n",
    "    joblib.dump(pl,'model.pkl')\n",
    "else:\n",
    "    pl = joblib.load('model.pkl')"
   ]
  },
  {
   "cell_type": "code",
   "execution_count": 38,
   "metadata": {},
   "outputs": [
    {
     "data": {
      "text/html": [
       "<style>#sk-container-id-6 {color: black;background-color: white;}#sk-container-id-6 pre{padding: 0;}#sk-container-id-6 div.sk-toggleable {background-color: white;}#sk-container-id-6 label.sk-toggleable__label {cursor: pointer;display: block;width: 100%;margin-bottom: 0;padding: 0.3em;box-sizing: border-box;text-align: center;}#sk-container-id-6 label.sk-toggleable__label-arrow:before {content: \"▸\";float: left;margin-right: 0.25em;color: #696969;}#sk-container-id-6 label.sk-toggleable__label-arrow:hover:before {color: black;}#sk-container-id-6 div.sk-estimator:hover label.sk-toggleable__label-arrow:before {color: black;}#sk-container-id-6 div.sk-toggleable__content {max-height: 0;max-width: 0;overflow: hidden;text-align: left;background-color: #f0f8ff;}#sk-container-id-6 div.sk-toggleable__content pre {margin: 0.2em;color: black;border-radius: 0.25em;background-color: #f0f8ff;}#sk-container-id-6 input.sk-toggleable__control:checked~div.sk-toggleable__content {max-height: 200px;max-width: 100%;overflow: auto;}#sk-container-id-6 input.sk-toggleable__control:checked~label.sk-toggleable__label-arrow:before {content: \"▾\";}#sk-container-id-6 div.sk-estimator input.sk-toggleable__control:checked~label.sk-toggleable__label {background-color: #d4ebff;}#sk-container-id-6 div.sk-label input.sk-toggleable__control:checked~label.sk-toggleable__label {background-color: #d4ebff;}#sk-container-id-6 input.sk-hidden--visually {border: 0;clip: rect(1px 1px 1px 1px);clip: rect(1px, 1px, 1px, 1px);height: 1px;margin: -1px;overflow: hidden;padding: 0;position: absolute;width: 1px;}#sk-container-id-6 div.sk-estimator {font-family: monospace;background-color: #f0f8ff;border: 1px dotted black;border-radius: 0.25em;box-sizing: border-box;margin-bottom: 0.5em;}#sk-container-id-6 div.sk-estimator:hover {background-color: #d4ebff;}#sk-container-id-6 div.sk-parallel-item::after {content: \"\";width: 100%;border-bottom: 1px solid gray;flex-grow: 1;}#sk-container-id-6 div.sk-label:hover label.sk-toggleable__label {background-color: #d4ebff;}#sk-container-id-6 div.sk-serial::before {content: \"\";position: absolute;border-left: 1px solid gray;box-sizing: border-box;top: 0;bottom: 0;left: 50%;z-index: 0;}#sk-container-id-6 div.sk-serial {display: flex;flex-direction: column;align-items: center;background-color: white;padding-right: 0.2em;padding-left: 0.2em;position: relative;}#sk-container-id-6 div.sk-item {position: relative;z-index: 1;}#sk-container-id-6 div.sk-parallel {display: flex;align-items: stretch;justify-content: center;background-color: white;position: relative;}#sk-container-id-6 div.sk-item::before, #sk-container-id-6 div.sk-parallel-item::before {content: \"\";position: absolute;border-left: 1px solid gray;box-sizing: border-box;top: 0;bottom: 0;left: 50%;z-index: -1;}#sk-container-id-6 div.sk-parallel-item {display: flex;flex-direction: column;z-index: 1;position: relative;background-color: white;}#sk-container-id-6 div.sk-parallel-item:first-child::after {align-self: flex-end;width: 50%;}#sk-container-id-6 div.sk-parallel-item:last-child::after {align-self: flex-start;width: 50%;}#sk-container-id-6 div.sk-parallel-item:only-child::after {width: 0;}#sk-container-id-6 div.sk-dashed-wrapped {border: 1px dashed gray;margin: 0 0.4em 0.5em 0.4em;box-sizing: border-box;padding-bottom: 0.4em;background-color: white;}#sk-container-id-6 div.sk-label label {font-family: monospace;font-weight: bold;display: inline-block;line-height: 1.2em;}#sk-container-id-6 div.sk-label-container {text-align: center;}#sk-container-id-6 div.sk-container {/* jupyter's `normalize.less` sets `[hidden] { display: none; }` but bootstrap.min.css set `[hidden] { display: none !important; }` so we also need the `!important` here to be able to override the default hidden behavior on the sphinx rendered scikit-learn.org. See: https://github.com/scikit-learn/scikit-learn/issues/21755 */display: inline-block !important;position: relative;}#sk-container-id-6 div.sk-text-repr-fallback {display: none;}</style><div id=\"sk-container-id-6\" class=\"sk-top-container\"><div class=\"sk-text-repr-fallback\"><pre>Pipeline(steps=[(&#x27;add_past_period_columns&#x27;,\n",
       "                 FunctionTransformer(func=&lt;function create_past_ask_Open at 0x120047c10&gt;)),\n",
       "                (&#x27;fill_na&#x27;,\n",
       "                 FunctionTransformer(func=&lt;function fillna_ at 0x120047ca0&gt;)),\n",
       "                (&#x27;normalise&#x27;,\n",
       "                 FunctionTransformer(func=&lt;function normalise_ at 0x120047d30&gt;)),\n",
       "                (&#x27;predictor&#x27;, LinearRegression())])</pre><b>In a Jupyter environment, please rerun this cell to show the HTML representation or trust the notebook. <br />On GitHub, the HTML representation is unable to render, please try loading this page with nbviewer.org.</b></div><div class=\"sk-container\" hidden><div class=\"sk-item sk-dashed-wrapped\"><div class=\"sk-label-container\"><div class=\"sk-label sk-toggleable\"><input class=\"sk-toggleable__control sk-hidden--visually\" id=\"sk-estimator-id-24\" type=\"checkbox\" ><label for=\"sk-estimator-id-24\" class=\"sk-toggleable__label sk-toggleable__label-arrow\">Pipeline</label><div class=\"sk-toggleable__content\"><pre>Pipeline(steps=[(&#x27;add_past_period_columns&#x27;,\n",
       "                 FunctionTransformer(func=&lt;function create_past_ask_Open at 0x120047c10&gt;)),\n",
       "                (&#x27;fill_na&#x27;,\n",
       "                 FunctionTransformer(func=&lt;function fillna_ at 0x120047ca0&gt;)),\n",
       "                (&#x27;normalise&#x27;,\n",
       "                 FunctionTransformer(func=&lt;function normalise_ at 0x120047d30&gt;)),\n",
       "                (&#x27;predictor&#x27;, LinearRegression())])</pre></div></div></div><div class=\"sk-serial\"><div class=\"sk-item\"><div class=\"sk-estimator sk-toggleable\"><input class=\"sk-toggleable__control sk-hidden--visually\" id=\"sk-estimator-id-25\" type=\"checkbox\" ><label for=\"sk-estimator-id-25\" class=\"sk-toggleable__label sk-toggleable__label-arrow\">FunctionTransformer</label><div class=\"sk-toggleable__content\"><pre>FunctionTransformer(func=&lt;function create_past_ask_Open at 0x120047c10&gt;)</pre></div></div></div><div class=\"sk-item\"><div class=\"sk-estimator sk-toggleable\"><input class=\"sk-toggleable__control sk-hidden--visually\" id=\"sk-estimator-id-26\" type=\"checkbox\" ><label for=\"sk-estimator-id-26\" class=\"sk-toggleable__label sk-toggleable__label-arrow\">FunctionTransformer</label><div class=\"sk-toggleable__content\"><pre>FunctionTransformer(func=&lt;function fillna_ at 0x120047ca0&gt;)</pre></div></div></div><div class=\"sk-item\"><div class=\"sk-estimator sk-toggleable\"><input class=\"sk-toggleable__control sk-hidden--visually\" id=\"sk-estimator-id-27\" type=\"checkbox\" ><label for=\"sk-estimator-id-27\" class=\"sk-toggleable__label sk-toggleable__label-arrow\">FunctionTransformer</label><div class=\"sk-toggleable__content\"><pre>FunctionTransformer(func=&lt;function normalise_ at 0x120047d30&gt;)</pre></div></div></div><div class=\"sk-item\"><div class=\"sk-estimator sk-toggleable\"><input class=\"sk-toggleable__control sk-hidden--visually\" id=\"sk-estimator-id-28\" type=\"checkbox\" ><label for=\"sk-estimator-id-28\" class=\"sk-toggleable__label sk-toggleable__label-arrow\">LinearRegression</label><div class=\"sk-toggleable__content\"><pre>LinearRegression()</pre></div></div></div></div></div></div></div>"
      ],
      "text/plain": [
       "Pipeline(steps=[('add_past_period_columns',\n",
       "                 FunctionTransformer(func=<function create_past_ask_Open at 0x120047c10>)),\n",
       "                ('fill_na',\n",
       "                 FunctionTransformer(func=<function fillna_ at 0x120047ca0>)),\n",
       "                ('normalise',\n",
       "                 FunctionTransformer(func=<function normalise_ at 0x120047d30>)),\n",
       "                ('predictor', LinearRegression())])"
      ]
     },
     "execution_count": 38,
     "metadata": {},
     "output_type": "execute_result"
    }
   ],
   "source": [
    "pl"
   ]
  },
  {
   "cell_type": "code",
   "execution_count": 39,
   "metadata": {},
   "outputs": [
    {
     "data": {
      "text/plain": [
       "array(['ASK_OPEN'], dtype=object)"
      ]
     },
     "execution_count": 39,
     "metadata": {},
     "output_type": "execute_result"
    }
   ],
   "source": [
    "pl.feature_names_in_"
   ]
  },
  {
   "cell_type": "code",
   "execution_count": null,
   "metadata": {},
   "outputs": [],
   "source": []
  }
 ],
 "metadata": {
  "kernelspec": {
   "display_name": "Python 3.9.5 ('.venv': poetry)",
   "language": "python",
   "name": "python3"
  },
  "language_info": {
   "codemirror_mode": {
    "name": "ipython",
    "version": 3
   },
   "file_extension": ".py",
   "mimetype": "text/x-python",
   "name": "python",
   "nbconvert_exporter": "python",
   "pygments_lexer": "ipython3",
   "version": "3.9.5"
  },
  "orig_nbformat": 4,
  "vscode": {
   "interpreter": {
    "hash": "a6f487c99caa30a143fa23621bc9ce160857a5bdd835349e8b66e6beb37010aa"
   }
  }
 },
 "nbformat": 4,
 "nbformat_minor": 2
}
