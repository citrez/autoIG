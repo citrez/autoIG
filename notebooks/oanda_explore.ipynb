{
 "cells": [
  {
   "cell_type": "raw",
   "metadata": {},
   "source": [
    "Explores Oanda API.\n",
    "\n",
    "- Oanda is a platform for foriegn exchange trading\n",
    "- tpqoa is a wrapper around Oanda's API. It mainly has ForEx instruments.\n",
    "- tpqoa has very simple data streaming functionality\n"
   ]
  },
  {
   "cell_type": "code",
   "execution_count": 16,
   "metadata": {},
   "outputs": [],
   "source": [
    "import tpqoa\n",
    "api = tpqoa.tpqoa('oanda.cfg')"
   ]
  },
  {
   "cell_type": "markdown",
   "metadata": {},
   "source": [
    "### tpqoa functionality"
   ]
  },
  {
   "cell_type": "code",
   "execution_count": 17,
   "metadata": {},
   "outputs": [
    {
     "data": {
      "text/plain": [
       "'access_token, account_id, account_type, config, create_order, ctx, ctx_stream, get_account_summary, get_history, get_instruments, get_positions, get_prices, get_transaction, get_transactions, hostname, on_success, print_transactions, retrieve_data, stop_stream, stream_data, stream_data_failsafe, stream_hostname, suffix, transform_datetime'"
      ]
     },
     "execution_count": 17,
     "metadata": {},
     "output_type": "execute_result"
    }
   ],
   "source": [
    "\", \".join([i for i in dir(api) if not i.startswith(\"_\")])"
   ]
  },
  {
   "cell_type": "code",
   "execution_count": 18,
   "metadata": {},
   "outputs": [
    {
     "name": "stdout",
     "output_type": "stream",
     "text": [
      "124\n",
      "[('AUD/CAD', 'AUD_CAD'), ('AUD/CHF', 'AUD_CHF'), ('AUD/HKD', 'AUD_HKD'), ('AUD/JPY', 'AUD_JPY'), ('AUD/NZD', 'AUD_NZD')]\n"
     ]
    }
   ],
   "source": [
    "instr = api.get_instruments()\n",
    "print(f\"{len(instr)}\")\n",
    "print(instr[0:5])"
   ]
  },
  {
   "cell_type": "code",
   "execution_count": 21,
   "metadata": {},
   "outputs": [
    {
     "name": "stdout",
     "output_type": "stream",
     "text": [
      "\u001b[0;31mSignature:\u001b[0m \u001b[0mapi\u001b[0m\u001b[0;34m.\u001b[0m\u001b[0mstream_data\u001b[0m\u001b[0;34m(\u001b[0m\u001b[0minstrument\u001b[0m\u001b[0;34m,\u001b[0m \u001b[0mstop\u001b[0m\u001b[0;34m=\u001b[0m\u001b[0;32mNone\u001b[0m\u001b[0;34m,\u001b[0m \u001b[0mret\u001b[0m\u001b[0;34m=\u001b[0m\u001b[0;32mFalse\u001b[0m\u001b[0;34m,\u001b[0m \u001b[0mcallback\u001b[0m\u001b[0;34m=\u001b[0m\u001b[0;32mNone\u001b[0m\u001b[0;34m)\u001b[0m\u001b[0;34m\u001b[0m\u001b[0;34m\u001b[0m\u001b[0m\n",
      "\u001b[0;31mDocstring:\u001b[0m\n",
      "Starts a real-time data stream.\n",
      "\n",
      "Parameters\n",
      "==========\n",
      "instrument: string\n",
      "    valid instrument name\n",
      "\u001b[0;31mFile:\u001b[0m      ~/my_projects/autoIG/.venv/lib/python3.9/site-packages/tpqoa/tpqoa.py\n",
      "\u001b[0;31mType:\u001b[0m      method\n"
     ]
    }
   ],
   "source": [
    "api.stream_data?"
   ]
  },
  {
   "cell_type": "code",
   "execution_count": 15,
   "metadata": {},
   "outputs": [
    {
     "name": "stdout",
     "output_type": "stream",
     "text": [
      "2022-12-06T15:32:50.083305159Z 1.049 1.04911\n",
      "2022-12-06T15:32:51.452362385Z 1.04899 1.04912\n",
      "2022-12-06T15:32:51.588850168Z 1.04901 1.04912\n"
     ]
    }
   ],
   "source": [
    "api.stream_data(\"EUR_USD\",stop = 3)"
   ]
  },
  {
   "cell_type": "code",
   "execution_count": 22,
   "metadata": {},
   "outputs": [
    {
     "name": "stdout",
     "output_type": "stream",
     "text": [
      "\u001b[0;31mSignature:\u001b[0m\n",
      "\u001b[0mapi\u001b[0m\u001b[0;34m.\u001b[0m\u001b[0mcreate_order\u001b[0m\u001b[0;34m(\u001b[0m\u001b[0;34m\u001b[0m\n",
      "\u001b[0;34m\u001b[0m    \u001b[0minstrument\u001b[0m\u001b[0;34m,\u001b[0m\u001b[0;34m\u001b[0m\n",
      "\u001b[0;34m\u001b[0m    \u001b[0munits\u001b[0m\u001b[0;34m,\u001b[0m\u001b[0;34m\u001b[0m\n",
      "\u001b[0;34m\u001b[0m    \u001b[0mprice\u001b[0m\u001b[0;34m=\u001b[0m\u001b[0;32mNone\u001b[0m\u001b[0;34m,\u001b[0m\u001b[0;34m\u001b[0m\n",
      "\u001b[0;34m\u001b[0m    \u001b[0msl_distance\u001b[0m\u001b[0;34m=\u001b[0m\u001b[0;32mNone\u001b[0m\u001b[0;34m,\u001b[0m\u001b[0;34m\u001b[0m\n",
      "\u001b[0;34m\u001b[0m    \u001b[0mtsl_distance\u001b[0m\u001b[0;34m=\u001b[0m\u001b[0;32mNone\u001b[0m\u001b[0;34m,\u001b[0m\u001b[0;34m\u001b[0m\n",
      "\u001b[0;34m\u001b[0m    \u001b[0mtp_price\u001b[0m\u001b[0;34m=\u001b[0m\u001b[0;32mNone\u001b[0m\u001b[0;34m,\u001b[0m\u001b[0;34m\u001b[0m\n",
      "\u001b[0;34m\u001b[0m    \u001b[0mcomment\u001b[0m\u001b[0;34m=\u001b[0m\u001b[0;32mNone\u001b[0m\u001b[0;34m,\u001b[0m\u001b[0;34m\u001b[0m\n",
      "\u001b[0;34m\u001b[0m    \u001b[0mtouch\u001b[0m\u001b[0;34m=\u001b[0m\u001b[0;32mFalse\u001b[0m\u001b[0;34m,\u001b[0m\u001b[0;34m\u001b[0m\n",
      "\u001b[0;34m\u001b[0m    \u001b[0msuppress\u001b[0m\u001b[0;34m=\u001b[0m\u001b[0;32mFalse\u001b[0m\u001b[0;34m,\u001b[0m\u001b[0;34m\u001b[0m\n",
      "\u001b[0;34m\u001b[0m    \u001b[0mret\u001b[0m\u001b[0;34m=\u001b[0m\u001b[0;32mFalse\u001b[0m\u001b[0;34m,\u001b[0m\u001b[0;34m\u001b[0m\n",
      "\u001b[0;34m\u001b[0m\u001b[0;34m)\u001b[0m\u001b[0;34m\u001b[0m\u001b[0;34m\u001b[0m\u001b[0m\n",
      "\u001b[0;31mDocstring:\u001b[0m\n",
      "Places order with Oanda.\n",
      "\n",
      "Parameters\n",
      "==========\n",
      "instrument: string\n",
      "    valid instrument name\n",
      "units: int\n",
      "    number of units of instrument to be bought\n",
      "    (positive int, eg 'units=50')\n",
      "    or to be sold (negative int, eg 'units=-100')\n",
      "price: float\n",
      "    limit order price, touch order price\n",
      "sl_distance: float\n",
      "    stop loss distance price, mandatory eg in Germany\n",
      "tsl_distance: float\n",
      "    trailing stop loss distance\n",
      "tp_price: float\n",
      "    take profit price to be used for the trade\n",
      "comment: str\n",
      "    string\n",
      "touch: boolean\n",
      "    market_if_touched order (requires price to be set)\n",
      "suppress: boolean\n",
      "    whether to suppress print out\n",
      "ret: boolean\n",
      "    whether to return the order object\n",
      "\u001b[0;31mFile:\u001b[0m      ~/my_projects/autoIG/.venv/lib/python3.9/site-packages/tpqoa/tpqoa.py\n",
      "\u001b[0;31mType:\u001b[0m      method\n"
     ]
    }
   ],
   "source": [
    "api.create_order?"
   ]
  },
  {
   "cell_type": "code",
   "execution_count": 18,
   "metadata": {},
   "outputs": [
    {
     "name": "stdout",
     "output_type": "stream",
     "text": [
      "\n",
      "\n",
      " {'id': '123', 'time': '2022-09-25T12:21:17.826435556Z', 'userID': 22606453, 'accountID': '101-004-22606453-001', 'batchID': '123', 'requestID': '24994175351295933', 'type': 'MARKET_ORDER', 'instrument': 'BCO_USD', 'units': '200.0', 'timeInForce': 'FOK', 'positionFill': 'DEFAULT', 'reason': 'CLIENT_ORDER'} \n",
      "\n"
     ]
    }
   ],
   "source": [
    "# create a real order \n",
    "# check it [here](https://trade.oanda.com/)\n",
    "api.create_order(\"BCO_USD\",units = 200)"
   ]
  }
 ],
 "metadata": {
  "kernelspec": {
   "display_name": "Python 3.9.13 ('.venv': poetry)",
   "language": "python",
   "name": "python3"
  },
  "language_info": {
   "codemirror_mode": {
    "name": "ipython",
    "version": 3
   },
   "file_extension": ".py",
   "mimetype": "text/x-python",
   "name": "python",
   "nbconvert_exporter": "python",
   "pygments_lexer": "ipython3",
   "version": "3.9.13"
  },
  "orig_nbformat": 4,
  "vscode": {
   "interpreter": {
    "hash": "bb0009c52eb3c452c2ae3a00e04b4ba3f813f393dffc4e145dcc3528e51fe9eb"
   }
  }
 },
 "nbformat": 4,
 "nbformat_minor": 2
}
