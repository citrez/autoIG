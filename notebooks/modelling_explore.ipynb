{
 "cells": [
  {
   "cell_type": "raw",
   "metadata": {},
   "source": [
    "Explore training tradiing models."
   ]
  },
  {
   "cell_type": "code",
   "execution_count": 2,
   "metadata": {},
   "outputs": [],
   "source": [
    "import logging\n",
    "import sqlite3\n",
    "import json\n",
    "from datetime import datetime\n",
    "\n",
    "# import numpy as np\n",
    "import pandas as pd\n",
    "import numpy as np\n",
    "\n",
    "# trading_ig\n",
    "from trading_ig.rest import IGService\n",
    "from trading_ig.config import config\n",
    "\n",
    "import yfinance as yf\n",
    "from datetime import timedelta\n",
    "from datetime import datetime\n",
    "from autoIG.utils import format_date\n",
    "\n",
    "logging.basicConfig(\n",
    "    format=\"%(asctime)s %(levelname)-8s %(module)-20s %(message)s\",\n",
    "    level=logging.INFO,\n",
    "    datefmt=\"%Y-%m-%d %H:%M:%S\",\n",
    ")\n"
   ]
  },
  {
   "cell_type": "code",
   "execution_count": 6,
   "metadata": {},
   "outputs": [],
   "source": [
    "# config\n",
    "from autoIG.epics import GOLD_EPIC, SANDP_EPIC\n",
    "DAYS_HISTORY = 10\n",
    "STARTDATE = format_date(datetime.now() - timedelta(days=DAYS_HISTORY))\n",
    "ENDDATE = format_date(datetime.now() + timedelta(days=1))\n",
    "RESOLUTION = \"H\"\n"
   ]
  },
  {
   "cell_type": "code",
   "execution_count": null,
   "metadata": {},
   "outputs": [],
   "source": [
    "def create_open_position_config(epic,size = None,direction = 'BUY'):\n",
    "\n",
    "    market = ig_service.fetch_market_by_epic(epic)\n",
    "    expiry = market.instrument['expiry']\n",
    "    minsize= market.dealingRules['minDealSize']['value']\n",
    "    if size is None:\n",
    "        size = minsize\n",
    "    else:\n",
    "        if size<minsize:\n",
    "            raise ValueError(\"Size of trade too small\")\n",
    "    res = {\n",
    "        'currency_code':'GBP',\n",
    "        'direction':direction,\n",
    "        'epic':epic,\n",
    "        'order_type':'MARKET',\n",
    "        'expiry':expiry,\n",
    "        'force_open':'false',\n",
    "        'guaranteed_stop':'false',\n",
    "        'size':size,\n",
    "        'level':None,\n",
    "        'limit_distance':None,\n",
    "        'limit_level':None,\n",
    "        'quote_id':None,\n",
    "        'stop_level':None,\n",
    "        'stop_distance':None,\n",
    "        'trailing_stop':None,\n",
    "        'trailing_stop_increment':None\n",
    "        }\n",
    "    return res"
   ]
  },
  {
   "cell_type": "code",
   "execution_count": 3,
   "metadata": {},
   "outputs": [
    {
     "name": "stderr",
     "output_type": "stream",
     "text": [
      "2022-11-20 17:05:32 INFO     rest                 Creating new v2 session for user 'citrez' at 'https://demo-api.ig.com/gateway/deal'\n",
      "2022-11-20 17:05:33 INFO     rest                 POST '/session', resp 200\n"
     ]
    }
   ],
   "source": [
    "ig_service = IGService(config.username, config.password, config.api_key)\n",
    "ig = ig_service.create_session()"
   ]
  },
  {
   "cell_type": "code",
   "execution_count": 7,
   "metadata": {},
   "outputs": [
    {
     "name": "stderr",
     "output_type": "stream",
     "text": [
      "2022-11-20 17:06:41 INFO     rest                 GET '/markets/MT.D.GC.Month2.IP', resp 200\n"
     ]
    },
    {
     "name": "stdout",
     "output_type": "stream",
     "text": [
      "Keys: ['instrument', 'dealingRules', 'snapshot']\n",
      "{\n",
      "    \"epic\": \"MT.D.GC.Month2.IP\",\n",
      "    \"expiry\": \"APR-23\",\n",
      "    \"name\": \"Gold\",\n",
      "    \"forceOpenAllowed\": true,\n",
      "    \"stopsLimitsAllowed\": true,\n",
      "    \"lotSize\": 1.0,\n",
      "    \"unit\": \"AMOUNT\",\n",
      "    \"type\": \"COMMODITIES\",\n",
      "    \"controlledRiskAllowed\": true,\n",
      "    \"streamingPricesAvailable\": true,\n",
      "    \"marketId\": \"GC\",\n",
      "    \"currencies\": [\n",
      "        {\n",
      "            \"code\": \"USD\",\n",
      "            \"symbol\": \"$\",\n",
      "            \"baseExchangeRate\": 1.189065,\n",
      "            \"exchangeRate\": 0.66,\n",
      "            \"isDefault\": false\n",
      "        },\n",
      "        {\n",
      "            \"code\": \"AUD\",\n",
      "            \"symbol\": \"A$\",\n",
      "            \"baseExchangeRate\": 1.782295,\n",
      "            \"exchangeRate\": 0.45,\n",
      "            \"isDefault\": false\n",
      "        },\n",
      "        {\n",
      "            \"code\": \"EUR\",\n",
      "            \"symbol\": \"E\",\n",
      "            \"baseExchangeRate\": 1.15201,\n",
      "            \"exchangeRate\": 0.9,\n",
      "            \"isDefault\": false\n",
      "        },\n",
      "        {\n",
      "            \"code\": \"GBP\",\n",
      "            \"symbol\": \"\\u00a3\",\n",
      "            \"baseExchangeRate\": 1.0,\n",
      "            \"exchangeRate\": 1.0,\n",
      "            \"isDefault\": true\n",
      "        }\n",
      "    ],\n",
      "    \"sprintMarketsMinimumExpiryTime\": null,\n",
      "    \"sprintMarketsMaximumExpiryTime\": null,\n",
      "    \"marginDepositBands\": [\n",
      "        {\n",
      "            \"min\": 0,\n",
      "            \"max\": 1000,\n",
      "            \"margin\": 5,\n",
      "            \"currency\": \"USD\"\n",
      "        },\n",
      "        {\n",
      "            \"min\": 1000,\n",
      "            \"max\": 10000,\n",
      "            \"margin\": 5,\n",
      "            \"currency\": \"USD\"\n",
      "        },\n",
      "        {\n",
      "            \"min\": 10000,\n",
      "            \"max\": 15000,\n",
      "            \"margin\": 5,\n",
      "            \"currency\": \"USD\"\n",
      "        },\n",
      "        {\n",
      "            \"min\": 15000,\n",
      "            \"max\": null,\n",
      "            \"margin\": 15,\n",
      "            \"currency\": \"USD\"\n",
      "        }\n",
      "    ],\n",
      "    \"marginFactor\": 5,\n",
      "    \"marginFactorUnit\": \"PERCENTAGE\",\n",
      "    \"slippageFactor\": {\n",
      "        \"unit\": \"pct\",\n",
      "        \"value\": 50.0\n",
      "    },\n",
      "    \"limitedRiskPremium\": {\n",
      "        \"value\": 0.6,\n",
      "        \"unit\": \"POINTS\"\n",
      "    },\n",
      "    \"openingHours\": null,\n",
      "    \"expiryDetails\": {\n",
      "        \"lastDealingDate\": \"2023-03-28T17:30\",\n",
      "        \"settlementInfo\": \"Settles based on the official closing price of the Gold futures contract as reported by COMEX +/- IG dealing spread.\"\n",
      "    },\n",
      "    \"rolloverDetails\": {\n",
      "        \"lastRolloverTime\": \"2023-03-28T17:15\",\n",
      "        \"rolloverInfo\": \"Usually, initial position closed at official closing level of day before last dealing day +/- closing spread; new position in next contract opened at official closing level of the new contract from same day, +/- opening spread.\"\n",
      "    },\n",
      "    \"newsCode\": \"GOL\",\n",
      "    \"chartCode\": \"GOLD\",\n",
      "    \"country\": null,\n",
      "    \"valueOfOnePip\": null,\n",
      "    \"onePipMeans\": null,\n",
      "    \"contractSize\": null,\n",
      "    \"specialInfo\": [\n",
      "        \"DEFAULT KNOCK OUT LEVEL DISTANCE\",\n",
      "        \"MAX KNOCK OUT LEVEL DISTANCE\"\n",
      "    ]\n",
      "}\n"
     ]
    }
   ],
   "source": [
    "market = ig_service.fetch_market_by_epic(GOLD_EPIC)\n",
    "print(f\"Keys: {list(market.keys())}\")\n",
    "print(json.dumps(market.instrument,indent=4))"
   ]
  },
  {
   "cell_type": "code",
   "execution_count": null,
   "metadata": {},
   "outputs": [],
   "source": [
    "print(json.dumps(market.dealingRules,indent=4))"
   ]
  },
  {
   "cell_type": "code",
   "execution_count": null,
   "metadata": {},
   "outputs": [],
   "source": [
    "print(json.dumps(market.snapshot,indent=4))"
   ]
  },
  {
   "cell_type": "code",
   "execution_count": 8,
   "metadata": {},
   "outputs": [
    {
     "name": "stderr",
     "output_type": "stream",
     "text": [
      "2022-11-20 17:07:26 INFO     rest                 GET '/prices/MT.D.GC.Month2.IP', resp 500\n"
     ]
    },
    {
     "ename": "IGException",
     "evalue": "Server problem: status code: 500, reason: Internal Server Error",
     "output_type": "error",
     "traceback": [
      "\u001b[0;31m---------------------------------------------------------------------------\u001b[0m",
      "\u001b[0;31mIGException\u001b[0m                               Traceback (most recent call last)",
      "Cell \u001b[0;32mIn [8], line 3\u001b[0m\n\u001b[1;32m      1\u001b[0m \u001b[39m# see from pandas.tseries.frequencies import to_offset\u001b[39;00m\n\u001b[1;32m      2\u001b[0m \u001b[39m# resolution = '1Min'\u001b[39;00m\n\u001b[0;32m----> 3\u001b[0m result \u001b[39m=\u001b[39m ig_service\u001b[39m.\u001b[39;49mfetch_historical_prices_by_epic(\n\u001b[1;32m      4\u001b[0m     epic\u001b[39m=\u001b[39;49mGOLD_EPIC, start_date\u001b[39m=\u001b[39;49mSTARTDATE, end_date\u001b[39m=\u001b[39;49mENDDATE, resolution\u001b[39m=\u001b[39;49mRESOLUTION\n\u001b[1;32m      5\u001b[0m )\n\u001b[1;32m      6\u001b[0m \u001b[39mprint\u001b[39m(\u001b[39mf\u001b[39m\u001b[39m\"\u001b[39m\u001b[39mKeys: \u001b[39m\u001b[39m{\u001b[39;00m\u001b[39mlist\u001b[39m(result\u001b[39m.\u001b[39mkeys())\u001b[39m}\u001b[39;00m\u001b[39m\"\u001b[39m)\n\u001b[1;32m      7\u001b[0m \u001b[39mprint\u001b[39m(result[\u001b[39m\"\u001b[39m\u001b[39minstrumentType\u001b[39m\u001b[39m\"\u001b[39m])\n",
      "File \u001b[0;32m~/my_projects/autoIG/.venv/lib/python3.9/site-packages/trading_ig/rest.py:1536\u001b[0m, in \u001b[0;36mIGService.fetch_historical_prices_by_epic\u001b[0;34m(self, epic, resolution, start_date, end_date, numpoints, pagesize, session, format, wait)\u001b[0m\n\u001b[1;32m   1534\u001b[0m \u001b[39mwhile\u001b[39;00m more_results:\n\u001b[1;32m   1535\u001b[0m     params[\u001b[39m\"\u001b[39m\u001b[39mpageNumber\u001b[39m\u001b[39m\"\u001b[39m] \u001b[39m=\u001b[39m pagenumber\n\u001b[0;32m-> 1536\u001b[0m     response \u001b[39m=\u001b[39m \u001b[39mself\u001b[39;49m\u001b[39m.\u001b[39;49m_req(action, endpoint, params, session, version)\n\u001b[1;32m   1537\u001b[0m     data \u001b[39m=\u001b[39m \u001b[39mself\u001b[39m\u001b[39m.\u001b[39mparse_response(response\u001b[39m.\u001b[39mtext)\n\u001b[1;32m   1538\u001b[0m     prices\u001b[39m.\u001b[39mextend(data[\u001b[39m\"\u001b[39m\u001b[39mprices\u001b[39m\u001b[39m\"\u001b[39m])\n",
      "File \u001b[0;32m~/my_projects/autoIG/.venv/lib/python3.9/site-packages/trading_ig/rest.py:307\u001b[0m, in \u001b[0;36mIGService._req\u001b[0;34m(self, action, endpoint, params, session, version, check)\u001b[0m\n\u001b[1;32m    305\u001b[0m     result \u001b[39m=\u001b[39m \u001b[39mself\u001b[39m\u001b[39m.\u001b[39m_retryer\u001b[39m.\u001b[39m\u001b[39m__call__\u001b[39m(\u001b[39mself\u001b[39m\u001b[39m.\u001b[39m_request, action, endpoint, params, session, version, check)\n\u001b[1;32m    306\u001b[0m \u001b[39melse\u001b[39;00m:\n\u001b[0;32m--> 307\u001b[0m     result \u001b[39m=\u001b[39m \u001b[39mself\u001b[39;49m\u001b[39m.\u001b[39;49m_request(action, endpoint, params, session, version, check)\n\u001b[1;32m    309\u001b[0m \u001b[39mreturn\u001b[39;00m result\n",
      "File \u001b[0;32m~/my_projects/autoIG/.venv/lib/python3.9/site-packages/trading_ig/rest.py:319\u001b[0m, in \u001b[0;36mIGService._request\u001b[0;34m(self, action, endpoint, params, session, version, check)\u001b[0m\n\u001b[1;32m    316\u001b[0m response \u001b[39m=\u001b[39m \u001b[39mself\u001b[39m\u001b[39m.\u001b[39mcrud_session\u001b[39m.\u001b[39mreq(action, endpoint, params, session, version)\n\u001b[1;32m    318\u001b[0m \u001b[39mif\u001b[39;00m response\u001b[39m.\u001b[39mstatus_code \u001b[39m>\u001b[39m\u001b[39m=\u001b[39m \u001b[39m500\u001b[39m:\n\u001b[0;32m--> 319\u001b[0m     \u001b[39mraise\u001b[39;00m (IGException(\u001b[39mf\u001b[39m\u001b[39m\"\u001b[39m\u001b[39mServer problem: status code: \u001b[39m\u001b[39m{\u001b[39;00mresponse\u001b[39m.\u001b[39mstatus_code\u001b[39m}\u001b[39;00m\u001b[39m, reason: \u001b[39m\u001b[39m{\u001b[39;00mresponse\u001b[39m.\u001b[39mreason\u001b[39m}\u001b[39;00m\u001b[39m\"\u001b[39m))\n\u001b[1;32m    321\u001b[0m response\u001b[39m.\u001b[39mencoding \u001b[39m=\u001b[39m \u001b[39m'\u001b[39m\u001b[39mutf-8\u001b[39m\u001b[39m'\u001b[39m\n\u001b[1;32m    322\u001b[0m \u001b[39mif\u001b[39;00m \u001b[39mself\u001b[39m\u001b[39m.\u001b[39m_api_limit_hit(response\u001b[39m.\u001b[39mtext):\n",
      "\u001b[0;31mIGException\u001b[0m: Server problem: status code: 500, reason: Internal Server Error"
     ]
    }
   ],
   "source": [
    "# see from pandas.tseries.frequencies import to_offset\n",
    "# resolution = '1Min'\n",
    "result = ig_service.fetch_historical_prices_by_epic(\n",
    "    epic=GOLD_EPIC, start_date=STARTDATE, end_date=ENDDATE, resolution=RESOLUTION\n",
    ")\n",
    "print(f\"Keys: {list(result.keys())}\")\n",
    "print(result[\"instrumentType\"])\n",
    "prices_raw = result[\"prices\"]\n",
    "print(prices_raw.shape)\n",
    "prices_raw.head(3)\n"
   ]
  },
  {
   "cell_type": "code",
   "execution_count": null,
   "metadata": {},
   "outputs": [],
   "source": [
    "# Depreciated - Use janitor clean_names()\n",
    "# def standardise_column_names(df):\n",
    "#     df_new = df.copy()\n",
    "#     df_new.columns = [\"_\".join(i).lower() for i in df_new.columns]\n",
    "#     return df_new\n",
    "\n",
    "import janitor\n",
    "\n",
    "prices = prices_raw.clean_names()\n",
    "prices  = prices.reset_index()\n",
    "prices.head(3)"
   ]
  },
  {
   "cell_type": "code",
   "execution_count": null,
   "metadata": {},
   "outputs": [],
   "source": [
    "def to_hours(td):\n",
    "    \"Gives the number of hours diffreence between two timedeltas\"\n",
    "    return td.days*24+ td.seconds//3600\n",
    "to_hours(prices.DateTime[136] - prices.DateTime[0])"
   ]
  },
  {
   "cell_type": "code",
   "execution_count": null,
   "metadata": {},
   "outputs": [],
   "source": [
    "prices = prices.assign(\n",
    "    days_since=lambda df: list(map(lambda x: to_hours(x), (df[\"DateTime\"] - df[\"DateTime\"][0])))\n",
    ")\n",
    "prices"
   ]
  },
  {
   "cell_type": "code",
   "execution_count": null,
   "metadata": {},
   "outputs": [],
   "source": [
    "test_size = 0\n",
    "prices = prices.assign(\n",
    "    train_test=[\"train\"] * (len(prices) - test_size) + [\"test\"] * test_size\n",
    ")\n",
    "prices.train_test.value_counts()"
   ]
  },
  {
   "cell_type": "code",
   "execution_count": null,
   "metadata": {},
   "outputs": [],
   "source": [
    "from sklearn.linear_model import LinearRegression\n",
    "train = prices.query(\"train_test=='train'\")\n",
    "test = prices.query(\"train_test=='test'\")\n",
    "X_train = train.days_since.to_numpy().reshape(-1,1)\n",
    "X_test = test.days_since.to_numpy().reshape(-1,1)\n",
    "y_train = train.bid_open\n",
    "y_test = test.bid_open\n"
   ]
  },
  {
   "cell_type": "code",
   "execution_count": null,
   "metadata": {},
   "outputs": [],
   "source": [
    "from sklearn.preprocessing import PolynomialFeatures\n",
    "from sklearn.pipeline import Pipeline\n",
    "\n",
    "linearModpipeline = Pipeline(\n",
    "    [(\"poly\", PolynomialFeatures(degree=3))]\n",
    "        )\n",
    "\n",
    "linearModpipeline.fit(X_train)\n",
    "X_train_preprocessed = linearModpipeline.transform(X_train)\n"
   ]
  },
  {
   "cell_type": "code",
   "execution_count": null,
   "metadata": {},
   "outputs": [],
   "source": [
    "linearMod = LinearRegression(fit_intercept=True)\n",
    "linearMod.fit(X_train_preprocessed,y_train)"
   ]
  },
  {
   "cell_type": "code",
   "execution_count": null,
   "metadata": {},
   "outputs": [],
   "source": [
    "(X_train[-1]+1).reshape(-1,1)\n"
   ]
  },
  {
   "cell_type": "code",
   "execution_count": null,
   "metadata": {},
   "outputs": [],
   "source": [
    "y_predictions = linearMod.predict(linearModpipeline.transform((X_train[-1]+1).reshape(-1,1)))\n",
    "y_predictions"
   ]
  },
  {
   "cell_type": "code",
   "execution_count": null,
   "metadata": {},
   "outputs": [],
   "source": [
    "from sklearn.metrics import mean_squared_error\n"
   ]
  },
  {
   "cell_type": "code",
   "execution_count": null,
   "metadata": {},
   "outputs": [],
   "source": [
    "# open_positions = ig_service.fetch_open_positions()\n",
    "# open_positions = (\n",
    "#     open_positions.assign(\n",
    "#         direction_signed=lambda df: np.where(df.direction == \"SELL\", -1, 1),\n",
    "#         size_signed=lambda df: df['size'] * df.direction_signed\n",
    "#     )\n",
    "# )\n",
    "# open_positions_totals = open_positions.groupby('epic',as_index=False)['size_signed'].sum()\n",
    "# open_positions_totals\n",
    "\n",
    "def get_open_position_totals():\n",
    "    open_positions = ig_service.fetch_open_positions()\n",
    "    \n",
    "    open_positions = (\n",
    "    open_positions.assign(\n",
    "        direction_signed=lambda df: np.where(df.direction == \"SELL\", -1, 1),\n",
    "        size_signed=lambda df: df['size'] * df.direction_signed\n",
    "    )\n",
    ")\n",
    "    open_positions_totals = open_positions.groupby('epic',as_index=False)['size_signed'].sum()\n",
    "    return open_positions_totals   \n",
    "get_open_position_totals()\n"
   ]
  },
  {
   "cell_type": "code",
   "execution_count": null,
   "metadata": {},
   "outputs": [],
   "source": [
    "downscaling= 50\n",
    "total_size = open_positions_totals[open_positions_totals.epic == GOLD_EPIC]['size_signed']\n",
    "total_size = float(total_size)\n",
    "size_wanted =  ( y_predictions[0]-y_train.iloc[-1] )/downscaling\n",
    "print(size_wanted)\n",
    "change_needed = (size_wanted-total_size).round(2)\n",
    "print(f\"Size wanted: {size_wanted.round(2)}\")\n",
    "print(f\"Toal size: {total_size}\")\n",
    "print(f\"change needed: {change_needed.round(2)}\")\n",
    "\n",
    "\n",
    "    "
   ]
  },
  {
   "cell_type": "code",
   "execution_count": null,
   "metadata": {},
   "outputs": [],
   "source": [
    "if change_needed> 0 :\n",
    "    print(\"We're buying!\")\n",
    "    print(position_info(GOLD_EPIC,direction = 'BUY'))\n",
    "    ig_service.create_open_position(**position_info(GOLD_EPIC,size= abs(change_needed),direction = 'BUY'))\n",
    "if change_needed < 0:\n",
    "    print(\"We're selling!\")\n",
    "    print(position_info(GOLD_EPIC,direction = 'SELL'))\n",
    "    res = ig_service.create_open_position(**position_info(GOLD_EPIC,direction = 'SELL',size = abs(change_needed)))\n",
    "    print(res)\n",
    "if change_needed==0:\n",
    "    print(\"No trade needed\")\n"
   ]
  },
  {
   "cell_type": "code",
   "execution_count": null,
   "metadata": {},
   "outputs": [],
   "source": [
    "(\n",
    "    ggplot(prices)+\n",
    "    geom_point(aes('days_since','bid_open',color = 'train_test'))+\n",
    "    theme(figure_size = [10,3])+\n",
    "    pn.geom_point(data = test,mapping = aes('days_since',y_predictions))\n",
    ")"
   ]
  },
  {
   "cell_type": "code",
   "execution_count": null,
   "metadata": {},
   "outputs": [],
   "source": [
    "ig_service.create_open_position(**position_info(sandp_epic,direction='SELL'))"
   ]
  },
  {
   "cell_type": "code",
   "execution_count": null,
   "metadata": {},
   "outputs": [],
   "source": [
    "open_positions = ig_service.fetch_open_positions()\n",
    "open_positions"
   ]
  },
  {
   "cell_type": "code",
   "execution_count": null,
   "metadata": {},
   "outputs": [],
   "source": [
    "open_positions.columns"
   ]
  },
  {
   "cell_type": "code",
   "execution_count": null,
   "metadata": {},
   "outputs": [],
   "source": [
    "open_positions = (\n",
    "    open_positions.assign(\n",
    "        direction_signed=lambda df: np.where(df.direction == \"SELL\", -1, 1),\n",
    "        size_signed=lambda df: df['size'] * df.direction_signed\n",
    "    )\n",
    ")\n",
    "open_positions_totals = open_positions.groupby('epic',as_index=False)['size_signed'].sum()\n",
    "open_positions_totals\n"
   ]
  },
  {
   "cell_type": "code",
   "execution_count": null,
   "metadata": {},
   "outputs": [],
   "source": [
    "result = ig_service.fetch_historical_prices_by_epic(\n",
    "    epic='CS.D.USCGC.TODAY.IP',\n",
    "    start_date=\"2022-02-01\",\n",
    "    end_date=\"2022-02-03\",resolution=\"4H\"\n",
    "    )\n",
    "result['prices']"
   ]
  },
  {
   "cell_type": "code",
   "execution_count": null,
   "metadata": {},
   "outputs": [],
   "source": [
    "ig"
   ]
  },
  {
   "cell_type": "code",
   "execution_count": null,
   "metadata": {},
   "outputs": [],
   "source": [
    "msft = yf.Ticker(\"MSFT\")"
   ]
  },
  {
   "cell_type": "code",
   "execution_count": null,
   "metadata": {},
   "outputs": [],
   "source": [
    "# get stock info\n",
    "print(msft.info.keys())\n",
    "msft.info['sector']"
   ]
  },
  {
   "cell_type": "code",
   "execution_count": null,
   "metadata": {},
   "outputs": [],
   "source": [
    "from datetime import datetime,timedelta\n",
    "today =datetime.now()#.strftime(\"%Y-%m-%d\")\n",
    "three_months_ago = today+timedelta(days=-90)\n",
    "\n",
    "def format_date(date):\n",
    "    return date.strftime(\"%Y-%m-%d\")"
   ]
  },
  {
   "cell_type": "code",
   "execution_count": null,
   "metadata": {},
   "outputs": [],
   "source": [
    "history_raw = msft.history(\n",
    "    period=\"1d\",\n",
    "    end = format_date(today),\n",
    "    start = format_date(three_months_ago)\n",
    ")\n",
    "history_raw.head()"
   ]
  },
  {
   "cell_type": "code",
   "execution_count": null,
   "metadata": {},
   "outputs": [],
   "source": [
    "(\n",
    "    ggplot(history_raw)+\n",
    "    geom_point(aes(x,y))+\n",
    "    theme()\n",
    ")   "
   ]
  },
  {
   "cell_type": "code",
   "execution_count": null,
   "metadata": {},
   "outputs": [],
   "source": [
    "hist = hist_raw.reset_index().reset_index()"
   ]
  },
  {
   "cell_type": "code",
   "execution_count": null,
   "metadata": {},
   "outputs": [],
   "source": [
    "## Fit a simple linear regression with a quadratic term to the last 3 months, and buy/ sell accordingly"
   ]
  },
  {
   "cell_type": "code",
   "execution_count": null,
   "metadata": {},
   "outputs": [],
   "source": [
    "# import statsmodels as sm\n",
    "from sklearn.linear_model import LinearRegression\n",
    "from sklearn.preprocessing import PolynomialFeatures"
   ]
  },
  {
   "cell_type": "code",
   "execution_count": null,
   "metadata": {},
   "outputs": [],
   "source": [
    "\n",
    "X_poly[0:3]"
   ]
  },
  {
   "cell_type": "code",
   "execution_count": null,
   "metadata": {},
   "outputs": [],
   "source": [
    "import plotnine as pn\n",
    "from plotnine import ggplot, geom_line, aes"
   ]
  },
  {
   "cell_type": "code",
   "execution_count": null,
   "metadata": {},
   "outputs": [],
   "source": [
    "(\n",
    "    ggplot(hist.reset_index().reset_index())+\n",
    "    geom_line(pn.aes('index','Close'))\n",
    "    )\n"
   ]
  },
  {
   "cell_type": "code",
   "execution_count": null,
   "metadata": {},
   "outputs": [],
   "source": []
  },
  {
   "cell_type": "code",
   "execution_count": null,
   "metadata": {},
   "outputs": [],
   "source": [
    "# np.array(hist['index']).reshape(-1,1)"
   ]
  },
  {
   "cell_type": "code",
   "execution_count": null,
   "metadata": {},
   "outputs": [],
   "source": [
    "linreg = LinearRegression()\n",
    "linreg.fit(np.array(hist['index']).reshape(-1,1),  hist.Close)"
   ]
  },
  {
   "cell_type": "code",
   "execution_count": null,
   "metadata": {},
   "outputs": [],
   "source": [
    "polyreg =  LinearRegression()\n",
    "poly =  PolynomialFeatures(degree=3)\n",
    "X_poly = poly.fit_transform(np.array(hist['index']).reshape(-1,1))\n",
    "polyreg.fit(X_poly,hist.Close)"
   ]
  },
  {
   "cell_type": "code",
   "execution_count": null,
   "metadata": {},
   "outputs": [],
   "source": [
    "# inputs = np.linspace(0,60,100)\n",
    "# poly = PolynomialFeatures(degree = 2)\n",
    "# inputs = poly.fit_transform(inputs.reshape(-1,1))\n",
    "\n",
    "# poly = PolynomialFeatures(degree = 3)\n",
    "# inputs = poly.fit_transform(inputs.reshape(-1,1))\n",
    "\n"
   ]
  },
  {
   "cell_type": "code",
   "execution_count": null,
   "metadata": {},
   "outputs": [],
   "source": [
    "X_poly[:,1]"
   ]
  },
  {
   "cell_type": "code",
   "execution_count": null,
   "metadata": {},
   "outputs": [],
   "source": [
    "def plot_model(model = linreg):\n",
    "    inputs = np.linspace(0,60,100)\n",
    "    inputs = poly.fit_transform(inputs.reshape(-1,1))\n",
    "\n",
    "    preds= polyreg.predict(inputs)\n",
    "\n",
    "    gg = (\n",
    "        ggplot()+\n",
    "        geom_line(aes(inputs[:,1],preds))+ # plot the model\n",
    "        geom_line(aes(hist['index'],hist['Close']))\n",
    "    )\n",
    "    return gg\n",
    "\n",
    "plot_model(polyreg)\n",
    "\n",
    "\n"
   ]
  },
  {
   "cell_type": "code",
   "execution_count": null,
   "metadata": {},
   "outputs": [],
   "source": [
    "linreg.predict(np.array([[1]]))"
   ]
  },
  {
   "cell_type": "markdown",
   "metadata": {},
   "source": [
    "## misc"
   ]
  },
  {
   "cell_type": "code",
   "execution_count": null,
   "metadata": {},
   "outputs": [],
   "source": [
    "## open a possition\n",
    "resp = ig_service.create_open_position(\n",
    "        currency_code='GBP',\n",
    "        direction='BUY',\n",
    "        epic=gold_epic,\n",
    "        order_type='MARKET',\n",
    "        expiry=\"AUG-22\",\n",
    "        force_open='false',\n",
    "        guaranteed_stop='false',\n",
    "        size=0.5,\n",
    "        level=None,\n",
    "        limit_distance=None,\n",
    "        limit_level=None,\n",
    "        quote_id=None,\n",
    "        stop_level=None,\n",
    "        stop_distance=None,\n",
    "        trailing_stop=None,\n",
    "        trailing_stop_increment=None\n",
    "        )\n",
    "resp"
   ]
  }
 ],
 "metadata": {
  "interpreter": {
   "hash": "bb0009c52eb3c452c2ae3a00e04b4ba3f813f393dffc4e145dcc3528e51fe9eb"
  },
  "kernelspec": {
   "display_name": "Python 3.9.13 ('.venv': poetry)",
   "language": "python",
   "name": "python3"
  },
  "language_info": {
   "codemirror_mode": {
    "name": "ipython",
    "version": 3
   },
   "file_extension": ".py",
   "mimetype": "text/x-python",
   "name": "python",
   "nbconvert_exporter": "python",
   "pygments_lexer": "ipython3",
   "version": "3.9.13"
  },
  "orig_nbformat": 4
 },
 "nbformat": 4,
 "nbformat_minor": 2
}
