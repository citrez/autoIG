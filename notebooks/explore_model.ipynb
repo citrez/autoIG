{
 "cells": [
  {
   "cell_type": "code",
   "execution_count": 284,
   "metadata": {},
   "outputs": [],
   "source": [
    "import logging\n",
    "import sqlite3\n",
    "import json\n",
    "from datetime import datetime\n",
    "\n",
    "# import numpy as np\n",
    "import pandas as pd\n",
    "import numpy as np\n",
    "\n",
    "# trading_ig\n",
    "from trading_ig.rest import IGService\n",
    "from trading_ig.config import config\n",
    "\n",
    "import yfinance as yf\n",
    "from datetime import timedelta\n",
    "from datetime import datetime\n",
    "\n",
    "# plotting\n",
    "import plotnine as pn\n",
    "from plotnine import ggplot, aes, geom_col, theme, geom_point,scale_x_continuous ,scale_y_continuous"
   ]
  },
  {
   "cell_type": "code",
   "execution_count": 323,
   "metadata": {},
   "outputs": [],
   "source": [
    "def format_date(d):\n",
    "    return d.strftime(\"%Y-%m-%d\")\n",
    "\n",
    "\n",
    "# config\n",
    "DAYS_AWAY = 10\n",
    "STARTDATE = format_date(datetime.now() - timedelta(days=DAYS_AWAY))\n",
    "ENDDATE = format_date(datetime.now() + timedelta(days=1))\n",
    "RESOLUTION = \"H\"\n",
    "GOLD_EPIC = \"MT.D.GC.Month2.IP\"\n",
    "SANDP_EPIC = \"IX.D.SPTRD.DAILY.IP\"\n"
   ]
  },
  {
   "cell_type": "code",
   "execution_count": 324,
   "metadata": {},
   "outputs": [],
   "source": [
    "def create_open_position_config(epic,size = None,direction = 'BUY'):\n",
    "\n",
    "    market = ig_service.fetch_market_by_epic(epic)\n",
    "    expiry = market.instrument['expiry']\n",
    "    minsize= market.dealingRules['minDealSize']['value']\n",
    "    if size is None:\n",
    "        size = minsize\n",
    "    else:\n",
    "        if size<minsize:\n",
    "            raise ValueError(\"Size of trade too small\")\n",
    "    res = {\n",
    "        'currency_code':'GBP',\n",
    "        'direction':direction,\n",
    "        'epic':epic,\n",
    "        'order_type':'MARKET',\n",
    "        'expiry':expiry,\n",
    "        'force_open':'false',\n",
    "        'guaranteed_stop':'false',\n",
    "        'size':size,\n",
    "        'level':None,\n",
    "        'limit_distance':None,\n",
    "        'limit_level':None,\n",
    "        'quote_id':None,\n",
    "        'stop_level':None,\n",
    "        'stop_distance':None,\n",
    "        'trailing_stop':None,\n",
    "        'trailing_stop_increment':None\n",
    "        }\n",
    "    return res"
   ]
  },
  {
   "cell_type": "code",
   "execution_count": 325,
   "metadata": {},
   "outputs": [],
   "source": [
    "ig_service = IGService(config.username, config.password, config.api_key)\n",
    "ig = ig_service.create_session()"
   ]
  },
  {
   "cell_type": "code",
   "execution_count": 326,
   "metadata": {},
   "outputs": [
    {
     "name": "stdout",
     "output_type": "stream",
     "text": [
      "Keys: ['instrument', 'dealingRules', 'snapshot']\n",
      "{\n",
      "    \"epic\": \"MT.D.GC.Month2.IP\",\n",
      "    \"expiry\": \"AUG-22\",\n",
      "    \"name\": \"Gold\",\n",
      "    \"forceOpenAllowed\": true,\n",
      "    \"stopsLimitsAllowed\": true,\n",
      "    \"lotSize\": 1.0,\n",
      "    \"unit\": \"AMOUNT\",\n",
      "    \"type\": \"COMMODITIES\",\n",
      "    \"controlledRiskAllowed\": true,\n",
      "    \"streamingPricesAvailable\": true,\n",
      "    \"marketId\": \"GC\",\n",
      "    \"currencies\": [\n",
      "        {\n",
      "            \"code\": \"USD\",\n",
      "            \"symbol\": \"$\",\n",
      "            \"baseExchangeRate\": 1.265411,\n",
      "            \"exchangeRate\": 0.66,\n",
      "            \"isDefault\": false\n",
      "        },\n",
      "        {\n",
      "            \"code\": \"AUD\",\n",
      "            \"symbol\": \"A$\",\n",
      "            \"baseExchangeRate\": 1.758255,\n",
      "            \"exchangeRate\": 0.45,\n",
      "            \"isDefault\": false\n",
      "        },\n",
      "        {\n",
      "            \"code\": \"EUR\",\n",
      "            \"symbol\": \"E\",\n",
      "            \"baseExchangeRate\": 1.173425,\n",
      "            \"exchangeRate\": 0.9,\n",
      "            \"isDefault\": false\n",
      "        },\n",
      "        {\n",
      "            \"code\": \"GBP\",\n",
      "            \"symbol\": \"\\u00a3\",\n",
      "            \"baseExchangeRate\": 1.0,\n",
      "            \"exchangeRate\": 1.0,\n",
      "            \"isDefault\": true\n",
      "        }\n",
      "    ],\n",
      "    \"sprintMarketsMinimumExpiryTime\": null,\n",
      "    \"sprintMarketsMaximumExpiryTime\": null,\n",
      "    \"marginDepositBands\": [\n",
      "        {\n",
      "            \"min\": 0,\n",
      "            \"max\": 1000,\n",
      "            \"margin\": 5,\n",
      "            \"currency\": \"USD\"\n",
      "        },\n",
      "        {\n",
      "            \"min\": 1000,\n",
      "            \"max\": 10000,\n",
      "            \"margin\": 5,\n",
      "            \"currency\": \"USD\"\n",
      "        },\n",
      "        {\n",
      "            \"min\": 10000,\n",
      "            \"max\": 15000,\n",
      "            \"margin\": 5,\n",
      "            \"currency\": \"USD\"\n",
      "        },\n",
      "        {\n",
      "            \"min\": 15000,\n",
      "            \"max\": null,\n",
      "            \"margin\": 15,\n",
      "            \"currency\": \"USD\"\n",
      "        }\n",
      "    ],\n",
      "    \"marginFactor\": 5,\n",
      "    \"marginFactorUnit\": \"PERCENTAGE\",\n",
      "    \"slippageFactor\": {\n",
      "        \"unit\": \"pct\",\n",
      "        \"value\": 50.0\n",
      "    },\n",
      "    \"limitedRiskPremium\": {\n",
      "        \"value\": 0.6,\n",
      "        \"unit\": \"POINTS\"\n",
      "    },\n",
      "    \"openingHours\": null,\n",
      "    \"expiryDetails\": {\n",
      "        \"lastDealingDate\": \"2022-07-26T17:30\",\n",
      "        \"settlementInfo\": \"Settles based on the official closing price of the Gold futures contract as reported by COMEX +/- IG dealing spread.\"\n",
      "    },\n",
      "    \"rolloverDetails\": {\n",
      "        \"lastRolloverTime\": \"2022-07-26T17:15\",\n",
      "        \"rolloverInfo\": \"Usually, initial position closed at official closing level of day before last dealing day +/- closing spread; new position in next contract opened at official closing level of the new contract from same day, +/- opening spread.\"\n",
      "    },\n",
      "    \"newsCode\": \"GOL\",\n",
      "    \"chartCode\": \"GOLD\",\n",
      "    \"country\": null,\n",
      "    \"valueOfOnePip\": null,\n",
      "    \"onePipMeans\": null,\n",
      "    \"contractSize\": null,\n",
      "    \"specialInfo\": [\n",
      "        \"DEFAULT KNOCK OUT LEVEL DISTANCE\",\n",
      "        \"MAX KNOCK OUT LEVEL DISTANCE\"\n",
      "    ]\n",
      "}\n"
     ]
    }
   ],
   "source": [
    "market = ig_service.fetch_market_by_epic(GOLD_EPIC)\n",
    "print(f\"Keys: {list(market.keys())}\")\n",
    "print(json.dumps(market.instrument,indent=4))"
   ]
  },
  {
   "cell_type": "code",
   "execution_count": 327,
   "metadata": {},
   "outputs": [
    {
     "name": "stdout",
     "output_type": "stream",
     "text": [
      "{\n",
      "    \"minStepDistance\": {\n",
      "        \"unit\": \"POINTS\",\n",
      "        \"value\": 1.0\n",
      "    },\n",
      "    \"minDealSize\": {\n",
      "        \"unit\": \"POINTS\",\n",
      "        \"value\": 0.5\n",
      "    },\n",
      "    \"minControlledRiskStopDistance\": {\n",
      "        \"unit\": \"POINTS\",\n",
      "        \"value\": 2.0\n",
      "    },\n",
      "    \"minNormalStopOrLimitDistance\": {\n",
      "        \"unit\": \"POINTS\",\n",
      "        \"value\": 1.0\n",
      "    },\n",
      "    \"maxStopOrLimitDistance\": {\n",
      "        \"unit\": \"PERCENTAGE\",\n",
      "        \"value\": 75.0\n",
      "    },\n",
      "    \"controlledRiskSpacing\": {\n",
      "        \"unit\": \"POINTS\",\n",
      "        \"value\": 3.0\n",
      "    },\n",
      "    \"marketOrderPreference\": \"AVAILABLE_DEFAULT_OFF\",\n",
      "    \"trailingStopsPreference\": \"AVAILABLE\"\n",
      "}\n"
     ]
    }
   ],
   "source": [
    "print(json.dumps(market.dealingRules,indent=4))"
   ]
  },
  {
   "cell_type": "code",
   "execution_count": 328,
   "metadata": {},
   "outputs": [
    {
     "name": "stdout",
     "output_type": "stream",
     "text": [
      "{\n",
      "    \"marketStatus\": \"TRADEABLE\",\n",
      "    \"netChange\": 1,\n",
      "    \"percentageChange\": 0.05,\n",
      "    \"updateTime\": \"17:13:02\",\n",
      "    \"delayTime\": 0,\n",
      "    \"bid\": 1858.4,\n",
      "    \"offer\": 1859.0,\n",
      "    \"high\": 1868.1,\n",
      "    \"low\": 1850.2,\n",
      "    \"binaryOdds\": null,\n",
      "    \"decimalPlacesFactor\": 1,\n",
      "    \"scalingFactor\": 1,\n",
      "    \"controlledRiskExtraSpread\": 0.3\n",
      "}\n"
     ]
    }
   ],
   "source": [
    "print(json.dumps(market.snapshot,indent=4))"
   ]
  },
  {
   "cell_type": "code",
   "execution_count": 330,
   "metadata": {},
   "outputs": [
    {
     "name": "stdout",
     "output_type": "stream",
     "text": [
      "Keys: ['prices', 'instrumentType', 'metadata']\n",
      "COMMODITIES\n",
      "(157, 13)\n"
     ]
    },
    {
     "data": {
      "text/html": [
       "<div>\n",
       "<style scoped>\n",
       "    .dataframe tbody tr th:only-of-type {\n",
       "        vertical-align: middle;\n",
       "    }\n",
       "\n",
       "    .dataframe tbody tr th {\n",
       "        vertical-align: top;\n",
       "    }\n",
       "\n",
       "    .dataframe thead tr th {\n",
       "        text-align: left;\n",
       "    }\n",
       "\n",
       "    .dataframe thead tr:last-of-type th {\n",
       "        text-align: right;\n",
       "    }\n",
       "</style>\n",
       "<table border=\"1\" class=\"dataframe\">\n",
       "  <thead>\n",
       "    <tr>\n",
       "      <th></th>\n",
       "      <th colspan=\"4\" halign=\"left\">bid</th>\n",
       "      <th colspan=\"4\" halign=\"left\">ask</th>\n",
       "      <th colspan=\"5\" halign=\"left\">last</th>\n",
       "    </tr>\n",
       "    <tr>\n",
       "      <th></th>\n",
       "      <th>Open</th>\n",
       "      <th>High</th>\n",
       "      <th>Low</th>\n",
       "      <th>Close</th>\n",
       "      <th>Open</th>\n",
       "      <th>High</th>\n",
       "      <th>Low</th>\n",
       "      <th>Close</th>\n",
       "      <th>Open</th>\n",
       "      <th>High</th>\n",
       "      <th>Low</th>\n",
       "      <th>Close</th>\n",
       "      <th>Volume</th>\n",
       "    </tr>\n",
       "    <tr>\n",
       "      <th>DateTime</th>\n",
       "      <th></th>\n",
       "      <th></th>\n",
       "      <th></th>\n",
       "      <th></th>\n",
       "      <th></th>\n",
       "      <th></th>\n",
       "      <th></th>\n",
       "      <th></th>\n",
       "      <th></th>\n",
       "      <th></th>\n",
       "      <th></th>\n",
       "      <th></th>\n",
       "      <th></th>\n",
       "    </tr>\n",
       "  </thead>\n",
       "  <tbody>\n",
       "    <tr>\n",
       "      <th>2022-05-20 00:00:00</th>\n",
       "      <td>1846.6</td>\n",
       "      <td>1849.3</td>\n",
       "      <td>1846.2</td>\n",
       "      <td>1846.8</td>\n",
       "      <td>1847.2</td>\n",
       "      <td>1849.9</td>\n",
       "      <td>1846.8</td>\n",
       "      <td>1847.4</td>\n",
       "      <td>NaN</td>\n",
       "      <td>NaN</td>\n",
       "      <td>NaN</td>\n",
       "      <td>NaN</td>\n",
       "      <td>52</td>\n",
       "    </tr>\n",
       "    <tr>\n",
       "      <th>2022-05-20 01:00:00</th>\n",
       "      <td>1846.9</td>\n",
       "      <td>1848.1</td>\n",
       "      <td>1844.8</td>\n",
       "      <td>1846.1</td>\n",
       "      <td>1847.5</td>\n",
       "      <td>1848.7</td>\n",
       "      <td>1845.4</td>\n",
       "      <td>1846.7</td>\n",
       "      <td>NaN</td>\n",
       "      <td>NaN</td>\n",
       "      <td>NaN</td>\n",
       "      <td>NaN</td>\n",
       "      <td>87</td>\n",
       "    </tr>\n",
       "    <tr>\n",
       "      <th>2022-05-20 02:00:00</th>\n",
       "      <td>1846.2</td>\n",
       "      <td>1846.9</td>\n",
       "      <td>1842.3</td>\n",
       "      <td>1842.8</td>\n",
       "      <td>1846.8</td>\n",
       "      <td>1847.5</td>\n",
       "      <td>1842.9</td>\n",
       "      <td>1843.4</td>\n",
       "      <td>NaN</td>\n",
       "      <td>NaN</td>\n",
       "      <td>NaN</td>\n",
       "      <td>NaN</td>\n",
       "      <td>159</td>\n",
       "    </tr>\n",
       "  </tbody>\n",
       "</table>\n",
       "</div>"
      ],
      "text/plain": [
       "                        bid                             ask                  \\\n",
       "                       Open    High     Low   Close    Open    High     Low   \n",
       "DateTime                                                                      \n",
       "2022-05-20 00:00:00  1846.6  1849.3  1846.2  1846.8  1847.2  1849.9  1846.8   \n",
       "2022-05-20 01:00:00  1846.9  1848.1  1844.8  1846.1  1847.5  1848.7  1845.4   \n",
       "2022-05-20 02:00:00  1846.2  1846.9  1842.3  1842.8  1846.8  1847.5  1842.9   \n",
       "\n",
       "                            last                        \n",
       "                      Close Open High Low Close Volume  \n",
       "DateTime                                                \n",
       "2022-05-20 00:00:00  1847.4  NaN  NaN NaN   NaN     52  \n",
       "2022-05-20 01:00:00  1846.7  NaN  NaN NaN   NaN     87  \n",
       "2022-05-20 02:00:00  1843.4  NaN  NaN NaN   NaN    159  "
      ]
     },
     "execution_count": 330,
     "metadata": {},
     "output_type": "execute_result"
    }
   ],
   "source": [
    "# see from pandas.tseries.frequencies import to_offset\n",
    "# resolution = '1Min'\n",
    "result = ig_service.fetch_historical_prices_by_epic(\n",
    "    epic=GOLD_EPIC, start_date=STARTDATE, end_date=ENDDATE, resolution=RESOLUTION\n",
    ")\n",
    "print(f\"Keys: {list(result.keys())}\")\n",
    "print(result[\"instrumentType\"])\n",
    "prices_raw = result[\"prices\"]\n",
    "print(prices_raw.shape)\n",
    "prices_raw.head(3)\n"
   ]
  },
  {
   "cell_type": "code",
   "execution_count": 349,
   "metadata": {},
   "outputs": [
    {
     "data": {
      "text/html": [
       "<div>\n",
       "<style scoped>\n",
       "    .dataframe tbody tr th:only-of-type {\n",
       "        vertical-align: middle;\n",
       "    }\n",
       "\n",
       "    .dataframe tbody tr th {\n",
       "        vertical-align: top;\n",
       "    }\n",
       "\n",
       "    .dataframe thead th {\n",
       "        text-align: right;\n",
       "    }\n",
       "</style>\n",
       "<table border=\"1\" class=\"dataframe\">\n",
       "  <thead>\n",
       "    <tr style=\"text-align: right;\">\n",
       "      <th></th>\n",
       "      <th>DateTime</th>\n",
       "      <th>bid_open</th>\n",
       "      <th>bid_high</th>\n",
       "      <th>bid_low</th>\n",
       "      <th>bid_close</th>\n",
       "      <th>ask_open</th>\n",
       "      <th>ask_high</th>\n",
       "      <th>ask_low</th>\n",
       "      <th>ask_close</th>\n",
       "      <th>last_open</th>\n",
       "      <th>last_high</th>\n",
       "      <th>last_low</th>\n",
       "      <th>last_close</th>\n",
       "      <th>last_volume</th>\n",
       "    </tr>\n",
       "  </thead>\n",
       "  <tbody>\n",
       "    <tr>\n",
       "      <th>0</th>\n",
       "      <td>2022-05-20 00:00:00</td>\n",
       "      <td>1846.6</td>\n",
       "      <td>1849.3</td>\n",
       "      <td>1846.2</td>\n",
       "      <td>1846.8</td>\n",
       "      <td>1847.2</td>\n",
       "      <td>1849.9</td>\n",
       "      <td>1846.8</td>\n",
       "      <td>1847.4</td>\n",
       "      <td>NaN</td>\n",
       "      <td>NaN</td>\n",
       "      <td>NaN</td>\n",
       "      <td>NaN</td>\n",
       "      <td>52</td>\n",
       "    </tr>\n",
       "    <tr>\n",
       "      <th>1</th>\n",
       "      <td>2022-05-20 01:00:00</td>\n",
       "      <td>1846.9</td>\n",
       "      <td>1848.1</td>\n",
       "      <td>1844.8</td>\n",
       "      <td>1846.1</td>\n",
       "      <td>1847.5</td>\n",
       "      <td>1848.7</td>\n",
       "      <td>1845.4</td>\n",
       "      <td>1846.7</td>\n",
       "      <td>NaN</td>\n",
       "      <td>NaN</td>\n",
       "      <td>NaN</td>\n",
       "      <td>NaN</td>\n",
       "      <td>87</td>\n",
       "    </tr>\n",
       "    <tr>\n",
       "      <th>2</th>\n",
       "      <td>2022-05-20 02:00:00</td>\n",
       "      <td>1846.2</td>\n",
       "      <td>1846.9</td>\n",
       "      <td>1842.3</td>\n",
       "      <td>1842.8</td>\n",
       "      <td>1846.8</td>\n",
       "      <td>1847.5</td>\n",
       "      <td>1842.9</td>\n",
       "      <td>1843.4</td>\n",
       "      <td>NaN</td>\n",
       "      <td>NaN</td>\n",
       "      <td>NaN</td>\n",
       "      <td>NaN</td>\n",
       "      <td>159</td>\n",
       "    </tr>\n",
       "  </tbody>\n",
       "</table>\n",
       "</div>"
      ],
      "text/plain": [
       "             DateTime  bid_open  bid_high  bid_low  bid_close  ask_open  \\\n",
       "0 2022-05-20 00:00:00    1846.6    1849.3   1846.2     1846.8    1847.2   \n",
       "1 2022-05-20 01:00:00    1846.9    1848.1   1844.8     1846.1    1847.5   \n",
       "2 2022-05-20 02:00:00    1846.2    1846.9   1842.3     1842.8    1846.8   \n",
       "\n",
       "   ask_high  ask_low  ask_close  last_open  last_high  last_low  last_close  \\\n",
       "0    1849.9   1846.8     1847.4        NaN        NaN       NaN         NaN   \n",
       "1    1848.7   1845.4     1846.7        NaN        NaN       NaN         NaN   \n",
       "2    1847.5   1842.9     1843.4        NaN        NaN       NaN         NaN   \n",
       "\n",
       "   last_volume  \n",
       "0           52  \n",
       "1           87  \n",
       "2          159  "
      ]
     },
     "execution_count": 349,
     "metadata": {},
     "output_type": "execute_result"
    }
   ],
   "source": [
    "def standardise_column_names(df):\n",
    "    df_new = df.copy()\n",
    "    df_new.columns = [\"_\".join(i).lower() for i in df_new.columns]\n",
    "    return df_new\n",
    "\n",
    "\n",
    "\n",
    "prices = standardise_column_names( prices_raw)\n",
    "prices  = prices.reset_index()\n",
    "prices.head(3)"
   ]
  },
  {
   "cell_type": "code",
   "execution_count": 332,
   "metadata": {},
   "outputs": [
    {
     "data": {
      "text/plain": [
       "189"
      ]
     },
     "execution_count": 332,
     "metadata": {},
     "output_type": "execute_result"
    }
   ],
   "source": [
    "def to_hours(td):\n",
    "    \"Gives the number of hours diffreence between two timedeltas\"\n",
    "    return td.days*24+ td.seconds//3600\n",
    "to_hours(prices.DateTime[136] - prices.DateTime[0])"
   ]
  },
  {
   "cell_type": "code",
   "execution_count": 352,
   "metadata": {},
   "outputs": [
    {
     "data": {
      "text/html": [
       "<div>\n",
       "<style scoped>\n",
       "    .dataframe tbody tr th:only-of-type {\n",
       "        vertical-align: middle;\n",
       "    }\n",
       "\n",
       "    .dataframe tbody tr th {\n",
       "        vertical-align: top;\n",
       "    }\n",
       "\n",
       "    .dataframe thead th {\n",
       "        text-align: right;\n",
       "    }\n",
       "</style>\n",
       "<table border=\"1\" class=\"dataframe\">\n",
       "  <thead>\n",
       "    <tr style=\"text-align: right;\">\n",
       "      <th></th>\n",
       "      <th>DateTime</th>\n",
       "      <th>bid_open</th>\n",
       "      <th>bid_high</th>\n",
       "      <th>bid_low</th>\n",
       "      <th>bid_close</th>\n",
       "      <th>ask_open</th>\n",
       "      <th>ask_high</th>\n",
       "      <th>ask_low</th>\n",
       "      <th>ask_close</th>\n",
       "      <th>last_open</th>\n",
       "      <th>last_high</th>\n",
       "      <th>last_low</th>\n",
       "      <th>last_close</th>\n",
       "      <th>last_volume</th>\n",
       "      <th>train_test</th>\n",
       "      <th>days_since</th>\n",
       "    </tr>\n",
       "  </thead>\n",
       "  <tbody>\n",
       "    <tr>\n",
       "      <th>0</th>\n",
       "      <td>2022-05-20 00:00:00</td>\n",
       "      <td>1846.6</td>\n",
       "      <td>1849.3</td>\n",
       "      <td>1846.2</td>\n",
       "      <td>1846.8</td>\n",
       "      <td>1847.2</td>\n",
       "      <td>1849.9</td>\n",
       "      <td>1846.8</td>\n",
       "      <td>1847.4</td>\n",
       "      <td>NaN</td>\n",
       "      <td>NaN</td>\n",
       "      <td>NaN</td>\n",
       "      <td>NaN</td>\n",
       "      <td>52</td>\n",
       "      <td>train</td>\n",
       "      <td>0</td>\n",
       "    </tr>\n",
       "    <tr>\n",
       "      <th>1</th>\n",
       "      <td>2022-05-20 01:00:00</td>\n",
       "      <td>1846.9</td>\n",
       "      <td>1848.1</td>\n",
       "      <td>1844.8</td>\n",
       "      <td>1846.1</td>\n",
       "      <td>1847.5</td>\n",
       "      <td>1848.7</td>\n",
       "      <td>1845.4</td>\n",
       "      <td>1846.7</td>\n",
       "      <td>NaN</td>\n",
       "      <td>NaN</td>\n",
       "      <td>NaN</td>\n",
       "      <td>NaN</td>\n",
       "      <td>87</td>\n",
       "      <td>train</td>\n",
       "      <td>1</td>\n",
       "    </tr>\n",
       "    <tr>\n",
       "      <th>2</th>\n",
       "      <td>2022-05-20 02:00:00</td>\n",
       "      <td>1846.2</td>\n",
       "      <td>1846.9</td>\n",
       "      <td>1842.3</td>\n",
       "      <td>1842.8</td>\n",
       "      <td>1846.8</td>\n",
       "      <td>1847.5</td>\n",
       "      <td>1842.9</td>\n",
       "      <td>1843.4</td>\n",
       "      <td>NaN</td>\n",
       "      <td>NaN</td>\n",
       "      <td>NaN</td>\n",
       "      <td>NaN</td>\n",
       "      <td>159</td>\n",
       "      <td>train</td>\n",
       "      <td>2</td>\n",
       "    </tr>\n",
       "    <tr>\n",
       "      <th>3</th>\n",
       "      <td>2022-05-20 03:00:00</td>\n",
       "      <td>1842.9</td>\n",
       "      <td>1843.8</td>\n",
       "      <td>1841.0</td>\n",
       "      <td>1843.3</td>\n",
       "      <td>1843.5</td>\n",
       "      <td>1844.4</td>\n",
       "      <td>1841.6</td>\n",
       "      <td>1843.9</td>\n",
       "      <td>NaN</td>\n",
       "      <td>NaN</td>\n",
       "      <td>NaN</td>\n",
       "      <td>NaN</td>\n",
       "      <td>120</td>\n",
       "      <td>train</td>\n",
       "      <td>3</td>\n",
       "    </tr>\n",
       "    <tr>\n",
       "      <th>4</th>\n",
       "      <td>2022-05-20 04:00:00</td>\n",
       "      <td>1843.4</td>\n",
       "      <td>1846.3</td>\n",
       "      <td>1843.4</td>\n",
       "      <td>1846.3</td>\n",
       "      <td>1844.0</td>\n",
       "      <td>1846.9</td>\n",
       "      <td>1844.0</td>\n",
       "      <td>1846.9</td>\n",
       "      <td>NaN</td>\n",
       "      <td>NaN</td>\n",
       "      <td>NaN</td>\n",
       "      <td>NaN</td>\n",
       "      <td>95</td>\n",
       "      <td>train</td>\n",
       "      <td>4</td>\n",
       "    </tr>\n",
       "    <tr>\n",
       "      <th>...</th>\n",
       "      <td>...</td>\n",
       "      <td>...</td>\n",
       "      <td>...</td>\n",
       "      <td>...</td>\n",
       "      <td>...</td>\n",
       "      <td>...</td>\n",
       "      <td>...</td>\n",
       "      <td>...</td>\n",
       "      <td>...</td>\n",
       "      <td>...</td>\n",
       "      <td>...</td>\n",
       "      <td>...</td>\n",
       "      <td>...</td>\n",
       "      <td>...</td>\n",
       "      <td>...</td>\n",
       "      <td>...</td>\n",
       "    </tr>\n",
       "    <tr>\n",
       "      <th>152</th>\n",
       "      <td>2022-05-30 14:00:00</td>\n",
       "      <td>1858.4</td>\n",
       "      <td>1864.2</td>\n",
       "      <td>1858.1</td>\n",
       "      <td>1862.2</td>\n",
       "      <td>1859.0</td>\n",
       "      <td>1864.8</td>\n",
       "      <td>1858.7</td>\n",
       "      <td>1862.8</td>\n",
       "      <td>NaN</td>\n",
       "      <td>NaN</td>\n",
       "      <td>NaN</td>\n",
       "      <td>NaN</td>\n",
       "      <td>3949</td>\n",
       "      <td>train</td>\n",
       "      <td>254</td>\n",
       "    </tr>\n",
       "    <tr>\n",
       "      <th>153</th>\n",
       "      <td>2022-05-30 15:00:00</td>\n",
       "      <td>1862.3</td>\n",
       "      <td>1862.3</td>\n",
       "      <td>1857.5</td>\n",
       "      <td>1861.8</td>\n",
       "      <td>1862.9</td>\n",
       "      <td>1862.9</td>\n",
       "      <td>1858.1</td>\n",
       "      <td>1862.4</td>\n",
       "      <td>NaN</td>\n",
       "      <td>NaN</td>\n",
       "      <td>NaN</td>\n",
       "      <td>NaN</td>\n",
       "      <td>3764</td>\n",
       "      <td>train</td>\n",
       "      <td>255</td>\n",
       "    </tr>\n",
       "    <tr>\n",
       "      <th>154</th>\n",
       "      <td>2022-05-30 16:00:00</td>\n",
       "      <td>1861.9</td>\n",
       "      <td>1861.9</td>\n",
       "      <td>1858.1</td>\n",
       "      <td>1858.9</td>\n",
       "      <td>1862.5</td>\n",
       "      <td>1862.5</td>\n",
       "      <td>1858.7</td>\n",
       "      <td>1859.5</td>\n",
       "      <td>NaN</td>\n",
       "      <td>NaN</td>\n",
       "      <td>NaN</td>\n",
       "      <td>NaN</td>\n",
       "      <td>1728</td>\n",
       "      <td>train</td>\n",
       "      <td>256</td>\n",
       "    </tr>\n",
       "    <tr>\n",
       "      <th>155</th>\n",
       "      <td>2022-05-30 17:00:00</td>\n",
       "      <td>1858.8</td>\n",
       "      <td>1859.9</td>\n",
       "      <td>1858.4</td>\n",
       "      <td>1859.2</td>\n",
       "      <td>1859.4</td>\n",
       "      <td>1860.5</td>\n",
       "      <td>1859.0</td>\n",
       "      <td>1859.8</td>\n",
       "      <td>NaN</td>\n",
       "      <td>NaN</td>\n",
       "      <td>NaN</td>\n",
       "      <td>NaN</td>\n",
       "      <td>1138</td>\n",
       "      <td>train</td>\n",
       "      <td>257</td>\n",
       "    </tr>\n",
       "    <tr>\n",
       "      <th>156</th>\n",
       "      <td>2022-05-30 18:00:00</td>\n",
       "      <td>1859.0</td>\n",
       "      <td>1859.5</td>\n",
       "      <td>1858.4</td>\n",
       "      <td>1858.4</td>\n",
       "      <td>1859.6</td>\n",
       "      <td>1860.1</td>\n",
       "      <td>1859.0</td>\n",
       "      <td>1859.0</td>\n",
       "      <td>NaN</td>\n",
       "      <td>NaN</td>\n",
       "      <td>NaN</td>\n",
       "      <td>NaN</td>\n",
       "      <td>154</td>\n",
       "      <td>train</td>\n",
       "      <td>258</td>\n",
       "    </tr>\n",
       "  </tbody>\n",
       "</table>\n",
       "<p>157 rows × 16 columns</p>\n",
       "</div>"
      ],
      "text/plain": [
       "               DateTime  bid_open  bid_high  bid_low  bid_close  ask_open  \\\n",
       "0   2022-05-20 00:00:00    1846.6    1849.3   1846.2     1846.8    1847.2   \n",
       "1   2022-05-20 01:00:00    1846.9    1848.1   1844.8     1846.1    1847.5   \n",
       "2   2022-05-20 02:00:00    1846.2    1846.9   1842.3     1842.8    1846.8   \n",
       "3   2022-05-20 03:00:00    1842.9    1843.8   1841.0     1843.3    1843.5   \n",
       "4   2022-05-20 04:00:00    1843.4    1846.3   1843.4     1846.3    1844.0   \n",
       "..                  ...       ...       ...      ...        ...       ...   \n",
       "152 2022-05-30 14:00:00    1858.4    1864.2   1858.1     1862.2    1859.0   \n",
       "153 2022-05-30 15:00:00    1862.3    1862.3   1857.5     1861.8    1862.9   \n",
       "154 2022-05-30 16:00:00    1861.9    1861.9   1858.1     1858.9    1862.5   \n",
       "155 2022-05-30 17:00:00    1858.8    1859.9   1858.4     1859.2    1859.4   \n",
       "156 2022-05-30 18:00:00    1859.0    1859.5   1858.4     1858.4    1859.6   \n",
       "\n",
       "     ask_high  ask_low  ask_close  last_open  last_high  last_low  last_close  \\\n",
       "0      1849.9   1846.8     1847.4        NaN        NaN       NaN         NaN   \n",
       "1      1848.7   1845.4     1846.7        NaN        NaN       NaN         NaN   \n",
       "2      1847.5   1842.9     1843.4        NaN        NaN       NaN         NaN   \n",
       "3      1844.4   1841.6     1843.9        NaN        NaN       NaN         NaN   \n",
       "4      1846.9   1844.0     1846.9        NaN        NaN       NaN         NaN   \n",
       "..        ...      ...        ...        ...        ...       ...         ...   \n",
       "152    1864.8   1858.7     1862.8        NaN        NaN       NaN         NaN   \n",
       "153    1862.9   1858.1     1862.4        NaN        NaN       NaN         NaN   \n",
       "154    1862.5   1858.7     1859.5        NaN        NaN       NaN         NaN   \n",
       "155    1860.5   1859.0     1859.8        NaN        NaN       NaN         NaN   \n",
       "156    1860.1   1859.0     1859.0        NaN        NaN       NaN         NaN   \n",
       "\n",
       "     last_volume train_test  days_since  \n",
       "0             52      train           0  \n",
       "1             87      train           1  \n",
       "2            159      train           2  \n",
       "3            120      train           3  \n",
       "4             95      train           4  \n",
       "..           ...        ...         ...  \n",
       "152         3949      train         254  \n",
       "153         3764      train         255  \n",
       "154         1728      train         256  \n",
       "155         1138      train         257  \n",
       "156          154      train         258  \n",
       "\n",
       "[157 rows x 16 columns]"
      ]
     },
     "execution_count": 352,
     "metadata": {},
     "output_type": "execute_result"
    }
   ],
   "source": [
    "prices = prices.assign(\n",
    "    days_since=lambda df: list(map(lambda x: to_hours(x), (df[\"DateTime\"] - df[\"DateTime\"][0])))\n",
    ")\n",
    "prices"
   ]
  },
  {
   "cell_type": "code",
   "execution_count": 353,
   "metadata": {},
   "outputs": [
    {
     "data": {
      "text/plain": [
       "train    157\n",
       "Name: train_test, dtype: int64"
      ]
     },
     "execution_count": 353,
     "metadata": {},
     "output_type": "execute_result"
    }
   ],
   "source": [
    "test_size = 0\n",
    "prices = prices.assign(\n",
    "    train_test=[\"train\"] * (len(prices) - test_size) + [\"test\"] * test_size\n",
    ")\n",
    "prices.train_test.value_counts()"
   ]
  },
  {
   "cell_type": "code",
   "execution_count": 354,
   "metadata": {},
   "outputs": [],
   "source": [
    "from sklearn.linear_model import LinearRegression\n",
    "train = prices.query(\"train_test=='train'\")\n",
    "test = prices.query(\"train_test=='test'\")\n",
    "X_train = train.days_since.to_numpy().reshape(-1,1)\n",
    "X_test = test.days_since.to_numpy().reshape(-1,1)\n",
    "y_train = train.bid_open\n",
    "y_test = test.bid_open\n"
   ]
  },
  {
   "cell_type": "code",
   "execution_count": 355,
   "metadata": {},
   "outputs": [],
   "source": [
    "from sklearn.preprocessing import PolynomialFeatures\n",
    "from sklearn.pipeline import Pipeline\n",
    "\n",
    "linearModpipeline = Pipeline(\n",
    "    [(\"poly\", PolynomialFeatures(degree=3))]\n",
    "        )\n",
    "\n",
    "linearModpipeline.fit(X_train)\n",
    "X_train_preprocessed = linearModpipeline.transform(X_train)\n"
   ]
  },
  {
   "cell_type": "code",
   "execution_count": 356,
   "metadata": {},
   "outputs": [
    {
     "data": {
      "text/plain": [
       "LinearRegression()"
      ]
     },
     "execution_count": 356,
     "metadata": {},
     "output_type": "execute_result"
    }
   ],
   "source": [
    "linearMod = LinearRegression(fit_intercept=True)\n",
    "linearMod.fit(X_train_preprocessed,y_train)"
   ]
  },
  {
   "cell_type": "code",
   "execution_count": 367,
   "metadata": {},
   "outputs": [
    {
     "data": {
      "text/plain": [
       "array([[259]])"
      ]
     },
     "execution_count": 367,
     "metadata": {},
     "output_type": "execute_result"
    }
   ],
   "source": [
    "(X_train[-1]+1).reshape(-1,1)\n"
   ]
  },
  {
   "cell_type": "code",
   "execution_count": 368,
   "metadata": {},
   "outputs": [
    {
     "data": {
      "text/plain": [
       "array([1862.14242508])"
      ]
     },
     "execution_count": 368,
     "metadata": {},
     "output_type": "execute_result"
    }
   ],
   "source": [
    "y_predictions = linearMod.predict(linearModpipeline.transform((X_train[-1]+1).reshape(-1,1)))\n",
    "y_predictions"
   ]
  },
  {
   "cell_type": "code",
   "execution_count": 339,
   "metadata": {},
   "outputs": [],
   "source": [
    "from sklearn.metrics import mean_squared_error\n"
   ]
  },
  {
   "cell_type": "code",
   "execution_count": 348,
   "metadata": {},
   "outputs": [
    {
     "data": {
      "text/html": [
       "<div>\n",
       "<style scoped>\n",
       "    .dataframe tbody tr th:only-of-type {\n",
       "        vertical-align: middle;\n",
       "    }\n",
       "\n",
       "    .dataframe tbody tr th {\n",
       "        vertical-align: top;\n",
       "    }\n",
       "\n",
       "    .dataframe thead th {\n",
       "        text-align: right;\n",
       "    }\n",
       "</style>\n",
       "<table border=\"1\" class=\"dataframe\">\n",
       "  <thead>\n",
       "    <tr style=\"text-align: right;\">\n",
       "      <th></th>\n",
       "      <th>epic</th>\n",
       "      <th>size_signed</th>\n",
       "    </tr>\n",
       "  </thead>\n",
       "  <tbody>\n",
       "    <tr>\n",
       "      <th>0</th>\n",
       "      <td>MT.D.GC.Month2.IP</td>\n",
       "      <td>0.07</td>\n",
       "    </tr>\n",
       "  </tbody>\n",
       "</table>\n",
       "</div>"
      ],
      "text/plain": [
       "                epic  size_signed\n",
       "0  MT.D.GC.Month2.IP         0.07"
      ]
     },
     "execution_count": 348,
     "metadata": {},
     "output_type": "execute_result"
    }
   ],
   "source": [
    "# open_positions = ig_service.fetch_open_positions()\n",
    "# open_positions = (\n",
    "#     open_positions.assign(\n",
    "#         direction_signed=lambda df: np.where(df.direction == \"SELL\", -1, 1),\n",
    "#         size_signed=lambda df: df['size'] * df.direction_signed\n",
    "#     )\n",
    "# )\n",
    "# open_positions_totals = open_positions.groupby('epic',as_index=False)['size_signed'].sum()\n",
    "# open_positions_totals\n",
    "\n",
    "def get_open_position_totals():\n",
    "    open_positions = ig_service.fetch_open_positions()\n",
    "    \n",
    "    open_positions = (\n",
    "    open_positions.assign(\n",
    "        direction_signed=lambda df: np.where(df.direction == \"SELL\", -1, 1),\n",
    "        size_signed=lambda df: df['size'] * df.direction_signed\n",
    "    )\n",
    ")\n",
    "    open_positions_totals = open_positions.groupby('epic',as_index=False)['size_signed'].sum()\n",
    "    return open_positions_totals   \n",
    "get_open_position_totals()\n"
   ]
  },
  {
   "cell_type": "code",
   "execution_count": 345,
   "metadata": {},
   "outputs": [
    {
     "name": "stdout",
     "output_type": "stream",
     "text": [
      "0.0668012063453898\n",
      "Size wanted: 0.07\n",
      "Toal size: -0.54\n",
      "change needed: 0.61\n"
     ]
    }
   ],
   "source": [
    "downscaling= 50\n",
    "total_size = open_positions_totals[open_positions_totals.epic == GOLD_EPIC]['size_signed']\n",
    "total_size = float(total_size)\n",
    "size_wanted =  ( y_predictions[0]-y_train.iloc[-1] )/downscaling\n",
    "print(size_wanted)\n",
    "change_needed = (size_wanted-total_size).round(2)\n",
    "print(f\"Size wanted: {size_wanted.round(2)}\")\n",
    "print(f\"Toal size: {total_size}\")\n",
    "print(f\"change needed: {change_needed.round(2)}\")\n",
    "\n",
    "\n",
    "    "
   ]
  },
  {
   "cell_type": "code",
   "execution_count": 346,
   "metadata": {},
   "outputs": [
    {
     "name": "stdout",
     "output_type": "stream",
     "text": [
      "We're buying!\n",
      "{'currency_code': 'GBP', 'direction': 'BUY', 'epic': 'MT.D.GC.Month2.IP', 'order_type': 'MARKET', 'expiry': 'AUG-22', 'force_open': 'false', 'guaranteed_stop': 'false', 'size': 0.5, 'level': None, 'limit_distance': None, 'limit_level': None, 'quote_id': None, 'stop_level': None, 'stop_distance': None, 'trailing_stop': None, 'trailing_stop_increment': None}\n"
     ]
    }
   ],
   "source": [
    "if change_needed> 0 :\n",
    "    print(\"We're buying!\")\n",
    "    print(position_info(GOLD_EPIC,direction = 'BUY'))\n",
    "    ig_service.create_open_position(**position_info(GOLD_EPIC,size= abs(change_needed),direction = 'BUY'))\n",
    "if change_needed < 0:\n",
    "    print(\"We're selling!\")\n",
    "    print(position_info(GOLD_EPIC,direction = 'SELL'))\n",
    "    res = ig_service.create_open_position(**position_info(GOLD_EPIC,direction = 'SELL',size = abs(change_needed)))\n",
    "    print(res)\n",
    "if change_needed==0:\n",
    "    print(\"No trade needed\")\n"
   ]
  },
  {
   "cell_type": "code",
   "execution_count": 342,
   "metadata": {},
   "outputs": [
    {
     "data": {
      "image/png": "[encoded data removed]",
      "text/plain": [
       "<Figure size 1000x300 with 1 Axes>"
      ]
     },
     "metadata": {},
     "output_type": "display_data"
    },
    {
     "data": {
      "text/plain": [
       "<ggplot: (316604624)>"
      ]
     },
     "execution_count": 342,
     "metadata": {},
     "output_type": "execute_result"
    }
   ],
   "source": [
    "(\n",
    "    ggplot(prices)+\n",
    "    geom_point(aes('days_since','bid_open',color = 'train_test'))+\n",
    "    theme(figure_size = [10,3])+\n",
    "    pn.geom_point(data = test,mapping = aes('days_since',y_predictions))\n",
    ")"
   ]
  },
  {
   "cell_type": "code",
   "execution_count": 61,
   "metadata": {},
   "outputs": [
    {
     "data": {
      "text/plain": [
       "{'date': '2022-05-30T13:07:25.841',\n",
       " 'status': 'CLOSED',\n",
       " 'reason': 'SUCCESS',\n",
       " 'dealStatus': 'ACCEPTED',\n",
       " 'epic': 'IX.D.SPTRD.DAILY.IP',\n",
       " 'expiry': 'DFB',\n",
       " 'dealReference': 'DBPVYBR4N34TYNK',\n",
       " 'dealId': 'DIAAAAJJDY8J2AG',\n",
       " 'affectedDeals': [{'dealId': 'DIAAAAJJDY8J2AG', 'status': 'FULLY_CLOSED'}],\n",
       " 'level': 4183.26,\n",
       " 'size': 0.5,\n",
       " 'direction': 'SELL',\n",
       " 'stopLevel': None,\n",
       " 'limitLevel': None,\n",
       " 'stopDistance': None,\n",
       " 'limitDistance': None,\n",
       " 'guaranteedStop': False,\n",
       " 'trailingStop': False,\n",
       " 'profit': -0.55,\n",
       " 'profitCurrency': 'GBP'}"
      ]
     },
     "execution_count": 61,
     "metadata": {},
     "output_type": "execute_result"
    }
   ],
   "source": [
    "ig_service.create_open_position(**position_info(sandp_epic,direction='SELL'))"
   ]
  },
  {
   "cell_type": "code",
   "execution_count": 266,
   "metadata": {},
   "outputs": [
    {
     "data": {
      "text/html": [
       "<div>\n",
       "<style scoped>\n",
       "    .dataframe tbody tr th:only-of-type {\n",
       "        vertical-align: middle;\n",
       "    }\n",
       "\n",
       "    .dataframe tbody tr th {\n",
       "        vertical-align: top;\n",
       "    }\n",
       "\n",
       "    .dataframe thead th {\n",
       "        text-align: right;\n",
       "    }\n",
       "</style>\n",
       "<table border=\"1\" class=\"dataframe\">\n",
       "  <thead>\n",
       "    <tr style=\"text-align: right;\">\n",
       "      <th></th>\n",
       "      <th>contractSize</th>\n",
       "      <th>createdDate</th>\n",
       "      <th>createdDateUTC</th>\n",
       "      <th>dealId</th>\n",
       "      <th>dealReference</th>\n",
       "      <th>size</th>\n",
       "      <th>direction</th>\n",
       "      <th>limitLevel</th>\n",
       "      <th>level</th>\n",
       "      <th>currency</th>\n",
       "      <th>...</th>\n",
       "      <th>percentageChange</th>\n",
       "      <th>netChange</th>\n",
       "      <th>bid</th>\n",
       "      <th>offer</th>\n",
       "      <th>updateTime</th>\n",
       "      <th>updateTimeUTC</th>\n",
       "      <th>delayTime</th>\n",
       "      <th>streamingPricesAvailable</th>\n",
       "      <th>marketStatus</th>\n",
       "      <th>scalingFactor</th>\n",
       "    </tr>\n",
       "  </thead>\n",
       "  <tbody>\n",
       "    <tr>\n",
       "      <th>0</th>\n",
       "      <td>1.0</td>\n",
       "      <td>2022/05/30 17:03:09:000</td>\n",
       "      <td>2022-05-30T16:03:09</td>\n",
       "      <td>DIAAAAJJFPFRVA6</td>\n",
       "      <td>QJX4DYA7TTYTYNK</td>\n",
       "      <td>0.54</td>\n",
       "      <td>SELL</td>\n",
       "      <td>None</td>\n",
       "      <td>1858.7</td>\n",
       "      <td>GBP</td>\n",
       "      <td>...</td>\n",
       "      <td>0.06</td>\n",
       "      <td>1.2</td>\n",
       "      <td>1858.6</td>\n",
       "      <td>1859.2</td>\n",
       "      <td>17:03:14</td>\n",
       "      <td>16:03:14</td>\n",
       "      <td>0</td>\n",
       "      <td>True</td>\n",
       "      <td>TRADEABLE</td>\n",
       "      <td>1</td>\n",
       "    </tr>\n",
       "  </tbody>\n",
       "</table>\n",
       "<p>1 rows × 32 columns</p>\n",
       "</div>"
      ],
      "text/plain": [
       "   contractSize              createdDate       createdDateUTC  \\\n",
       "0           1.0  2022/05/30 17:03:09:000  2022-05-30T16:03:09   \n",
       "\n",
       "            dealId    dealReference  size direction limitLevel   level  \\\n",
       "0  DIAAAAJJFPFRVA6  QJX4DYA7TTYTYNK  0.54      SELL       None  1858.7   \n",
       "\n",
       "  currency  ...  percentageChange netChange     bid   offer updateTime  \\\n",
       "0      GBP  ...              0.06       1.2  1858.6  1859.2   17:03:14   \n",
       "\n",
       "  updateTimeUTC delayTime streamingPricesAvailable marketStatus  scalingFactor  \n",
       "0      16:03:14         0                     True    TRADEABLE              1  \n",
       "\n",
       "[1 rows x 32 columns]"
      ]
     },
     "execution_count": 266,
     "metadata": {},
     "output_type": "execute_result"
    }
   ],
   "source": [
    "open_positions = ig_service.fetch_open_positions()\n",
    "open_positions"
   ]
  },
  {
   "cell_type": "code",
   "execution_count": 267,
   "metadata": {},
   "outputs": [
    {
     "data": {
      "text/plain": [
       "Index(['contractSize', 'createdDate', 'createdDateUTC', 'dealId',\n",
       "       'dealReference', 'size', 'direction', 'limitLevel', 'level', 'currency',\n",
       "       'controlledRisk', 'stopLevel', 'trailingStep', 'trailingStopDistance',\n",
       "       'limitedRiskPremium', 'instrumentName', 'expiry', 'epic',\n",
       "       'instrumentType', 'lotSize', 'high', 'low', 'percentageChange',\n",
       "       'netChange', 'bid', 'offer', 'updateTime', 'updateTimeUTC', 'delayTime',\n",
       "       'streamingPricesAvailable', 'marketStatus', 'scalingFactor'],\n",
       "      dtype='object')"
      ]
     },
     "execution_count": 267,
     "metadata": {},
     "output_type": "execute_result"
    }
   ],
   "source": [
    "open_positions.columns"
   ]
  },
  {
   "cell_type": "code",
   "execution_count": 269,
   "metadata": {},
   "outputs": [
    {
     "data": {
      "text/html": [
       "<div>\n",
       "<style scoped>\n",
       "    .dataframe tbody tr th:only-of-type {\n",
       "        vertical-align: middle;\n",
       "    }\n",
       "\n",
       "    .dataframe tbody tr th {\n",
       "        vertical-align: top;\n",
       "    }\n",
       "\n",
       "    .dataframe thead th {\n",
       "        text-align: right;\n",
       "    }\n",
       "</style>\n",
       "<table border=\"1\" class=\"dataframe\">\n",
       "  <thead>\n",
       "    <tr style=\"text-align: right;\">\n",
       "      <th></th>\n",
       "      <th>epic</th>\n",
       "      <th>size_signed</th>\n",
       "    </tr>\n",
       "  </thead>\n",
       "  <tbody>\n",
       "    <tr>\n",
       "      <th>0</th>\n",
       "      <td>MT.D.GC.Month2.IP</td>\n",
       "      <td>-0.54</td>\n",
       "    </tr>\n",
       "  </tbody>\n",
       "</table>\n",
       "</div>"
      ],
      "text/plain": [
       "                epic  size_signed\n",
       "0  MT.D.GC.Month2.IP        -0.54"
      ]
     },
     "execution_count": 269,
     "metadata": {},
     "output_type": "execute_result"
    }
   ],
   "source": [
    "open_positions = (\n",
    "    open_positions.assign(\n",
    "        direction_signed=lambda df: np.where(df.direction == \"SELL\", -1, 1),\n",
    "        size_signed=lambda df: df['size'] * df.direction_signed\n",
    "    )\n",
    ")\n",
    "open_positions_totals = open_positions.groupby('epic',as_index=False)['size_signed'].sum()\n",
    "open_positions_totals\n"
   ]
  },
  {
   "cell_type": "code",
   "execution_count": 6,
   "metadata": {},
   "outputs": [
    {
     "data": {
      "text/html": [
       "<div>\n",
       "<style scoped>\n",
       "    .dataframe tbody tr th:only-of-type {\n",
       "        vertical-align: middle;\n",
       "    }\n",
       "\n",
       "    .dataframe tbody tr th {\n",
       "        vertical-align: top;\n",
       "    }\n",
       "\n",
       "    .dataframe thead tr th {\n",
       "        text-align: left;\n",
       "    }\n",
       "\n",
       "    .dataframe thead tr:last-of-type th {\n",
       "        text-align: right;\n",
       "    }\n",
       "</style>\n",
       "<table border=\"1\" class=\"dataframe\">\n",
       "  <thead>\n",
       "    <tr>\n",
       "      <th></th>\n",
       "      <th colspan=\"4\" halign=\"left\">bid</th>\n",
       "      <th colspan=\"4\" halign=\"left\">ask</th>\n",
       "      <th colspan=\"5\" halign=\"left\">last</th>\n",
       "    </tr>\n",
       "    <tr>\n",
       "      <th></th>\n",
       "      <th>Open</th>\n",
       "      <th>High</th>\n",
       "      <th>Low</th>\n",
       "      <th>Close</th>\n",
       "      <th>Open</th>\n",
       "      <th>High</th>\n",
       "      <th>Low</th>\n",
       "      <th>Close</th>\n",
       "      <th>Open</th>\n",
       "      <th>High</th>\n",
       "      <th>Low</th>\n",
       "      <th>Close</th>\n",
       "      <th>Volume</th>\n",
       "    </tr>\n",
       "    <tr>\n",
       "      <th>DateTime</th>\n",
       "      <th></th>\n",
       "      <th></th>\n",
       "      <th></th>\n",
       "      <th></th>\n",
       "      <th></th>\n",
       "      <th></th>\n",
       "      <th></th>\n",
       "      <th></th>\n",
       "      <th></th>\n",
       "      <th></th>\n",
       "      <th></th>\n",
       "      <th></th>\n",
       "      <th></th>\n",
       "    </tr>\n",
       "  </thead>\n",
       "  <tbody>\n",
       "    <tr>\n",
       "      <th>2022-02-01 00:00:00</th>\n",
       "      <td>1797.58</td>\n",
       "      <td>1799.21</td>\n",
       "      <td>1795.52</td>\n",
       "      <td>1796.41</td>\n",
       "      <td>1798.08</td>\n",
       "      <td>1799.71</td>\n",
       "      <td>1795.96</td>\n",
       "      <td>1796.91</td>\n",
       "      <td>NaN</td>\n",
       "      <td>NaN</td>\n",
       "      <td>NaN</td>\n",
       "      <td>NaN</td>\n",
       "      <td>16731</td>\n",
       "    </tr>\n",
       "    <tr>\n",
       "      <th>2022-02-01 04:00:00</th>\n",
       "      <td>1796.42</td>\n",
       "      <td>1804.23</td>\n",
       "      <td>1796.12</td>\n",
       "      <td>1803.97</td>\n",
       "      <td>1796.92</td>\n",
       "      <td>1804.70</td>\n",
       "      <td>1796.62</td>\n",
       "      <td>1804.27</td>\n",
       "      <td>NaN</td>\n",
       "      <td>NaN</td>\n",
       "      <td>NaN</td>\n",
       "      <td>NaN</td>\n",
       "      <td>21791</td>\n",
       "    </tr>\n",
       "    <tr>\n",
       "      <th>2022-02-01 08:00:00</th>\n",
       "      <td>1803.96</td>\n",
       "      <td>1808.21</td>\n",
       "      <td>1801.69</td>\n",
       "      <td>1806.13</td>\n",
       "      <td>1804.26</td>\n",
       "      <td>1808.58</td>\n",
       "      <td>1802.10</td>\n",
       "      <td>1806.43</td>\n",
       "      <td>NaN</td>\n",
       "      <td>NaN</td>\n",
       "      <td>NaN</td>\n",
       "      <td>NaN</td>\n",
       "      <td>28129</td>\n",
       "    </tr>\n",
       "    <tr>\n",
       "      <th>2022-02-01 12:00:00</th>\n",
       "      <td>1806.15</td>\n",
       "      <td>1808.64</td>\n",
       "      <td>1797.59</td>\n",
       "      <td>1804.32</td>\n",
       "      <td>1806.45</td>\n",
       "      <td>1809.14</td>\n",
       "      <td>1798.09</td>\n",
       "      <td>1804.62</td>\n",
       "      <td>NaN</td>\n",
       "      <td>NaN</td>\n",
       "      <td>NaN</td>\n",
       "      <td>NaN</td>\n",
       "      <td>54681</td>\n",
       "    </tr>\n",
       "    <tr>\n",
       "      <th>2022-02-01 16:00:00</th>\n",
       "      <td>1804.31</td>\n",
       "      <td>1807.81</td>\n",
       "      <td>1799.17</td>\n",
       "      <td>1799.31</td>\n",
       "      <td>1804.61</td>\n",
       "      <td>1808.20</td>\n",
       "      <td>1799.61</td>\n",
       "      <td>1799.61</td>\n",
       "      <td>NaN</td>\n",
       "      <td>NaN</td>\n",
       "      <td>NaN</td>\n",
       "      <td>NaN</td>\n",
       "      <td>32270</td>\n",
       "    </tr>\n",
       "    <tr>\n",
       "      <th>2022-02-01 20:00:00</th>\n",
       "      <td>1799.26</td>\n",
       "      <td>1802.29</td>\n",
       "      <td>1798.33</td>\n",
       "      <td>1800.56</td>\n",
       "      <td>1799.56</td>\n",
       "      <td>1802.68</td>\n",
       "      <td>1798.83</td>\n",
       "      <td>1801.06</td>\n",
       "      <td>NaN</td>\n",
       "      <td>NaN</td>\n",
       "      <td>NaN</td>\n",
       "      <td>NaN</td>\n",
       "      <td>14087</td>\n",
       "    </tr>\n",
       "    <tr>\n",
       "      <th>2022-02-02 00:00:00</th>\n",
       "      <td>1800.58</td>\n",
       "      <td>1801.46</td>\n",
       "      <td>1797.14</td>\n",
       "      <td>1797.45</td>\n",
       "      <td>1801.08</td>\n",
       "      <td>1801.96</td>\n",
       "      <td>1797.60</td>\n",
       "      <td>1797.95</td>\n",
       "      <td>NaN</td>\n",
       "      <td>NaN</td>\n",
       "      <td>NaN</td>\n",
       "      <td>NaN</td>\n",
       "      <td>13295</td>\n",
       "    </tr>\n",
       "    <tr>\n",
       "      <th>2022-02-02 04:00:00</th>\n",
       "      <td>1797.48</td>\n",
       "      <td>1798.90</td>\n",
       "      <td>1794.25</td>\n",
       "      <td>1796.66</td>\n",
       "      <td>1797.98</td>\n",
       "      <td>1799.40</td>\n",
       "      <td>1794.69</td>\n",
       "      <td>1796.96</td>\n",
       "      <td>NaN</td>\n",
       "      <td>NaN</td>\n",
       "      <td>NaN</td>\n",
       "      <td>NaN</td>\n",
       "      <td>17624</td>\n",
       "    </tr>\n",
       "    <tr>\n",
       "      <th>2022-02-02 08:00:00</th>\n",
       "      <td>1796.65</td>\n",
       "      <td>1803.48</td>\n",
       "      <td>1796.31</td>\n",
       "      <td>1802.65</td>\n",
       "      <td>1796.95</td>\n",
       "      <td>1803.97</td>\n",
       "      <td>1796.61</td>\n",
       "      <td>1803.15</td>\n",
       "      <td>NaN</td>\n",
       "      <td>NaN</td>\n",
       "      <td>NaN</td>\n",
       "      <td>NaN</td>\n",
       "      <td>28738</td>\n",
       "    </tr>\n",
       "    <tr>\n",
       "      <th>2022-02-02 12:00:00</th>\n",
       "      <td>1802.66</td>\n",
       "      <td>1810.53</td>\n",
       "      <td>1800.31</td>\n",
       "      <td>1808.38</td>\n",
       "      <td>1803.16</td>\n",
       "      <td>1811.03</td>\n",
       "      <td>1800.76</td>\n",
       "      <td>1808.88</td>\n",
       "      <td>NaN</td>\n",
       "      <td>NaN</td>\n",
       "      <td>NaN</td>\n",
       "      <td>NaN</td>\n",
       "      <td>50055</td>\n",
       "    </tr>\n",
       "    <tr>\n",
       "      <th>2022-02-02 16:00:00</th>\n",
       "      <td>1808.36</td>\n",
       "      <td>1810.63</td>\n",
       "      <td>1807.15</td>\n",
       "      <td>1807.29</td>\n",
       "      <td>1808.86</td>\n",
       "      <td>1811.09</td>\n",
       "      <td>1807.63</td>\n",
       "      <td>1807.79</td>\n",
       "      <td>NaN</td>\n",
       "      <td>NaN</td>\n",
       "      <td>NaN</td>\n",
       "      <td>NaN</td>\n",
       "      <td>28855</td>\n",
       "    </tr>\n",
       "    <tr>\n",
       "      <th>2022-02-02 20:00:00</th>\n",
       "      <td>1807.28</td>\n",
       "      <td>1808.14</td>\n",
       "      <td>1804.95</td>\n",
       "      <td>1807.64</td>\n",
       "      <td>1807.78</td>\n",
       "      <td>1808.64</td>\n",
       "      <td>1805.34</td>\n",
       "      <td>1808.14</td>\n",
       "      <td>NaN</td>\n",
       "      <td>NaN</td>\n",
       "      <td>NaN</td>\n",
       "      <td>NaN</td>\n",
       "      <td>12681</td>\n",
       "    </tr>\n",
       "    <tr>\n",
       "      <th>2022-02-03 00:00:00</th>\n",
       "      <td>1807.74</td>\n",
       "      <td>1808.89</td>\n",
       "      <td>1805.78</td>\n",
       "      <td>1806.86</td>\n",
       "      <td>1808.04</td>\n",
       "      <td>1809.30</td>\n",
       "      <td>1806.28</td>\n",
       "      <td>1807.36</td>\n",
       "      <td>NaN</td>\n",
       "      <td>NaN</td>\n",
       "      <td>NaN</td>\n",
       "      <td>NaN</td>\n",
       "      <td>13645</td>\n",
       "    </tr>\n",
       "  </tbody>\n",
       "</table>\n",
       "</div>"
      ],
      "text/plain": [
       "                         bid                                 ask           \\\n",
       "                        Open     High      Low    Close     Open     High   \n",
       "DateTime                                                                    \n",
       "2022-02-01 00:00:00  1797.58  1799.21  1795.52  1796.41  1798.08  1799.71   \n",
       "2022-02-01 04:00:00  1796.42  1804.23  1796.12  1803.97  1796.92  1804.70   \n",
       "2022-02-01 08:00:00  1803.96  1808.21  1801.69  1806.13  1804.26  1808.58   \n",
       "2022-02-01 12:00:00  1806.15  1808.64  1797.59  1804.32  1806.45  1809.14   \n",
       "2022-02-01 16:00:00  1804.31  1807.81  1799.17  1799.31  1804.61  1808.20   \n",
       "2022-02-01 20:00:00  1799.26  1802.29  1798.33  1800.56  1799.56  1802.68   \n",
       "2022-02-02 00:00:00  1800.58  1801.46  1797.14  1797.45  1801.08  1801.96   \n",
       "2022-02-02 04:00:00  1797.48  1798.90  1794.25  1796.66  1797.98  1799.40   \n",
       "2022-02-02 08:00:00  1796.65  1803.48  1796.31  1802.65  1796.95  1803.97   \n",
       "2022-02-02 12:00:00  1802.66  1810.53  1800.31  1808.38  1803.16  1811.03   \n",
       "2022-02-02 16:00:00  1808.36  1810.63  1807.15  1807.29  1808.86  1811.09   \n",
       "2022-02-02 20:00:00  1807.28  1808.14  1804.95  1807.64  1807.78  1808.64   \n",
       "2022-02-03 00:00:00  1807.74  1808.89  1805.78  1806.86  1808.04  1809.30   \n",
       "\n",
       "                                      last                        \n",
       "                         Low    Close Open High Low Close Volume  \n",
       "DateTime                                                          \n",
       "2022-02-01 00:00:00  1795.96  1796.91  NaN  NaN NaN   NaN  16731  \n",
       "2022-02-01 04:00:00  1796.62  1804.27  NaN  NaN NaN   NaN  21791  \n",
       "2022-02-01 08:00:00  1802.10  1806.43  NaN  NaN NaN   NaN  28129  \n",
       "2022-02-01 12:00:00  1798.09  1804.62  NaN  NaN NaN   NaN  54681  \n",
       "2022-02-01 16:00:00  1799.61  1799.61  NaN  NaN NaN   NaN  32270  \n",
       "2022-02-01 20:00:00  1798.83  1801.06  NaN  NaN NaN   NaN  14087  \n",
       "2022-02-02 00:00:00  1797.60  1797.95  NaN  NaN NaN   NaN  13295  \n",
       "2022-02-02 04:00:00  1794.69  1796.96  NaN  NaN NaN   NaN  17624  \n",
       "2022-02-02 08:00:00  1796.61  1803.15  NaN  NaN NaN   NaN  28738  \n",
       "2022-02-02 12:00:00  1800.76  1808.88  NaN  NaN NaN   NaN  50055  \n",
       "2022-02-02 16:00:00  1807.63  1807.79  NaN  NaN NaN   NaN  28855  \n",
       "2022-02-02 20:00:00  1805.34  1808.14  NaN  NaN NaN   NaN  12681  \n",
       "2022-02-03 00:00:00  1806.28  1807.36  NaN  NaN NaN   NaN  13645  "
      ]
     },
     "execution_count": 6,
     "metadata": {},
     "output_type": "execute_result"
    }
   ],
   "source": [
    "result = ig_service.fetch_historical_prices_by_epic(\n",
    "    epic='CS.D.USCGC.TODAY.IP',\n",
    "    start_date=\"2022-02-01\",\n",
    "    end_date=\"2022-02-03\",resolution=\"4H\"\n",
    "    )\n",
    "result['prices']"
   ]
  },
  {
   "cell_type": "code",
   "execution_count": 68,
   "metadata": {},
   "outputs": [
    {
     "data": {
      "text/plain": [
       "{'accountType': 'SPREADBET',\n",
       " 'accountInfo': {'balance': 10643.19,\n",
       "  'deposit': 92.87,\n",
       "  'profitLoss': -56.07,\n",
       "  'available': 10494.25},\n",
       " 'currencyIsoCode': 'GBP',\n",
       " 'currencySymbol': '£',\n",
       " 'currentAccountId': 'Z4JO3H',\n",
       " 'lightstreamerEndpoint': 'https://demo-apd.marketdatasystems.com',\n",
       " 'accounts': [{'accountId': 'Z4JO3G',\n",
       "   'accountName': 'CFD',\n",
       "   'preferred': False,\n",
       "   'accountType': 'CFD'},\n",
       "  {'accountId': 'Z4JO3H',\n",
       "   'accountName': 'Ezra Spread bet',\n",
       "   'preferred': True,\n",
       "   'accountType': 'SPREADBET'}],\n",
       " 'clientId': '103142528',\n",
       " 'timezoneOffset': 1,\n",
       " 'hasActiveDemoAccounts': True,\n",
       " 'hasActiveLiveAccounts': True,\n",
       " 'trailingStopsEnabled': False,\n",
       " 'reroutingEnvironment': None,\n",
       " 'dealingEnabled': True}"
      ]
     },
     "execution_count": 68,
     "metadata": {},
     "output_type": "execute_result"
    }
   ],
   "source": [
    "ig"
   ]
  },
  {
   "cell_type": "code",
   "execution_count": 4,
   "metadata": {},
   "outputs": [],
   "source": [
    "msft = yf.Ticker(\"MSFT\")"
   ]
  },
  {
   "cell_type": "code",
   "execution_count": 48,
   "metadata": {},
   "outputs": [
    {
     "ename": "NameError",
     "evalue": "name 'msft' is not defined",
     "output_type": "error",
     "traceback": [
      "\u001b[0;31m---------------------------------------------------------------------------\u001b[0m",
      "\u001b[0;31mNameError\u001b[0m                                 Traceback (most recent call last)",
      "\u001b[1;32m/Users/ezracitron/my_projects/test_faig/explore.ipynb Cell 21'\u001b[0m in \u001b[0;36m<cell line: 2>\u001b[0;34m()\u001b[0m\n\u001b[1;32m      <a href='vscode-notebook-cell:/Users/ezracitron/my_projects/test_faig/explore.ipynb#ch0000011?line=0'>1</a>\u001b[0m \u001b[39m# get stock info\u001b[39;00m\n\u001b[0;32m----> <a href='vscode-notebook-cell:/Users/ezracitron/my_projects/test_faig/explore.ipynb#ch0000011?line=1'>2</a>\u001b[0m \u001b[39mprint\u001b[39m(msft\u001b[39m.\u001b[39minfo\u001b[39m.\u001b[39mkeys())\n\u001b[1;32m      <a href='vscode-notebook-cell:/Users/ezracitron/my_projects/test_faig/explore.ipynb#ch0000011?line=2'>3</a>\u001b[0m msft\u001b[39m.\u001b[39minfo[\u001b[39m'\u001b[39m\u001b[39msector\u001b[39m\u001b[39m'\u001b[39m]\n",
      "\u001b[0;31mNameError\u001b[0m: name 'msft' is not defined"
     ]
    }
   ],
   "source": [
    "# get stock info\n",
    "print(msft.info.keys())\n",
    "msft.info['sector']"
   ]
  },
  {
   "cell_type": "code",
   "execution_count": 15,
   "metadata": {},
   "outputs": [],
   "source": [
    "from datetime import datetime,timedelta\n",
    "today =datetime.now()#.strftime(\"%Y-%m-%d\")\n",
    "three_months_ago = today+timedelta(days=-90)\n",
    "\n",
    "def format_date(date):\n",
    "    return date.strftime(\"%Y-%m-%d\")"
   ]
  },
  {
   "cell_type": "code",
   "execution_count": 16,
   "metadata": {},
   "outputs": [
    {
     "data": {
      "text/html": [
       "<div>\n",
       "<style scoped>\n",
       "    .dataframe tbody tr th:only-of-type {\n",
       "        vertical-align: middle;\n",
       "    }\n",
       "\n",
       "    .dataframe tbody tr th {\n",
       "        vertical-align: top;\n",
       "    }\n",
       "\n",
       "    .dataframe thead th {\n",
       "        text-align: right;\n",
       "    }\n",
       "</style>\n",
       "<table border=\"1\" class=\"dataframe\">\n",
       "  <thead>\n",
       "    <tr style=\"text-align: right;\">\n",
       "      <th></th>\n",
       "      <th>Open</th>\n",
       "      <th>High</th>\n",
       "      <th>Low</th>\n",
       "      <th>Close</th>\n",
       "      <th>Volume</th>\n",
       "      <th>Dividends</th>\n",
       "      <th>Stock Splits</th>\n",
       "    </tr>\n",
       "    <tr>\n",
       "      <th>Date</th>\n",
       "      <th></th>\n",
       "      <th></th>\n",
       "      <th></th>\n",
       "      <th></th>\n",
       "      <th></th>\n",
       "      <th></th>\n",
       "      <th></th>\n",
       "    </tr>\n",
       "  </thead>\n",
       "  <tbody>\n",
       "    <tr>\n",
       "      <th>2022-01-18</th>\n",
       "      <td>303.442565</td>\n",
       "      <td>309.160722</td>\n",
       "      <td>301.117356</td>\n",
       "      <td>302.025482</td>\n",
       "      <td>42333200</td>\n",
       "      <td>0.0</td>\n",
       "      <td>0</td>\n",
       "    </tr>\n",
       "    <tr>\n",
       "      <th>2022-01-19</th>\n",
       "      <td>305.657985</td>\n",
       "      <td>313.262256</td>\n",
       "      <td>302.075397</td>\n",
       "      <td>302.704071</td>\n",
       "      <td>45933900</td>\n",
       "      <td>0.0</td>\n",
       "      <td>0</td>\n",
       "    </tr>\n",
       "    <tr>\n",
       "      <th>2022-01-20</th>\n",
       "      <td>308.432248</td>\n",
       "      <td>311.006911</td>\n",
       "      <td>300.518619</td>\n",
       "      <td>300.977661</td>\n",
       "      <td>35380700</td>\n",
       "      <td>0.0</td>\n",
       "      <td>0</td>\n",
       "    </tr>\n",
       "    <tr>\n",
       "      <th>2022-01-21</th>\n",
       "      <td>302.065420</td>\n",
       "      <td>303.482473</td>\n",
       "      <td>295.000012</td>\n",
       "      <td>295.419159</td>\n",
       "      <td>57984400</td>\n",
       "      <td>0.0</td>\n",
       "      <td>0</td>\n",
       "    </tr>\n",
       "    <tr>\n",
       "      <th>2022-01-24</th>\n",
       "      <td>291.597075</td>\n",
       "      <td>296.496917</td>\n",
       "      <td>275.480375</td>\n",
       "      <td>295.758453</td>\n",
       "      <td>85731500</td>\n",
       "      <td>0.0</td>\n",
       "      <td>0</td>\n",
       "    </tr>\n",
       "  </tbody>\n",
       "</table>\n",
       "</div>"
      ],
      "text/plain": [
       "                  Open        High         Low       Close    Volume  \\\n",
       "Date                                                                   \n",
       "2022-01-18  303.442565  309.160722  301.117356  302.025482  42333200   \n",
       "2022-01-19  305.657985  313.262256  302.075397  302.704071  45933900   \n",
       "2022-01-20  308.432248  311.006911  300.518619  300.977661  35380700   \n",
       "2022-01-21  302.065420  303.482473  295.000012  295.419159  57984400   \n",
       "2022-01-24  291.597075  296.496917  275.480375  295.758453  85731500   \n",
       "\n",
       "            Dividends  Stock Splits  \n",
       "Date                                 \n",
       "2022-01-18        0.0             0  \n",
       "2022-01-19        0.0             0  \n",
       "2022-01-20        0.0             0  \n",
       "2022-01-21        0.0             0  \n",
       "2022-01-24        0.0             0  "
      ]
     },
     "execution_count": 16,
     "metadata": {},
     "output_type": "execute_result"
    }
   ],
   "source": [
    "history_raw = msft.history(\n",
    "    period=\"1d\",\n",
    "    end = format_date(today),\n",
    "    start = format_date(three_months_ago)\n",
    ")\n",
    "history_raw.head()"
   ]
  },
  {
   "cell_type": "code",
   "execution_count": null,
   "metadata": {},
   "outputs": [],
   "source": [
    "(\n",
    "    ggplot(history_raw)+\n",
    "    geom_point(aes(x,y))+\n",
    "    theme()\n",
    ")   "
   ]
  },
  {
   "cell_type": "code",
   "execution_count": 28,
   "metadata": {},
   "outputs": [],
   "source": [
    "hist = hist_raw.reset_index().reset_index()"
   ]
  },
  {
   "cell_type": "code",
   "execution_count": null,
   "metadata": {},
   "outputs": [],
   "source": [
    "## Fit a simple linear regression with a quadratic term to the last 3 months, and buy/ sell accordingly"
   ]
  },
  {
   "cell_type": "code",
   "execution_count": 58,
   "metadata": {},
   "outputs": [],
   "source": [
    "# import statsmodels as sm\n",
    "from sklearn.linear_model import LinearRegression\n",
    "from sklearn.preprocessing import PolynomialFeatures"
   ]
  },
  {
   "cell_type": "code",
   "execution_count": 66,
   "metadata": {},
   "outputs": [
    {
     "data": {
      "text/plain": [
       "array([[1., 0.],\n",
       "       [1., 1.],\n",
       "       [1., 2.]])"
      ]
     },
     "execution_count": 66,
     "metadata": {},
     "output_type": "execute_result"
    }
   ],
   "source": [
    "\n",
    "X_poly[0:3]"
   ]
  },
  {
   "cell_type": "code",
   "execution_count": 51,
   "metadata": {},
   "outputs": [],
   "source": [
    "import plotnine as pn\n",
    "from plotnine import ggplot, geom_line, aes"
   ]
  },
  {
   "cell_type": "code",
   "execution_count": 23,
   "metadata": {},
   "outputs": [
    {
     "data": {
      "image/png": "[encoded data removed]",
      "image/svg+xml": "<?xml version=\"1.0\" encoding=\"utf-8\" standalone=\"no\"?>\n<!DOCTYPE svg PUBLIC \"-//W3C//DTD SVG 1.1//EN\"\n  \"http://www.w3.org/Graphics/SVG/1.1/DTD/svg11.dtd\">\n<svg xmlns:xlink=\"http://www.w3.org/1999/xlink\" width=\"408.312937pt\" height=\"309.024687pt\" viewBox=\"0 0 408.312937 309.024687\" xmlns=\"http://www.w3.org/2000/svg\" version=\"1.1\">\n <metadata>\n  <rdf:RDF xmlns:dc=\"http://purl.org/dc/elements/1.1/\" xmlns:cc=\"http://creativecommons.org/ns#\" xmlns:rdf=\"http://www.w3.org/1999/02/22-rdf-syntax-ns#\">\n   <cc:Work>\n    <dc:type rdf:resource=\"http://purl.org/dc/dcmitype/StillImage\"/>\n    <dc:date>2022-03-06T21:23:50.283197</dc:date>\n    <dc:format>image/svg+xml</dc:format>\n    <dc:creator>\n     <cc:Agent>\n      <dc:title>Matplotlib v3.5.1, https://matplotlib.org/</dc:title>\n     </cc:Agent>\n    </dc:creator>\n   </cc:Work>\n  </rdf:RDF>\n </metadata>\n <defs>\n  <style type=\"text/css\">*{stroke-linejoin: round; stroke-linecap: butt}</style>\n </defs>\n <g id=\"figure_1\">\n  <g id=\"patch_1\">\n   <path d=\"M 0 309.024687 \nL 408.312937 309.024687 \nL 408.312937 0 \nL 0 0 \nz\n\" style=\"fill: #ffffff; stroke: #ffffff; stroke-linejoin: miter\"/>\n  </g>\n  <g id=\"axes_1\">\n   <g id=\"patch_2\">\n    <path d=\"M 43.992938 273.312 \nL 401.112938 273.312 \nL 401.112938 7.2 \nL 43.992938 7.2 \nz\n\" style=\"fill: #ebebeb\"/>\n   </g>\n   <g id=\"matplotlib.axis_1\">\n    <g id=\"xtick_1\">\n     <g id=\"line2d_1\">\n      <path d=\"M 60.225665 273.312 \nL 60.225665 7.2 \n\" clip-path=\"url(#pd9c765b1f7)\" style=\"fill: none; stroke: #ffffff\"/>\n     </g>\n     <g id=\"line2d_2\">\n      <path d=\"M 60.225665 273.312 \n\" style=\"fill: none; stroke: #333333; stroke-width: 1.5\"/>\n      <defs>\n       <path id=\"mcd83dc4b54\" d=\"M 0 0 \nL 0 2.75 \n\" style=\"stroke: #000000\"/>\n      </defs>\n      <g>\n       <use xlink:href=\"#mcd83dc4b54\" x=\"60.225665\" y=\"273.312\" style=\"fill: #333333; stroke: #000000\"/>\n      </g>\n     </g>\n     <g id=\"text_1\">\n      <!-- 0 -->\n      <g style=\"fill: #4d4d4d\" transform=\"translate(57.426165 284.948625)scale(0.088 -0.088)\">\n       <defs>\n        <path id=\"DejaVuSans-30\" d=\"M 2034 4250 \nQ 1547 4250 1301 3770 \nQ 1056 3291 1056 2328 \nQ 1056 1369 1301 889 \nQ 1547 409 2034 409 \nQ 2525 409 2770 889 \nQ 3016 1369 3016 2328 \nQ 3016 3291 2770 3770 \nQ 2525 4250 2034 4250 \nz\nM 2034 4750 \nQ 2819 4750 3233 4129 \nQ 3647 3509 3647 2328 \nQ 3647 1150 3233 529 \nQ 2819 -91 2034 -91 \nQ 1250 -91 836 529 \nQ 422 1150 422 2328 \nQ 422 3509 836 4129 \nQ 1250 4750 2034 4750 \nz\n\" transform=\"scale(0.015625)\"/>\n       </defs>\n       <use xlink:href=\"#DejaVuSans-30\"/>\n      </g>\n     </g>\n    </g>\n    <g id=\"xtick_2\">\n     <g id=\"line2d_3\">\n      <path d=\"M 166.669778 273.312 \nL 166.669778 7.2 \n\" clip-path=\"url(#pd9c765b1f7)\" style=\"fill: none; stroke: #ffffff\"/>\n     </g>\n     <g id=\"line2d_4\">\n      <path d=\"M 166.669778 273.312 \n\" style=\"fill: none; stroke: #333333; stroke-width: 1.5\"/>\n      <g>\n       <use xlink:href=\"#mcd83dc4b54\" x=\"166.669778\" y=\"273.312\" style=\"fill: #333333; stroke: #000000\"/>\n      </g>\n     </g>\n     <g id=\"text_2\">\n      <!-- 20 -->\n      <g style=\"fill: #4d4d4d\" transform=\"translate(161.070778 284.948625)scale(0.088 -0.088)\">\n       <defs>\n        <path id=\"DejaVuSans-32\" d=\"M 1228 531 \nL 3431 531 \nL 3431 0 \nL 469 0 \nL 469 531 \nQ 828 903 1448 1529 \nQ 2069 2156 2228 2338 \nQ 2531 2678 2651 2914 \nQ 2772 3150 2772 3378 \nQ 2772 3750 2511 3984 \nQ 2250 4219 1831 4219 \nQ 1534 4219 1204 4116 \nQ 875 4013 500 3803 \nL 500 4441 \nQ 881 4594 1212 4672 \nQ 1544 4750 1819 4750 \nQ 2544 4750 2975 4387 \nQ 3406 4025 3406 3419 \nQ 3406 3131 3298 2873 \nQ 3191 2616 2906 2266 \nQ 2828 2175 2409 1742 \nQ 1991 1309 1228 531 \nz\n\" transform=\"scale(0.015625)\"/>\n       </defs>\n       <use xlink:href=\"#DejaVuSans-32\"/>\n       <use xlink:href=\"#DejaVuSans-30\" x=\"63.623047\"/>\n      </g>\n     </g>\n    </g>\n    <g id=\"xtick_3\">\n     <g id=\"line2d_5\">\n      <path d=\"M 273.113891 273.312 \nL 273.113891 7.2 \n\" clip-path=\"url(#pd9c765b1f7)\" style=\"fill: none; stroke: #ffffff\"/>\n     </g>\n     <g id=\"line2d_6\">\n      <path d=\"M 273.113891 273.312 \n\" style=\"fill: none; stroke: #333333; stroke-width: 1.5\"/>\n      <g>\n       <use xlink:href=\"#mcd83dc4b54\" x=\"273.113891\" y=\"273.312\" style=\"fill: #333333; stroke: #000000\"/>\n      </g>\n     </g>\n     <g id=\"text_3\">\n      <!-- 40 -->\n      <g style=\"fill: #4d4d4d\" transform=\"translate(267.514891 284.948625)scale(0.088 -0.088)\">\n       <defs>\n        <path id=\"DejaVuSans-34\" d=\"M 2419 4116 \nL 825 1625 \nL 2419 1625 \nL 2419 4116 \nz\nM 2253 4666 \nL 3047 4666 \nL 3047 1625 \nL 3713 1625 \nL 3713 1100 \nL 3047 1100 \nL 3047 0 \nL 2419 0 \nL 2419 1100 \nL 313 1100 \nL 313 1709 \nL 2253 4666 \nz\n\" transform=\"scale(0.015625)\"/>\n       </defs>\n       <use xlink:href=\"#DejaVuSans-34\"/>\n       <use xlink:href=\"#DejaVuSans-30\" x=\"63.623047\"/>\n      </g>\n     </g>\n    </g>\n    <g id=\"xtick_4\">\n     <g id=\"line2d_7\">\n      <path d=\"M 379.558005 273.312 \nL 379.558005 7.2 \n\" clip-path=\"url(#pd9c765b1f7)\" style=\"fill: none; stroke: #ffffff\"/>\n     </g>\n     <g id=\"line2d_8\">\n      <path d=\"M 379.558005 273.312 \n\" style=\"fill: none; stroke: #333333; stroke-width: 1.5\"/>\n      <g>\n       <use xlink:href=\"#mcd83dc4b54\" x=\"379.558005\" y=\"273.312\" style=\"fill: #333333; stroke: #000000\"/>\n      </g>\n     </g>\n     <g id=\"text_4\">\n      <!-- 60 -->\n      <g style=\"fill: #4d4d4d\" transform=\"translate(373.959005 284.948625)scale(0.088 -0.088)\">\n       <defs>\n        <path id=\"DejaVuSans-36\" d=\"M 2113 2584 \nQ 1688 2584 1439 2293 \nQ 1191 2003 1191 1497 \nQ 1191 994 1439 701 \nQ 1688 409 2113 409 \nQ 2538 409 2786 701 \nQ 3034 994 3034 1497 \nQ 3034 2003 2786 2293 \nQ 2538 2584 2113 2584 \nz\nM 3366 4563 \nL 3366 3988 \nQ 3128 4100 2886 4159 \nQ 2644 4219 2406 4219 \nQ 1781 4219 1451 3797 \nQ 1122 3375 1075 2522 \nQ 1259 2794 1537 2939 \nQ 1816 3084 2150 3084 \nQ 2853 3084 3261 2657 \nQ 3669 2231 3669 1497 \nQ 3669 778 3244 343 \nQ 2819 -91 2113 -91 \nQ 1303 -91 875 529 \nQ 447 1150 447 2328 \nQ 447 3434 972 4092 \nQ 1497 4750 2381 4750 \nQ 2619 4750 2861 4703 \nQ 3103 4656 3366 4563 \nz\n\" transform=\"scale(0.015625)\"/>\n       </defs>\n       <use xlink:href=\"#DejaVuSans-36\"/>\n       <use xlink:href=\"#DejaVuSans-30\" x=\"63.623047\"/>\n      </g>\n     </g>\n    </g>\n    <g id=\"xtick_5\">\n     <g id=\"line2d_9\">\n      <path d=\"M 113.447721 273.312 \nL 113.447721 7.2 \n\" clip-path=\"url(#pd9c765b1f7)\" style=\"fill: none; stroke: #ffffff; stroke-width: 0.5\"/>\n     </g>\n    </g>\n    <g id=\"xtick_6\">\n     <g id=\"line2d_10\">\n      <path d=\"M 219.891835 273.312 \nL 219.891835 7.2 \n\" clip-path=\"url(#pd9c765b1f7)\" style=\"fill: none; stroke: #ffffff; stroke-width: 0.5\"/>\n     </g>\n    </g>\n    <g id=\"xtick_7\">\n     <g id=\"line2d_11\">\n      <path d=\"M 326.335948 273.312 \nL 326.335948 7.2 \n\" clip-path=\"url(#pd9c765b1f7)\" style=\"fill: none; stroke: #ffffff; stroke-width: 0.5\"/>\n     </g>\n    </g>\n    <g id=\"text_5\">\n     <!-- index -->\n     <g transform=\"translate(201.744422 299.537031)scale(0.11 -0.11)\">\n      <defs>\n       <path id=\"DejaVuSans-69\" d=\"M 603 3500 \nL 1178 3500 \nL 1178 0 \nL 603 0 \nL 603 3500 \nz\nM 603 4863 \nL 1178 4863 \nL 1178 4134 \nL 603 4134 \nL 603 4863 \nz\n\" transform=\"scale(0.015625)\"/>\n       <path id=\"DejaVuSans-6e\" d=\"M 3513 2113 \nL 3513 0 \nL 2938 0 \nL 2938 2094 \nQ 2938 2591 2744 2837 \nQ 2550 3084 2163 3084 \nQ 1697 3084 1428 2787 \nQ 1159 2491 1159 1978 \nL 1159 0 \nL 581 0 \nL 581 3500 \nL 1159 3500 \nL 1159 2956 \nQ 1366 3272 1645 3428 \nQ 1925 3584 2291 3584 \nQ 2894 3584 3203 3211 \nQ 3513 2838 3513 2113 \nz\n\" transform=\"scale(0.015625)\"/>\n       <path id=\"DejaVuSans-64\" d=\"M 2906 2969 \nL 2906 4863 \nL 3481 4863 \nL 3481 0 \nL 2906 0 \nL 2906 525 \nQ 2725 213 2448 61 \nQ 2172 -91 1784 -91 \nQ 1150 -91 751 415 \nQ 353 922 353 1747 \nQ 353 2572 751 3078 \nQ 1150 3584 1784 3584 \nQ 2172 3584 2448 3432 \nQ 2725 3281 2906 2969 \nz\nM 947 1747 \nQ 947 1113 1208 752 \nQ 1469 391 1925 391 \nQ 2381 391 2643 752 \nQ 2906 1113 2906 1747 \nQ 2906 2381 2643 2742 \nQ 2381 3103 1925 3103 \nQ 1469 3103 1208 2742 \nQ 947 2381 947 1747 \nz\n\" transform=\"scale(0.015625)\"/>\n       <path id=\"DejaVuSans-65\" d=\"M 3597 1894 \nL 3597 1613 \nL 953 1613 \nQ 991 1019 1311 708 \nQ 1631 397 2203 397 \nQ 2534 397 2845 478 \nQ 3156 559 3463 722 \nL 3463 178 \nQ 3153 47 2828 -22 \nQ 2503 -91 2169 -91 \nQ 1331 -91 842 396 \nQ 353 884 353 1716 \nQ 353 2575 817 3079 \nQ 1281 3584 2069 3584 \nQ 2775 3584 3186 3129 \nQ 3597 2675 3597 1894 \nz\nM 3022 2063 \nQ 3016 2534 2758 2815 \nQ 2500 3097 2075 3097 \nQ 1594 3097 1305 2825 \nQ 1016 2553 972 2059 \nL 3022 2063 \nz\n\" transform=\"scale(0.015625)\"/>\n       <path id=\"DejaVuSans-78\" d=\"M 3513 3500 \nL 2247 1797 \nL 3578 0 \nL 2900 0 \nL 1881 1375 \nL 863 0 \nL 184 0 \nL 1544 1831 \nL 300 3500 \nL 978 3500 \nL 1906 2253 \nL 2834 3500 \nL 3513 3500 \nz\n\" transform=\"scale(0.015625)\"/>\n      </defs>\n      <use xlink:href=\"#DejaVuSans-69\"/>\n      <use xlink:href=\"#DejaVuSans-6e\" x=\"27.783203\"/>\n      <use xlink:href=\"#DejaVuSans-64\" x=\"91.162109\"/>\n      <use xlink:href=\"#DejaVuSans-65\" x=\"154.638672\"/>\n      <use xlink:href=\"#DejaVuSans-78\" x=\"214.412109\"/>\n     </g>\n    </g>\n   </g>\n   <g id=\"matplotlib.axis_2\">\n    <g id=\"ytick_1\">\n     <g id=\"line2d_12\">\n      <path d=\"M 43.992938 262.276954 \nL 401.112938 262.276954 \n\" clip-path=\"url(#pd9c765b1f7)\" style=\"fill: none; stroke: #ffffff\"/>\n     </g>\n     <g id=\"line2d_13\">\n      <path d=\"M 43.992938 262.276954 \n\" style=\"fill: none; stroke: #333333; stroke-width: 1.5\"/>\n      <defs>\n       <path id=\"mb3fba4980a\" d=\"M 0 0 \nL -2.75 0 \n\" style=\"stroke: #000000\"/>\n      </defs>\n      <g>\n       <use xlink:href=\"#mb3fba4980a\" x=\"43.992938\" y=\"262.276954\" style=\"fill: #333333; stroke: #000000\"/>\n      </g>\n     </g>\n     <g id=\"text_6\">\n      <!-- 280 -->\n      <g style=\"fill: #4d4d4d\" transform=\"translate(22.245938 264.705204)scale(0.088 -0.088)\">\n       <defs>\n        <path id=\"DejaVuSans-38\" d=\"M 2034 2216 \nQ 1584 2216 1326 1975 \nQ 1069 1734 1069 1313 \nQ 1069 891 1326 650 \nQ 1584 409 2034 409 \nQ 2484 409 2743 651 \nQ 3003 894 3003 1313 \nQ 3003 1734 2745 1975 \nQ 2488 2216 2034 2216 \nz\nM 1403 2484 \nQ 997 2584 770 2862 \nQ 544 3141 544 3541 \nQ 544 4100 942 4425 \nQ 1341 4750 2034 4750 \nQ 2731 4750 3128 4425 \nQ 3525 4100 3525 3541 \nQ 3525 3141 3298 2862 \nQ 3072 2584 2669 2484 \nQ 3125 2378 3379 2068 \nQ 3634 1759 3634 1313 \nQ 3634 634 3220 271 \nQ 2806 -91 2034 -91 \nQ 1263 -91 848 271 \nQ 434 634 434 1313 \nQ 434 1759 690 2068 \nQ 947 2378 1403 2484 \nz\nM 1172 3481 \nQ 1172 3119 1398 2916 \nQ 1625 2713 2034 2713 \nQ 2441 2713 2670 2916 \nQ 2900 3119 2900 3481 \nQ 2900 3844 2670 4047 \nQ 2441 4250 2034 4250 \nQ 1625 4250 1398 4047 \nQ 1172 3844 1172 3481 \nz\n\" transform=\"scale(0.015625)\"/>\n       </defs>\n       <use xlink:href=\"#DejaVuSans-32\"/>\n       <use xlink:href=\"#DejaVuSans-38\" x=\"63.623047\"/>\n       <use xlink:href=\"#DejaVuSans-30\" x=\"127.246094\"/>\n      </g>\n     </g>\n    </g>\n    <g id=\"ytick_2\">\n     <g id=\"line2d_14\">\n      <path d=\"M 43.992938 183.684551 \nL 401.112938 183.684551 \n\" clip-path=\"url(#pd9c765b1f7)\" style=\"fill: none; stroke: #ffffff\"/>\n     </g>\n     <g id=\"line2d_15\">\n      <path d=\"M 43.992938 183.684551 \n\" style=\"fill: none; stroke: #333333; stroke-width: 1.5\"/>\n      <g>\n       <use xlink:href=\"#mb3fba4980a\" x=\"43.992938\" y=\"183.684551\" style=\"fill: #333333; stroke: #000000\"/>\n      </g>\n     </g>\n     <g id=\"text_7\">\n      <!-- 300 -->\n      <g style=\"fill: #4d4d4d\" transform=\"translate(22.245938 186.112801)scale(0.088 -0.088)\">\n       <defs>\n        <path id=\"DejaVuSans-33\" d=\"M 2597 2516 \nQ 3050 2419 3304 2112 \nQ 3559 1806 3559 1356 \nQ 3559 666 3084 287 \nQ 2609 -91 1734 -91 \nQ 1441 -91 1130 -33 \nQ 819 25 488 141 \nL 488 750 \nQ 750 597 1062 519 \nQ 1375 441 1716 441 \nQ 2309 441 2620 675 \nQ 2931 909 2931 1356 \nQ 2931 1769 2642 2001 \nQ 2353 2234 1838 2234 \nL 1294 2234 \nL 1294 2753 \nL 1863 2753 \nQ 2328 2753 2575 2939 \nQ 2822 3125 2822 3475 \nQ 2822 3834 2567 4026 \nQ 2313 4219 1838 4219 \nQ 1578 4219 1281 4162 \nQ 984 4106 628 3988 \nL 628 4550 \nQ 988 4650 1302 4700 \nQ 1616 4750 1894 4750 \nQ 2613 4750 3031 4423 \nQ 3450 4097 3450 3541 \nQ 3450 3153 3228 2886 \nQ 3006 2619 2597 2516 \nz\n\" transform=\"scale(0.015625)\"/>\n       </defs>\n       <use xlink:href=\"#DejaVuSans-33\"/>\n       <use xlink:href=\"#DejaVuSans-30\" x=\"63.623047\"/>\n       <use xlink:href=\"#DejaVuSans-30\" x=\"127.246094\"/>\n      </g>\n     </g>\n    </g>\n    <g id=\"ytick_3\">\n     <g id=\"line2d_16\">\n      <path d=\"M 43.992938 105.092147 \nL 401.112938 105.092147 \n\" clip-path=\"url(#pd9c765b1f7)\" style=\"fill: none; stroke: #ffffff\"/>\n     </g>\n     <g id=\"line2d_17\">\n      <path d=\"M 43.992938 105.092147 \n\" style=\"fill: none; stroke: #333333; stroke-width: 1.5\"/>\n      <g>\n       <use xlink:href=\"#mb3fba4980a\" x=\"43.992938\" y=\"105.092147\" style=\"fill: #333333; stroke: #000000\"/>\n      </g>\n     </g>\n     <g id=\"text_8\">\n      <!-- 320 -->\n      <g style=\"fill: #4d4d4d\" transform=\"translate(22.245938 107.520397)scale(0.088 -0.088)\">\n       <use xlink:href=\"#DejaVuSans-33\"/>\n       <use xlink:href=\"#DejaVuSans-32\" x=\"63.623047\"/>\n       <use xlink:href=\"#DejaVuSans-30\" x=\"127.246094\"/>\n      </g>\n     </g>\n    </g>\n    <g id=\"ytick_4\">\n     <g id=\"line2d_18\">\n      <path d=\"M 43.992938 26.499744 \nL 401.112938 26.499744 \n\" clip-path=\"url(#pd9c765b1f7)\" style=\"fill: none; stroke: #ffffff\"/>\n     </g>\n     <g id=\"line2d_19\">\n      <path d=\"M 43.992938 26.499744 \n\" style=\"fill: none; stroke: #333333; stroke-width: 1.5\"/>\n      <g>\n       <use xlink:href=\"#mb3fba4980a\" x=\"43.992938\" y=\"26.499744\" style=\"fill: #333333; stroke: #000000\"/>\n      </g>\n     </g>\n     <g id=\"text_9\">\n      <!-- 340 -->\n      <g style=\"fill: #4d4d4d\" transform=\"translate(22.245938 28.927994)scale(0.088 -0.088)\">\n       <use xlink:href=\"#DejaVuSans-33\"/>\n       <use xlink:href=\"#DejaVuSans-34\" x=\"63.623047\"/>\n       <use xlink:href=\"#DejaVuSans-30\" x=\"127.246094\"/>\n      </g>\n     </g>\n    </g>\n    <g id=\"ytick_5\">\n     <g id=\"line2d_20\">\n      <path d=\"M 43.992938 222.980753 \nL 401.112938 222.980753 \n\" clip-path=\"url(#pd9c765b1f7)\" style=\"fill: none; stroke: #ffffff; stroke-width: 0.5\"/>\n     </g>\n    </g>\n    <g id=\"ytick_6\">\n     <g id=\"line2d_21\">\n      <path d=\"M 43.992938 144.388349 \nL 401.112938 144.388349 \n\" clip-path=\"url(#pd9c765b1f7)\" style=\"fill: none; stroke: #ffffff; stroke-width: 0.5\"/>\n     </g>\n    </g>\n    <g id=\"ytick_7\">\n     <g id=\"line2d_22\">\n      <path d=\"M 43.992938 65.795946 \nL 401.112938 65.795946 \n\" clip-path=\"url(#pd9c765b1f7)\" style=\"fill: none; stroke: #ffffff; stroke-width: 0.5\"/>\n     </g>\n    </g>\n    <g id=\"text_10\">\n     <!-- Close -->\n     <g transform=\"translate(15.558281 153.511203)rotate(-90)scale(0.11 -0.11)\">\n      <defs>\n       <path id=\"DejaVuSans-43\" d=\"M 4122 4306 \nL 4122 3641 \nQ 3803 3938 3442 4084 \nQ 3081 4231 2675 4231 \nQ 1875 4231 1450 3742 \nQ 1025 3253 1025 2328 \nQ 1025 1406 1450 917 \nQ 1875 428 2675 428 \nQ 3081 428 3442 575 \nQ 3803 722 4122 1019 \nL 4122 359 \nQ 3791 134 3420 21 \nQ 3050 -91 2638 -91 \nQ 1578 -91 968 557 \nQ 359 1206 359 2328 \nQ 359 3453 968 4101 \nQ 1578 4750 2638 4750 \nQ 3056 4750 3426 4639 \nQ 3797 4528 4122 4306 \nz\n\" transform=\"scale(0.015625)\"/>\n       <path id=\"DejaVuSans-6c\" d=\"M 603 4863 \nL 1178 4863 \nL 1178 0 \nL 603 0 \nL 603 4863 \nz\n\" transform=\"scale(0.015625)\"/>\n       <path id=\"DejaVuSans-6f\" d=\"M 1959 3097 \nQ 1497 3097 1228 2736 \nQ 959 2375 959 1747 \nQ 959 1119 1226 758 \nQ 1494 397 1959 397 \nQ 2419 397 2687 759 \nQ 2956 1122 2956 1747 \nQ 2956 2369 2687 2733 \nQ 2419 3097 1959 3097 \nz\nM 1959 3584 \nQ 2709 3584 3137 3096 \nQ 3566 2609 3566 1747 \nQ 3566 888 3137 398 \nQ 2709 -91 1959 -91 \nQ 1206 -91 779 398 \nQ 353 888 353 1747 \nQ 353 2609 779 3096 \nQ 1206 3584 1959 3584 \nz\n\" transform=\"scale(0.015625)\"/>\n       <path id=\"DejaVuSans-73\" d=\"M 2834 3397 \nL 2834 2853 \nQ 2591 2978 2328 3040 \nQ 2066 3103 1784 3103 \nQ 1356 3103 1142 2972 \nQ 928 2841 928 2578 \nQ 928 2378 1081 2264 \nQ 1234 2150 1697 2047 \nL 1894 2003 \nQ 2506 1872 2764 1633 \nQ 3022 1394 3022 966 \nQ 3022 478 2636 193 \nQ 2250 -91 1575 -91 \nQ 1294 -91 989 -36 \nQ 684 19 347 128 \nL 347 722 \nQ 666 556 975 473 \nQ 1284 391 1588 391 \nQ 1994 391 2212 530 \nQ 2431 669 2431 922 \nQ 2431 1156 2273 1281 \nQ 2116 1406 1581 1522 \nL 1381 1569 \nQ 847 1681 609 1914 \nQ 372 2147 372 2553 \nQ 372 3047 722 3315 \nQ 1072 3584 1716 3584 \nQ 2034 3584 2315 3537 \nQ 2597 3491 2834 3397 \nz\n\" transform=\"scale(0.015625)\"/>\n      </defs>\n      <use xlink:href=\"#DejaVuSans-43\"/>\n      <use xlink:href=\"#DejaVuSans-6c\" x=\"69.824219\"/>\n      <use xlink:href=\"#DejaVuSans-6f\" x=\"97.607422\"/>\n      <use xlink:href=\"#DejaVuSans-73\" x=\"158.789062\"/>\n      <use xlink:href=\"#DejaVuSans-65\" x=\"210.888672\"/>\n     </g>\n    </g>\n   </g>\n   <g id=\"line2d_23\">\n    <path d=\"M 60.225665 83.41268 \nL 65.54787 49.177926 \nL 70.870076 48.981853 \nL 76.192282 56.315113 \nL 81.514487 19.296 \nL 86.836693 31.609641 \nL 92.158899 74.981529 \nL 97.481104 50.236722 \nL 102.80331 88.47149 \nL 108.125516 92.785222 \nL 113.447721 108.039842 \nL 118.769927 79.099068 \nL 124.092133 55.922847 \nL 129.414338 50.079863 \nL 134.736544 19.648932 \nL 140.05875 24.35481 \nL 145.380955 21.609665 \nL 150.703161 31.923239 \nL 156.025367 43.687755 \nL 161.347572 49.844576 \nL 166.669778 72.354027 \nL 171.991984 121.882735 \nL 177.314189 131.686519 \nL 182.636395 131.059084 \nL 187.958601 130.157147 \nL 193.280806 127.372787 \nL 198.603012 114.471165 \nL 203.925218 167.293905 \nL 209.247423 146.117631 \nL 214.569629 175.725175 \nL 219.891835 173.058579 \nL 225.21404 179.842714 \nL 230.536246 201.685516 \nL 235.858452 200.352218 \nL 241.180657 231.253725 \nL 246.502863 199.01892 \nL 251.825069 186.744613 \nL 257.147274 153.725394 \nL 262.46948 143.058888 \nL 267.791686 151.764662 \nL 273.113891 133.333654 \nL 278.436097 181.215227 \nL 283.758303 162.823314 \nL 289.080508 182.391666 \nL 294.402714 168.235056 \nL 299.72492 142.157071 \nL 305.047125 176.783851 \nL 310.369331 205.567767 \nL 315.691537 205.724626 \nL 321.013742 184.27397 \nL 326.335948 185.649361 \nL 331.658154 220.112087 \nL 336.980359 231.115095 \nL 342.302565 231.940282 \nL 347.624771 261.216 \nL 352.946976 204.94381 \nL 358.269182 194.255239 \nL 363.591388 188.439358 \nL 368.913593 203.529085 \nL 374.235799 182.937913 \nL 379.558005 199.717348 \nL 384.88021 223.530957 \n\" clip-path=\"url(#pd9c765b1f7)\" style=\"fill: none; stroke: #000000; stroke-width: 0.886227\"/>\n   </g>\n  </g>\n </g>\n <defs>\n  <clipPath id=\"pd9c765b1f7\">\n   <rect x=\"43.992938\" y=\"7.2\" width=\"357.12\" height=\"266.112\"/>\n  </clipPath>\n </defs>\n</svg>\n",
      "text/plain": [
       "<Figure size 640x480 with 1 Axes>"
      ]
     },
     "metadata": {},
     "output_type": "display_data"
    },
    {
     "data": {
      "text/plain": [
       "<ggplot: (302096649)>"
      ]
     },
     "execution_count": 23,
     "metadata": {},
     "output_type": "execute_result"
    }
   ],
   "source": [
    "(\n",
    "    ggplot(hist.reset_index().reset_index())+\n",
    "    geom_line(pn.aes('index','Close'))\n",
    "    )\n"
   ]
  },
  {
   "cell_type": "code",
   "execution_count": null,
   "metadata": {},
   "outputs": [],
   "source": []
  },
  {
   "cell_type": "code",
   "execution_count": 116,
   "metadata": {},
   "outputs": [],
   "source": [
    "# np.array(hist['index']).reshape(-1,1)"
   ]
  },
  {
   "cell_type": "code",
   "execution_count": 117,
   "metadata": {},
   "outputs": [
    {
     "data": {
      "text/plain": [
       "LinearRegression()"
      ]
     },
     "execution_count": 117,
     "metadata": {},
     "output_type": "execute_result"
    }
   ],
   "source": [
    "linreg = LinearRegression()\n",
    "linreg.fit(np.array(hist['index']).reshape(-1,1),  hist.Close)"
   ]
  },
  {
   "cell_type": "code",
   "execution_count": 118,
   "metadata": {},
   "outputs": [
    {
     "data": {
      "text/plain": [
       "LinearRegression()"
      ]
     },
     "execution_count": 118,
     "metadata": {},
     "output_type": "execute_result"
    }
   ],
   "source": [
    "polyreg =  LinearRegression()\n",
    "poly =  PolynomialFeatures(degree=3)\n",
    "X_poly = poly.fit_transform(np.array(hist['index']).reshape(-1,1))\n",
    "polyreg.fit(X_poly,hist.Close)"
   ]
  },
  {
   "cell_type": "code",
   "execution_count": 114,
   "metadata": {},
   "outputs": [],
   "source": [
    "# inputs = np.linspace(0,60,100)\n",
    "# poly = PolynomialFeatures(degree = 2)\n",
    "# inputs = poly.fit_transform(inputs.reshape(-1,1))\n",
    "\n",
    "# poly = PolynomialFeatures(degree = 3)\n",
    "# inputs = poly.fit_transform(inputs.reshape(-1,1))\n",
    "\n"
   ]
  },
  {
   "cell_type": "code",
   "execution_count": 140,
   "metadata": {},
   "outputs": [
    {
     "data": {
      "text/plain": [
       "array([ 0.,  1.,  2.,  3.,  4.,  5.,  6.,  7.,  8.,  9., 10., 11., 12.,\n",
       "       13., 14., 15., 16., 17., 18., 19., 20., 21., 22., 23., 24., 25.,\n",
       "       26., 27., 28., 29., 30., 31., 32., 33., 34., 35., 36., 37., 38.,\n",
       "       39., 40., 41., 42., 43., 44., 45., 46., 47., 48., 49., 50., 51.,\n",
       "       52., 53., 54., 55., 56., 57., 58., 59., 60., 61.])"
      ]
     },
     "execution_count": 140,
     "metadata": {},
     "output_type": "execute_result"
    }
   ],
   "source": [
    "X_poly[:,1]"
   ]
  },
  {
   "cell_type": "code",
   "execution_count": 145,
   "metadata": {},
   "outputs": [
    {
     "data": {
      "image/png": "[encoded data removed]",
      "image/svg+xml": "<?xml version=\"1.0\" encoding=\"utf-8\" standalone=\"no\"?>\n<!DOCTYPE svg PUBLIC \"-//W3C//DTD SVG 1.1//EN\"\n  \"http://www.w3.org/Graphics/SVG/1.1/DTD/svg11.dtd\">\n<svg xmlns:xlink=\"http://www.w3.org/1999/xlink\" width=\"393.267pt\" height=\"293.97875pt\" viewBox=\"0 0 393.267 293.97875\" xmlns=\"http://www.w3.org/2000/svg\" version=\"1.1\">\n <metadata>\n  <rdf:RDF xmlns:dc=\"http://purl.org/dc/elements/1.1/\" xmlns:cc=\"http://creativecommons.org/ns#\" xmlns:rdf=\"http://www.w3.org/1999/02/22-rdf-syntax-ns#\">\n   <cc:Work>\n    <dc:type rdf:resource=\"http://purl.org/dc/dcmitype/StillImage\"/>\n    <dc:date>2022-03-06T22:15:11.012883</dc:date>\n    <dc:format>image/svg+xml</dc:format>\n    <dc:creator>\n     <cc:Agent>\n      <dc:title>Matplotlib v3.5.1, https://matplotlib.org/</dc:title>\n     </cc:Agent>\n    </dc:creator>\n   </cc:Work>\n  </rdf:RDF>\n </metadata>\n <defs>\n  <style type=\"text/css\">*{stroke-linejoin: round; stroke-linecap: butt}</style>\n </defs>\n <g id=\"figure_1\">\n  <g id=\"patch_1\">\n   <path d=\"M 0 293.97875 \nL 393.267 293.97875 \nL 393.267 0 \nL 0 0 \nz\n\" style=\"fill: #ffffff; stroke: #ffffff; stroke-linejoin: miter\"/>\n  </g>\n  <g id=\"axes_1\">\n   <g id=\"patch_2\">\n    <path d=\"M 28.947 273.312 \nL 386.067 273.312 \nL 386.067 7.2 \nL 28.947 7.2 \nz\n\" style=\"fill: #ebebeb\"/>\n   </g>\n   <g id=\"matplotlib.axis_1\">\n    <g id=\"xtick_1\">\n     <g id=\"line2d_1\">\n      <path d=\"M 45.179727 273.312 \nL 45.179727 7.2 \n\" clip-path=\"url(#p3f6a3c0da2)\" style=\"fill: none; stroke: #ffffff\"/>\n     </g>\n     <g id=\"line2d_2\">\n      <path d=\"M 45.179727 273.312 \n\" style=\"fill: none; stroke: #333333; stroke-width: 1.5\"/>\n      <defs>\n       <path id=\"ma85bc0de80\" d=\"M 0 0 \nL 0 2.75 \n\" style=\"stroke: #000000\"/>\n      </defs>\n      <g>\n       <use xlink:href=\"#ma85bc0de80\" x=\"45.179727\" y=\"273.312\" style=\"fill: #333333; stroke: #000000\"/>\n      </g>\n     </g>\n     <g id=\"text_1\">\n      <!-- 0 -->\n      <g style=\"fill: #4d4d4d\" transform=\"translate(42.380227 284.948625)scale(0.088 -0.088)\">\n       <defs>\n        <path id=\"DejaVuSans-30\" d=\"M 2034 4250 \nQ 1547 4250 1301 3770 \nQ 1056 3291 1056 2328 \nQ 1056 1369 1301 889 \nQ 1547 409 2034 409 \nQ 2525 409 2770 889 \nQ 3016 1369 3016 2328 \nQ 3016 3291 2770 3770 \nQ 2525 4250 2034 4250 \nz\nM 2034 4750 \nQ 2819 4750 3233 4129 \nQ 3647 3509 3647 2328 \nQ 3647 1150 3233 529 \nQ 2819 -91 2034 -91 \nQ 1250 -91 836 529 \nQ 422 1150 422 2328 \nQ 422 3509 836 4129 \nQ 1250 4750 2034 4750 \nz\n\" transform=\"scale(0.015625)\"/>\n       </defs>\n       <use xlink:href=\"#DejaVuSans-30\"/>\n      </g>\n     </g>\n    </g>\n    <g id=\"xtick_2\">\n     <g id=\"line2d_3\">\n      <path d=\"M 151.623841 273.312 \nL 151.623841 7.2 \n\" clip-path=\"url(#p3f6a3c0da2)\" style=\"fill: none; stroke: #ffffff\"/>\n     </g>\n     <g id=\"line2d_4\">\n      <path d=\"M 151.623841 273.312 \n\" style=\"fill: none; stroke: #333333; stroke-width: 1.5\"/>\n      <g>\n       <use xlink:href=\"#ma85bc0de80\" x=\"151.623841\" y=\"273.312\" style=\"fill: #333333; stroke: #000000\"/>\n      </g>\n     </g>\n     <g id=\"text_2\">\n      <!-- 20 -->\n      <g style=\"fill: #4d4d4d\" transform=\"translate(146.024841 284.948625)scale(0.088 -0.088)\">\n       <defs>\n        <path id=\"DejaVuSans-32\" d=\"M 1228 531 \nL 3431 531 \nL 3431 0 \nL 469 0 \nL 469 531 \nQ 828 903 1448 1529 \nQ 2069 2156 2228 2338 \nQ 2531 2678 2651 2914 \nQ 2772 3150 2772 3378 \nQ 2772 3750 2511 3984 \nQ 2250 4219 1831 4219 \nQ 1534 4219 1204 4116 \nQ 875 4013 500 3803 \nL 500 4441 \nQ 881 4594 1212 4672 \nQ 1544 4750 1819 4750 \nQ 2544 4750 2975 4387 \nQ 3406 4025 3406 3419 \nQ 3406 3131 3298 2873 \nQ 3191 2616 2906 2266 \nQ 2828 2175 2409 1742 \nQ 1991 1309 1228 531 \nz\n\" transform=\"scale(0.015625)\"/>\n       </defs>\n       <use xlink:href=\"#DejaVuSans-32\"/>\n       <use xlink:href=\"#DejaVuSans-30\" x=\"63.623047\"/>\n      </g>\n     </g>\n    </g>\n    <g id=\"xtick_3\">\n     <g id=\"line2d_5\">\n      <path d=\"M 258.067954 273.312 \nL 258.067954 7.2 \n\" clip-path=\"url(#p3f6a3c0da2)\" style=\"fill: none; stroke: #ffffff\"/>\n     </g>\n     <g id=\"line2d_6\">\n      <path d=\"M 258.067954 273.312 \n\" style=\"fill: none; stroke: #333333; stroke-width: 1.5\"/>\n      <g>\n       <use xlink:href=\"#ma85bc0de80\" x=\"258.067954\" y=\"273.312\" style=\"fill: #333333; stroke: #000000\"/>\n      </g>\n     </g>\n     <g id=\"text_3\">\n      <!-- 40 -->\n      <g style=\"fill: #4d4d4d\" transform=\"translate(252.468954 284.948625)scale(0.088 -0.088)\">\n       <defs>\n        <path id=\"DejaVuSans-34\" d=\"M 2419 4116 \nL 825 1625 \nL 2419 1625 \nL 2419 4116 \nz\nM 2253 4666 \nL 3047 4666 \nL 3047 1625 \nL 3713 1625 \nL 3713 1100 \nL 3047 1100 \nL 3047 0 \nL 2419 0 \nL 2419 1100 \nL 313 1100 \nL 313 1709 \nL 2253 4666 \nz\n\" transform=\"scale(0.015625)\"/>\n       </defs>\n       <use xlink:href=\"#DejaVuSans-34\"/>\n       <use xlink:href=\"#DejaVuSans-30\" x=\"63.623047\"/>\n      </g>\n     </g>\n    </g>\n    <g id=\"xtick_4\">\n     <g id=\"line2d_7\">\n      <path d=\"M 364.512067 273.312 \nL 364.512067 7.2 \n\" clip-path=\"url(#p3f6a3c0da2)\" style=\"fill: none; stroke: #ffffff\"/>\n     </g>\n     <g id=\"line2d_8\">\n      <path d=\"M 364.512067 273.312 \n\" style=\"fill: none; stroke: #333333; stroke-width: 1.5\"/>\n      <g>\n       <use xlink:href=\"#ma85bc0de80\" x=\"364.512067\" y=\"273.312\" style=\"fill: #333333; stroke: #000000\"/>\n      </g>\n     </g>\n     <g id=\"text_4\">\n      <!-- 60 -->\n      <g style=\"fill: #4d4d4d\" transform=\"translate(358.913067 284.948625)scale(0.088 -0.088)\">\n       <defs>\n        <path id=\"DejaVuSans-36\" d=\"M 2113 2584 \nQ 1688 2584 1439 2293 \nQ 1191 2003 1191 1497 \nQ 1191 994 1439 701 \nQ 1688 409 2113 409 \nQ 2538 409 2786 701 \nQ 3034 994 3034 1497 \nQ 3034 2003 2786 2293 \nQ 2538 2584 2113 2584 \nz\nM 3366 4563 \nL 3366 3988 \nQ 3128 4100 2886 4159 \nQ 2644 4219 2406 4219 \nQ 1781 4219 1451 3797 \nQ 1122 3375 1075 2522 \nQ 1259 2794 1537 2939 \nQ 1816 3084 2150 3084 \nQ 2853 3084 3261 2657 \nQ 3669 2231 3669 1497 \nQ 3669 778 3244 343 \nQ 2819 -91 2113 -91 \nQ 1303 -91 875 529 \nQ 447 1150 447 2328 \nQ 447 3434 972 4092 \nQ 1497 4750 2381 4750 \nQ 2619 4750 2861 4703 \nQ 3103 4656 3366 4563 \nz\n\" transform=\"scale(0.015625)\"/>\n       </defs>\n       <use xlink:href=\"#DejaVuSans-36\"/>\n       <use xlink:href=\"#DejaVuSans-30\" x=\"63.623047\"/>\n      </g>\n     </g>\n    </g>\n    <g id=\"xtick_5\">\n     <g id=\"line2d_9\">\n      <path d=\"M 98.401784 273.312 \nL 98.401784 7.2 \n\" clip-path=\"url(#p3f6a3c0da2)\" style=\"fill: none; stroke: #ffffff; stroke-width: 0.5\"/>\n     </g>\n    </g>\n    <g id=\"xtick_6\">\n     <g id=\"line2d_10\">\n      <path d=\"M 204.845897 273.312 \nL 204.845897 7.2 \n\" clip-path=\"url(#p3f6a3c0da2)\" style=\"fill: none; stroke: #ffffff; stroke-width: 0.5\"/>\n     </g>\n    </g>\n    <g id=\"xtick_7\">\n     <g id=\"line2d_11\">\n      <path d=\"M 311.29001 273.312 \nL 311.29001 7.2 \n\" clip-path=\"url(#p3f6a3c0da2)\" style=\"fill: none; stroke: #ffffff; stroke-width: 0.5\"/>\n     </g>\n    </g>\n   </g>\n   <g id=\"matplotlib.axis_2\">\n    <g id=\"ytick_1\">\n     <g id=\"line2d_12\">\n      <path d=\"M 28.947 262.276954 \nL 386.067 262.276954 \n\" clip-path=\"url(#p3f6a3c0da2)\" style=\"fill: none; stroke: #ffffff\"/>\n     </g>\n     <g id=\"line2d_13\">\n      <path d=\"M 28.947 262.276954 \n\" style=\"fill: none; stroke: #333333; stroke-width: 1.5\"/>\n      <defs>\n       <path id=\"m682610208f\" d=\"M 0 0 \nL -2.75 0 \n\" style=\"stroke: #000000\"/>\n      </defs>\n      <g>\n       <use xlink:href=\"#m682610208f\" x=\"28.947\" y=\"262.276954\" style=\"fill: #333333; stroke: #000000\"/>\n      </g>\n     </g>\n     <g id=\"text_5\">\n      <!-- 280 -->\n      <g style=\"fill: #4d4d4d\" transform=\"translate(7.2 264.705204)scale(0.088 -0.088)\">\n       <defs>\n        <path id=\"DejaVuSans-38\" d=\"M 2034 2216 \nQ 1584 2216 1326 1975 \nQ 1069 1734 1069 1313 \nQ 1069 891 1326 650 \nQ 1584 409 2034 409 \nQ 2484 409 2743 651 \nQ 3003 894 3003 1313 \nQ 3003 1734 2745 1975 \nQ 2488 2216 2034 2216 \nz\nM 1403 2484 \nQ 997 2584 770 2862 \nQ 544 3141 544 3541 \nQ 544 4100 942 4425 \nQ 1341 4750 2034 4750 \nQ 2731 4750 3128 4425 \nQ 3525 4100 3525 3541 \nQ 3525 3141 3298 2862 \nQ 3072 2584 2669 2484 \nQ 3125 2378 3379 2068 \nQ 3634 1759 3634 1313 \nQ 3634 634 3220 271 \nQ 2806 -91 2034 -91 \nQ 1263 -91 848 271 \nQ 434 634 434 1313 \nQ 434 1759 690 2068 \nQ 947 2378 1403 2484 \nz\nM 1172 3481 \nQ 1172 3119 1398 2916 \nQ 1625 2713 2034 2713 \nQ 2441 2713 2670 2916 \nQ 2900 3119 2900 3481 \nQ 2900 3844 2670 4047 \nQ 2441 4250 2034 4250 \nQ 1625 4250 1398 4047 \nQ 1172 3844 1172 3481 \nz\n\" transform=\"scale(0.015625)\"/>\n       </defs>\n       <use xlink:href=\"#DejaVuSans-32\"/>\n       <use xlink:href=\"#DejaVuSans-38\" x=\"63.623047\"/>\n       <use xlink:href=\"#DejaVuSans-30\" x=\"127.246094\"/>\n      </g>\n     </g>\n    </g>\n    <g id=\"ytick_2\">\n     <g id=\"line2d_14\">\n      <path d=\"M 28.947 183.684551 \nL 386.067 183.684551 \n\" clip-path=\"url(#p3f6a3c0da2)\" style=\"fill: none; stroke: #ffffff\"/>\n     </g>\n     <g id=\"line2d_15\">\n      <path d=\"M 28.947 183.684551 \n\" style=\"fill: none; stroke: #333333; stroke-width: 1.5\"/>\n      <g>\n       <use xlink:href=\"#m682610208f\" x=\"28.947\" y=\"183.684551\" style=\"fill: #333333; stroke: #000000\"/>\n      </g>\n     </g>\n     <g id=\"text_6\">\n      <!-- 300 -->\n      <g style=\"fill: #4d4d4d\" transform=\"translate(7.2 186.112801)scale(0.088 -0.088)\">\n       <defs>\n        <path id=\"DejaVuSans-33\" d=\"M 2597 2516 \nQ 3050 2419 3304 2112 \nQ 3559 1806 3559 1356 \nQ 3559 666 3084 287 \nQ 2609 -91 1734 -91 \nQ 1441 -91 1130 -33 \nQ 819 25 488 141 \nL 488 750 \nQ 750 597 1062 519 \nQ 1375 441 1716 441 \nQ 2309 441 2620 675 \nQ 2931 909 2931 1356 \nQ 2931 1769 2642 2001 \nQ 2353 2234 1838 2234 \nL 1294 2234 \nL 1294 2753 \nL 1863 2753 \nQ 2328 2753 2575 2939 \nQ 2822 3125 2822 3475 \nQ 2822 3834 2567 4026 \nQ 2313 4219 1838 4219 \nQ 1578 4219 1281 4162 \nQ 984 4106 628 3988 \nL 628 4550 \nQ 988 4650 1302 4700 \nQ 1616 4750 1894 4750 \nQ 2613 4750 3031 4423 \nQ 3450 4097 3450 3541 \nQ 3450 3153 3228 2886 \nQ 3006 2619 2597 2516 \nz\n\" transform=\"scale(0.015625)\"/>\n       </defs>\n       <use xlink:href=\"#DejaVuSans-33\"/>\n       <use xlink:href=\"#DejaVuSans-30\" x=\"63.623047\"/>\n       <use xlink:href=\"#DejaVuSans-30\" x=\"127.246094\"/>\n      </g>\n     </g>\n    </g>\n    <g id=\"ytick_3\">\n     <g id=\"line2d_16\">\n      <path d=\"M 28.947 105.092147 \nL 386.067 105.092147 \n\" clip-path=\"url(#p3f6a3c0da2)\" style=\"fill: none; stroke: #ffffff\"/>\n     </g>\n     <g id=\"line2d_17\">\n      <path d=\"M 28.947 105.092147 \n\" style=\"fill: none; stroke: #333333; stroke-width: 1.5\"/>\n      <g>\n       <use xlink:href=\"#m682610208f\" x=\"28.947\" y=\"105.092147\" style=\"fill: #333333; stroke: #000000\"/>\n      </g>\n     </g>\n     <g id=\"text_7\">\n      <!-- 320 -->\n      <g style=\"fill: #4d4d4d\" transform=\"translate(7.2 107.520397)scale(0.088 -0.088)\">\n       <use xlink:href=\"#DejaVuSans-33\"/>\n       <use xlink:href=\"#DejaVuSans-32\" x=\"63.623047\"/>\n       <use xlink:href=\"#DejaVuSans-30\" x=\"127.246094\"/>\n      </g>\n     </g>\n    </g>\n    <g id=\"ytick_4\">\n     <g id=\"line2d_18\">\n      <path d=\"M 28.947 26.499744 \nL 386.067 26.499744 \n\" clip-path=\"url(#p3f6a3c0da2)\" style=\"fill: none; stroke: #ffffff\"/>\n     </g>\n     <g id=\"line2d_19\">\n      <path d=\"M 28.947 26.499744 \n\" style=\"fill: none; stroke: #333333; stroke-width: 1.5\"/>\n      <g>\n       <use xlink:href=\"#m682610208f\" x=\"28.947\" y=\"26.499744\" style=\"fill: #333333; stroke: #000000\"/>\n      </g>\n     </g>\n     <g id=\"text_8\">\n      <!-- 340 -->\n      <g style=\"fill: #4d4d4d\" transform=\"translate(7.2 28.927994)scale(0.088 -0.088)\">\n       <use xlink:href=\"#DejaVuSans-33\"/>\n       <use xlink:href=\"#DejaVuSans-34\" x=\"63.623047\"/>\n       <use xlink:href=\"#DejaVuSans-30\" x=\"127.246094\"/>\n      </g>\n     </g>\n    </g>\n    <g id=\"ytick_5\">\n     <g id=\"line2d_20\">\n      <path d=\"M 28.947 222.980753 \nL 386.067 222.980753 \n\" clip-path=\"url(#p3f6a3c0da2)\" style=\"fill: none; stroke: #ffffff; stroke-width: 0.5\"/>\n     </g>\n    </g>\n    <g id=\"ytick_6\">\n     <g id=\"line2d_21\">\n      <path d=\"M 28.947 144.388349 \nL 386.067 144.388349 \n\" clip-path=\"url(#p3f6a3c0da2)\" style=\"fill: none; stroke: #ffffff; stroke-width: 0.5\"/>\n     </g>\n    </g>\n    <g id=\"ytick_7\">\n     <g id=\"line2d_22\">\n      <path d=\"M 28.947 65.795946 \nL 386.067 65.795946 \n\" clip-path=\"url(#p3f6a3c0da2)\" style=\"fill: none; stroke: #ffffff; stroke-width: 0.5\"/>\n     </g>\n    </g>\n   </g>\n   <g id=\"line2d_23\">\n    <path d=\"M 45.179727 51.543953 \nL 48.405306 51.063628 \nL 51.630886 50.731911 \nL 54.856465 50.545435 \nL 58.082044 50.500834 \nL 61.307623 50.59474 \nL 64.533202 50.823788 \nL 67.758782 51.184611 \nL 70.984361 51.673843 \nL 74.20994 52.288116 \nL 77.435519 53.024065 \nL 80.661098 53.878322 \nL 83.886678 54.847522 \nL 87.112257 55.928298 \nL 90.337836 57.117284 \nL 93.563415 58.411112 \nL 96.788994 59.806416 \nL 100.014573 61.29983 \nL 103.240153 62.887987 \nL 106.465732 64.567521 \nL 109.691311 66.335065 \nL 112.91689 68.187253 \nL 116.142469 70.120718 \nL 119.368049 72.132094 \nL 122.593628 74.218014 \nL 125.819207 76.375111 \nL 129.044786 78.60002 \nL 132.270365 80.889373 \nL 135.495945 83.239804 \nL 138.721524 85.647946 \nL 141.947103 88.110434 \nL 145.172682 90.6239 \nL 148.398261 93.184978 \nL 151.623841 95.790301 \nL 154.84942 98.436504 \nL 158.074999 101.120218 \nL 161.300578 103.838079 \nL 164.526157 106.586719 \nL 167.751736 109.362771 \nL 170.977316 112.162871 \nL 174.202895 114.983649 \nL 177.428474 117.821741 \nL 180.654053 120.67378 \nL 183.879632 123.536399 \nL 187.105212 126.406232 \nL 190.330791 129.279912 \nL 193.55637 132.154073 \nL 196.781949 135.025347 \nL 200.007528 137.89037 \nL 203.233108 140.745773 \nL 206.458687 143.588191 \nL 209.684266 146.414257 \nL 212.909845 149.220605 \nL 216.135424 152.003867 \nL 219.361004 154.760678 \nL 222.586583 157.487672 \nL 225.812162 160.18148 \nL 229.037741 162.838738 \nL 232.26332 165.456077 \nL 235.488899 168.030133 \nL 238.714479 170.557538 \nL 241.940058 173.034926 \nL 245.165637 175.45893 \nL 248.391216 177.826185 \nL 251.616795 180.133322 \nL 254.842375 182.376976 \nL 258.067954 184.55378 \nL 261.293533 186.660369 \nL 264.519112 188.693374 \nL 267.744691 190.64943 \nL 270.970271 192.52517 \nL 274.19585 194.317228 \nL 277.421429 196.022237 \nL 280.647008 197.63683 \nL 283.872587 199.157642 \nL 287.098167 200.581305 \nL 290.323746 201.904453 \nL 293.549325 203.123719 \nL 296.774904 204.235738 \nL 300.000483 205.237142 \nL 303.226062 206.124565 \nL 306.451642 206.894641 \nL 309.677221 207.544002 \nL 312.9028 208.069283 \nL 316.128379 208.467117 \nL 319.353958 208.734137 \nL 322.579538 208.866976 \nL 325.805117 208.86227 \nL 329.030696 208.716649 \nL 332.256275 208.42675 \nL 335.481854 207.989204 \nL 338.707434 207.400645 \nL 341.933013 206.657707 \nL 345.158592 205.757023 \nL 348.384171 204.695226 \nL 351.60975 203.468951 \nL 354.835329 202.07483 \nL 358.060909 200.509498 \nL 361.286488 198.769587 \nL 364.512067 196.851731 \n\" clip-path=\"url(#p3f6a3c0da2)\" style=\"fill: none; stroke: #000000; stroke-width: 0.886227\"/>\n   </g>\n   <g id=\"line2d_24\">\n    <path d=\"M 45.179727 83.41268 \nL 50.501933 49.177926 \nL 55.824139 48.981853 \nL 61.146344 56.315113 \nL 66.46855 19.296 \nL 71.790756 31.609641 \nL 77.112961 74.981529 \nL 82.435167 50.236722 \nL 87.757373 88.47149 \nL 93.079578 92.785222 \nL 98.401784 108.039842 \nL 103.72399 79.099068 \nL 109.046195 55.922847 \nL 114.368401 50.079863 \nL 119.690607 19.648932 \nL 125.012812 24.35481 \nL 130.335018 21.609665 \nL 135.657224 31.923239 \nL 140.979429 43.687755 \nL 146.301635 49.844576 \nL 151.623841 72.354027 \nL 156.946046 121.882735 \nL 162.268252 131.686519 \nL 167.590458 131.059084 \nL 172.912663 130.157147 \nL 178.234869 127.372787 \nL 183.557075 114.471165 \nL 188.87928 167.293905 \nL 194.201486 146.117631 \nL 199.523692 175.725175 \nL 204.845897 173.058579 \nL 210.168103 179.842714 \nL 215.490308 201.685516 \nL 220.812514 200.352218 \nL 226.13472 231.253725 \nL 231.456925 199.01892 \nL 236.779131 186.744613 \nL 242.101337 153.725394 \nL 247.423542 143.058888 \nL 252.745748 151.764662 \nL 258.067954 133.333654 \nL 263.390159 181.215227 \nL 268.712365 162.823314 \nL 274.034571 182.391666 \nL 279.356776 168.235056 \nL 284.678982 142.157071 \nL 290.001188 176.783851 \nL 295.323393 205.567767 \nL 300.645599 205.724626 \nL 305.967805 184.27397 \nL 311.29001 185.649361 \nL 316.612216 220.112087 \nL 321.934422 231.115095 \nL 327.256627 231.940282 \nL 332.578833 261.216 \nL 337.901039 204.94381 \nL 343.223244 194.255239 \nL 348.54545 188.439358 \nL 353.867656 203.529085 \nL 359.189861 182.937913 \nL 364.512067 199.717348 \nL 369.834273 223.530957 \n\" clip-path=\"url(#p3f6a3c0da2)\" style=\"fill: none; stroke: #000000; stroke-width: 0.886227\"/>\n   </g>\n  </g>\n </g>\n <defs>\n  <clipPath id=\"p3f6a3c0da2\">\n   <rect x=\"28.947\" y=\"7.2\" width=\"357.12\" height=\"266.112\"/>\n  </clipPath>\n </defs>\n</svg>\n",
      "text/plain": [
       "<Figure size 640x480 with 1 Axes>"
      ]
     },
     "metadata": {},
     "output_type": "display_data"
    },
    {
     "data": {
      "text/plain": [
       "<ggplot: (306785818)>"
      ]
     },
     "execution_count": 145,
     "metadata": {},
     "output_type": "execute_result"
    }
   ],
   "source": [
    "def plot_model(model = linreg):\n",
    "    inputs = np.linspace(0,60,100)\n",
    "    inputs = poly.fit_transform(inputs.reshape(-1,1))\n",
    "\n",
    "    preds= polyreg.predict(inputs)\n",
    "\n",
    "    gg = (\n",
    "        ggplot()+\n",
    "        geom_line(aes(inputs[:,1],preds))+ # plot the model\n",
    "        geom_line(aes(hist['index'],hist['Close']))\n",
    "    )\n",
    "    return gg\n",
    "\n",
    "plot_model(polyreg)\n",
    "\n",
    "\n"
   ]
  },
  {
   "cell_type": "code",
   "execution_count": 42,
   "metadata": {},
   "outputs": [
    {
     "data": {
      "text/plain": [
       "array([336.047157])"
      ]
     },
     "execution_count": 42,
     "metadata": {},
     "output_type": "execute_result"
    }
   ],
   "source": [
    "linreg.predict(np.array([[1]]))"
   ]
  },
  {
   "cell_type": "markdown",
   "metadata": {},
   "source": [
    "## misc"
   ]
  },
  {
   "cell_type": "code",
   "execution_count": null,
   "metadata": {},
   "outputs": [],
   "source": [
    "## open a possition\n",
    "resp = ig_service.create_open_position(\n",
    "        currency_code='GBP',\n",
    "        direction='BUY',\n",
    "        epic=gold_epic,\n",
    "        order_type='MARKET',\n",
    "        expiry=\"AUG-22\",\n",
    "        force_open='false',\n",
    "        guaranteed_stop='false',\n",
    "        size=0.5,\n",
    "        level=None,\n",
    "        limit_distance=None,\n",
    "        limit_level=None,\n",
    "        quote_id=None,\n",
    "        stop_level=None,\n",
    "        stop_distance=None,\n",
    "        trailing_stop=None,\n",
    "        trailing_stop_increment=None\n",
    "        )\n",
    "resp"
   ]
  }
 ],
 "metadata": {
  "interpreter": {
   "hash": "bb0009c52eb3c452c2ae3a00e04b4ba3f813f393dffc4e145dcc3528e51fe9eb"
  },
  "kernelspec": {
   "display_name": "Python 3.9.13 ('.venv': poetry)",
   "language": "python",
   "name": "python3"
  },
  "language_info": {
   "codemirror_mode": {
    "name": "ipython",
    "version": 3
   },
   "file_extension": ".py",
   "mimetype": "text/x-python",
   "name": "python",
   "nbconvert_exporter": "python",
   "pygments_lexer": "ipython3",
   "version": "3.9.13"
  },
  "orig_nbformat": 4
 },
 "nbformat": 4,
 "nbformat_minor": 2
}
