{
 "cells": [
  {
   "cell_type": "raw",
   "metadata": {},
   "source": [
    "This notebook is for exploring the IG trading service.\n",
    "IG is a platform that allows you to buy and sell derivates.\n",
    "It offers spread betting and CFD trading, which allows you to bet on the direction of equities,\n",
    "bonds and currencies, without owning the underlying asset."
   ]
  },
  {
   "cell_type": "code",
   "execution_count": 7,
   "metadata": {},
   "outputs": [],
   "source": [
    "import sqlite3\n",
    "import json\n",
    "import datetime\n",
    "import pandas as pd\n",
    "import numpy as np\n",
    "from trading_ig.config import config\n",
    "import yfinance as yf\n",
    "from pathlib import Path\n",
    "from trading_ig import IGService, IGStreamService\n",
    "from trading_ig.lightstreamer import Subscription\n",
    "import time\n",
    "from autoIG.epics import US_CRUDE_OIL_EPIC,BITCOIN_EPIC,GOLD_EPIC\n",
    "\n",
    "from autoIG.utils import load_model,read_stream_,parse_item\n",
    "model = load_model(\"base_model/base_model.pkl\")\n",
    "\n",
    "# Set up Subscription\n",
    "ig_service = IGService(\n",
    "    config.username,\n",
    "    config.password,\n",
    "    config.api_key,\n",
    "    config.acc_type,\n",
    "    acc_number=config.acc_number,\n",
    ")\n",
    "ig_stream_service = IGStreamService(ig_service)\n",
    "ig_stream_service.create_session()\n",
    "sub = Subscription(\n",
    "    mode=\"MERGE\", items=[\"L1:\" + US_CRUDE_OIL_EPIC], fields=[\"UPDATE_TIME\", \"BID\", \"OFFER\"]\n",
    ")\n",
    "from autoIG.utils import parse_item\n"
   ]
  },
  {
   "cell_type": "code",
   "execution_count": 8,
   "metadata": {},
   "outputs": [
    {
     "name": "stdout",
     "output_type": "stream",
     "text": [
      "Latest prediction: 1.0010820889602312\n",
      "Latest prediction: 1.001104818567109\n",
      "Latest prediction: 1.0010979996850458\n",
      "Latest prediction: 1.00111391040986\n",
      "Latest prediction: 1.0010979996850458\n",
      "Latest prediction: 1.0010911808029823\n",
      "Latest prediction: 1.001104818567109\n",
      "Latest prediction: 1.0010979996850458\n",
      "Latest prediction: 1.001104818567109\n",
      "DISCONNECTED FROM LIGHTSTREAMER\n"
     ]
    }
   ],
   "source": [
    "config = dict()\n",
    "config[\"r_threshold\"] = 1.00113\n",
    "\n",
    "\n",
    "def on_update(item):\n",
    "    parse_item(item).to_csv(\"stream_.csv\", mode=\"a\", header=False)\n",
    "    stream_ = read_stream_(nrows=-2)\n",
    "    predictions = model.predict(stream_[[\"BID\"]])\n",
    "    latest_prediction = predictions[-1]\n",
    "    print(f\"Latest prediction: {latest_prediction}\")\n",
    "    if latest_prediction > config[\"r_threshold\"]:\n",
    "        print(\"We BUY!\")\n",
    "    stream_.to_csv(\"stream_.csv\", mode=\"w\", header=False)\n",
    "    return None\n",
    "\n",
    "sub.addlistener(on_update)\n",
    "ig_stream_service.ls_client.subscribe(sub)\n",
    "time.sleep(3)\n",
    "ig_stream_service.disconnect()\n"
   ]
  },
  {
   "cell_type": "code",
   "execution_count": 2,
   "metadata": {},
   "outputs": [],
   "source": [
    "ig_service"
   ]
  },
  {
   "cell_type": "code",
   "execution_count": null,
   "metadata": {},
   "outputs": [],
   "source": []
  },
  {
   "cell_type": "code",
   "execution_count": null,
   "metadata": {},
   "outputs": [],
   "source": []
  },
  {
   "cell_type": "code",
   "execution_count": null,
   "metadata": {},
   "outputs": [],
   "source": []
  },
  {
   "cell_type": "code",
   "execution_count": null,
   "metadata": {},
   "outputs": [],
   "source": []
  },
  {
   "cell_type": "code",
   "execution_count": null,
   "metadata": {},
   "outputs": [],
   "source": [
    "\n"
   ]
  },
  {
   "cell_type": "code",
   "execution_count": null,
   "metadata": {},
   "outputs": [],
   "source": []
  }
 ],
 "metadata": {
  "kernelspec": {
   "display_name": "Python 3.9.13 ('.venv': poetry)",
   "language": "python",
   "name": "python3"
  },
  "language_info": {
   "codemirror_mode": {
    "name": "ipython",
    "version": 3
   },
   "file_extension": ".py",
   "mimetype": "text/x-python",
   "name": "python",
   "nbconvert_exporter": "python",
   "pygments_lexer": "ipython3",
   "version": "3.9.5"
  },
  "orig_nbformat": 4,
  "vscode": {
   "interpreter": {
    "hash": "a6f487c99caa30a143fa23621bc9ce160857a5bdd835349e8b66e6beb37010aa"
   }
  }
 },
 "nbformat": 4,
 "nbformat_minor": 2
}
