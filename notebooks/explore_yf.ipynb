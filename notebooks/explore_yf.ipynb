{
 "cells": [
  {
   "cell_type": "code",
   "execution_count": 1,
   "metadata": {},
   "outputs": [],
   "source": [
    "import json\n",
    "\n",
    "# import numpy as np\n",
    "import pandas as pd\n",
    "import numpy as np\n",
    "\n",
    "import yfinance as yf\n",
    "\n",
    "# plotting\n",
    "import plotnine as pn\n",
    "from plotnine import ggplot, aes, geom_col, theme, geom_point,scale_x_continuous ,scale_y_continuous"
   ]
  },
  {
   "cell_type": "markdown",
   "metadata": {},
   "source": [
    "## Instatiate IG Service"
   ]
  },
  {
   "cell_type": "code",
   "execution_count": 3,
   "metadata": {},
   "outputs": [],
   "source": [
    "GOLD_TICKER = \"GC=F\"\n",
    "gold = yf.Ticker(GOLD_TICKER)\n",
    "MSFT_TICKER = \"msft\"\n",
    "msft = yf.Ticker(MSFT_TICKER)\n",
    "\n"
   ]
  },
  {
   "cell_type": "code",
   "execution_count": 4,
   "metadata": {},
   "outputs": [
    {
     "data": {
      "text/html": [
       "<div>\n",
       "<style scoped>\n",
       "    .dataframe tbody tr th:only-of-type {\n",
       "        vertical-align: middle;\n",
       "    }\n",
       "\n",
       "    .dataframe tbody tr th {\n",
       "        vertical-align: top;\n",
       "    }\n",
       "\n",
       "    .dataframe thead th {\n",
       "        text-align: right;\n",
       "    }\n",
       "</style>\n",
       "<table border=\"1\" class=\"dataframe\">\n",
       "  <thead>\n",
       "    <tr style=\"text-align: right;\">\n",
       "      <th></th>\n",
       "      <th>Firm</th>\n",
       "      <th>To Grade</th>\n",
       "      <th>From Grade</th>\n",
       "      <th>Action</th>\n",
       "    </tr>\n",
       "    <tr>\n",
       "      <th>Date</th>\n",
       "      <th></th>\n",
       "      <th></th>\n",
       "      <th></th>\n",
       "      <th></th>\n",
       "    </tr>\n",
       "  </thead>\n",
       "  <tbody>\n",
       "    <tr>\n",
       "      <th>2012-03-16 08:19:00</th>\n",
       "      <td>Argus Research</td>\n",
       "      <td>Buy</td>\n",
       "      <td></td>\n",
       "      <td>up</td>\n",
       "    </tr>\n",
       "    <tr>\n",
       "      <th>2012-03-19 14:00:00</th>\n",
       "      <td>Hilliard Lyons</td>\n",
       "      <td>Long-Term Buy</td>\n",
       "      <td></td>\n",
       "      <td>main</td>\n",
       "    </tr>\n",
       "    <tr>\n",
       "      <th>2012-03-22 07:03:00</th>\n",
       "      <td>Morgan Stanley</td>\n",
       "      <td>Overweight</td>\n",
       "      <td></td>\n",
       "      <td>main</td>\n",
       "    </tr>\n",
       "    <tr>\n",
       "      <th>2012-04-03 11:53:00</th>\n",
       "      <td>UBS</td>\n",
       "      <td>Buy</td>\n",
       "      <td></td>\n",
       "      <td>main</td>\n",
       "    </tr>\n",
       "    <tr>\n",
       "      <th>2012-04-20 06:18:00</th>\n",
       "      <td>Deutsche Bank</td>\n",
       "      <td>Buy</td>\n",
       "      <td></td>\n",
       "      <td>main</td>\n",
       "    </tr>\n",
       "    <tr>\n",
       "      <th>...</th>\n",
       "      <td>...</td>\n",
       "      <td>...</td>\n",
       "      <td>...</td>\n",
       "      <td>...</td>\n",
       "    </tr>\n",
       "    <tr>\n",
       "      <th>2022-04-27 10:30:55</th>\n",
       "      <td>Wolfe Research</td>\n",
       "      <td>Outperform</td>\n",
       "      <td></td>\n",
       "      <td>main</td>\n",
       "    </tr>\n",
       "    <tr>\n",
       "      <th>2022-04-27 11:39:41</th>\n",
       "      <td>Deutsche Bank</td>\n",
       "      <td>Buy</td>\n",
       "      <td></td>\n",
       "      <td>main</td>\n",
       "    </tr>\n",
       "    <tr>\n",
       "      <th>2022-04-27 11:42:42</th>\n",
       "      <td>Stifel</td>\n",
       "      <td>Buy</td>\n",
       "      <td></td>\n",
       "      <td>main</td>\n",
       "    </tr>\n",
       "    <tr>\n",
       "      <th>2022-04-27 11:46:09</th>\n",
       "      <td>Wedbush</td>\n",
       "      <td>Outperform</td>\n",
       "      <td></td>\n",
       "      <td>main</td>\n",
       "    </tr>\n",
       "    <tr>\n",
       "      <th>2022-05-23 13:36:08</th>\n",
       "      <td>Jefferies</td>\n",
       "      <td>Buy</td>\n",
       "      <td></td>\n",
       "      <td>main</td>\n",
       "    </tr>\n",
       "  </tbody>\n",
       "</table>\n",
       "<p>374 rows × 4 columns</p>\n",
       "</div>"
      ],
      "text/plain": [
       "                               Firm       To Grade From Grade Action\n",
       "Date                                                                \n",
       "2012-03-16 08:19:00  Argus Research            Buy                up\n",
       "2012-03-19 14:00:00  Hilliard Lyons  Long-Term Buy              main\n",
       "2012-03-22 07:03:00  Morgan Stanley     Overweight              main\n",
       "2012-04-03 11:53:00             UBS            Buy              main\n",
       "2012-04-20 06:18:00   Deutsche Bank            Buy              main\n",
       "...                             ...            ...        ...    ...\n",
       "2022-04-27 10:30:55  Wolfe Research     Outperform              main\n",
       "2022-04-27 11:39:41   Deutsche Bank            Buy              main\n",
       "2022-04-27 11:42:42          Stifel            Buy              main\n",
       "2022-04-27 11:46:09         Wedbush     Outperform              main\n",
       "2022-05-23 13:36:08       Jefferies            Buy              main\n",
       "\n",
       "[374 rows x 4 columns]"
      ]
     },
     "execution_count": 4,
     "metadata": {},
     "output_type": "execute_result"
    }
   ],
   "source": [
    "msft.recommendations"
   ]
  },
  {
   "cell_type": "code",
   "execution_count": 98,
   "metadata": {},
   "outputs": [
    {
     "data": {
      "text/plain": [
       "{'exchange': 'CMX',\n",
       " 'shortName': 'Gold Aug 22',\n",
       " 'exchangeTimezoneName': 'America/New_York',\n",
       " 'exchangeTimezoneShortName': 'EDT',\n",
       " 'isEsgPopulated': False,\n",
       " 'gmtOffSetMilliseconds': '-14400000',\n",
       " 'underlyingSymbol': 'GCQ22.CMX',\n",
       " 'quoteType': 'FUTURE',\n",
       " 'symbol': 'GC=F',\n",
       " 'underlyingExchangeSymbol': 'GCQ22.CMX',\n",
       " 'headSymbol': 'GC=F',\n",
       " 'market': 'us24_market',\n",
       " 'previousClose': 1857.3,\n",
       " 'regularMarketOpen': 1856.5,\n",
       " 'twoHundredDayAverage': 1838.96,\n",
       " 'trailingAnnualDividendYield': None,\n",
       " 'payoutRatio': None,\n",
       " 'volume24Hr': None,\n",
       " 'regularMarketDayHigh': 1867.9,\n",
       " 'navPrice': None,\n",
       " 'averageDailyVolume10Day': 24767,\n",
       " 'totalAssets': None,\n",
       " 'regularMarketPreviousClose': 1857.3,\n",
       " 'fiftyDayAverage': 1899.288,\n",
       " 'trailingAnnualDividendRate': None,\n",
       " 'open': 1856.5,\n",
       " 'toCurrency': None,\n",
       " 'averageVolume10days': 24767,\n",
       " 'expireDate': 1661731200,\n",
       " 'yield': None,\n",
       " 'algorithm': None,\n",
       " 'dividendRate': None,\n",
       " 'exDividendDate': None,\n",
       " 'beta': None,\n",
       " 'circulatingSupply': None,\n",
       " 'startDate': None,\n",
       " 'regularMarketDayLow': 1849.6,\n",
       " 'priceHint': 2,\n",
       " 'currency': 'USD',\n",
       " 'regularMarketVolume': 26227,\n",
       " 'lastMarket': None,\n",
       " 'maxSupply': None,\n",
       " 'openInterest': 435400,\n",
       " 'marketCap': None,\n",
       " 'volumeAllCurrencies': None,\n",
       " 'strikePrice': None,\n",
       " 'averageVolume': 6629,\n",
       " 'priceToSalesTrailing12Months': None,\n",
       " 'dayLow': 1849.6,\n",
       " 'ask': 1857.7,\n",
       " 'ytdReturn': None,\n",
       " 'askSize': 900,\n",
       " 'volume': 26227,\n",
       " 'fiftyTwoWeekHigh': 2072,\n",
       " 'forwardPE': None,\n",
       " 'maxAge': 1,\n",
       " 'fromCurrency': None,\n",
       " 'fiveYearAvgDividendYield': None,\n",
       " 'fiftyTwoWeekLow': 1692.6,\n",
       " 'bid': 1863,\n",
       " 'tradeable': False,\n",
       " 'dividendYield': None,\n",
       " 'bidSize': 1400,\n",
       " 'dayHigh': 1867.9,\n",
       " 'regularMarketPrice': 1863.1,\n",
       " 'preMarketPrice': None,\n",
       " 'logo_url': ''}"
      ]
     },
     "execution_count": 98,
     "metadata": {},
     "output_type": "execute_result"
    }
   ],
   "source": [
    "gold.info"
   ]
  },
  {
   "cell_type": "code",
   "execution_count": 101,
   "metadata": {},
   "outputs": [
    {
     "data": {
      "text/html": [
       "<div>\n",
       "<style scoped>\n",
       "    .dataframe tbody tr th:only-of-type {\n",
       "        vertical-align: middle;\n",
       "    }\n",
       "\n",
       "    .dataframe tbody tr th {\n",
       "        vertical-align: top;\n",
       "    }\n",
       "\n",
       "    .dataframe thead th {\n",
       "        text-align: right;\n",
       "    }\n",
       "</style>\n",
       "<table border=\"1\" class=\"dataframe\">\n",
       "  <thead>\n",
       "    <tr style=\"text-align: right;\">\n",
       "      <th></th>\n",
       "      <th>Dividends</th>\n",
       "      <th>Stock Splits</th>\n",
       "    </tr>\n",
       "    <tr>\n",
       "      <th>Date</th>\n",
       "      <th></th>\n",
       "      <th></th>\n",
       "    </tr>\n",
       "  </thead>\n",
       "  <tbody>\n",
       "  </tbody>\n",
       "</table>\n",
       "</div>"
      ],
      "text/plain": [
       "Empty DataFrame\n",
       "Columns: [Dividends, Stock Splits]\n",
       "Index: []"
      ]
     },
     "execution_count": 101,
     "metadata": {},
     "output_type": "execute_result"
    }
   ],
   "source": [
    "gold.actions"
   ]
  },
  {
   "cell_type": "code",
   "execution_count": 102,
   "metadata": {},
   "outputs": [],
   "source": [
    "history_raw = gold.history()\n",
    "# history_raw.to_csv('tmp/history_raw.csv')"
   ]
  },
  {
   "cell_type": "code",
   "execution_count": 111,
   "metadata": {},
   "outputs": [],
   "source": []
  },
  {
   "cell_type": "code",
   "execution_count": 112,
   "metadata": {},
   "outputs": [
    {
     "data": {
      "text/html": [
       "<div>\n",
       "<style scoped>\n",
       "    .dataframe tbody tr th:only-of-type {\n",
       "        vertical-align: middle;\n",
       "    }\n",
       "\n",
       "    .dataframe tbody tr th {\n",
       "        vertical-align: top;\n",
       "    }\n",
       "\n",
       "    .dataframe thead th {\n",
       "        text-align: right;\n",
       "    }\n",
       "</style>\n",
       "<table border=\"1\" class=\"dataframe\">\n",
       "  <thead>\n",
       "    <tr style=\"text-align: right;\">\n",
       "      <th></th>\n",
       "      <th>Date</th>\n",
       "      <th>Open</th>\n",
       "      <th>High</th>\n",
       "      <th>Low</th>\n",
       "      <th>Close</th>\n",
       "      <th>Volume</th>\n",
       "      <th>Dividends</th>\n",
       "      <th>Stock Splits</th>\n",
       "      <th>days_since</th>\n",
       "    </tr>\n",
       "  </thead>\n",
       "  <tbody>\n",
       "    <tr>\n",
       "      <th>0</th>\n",
       "      <td>2022-05-02</td>\n",
       "      <td>1896.699951</td>\n",
       "      <td>1896.800049</td>\n",
       "      <td>1853.000000</td>\n",
       "      <td>1861.800049</td>\n",
       "      <td>385</td>\n",
       "      <td>0</td>\n",
       "      <td>0</td>\n",
       "      <td>0</td>\n",
       "    </tr>\n",
       "    <tr>\n",
       "      <th>1</th>\n",
       "      <td>2022-05-03</td>\n",
       "      <td>1868.800049</td>\n",
       "      <td>1868.800049</td>\n",
       "      <td>1868.800049</td>\n",
       "      <td>1868.800049</td>\n",
       "      <td>466</td>\n",
       "      <td>0</td>\n",
       "      <td>0</td>\n",
       "      <td>1</td>\n",
       "    </tr>\n",
       "    <tr>\n",
       "      <th>2</th>\n",
       "      <td>2022-05-04</td>\n",
       "      <td>1867.000000</td>\n",
       "      <td>1867.000000</td>\n",
       "      <td>1867.000000</td>\n",
       "      <td>1867.000000</td>\n",
       "      <td>1</td>\n",
       "      <td>0</td>\n",
       "      <td>0</td>\n",
       "      <td>2</td>\n",
       "    </tr>\n",
       "    <tr>\n",
       "      <th>3</th>\n",
       "      <td>2022-05-05</td>\n",
       "      <td>1897.000000</td>\n",
       "      <td>1904.300049</td>\n",
       "      <td>1874.000000</td>\n",
       "      <td>1874.000000</td>\n",
       "      <td>80</td>\n",
       "      <td>0</td>\n",
       "      <td>0</td>\n",
       "      <td>3</td>\n",
       "    </tr>\n",
       "    <tr>\n",
       "      <th>4</th>\n",
       "      <td>2022-05-06</td>\n",
       "      <td>1874.699951</td>\n",
       "      <td>1890.300049</td>\n",
       "      <td>1871.500000</td>\n",
       "      <td>1881.199951</td>\n",
       "      <td>214</td>\n",
       "      <td>0</td>\n",
       "      <td>0</td>\n",
       "      <td>4</td>\n",
       "    </tr>\n",
       "  </tbody>\n",
       "</table>\n",
       "</div>"
      ],
      "text/plain": [
       "        Date         Open         High          Low        Close  Volume  \\\n",
       "0 2022-05-02  1896.699951  1896.800049  1853.000000  1861.800049     385   \n",
       "1 2022-05-03  1868.800049  1868.800049  1868.800049  1868.800049     466   \n",
       "2 2022-05-04  1867.000000  1867.000000  1867.000000  1867.000000       1   \n",
       "3 2022-05-05  1897.000000  1904.300049  1874.000000  1874.000000      80   \n",
       "4 2022-05-06  1874.699951  1890.300049  1871.500000  1881.199951     214   \n",
       "\n",
       "   Dividends  Stock Splits  days_since  \n",
       "0          0             0           0  \n",
       "1          0             0           1  \n",
       "2          0             0           2  \n",
       "3          0             0           3  \n",
       "4          0             0           4  "
      ]
     },
     "execution_count": 112,
     "metadata": {},
     "output_type": "execute_result"
    }
   ],
   "source": [
    "history = history_raw.reset_index().assign(\n",
    "    days_since=lambda df: list(map(lambda x: x.days, (df[\"Date\"] - df[\"Date\"][0])))\n",
    ")\n",
    "history.head()\n"
   ]
  },
  {
   "cell_type": "code",
   "execution_count": 152,
   "metadata": {},
   "outputs": [],
   "source": [
    "test_size = 3\n",
    "history = history.assign(\n",
    "    train_test=[\"train\"] * (len(history) - test_size) + [\"test\"] * test_size\n",
    ")\n"
   ]
  },
  {
   "cell_type": "code",
   "execution_count": 153,
   "metadata": {},
   "outputs": [],
   "source": [
    "from sklearn.linear_model import LinearRegression\n",
    "# from sklearn.model_selection import train_test_split"
   ]
  },
  {
   "cell_type": "code",
   "execution_count": 154,
   "metadata": {},
   "outputs": [],
   "source": [
    "train = history.query(\"train_test=='train'\")\n",
    "test = history.query(\"train_test=='test'\")\n",
    "X_train = train.days_since.to_numpy().reshape(-1,1)\n",
    "X_test = test.days_since.to_numpy().reshape(-1,1)\n",
    "y_train = train.Close\n",
    "y_test = test.Close"
   ]
  },
  {
   "cell_type": "code",
   "execution_count": 155,
   "metadata": {},
   "outputs": [],
   "source": [
    "from sklearn.preprocessing import PolynomialFeatures\n",
    "polys = PolynomialFeatures(degree=3)\n",
    "polys.fit(X_train)\n",
    "X_train_preprocessed = polys.transform(X_train)"
   ]
  },
  {
   "cell_type": "code",
   "execution_count": 156,
   "metadata": {},
   "outputs": [
    {
     "data": {
      "text/plain": [
       "LinearRegression()"
      ]
     },
     "execution_count": 156,
     "metadata": {},
     "output_type": "execute_result"
    }
   ],
   "source": [
    "mod = LinearRegression()\n",
    "mod.fit(X_train_preprocessed,y_train)"
   ]
  },
  {
   "cell_type": "code",
   "execution_count": 157,
   "metadata": {},
   "outputs": [
    {
     "data": {
      "text/plain": [
       "array([[1.0000e+00, 2.4000e+01, 5.7600e+02, 1.3824e+04],\n",
       "       [1.0000e+00, 2.5000e+01, 6.2500e+02, 1.5625e+04],\n",
       "       [1.0000e+00, 2.8000e+01, 7.8400e+02, 2.1952e+04]])"
      ]
     },
     "execution_count": 157,
     "metadata": {},
     "output_type": "execute_result"
    }
   ],
   "source": [
    "polys.transform(X_test)"
   ]
  },
  {
   "cell_type": "code",
   "execution_count": 158,
   "metadata": {},
   "outputs": [
    {
     "data": {
      "text/plain": [
       "array([1879.54946167, 1896.05104189, 1961.5275576 ])"
      ]
     },
     "execution_count": 158,
     "metadata": {},
     "output_type": "execute_result"
    }
   ],
   "source": [
    "y_predictions = mod.predict(polys.transform(X_test))\n",
    "y_predictions"
   ]
  },
  {
   "cell_type": "code",
   "execution_count": 159,
   "metadata": {},
   "outputs": [
    {
     "data": {
      "text/plain": [
       "4234.851960693423"
      ]
     },
     "execution_count": 159,
     "metadata": {},
     "output_type": "execute_result"
    }
   ],
   "source": [
    "from sklearn.metrics import mean_squared_error\n",
    "mean_squared_error(y_predictions, y_test)"
   ]
  },
  {
   "cell_type": "code",
   "execution_count": 160,
   "metadata": {},
   "outputs": [
    {
     "data": {
      "image/png": "[encoded data removed]",
      "text/plain": [
       "<Figure size 1000x300 with 1 Axes>"
      ]
     },
     "metadata": {},
     "output_type": "display_data"
    },
    {
     "data": {
      "text/plain": [
       "<ggplot: (318395895)>"
      ]
     },
     "execution_count": 160,
     "metadata": {},
     "output_type": "execute_result"
    }
   ],
   "source": [
    "(\n",
    "    ggplot(history)+\n",
    "    geom_point(aes('days_since','Close',color = 'train_test'))+\n",
    "    theme(figure_size = [10,3])+\n",
    "    pn.geom_point(data = test,mapping = aes('days_since',y_predictions))\n",
    ")"
   ]
  },
  {
   "cell_type": "code",
   "execution_count": 172,
   "metadata": {},
   "outputs": [
    {
     "data": {
      "text/plain": [
       "True"
      ]
     },
     "execution_count": 172,
     "metadata": {},
     "output_type": "execute_result"
    }
   ],
   "source": [
    "if y_predictions[0]> y_test.iloc[-1]:\n",
    "    # implement buying logic\n",
    "    "
   ]
  },
  {
   "cell_type": "code",
   "execution_count": null,
   "metadata": {},
   "outputs": [],
   "source": []
  },
  {
   "cell_type": "code",
   "execution_count": null,
   "metadata": {},
   "outputs": [],
   "source": []
  },
  {
   "cell_type": "code",
   "execution_count": 114,
   "metadata": {},
   "outputs": [],
   "source": [
    "# inputs = np.linspace(0,60,100)\n",
    "# poly = PolynomialFeatures(degree = 2)\n",
    "# inputs = poly.fit_transform(inputs.reshape(-1,1))\n",
    "\n",
    "# poly = PolynomialFeatures(degree = 3)\n",
    "# inputs = poly.fit_transform(inputs.reshape(-1,1))\n",
    "\n"
   ]
  },
  {
   "cell_type": "code",
   "execution_count": null,
   "metadata": {},
   "outputs": [],
   "source": []
  },
  {
   "cell_type": "code",
   "execution_count": 145,
   "metadata": {},
   "outputs": [
    {
     "data": {
      "image/png": "[encoded data removed]",
      "image/svg+xml": "<?xml version=\"1.0\" encoding=\"utf-8\" standalone=\"no\"?>\n<!DOCTYPE svg PUBLIC \"-//W3C//DTD SVG 1.1//EN\"\n  \"http://www.w3.org/Graphics/SVG/1.1/DTD/svg11.dtd\">\n<svg xmlns:xlink=\"http://www.w3.org/1999/xlink\" width=\"393.267pt\" height=\"293.97875pt\" viewBox=\"0 0 393.267 293.97875\" xmlns=\"http://www.w3.org/2000/svg\" version=\"1.1\">\n <metadata>\n  <rdf:RDF xmlns:dc=\"http://purl.org/dc/elements/1.1/\" xmlns:cc=\"http://creativecommons.org/ns#\" xmlns:rdf=\"http://www.w3.org/1999/02/22-rdf-syntax-ns#\">\n   <cc:Work>\n    <dc:type rdf:resource=\"http://purl.org/dc/dcmitype/StillImage\"/>\n    <dc:date>2022-03-06T22:15:11.012883</dc:date>\n    <dc:format>image/svg+xml</dc:format>\n    <dc:creator>\n     <cc:Agent>\n      <dc:title>Matplotlib v3.5.1, https://matplotlib.org/</dc:title>\n     </cc:Agent>\n    </dc:creator>\n   </cc:Work>\n  </rdf:RDF>\n </metadata>\n <defs>\n  <style type=\"text/css\">*{stroke-linejoin: round; stroke-linecap: butt}</style>\n </defs>\n <g id=\"figure_1\">\n  <g id=\"patch_1\">\n   <path d=\"M 0 293.97875 \nL 393.267 293.97875 \nL 393.267 0 \nL 0 0 \nz\n\" style=\"fill: #ffffff; stroke: #ffffff; stroke-linejoin: miter\"/>\n  </g>\n  <g id=\"axes_1\">\n   <g id=\"patch_2\">\n    <path d=\"M 28.947 273.312 \nL 386.067 273.312 \nL 386.067 7.2 \nL 28.947 7.2 \nz\n\" style=\"fill: #ebebeb\"/>\n   </g>\n   <g id=\"matplotlib.axis_1\">\n    <g id=\"xtick_1\">\n     <g id=\"line2d_1\">\n      <path d=\"M 45.179727 273.312 \nL 45.179727 7.2 \n\" clip-path=\"url(#p3f6a3c0da2)\" style=\"fill: none; stroke: #ffffff\"/>\n     </g>\n     <g id=\"line2d_2\">\n      <path d=\"M 45.179727 273.312 \n\" style=\"fill: none; stroke: #333333; stroke-width: 1.5\"/>\n      <defs>\n       <path id=\"ma85bc0de80\" d=\"M 0 0 \nL 0 2.75 \n\" style=\"stroke: #000000\"/>\n      </defs>\n      <g>\n       <use xlink:href=\"#ma85bc0de80\" x=\"45.179727\" y=\"273.312\" style=\"fill: #333333; stroke: #000000\"/>\n      </g>\n     </g>\n     <g id=\"text_1\">\n      <!-- 0 -->\n      <g style=\"fill: #4d4d4d\" transform=\"translate(42.380227 284.948625)scale(0.088 -0.088)\">\n       <defs>\n        <path id=\"DejaVuSans-30\" d=\"M 2034 4250 \nQ 1547 4250 1301 3770 \nQ 1056 3291 1056 2328 \nQ 1056 1369 1301 889 \nQ 1547 409 2034 409 \nQ 2525 409 2770 889 \nQ 3016 1369 3016 2328 \nQ 3016 3291 2770 3770 \nQ 2525 4250 2034 4250 \nz\nM 2034 4750 \nQ 2819 4750 3233 4129 \nQ 3647 3509 3647 2328 \nQ 3647 1150 3233 529 \nQ 2819 -91 2034 -91 \nQ 1250 -91 836 529 \nQ 422 1150 422 2328 \nQ 422 3509 836 4129 \nQ 1250 4750 2034 4750 \nz\n\" transform=\"scale(0.015625)\"/>\n       </defs>\n       <use xlink:href=\"#DejaVuSans-30\"/>\n      </g>\n     </g>\n    </g>\n    <g id=\"xtick_2\">\n     <g id=\"line2d_3\">\n      <path d=\"M 151.623841 273.312 \nL 151.623841 7.2 \n\" clip-path=\"url(#p3f6a3c0da2)\" style=\"fill: none; stroke: #ffffff\"/>\n     </g>\n     <g id=\"line2d_4\">\n      <path d=\"M 151.623841 273.312 \n\" style=\"fill: none; stroke: #333333; stroke-width: 1.5\"/>\n      <g>\n       <use xlink:href=\"#ma85bc0de80\" x=\"151.623841\" y=\"273.312\" style=\"fill: #333333; stroke: #000000\"/>\n      </g>\n     </g>\n     <g id=\"text_2\">\n      <!-- 20 -->\n      <g style=\"fill: #4d4d4d\" transform=\"translate(146.024841 284.948625)scale(0.088 -0.088)\">\n       <defs>\n        <path id=\"DejaVuSans-32\" d=\"M 1228 531 \nL 3431 531 \nL 3431 0 \nL 469 0 \nL 469 531 \nQ 828 903 1448 1529 \nQ 2069 2156 2228 2338 \nQ 2531 2678 2651 2914 \nQ 2772 3150 2772 3378 \nQ 2772 3750 2511 3984 \nQ 2250 4219 1831 4219 \nQ 1534 4219 1204 4116 \nQ 875 4013 500 3803 \nL 500 4441 \nQ 881 4594 1212 4672 \nQ 1544 4750 1819 4750 \nQ 2544 4750 2975 4387 \nQ 3406 4025 3406 3419 \nQ 3406 3131 3298 2873 \nQ 3191 2616 2906 2266 \nQ 2828 2175 2409 1742 \nQ 1991 1309 1228 531 \nz\n\" transform=\"scale(0.015625)\"/>\n       </defs>\n       <use xlink:href=\"#DejaVuSans-32\"/>\n       <use xlink:href=\"#DejaVuSans-30\" x=\"63.623047\"/>\n      </g>\n     </g>\n    </g>\n    <g id=\"xtick_3\">\n     <g id=\"line2d_5\">\n      <path d=\"M 258.067954 273.312 \nL 258.067954 7.2 \n\" clip-path=\"url(#p3f6a3c0da2)\" style=\"fill: none; stroke: #ffffff\"/>\n     </g>\n     <g id=\"line2d_6\">\n      <path d=\"M 258.067954 273.312 \n\" style=\"fill: none; stroke: #333333; stroke-width: 1.5\"/>\n      <g>\n       <use xlink:href=\"#ma85bc0de80\" x=\"258.067954\" y=\"273.312\" style=\"fill: #333333; stroke: #000000\"/>\n      </g>\n     </g>\n     <g id=\"text_3\">\n      <!-- 40 -->\n      <g style=\"fill: #4d4d4d\" transform=\"translate(252.468954 284.948625)scale(0.088 -0.088)\">\n       <defs>\n        <path id=\"DejaVuSans-34\" d=\"M 2419 4116 \nL 825 1625 \nL 2419 1625 \nL 2419 4116 \nz\nM 2253 4666 \nL 3047 4666 \nL 3047 1625 \nL 3713 1625 \nL 3713 1100 \nL 3047 1100 \nL 3047 0 \nL 2419 0 \nL 2419 1100 \nL 313 1100 \nL 313 1709 \nL 2253 4666 \nz\n\" transform=\"scale(0.015625)\"/>\n       </defs>\n       <use xlink:href=\"#DejaVuSans-34\"/>\n       <use xlink:href=\"#DejaVuSans-30\" x=\"63.623047\"/>\n      </g>\n     </g>\n    </g>\n    <g id=\"xtick_4\">\n     <g id=\"line2d_7\">\n      <path d=\"M 364.512067 273.312 \nL 364.512067 7.2 \n\" clip-path=\"url(#p3f6a3c0da2)\" style=\"fill: none; stroke: #ffffff\"/>\n     </g>\n     <g id=\"line2d_8\">\n      <path d=\"M 364.512067 273.312 \n\" style=\"fill: none; stroke: #333333; stroke-width: 1.5\"/>\n      <g>\n       <use xlink:href=\"#ma85bc0de80\" x=\"364.512067\" y=\"273.312\" style=\"fill: #333333; stroke: #000000\"/>\n      </g>\n     </g>\n     <g id=\"text_4\">\n      <!-- 60 -->\n      <g style=\"fill: #4d4d4d\" transform=\"translate(358.913067 284.948625)scale(0.088 -0.088)\">\n       <defs>\n        <path id=\"DejaVuSans-36\" d=\"M 2113 2584 \nQ 1688 2584 1439 2293 \nQ 1191 2003 1191 1497 \nQ 1191 994 1439 701 \nQ 1688 409 2113 409 \nQ 2538 409 2786 701 \nQ 3034 994 3034 1497 \nQ 3034 2003 2786 2293 \nQ 2538 2584 2113 2584 \nz\nM 3366 4563 \nL 3366 3988 \nQ 3128 4100 2886 4159 \nQ 2644 4219 2406 4219 \nQ 1781 4219 1451 3797 \nQ 1122 3375 1075 2522 \nQ 1259 2794 1537 2939 \nQ 1816 3084 2150 3084 \nQ 2853 3084 3261 2657 \nQ 3669 2231 3669 1497 \nQ 3669 778 3244 343 \nQ 2819 -91 2113 -91 \nQ 1303 -91 875 529 \nQ 447 1150 447 2328 \nQ 447 3434 972 4092 \nQ 1497 4750 2381 4750 \nQ 2619 4750 2861 4703 \nQ 3103 4656 3366 4563 \nz\n\" transform=\"scale(0.015625)\"/>\n       </defs>\n       <use xlink:href=\"#DejaVuSans-36\"/>\n       <use xlink:href=\"#DejaVuSans-30\" x=\"63.623047\"/>\n      </g>\n     </g>\n    </g>\n    <g id=\"xtick_5\">\n     <g id=\"line2d_9\">\n      <path d=\"M 98.401784 273.312 \nL 98.401784 7.2 \n\" clip-path=\"url(#p3f6a3c0da2)\" style=\"fill: none; stroke: #ffffff; stroke-width: 0.5\"/>\n     </g>\n    </g>\n    <g id=\"xtick_6\">\n     <g id=\"line2d_10\">\n      <path d=\"M 204.845897 273.312 \nL 204.845897 7.2 \n\" clip-path=\"url(#p3f6a3c0da2)\" style=\"fill: none; stroke: #ffffff; stroke-width: 0.5\"/>\n     </g>\n    </g>\n    <g id=\"xtick_7\">\n     <g id=\"line2d_11\">\n      <path d=\"M 311.29001 273.312 \nL 311.29001 7.2 \n\" clip-path=\"url(#p3f6a3c0da2)\" style=\"fill: none; stroke: #ffffff; stroke-width: 0.5\"/>\n     </g>\n    </g>\n   </g>\n   <g id=\"matplotlib.axis_2\">\n    <g id=\"ytick_1\">\n     <g id=\"line2d_12\">\n      <path d=\"M 28.947 262.276954 \nL 386.067 262.276954 \n\" clip-path=\"url(#p3f6a3c0da2)\" style=\"fill: none; stroke: #ffffff\"/>\n     </g>\n     <g id=\"line2d_13\">\n      <path d=\"M 28.947 262.276954 \n\" style=\"fill: none; stroke: #333333; stroke-width: 1.5\"/>\n      <defs>\n       <path id=\"m682610208f\" d=\"M 0 0 \nL -2.75 0 \n\" style=\"stroke: #000000\"/>\n      </defs>\n      <g>\n       <use xlink:href=\"#m682610208f\" x=\"28.947\" y=\"262.276954\" style=\"fill: #333333; stroke: #000000\"/>\n      </g>\n     </g>\n     <g id=\"text_5\">\n      <!-- 280 -->\n      <g style=\"fill: #4d4d4d\" transform=\"translate(7.2 264.705204)scale(0.088 -0.088)\">\n       <defs>\n        <path id=\"DejaVuSans-38\" d=\"M 2034 2216 \nQ 1584 2216 1326 1975 \nQ 1069 1734 1069 1313 \nQ 1069 891 1326 650 \nQ 1584 409 2034 409 \nQ 2484 409 2743 651 \nQ 3003 894 3003 1313 \nQ 3003 1734 2745 1975 \nQ 2488 2216 2034 2216 \nz\nM 1403 2484 \nQ 997 2584 770 2862 \nQ 544 3141 544 3541 \nQ 544 4100 942 4425 \nQ 1341 4750 2034 4750 \nQ 2731 4750 3128 4425 \nQ 3525 4100 3525 3541 \nQ 3525 3141 3298 2862 \nQ 3072 2584 2669 2484 \nQ 3125 2378 3379 2068 \nQ 3634 1759 3634 1313 \nQ 3634 634 3220 271 \nQ 2806 -91 2034 -91 \nQ 1263 -91 848 271 \nQ 434 634 434 1313 \nQ 434 1759 690 2068 \nQ 947 2378 1403 2484 \nz\nM 1172 3481 \nQ 1172 3119 1398 2916 \nQ 1625 2713 2034 2713 \nQ 2441 2713 2670 2916 \nQ 2900 3119 2900 3481 \nQ 2900 3844 2670 4047 \nQ 2441 4250 2034 4250 \nQ 1625 4250 1398 4047 \nQ 1172 3844 1172 3481 \nz\n\" transform=\"scale(0.015625)\"/>\n       </defs>\n       <use xlink:href=\"#DejaVuSans-32\"/>\n       <use xlink:href=\"#DejaVuSans-38\" x=\"63.623047\"/>\n       <use xlink:href=\"#DejaVuSans-30\" x=\"127.246094\"/>\n      </g>\n     </g>\n    </g>\n    <g id=\"ytick_2\">\n     <g id=\"line2d_14\">\n      <path d=\"M 28.947 183.684551 \nL 386.067 183.684551 \n\" clip-path=\"url(#p3f6a3c0da2)\" style=\"fill: none; stroke: #ffffff\"/>\n     </g>\n     <g id=\"line2d_15\">\n      <path d=\"M 28.947 183.684551 \n\" style=\"fill: none; stroke: #333333; stroke-width: 1.5\"/>\n      <g>\n       <use xlink:href=\"#m682610208f\" x=\"28.947\" y=\"183.684551\" style=\"fill: #333333; stroke: #000000\"/>\n      </g>\n     </g>\n     <g id=\"text_6\">\n      <!-- 300 -->\n      <g style=\"fill: #4d4d4d\" transform=\"translate(7.2 186.112801)scale(0.088 -0.088)\">\n       <defs>\n        <path id=\"DejaVuSans-33\" d=\"M 2597 2516 \nQ 3050 2419 3304 2112 \nQ 3559 1806 3559 1356 \nQ 3559 666 3084 287 \nQ 2609 -91 1734 -91 \nQ 1441 -91 1130 -33 \nQ 819 25 488 141 \nL 488 750 \nQ 750 597 1062 519 \nQ 1375 441 1716 441 \nQ 2309 441 2620 675 \nQ 2931 909 2931 1356 \nQ 2931 1769 2642 2001 \nQ 2353 2234 1838 2234 \nL 1294 2234 \nL 1294 2753 \nL 1863 2753 \nQ 2328 2753 2575 2939 \nQ 2822 3125 2822 3475 \nQ 2822 3834 2567 4026 \nQ 2313 4219 1838 4219 \nQ 1578 4219 1281 4162 \nQ 984 4106 628 3988 \nL 628 4550 \nQ 988 4650 1302 4700 \nQ 1616 4750 1894 4750 \nQ 2613 4750 3031 4423 \nQ 3450 4097 3450 3541 \nQ 3450 3153 3228 2886 \nQ 3006 2619 2597 2516 \nz\n\" transform=\"scale(0.015625)\"/>\n       </defs>\n       <use xlink:href=\"#DejaVuSans-33\"/>\n       <use xlink:href=\"#DejaVuSans-30\" x=\"63.623047\"/>\n       <use xlink:href=\"#DejaVuSans-30\" x=\"127.246094\"/>\n      </g>\n     </g>\n    </g>\n    <g id=\"ytick_3\">\n     <g id=\"line2d_16\">\n      <path d=\"M 28.947 105.092147 \nL 386.067 105.092147 \n\" clip-path=\"url(#p3f6a3c0da2)\" style=\"fill: none; stroke: #ffffff\"/>\n     </g>\n     <g id=\"line2d_17\">\n      <path d=\"M 28.947 105.092147 \n\" style=\"fill: none; stroke: #333333; stroke-width: 1.5\"/>\n      <g>\n       <use xlink:href=\"#m682610208f\" x=\"28.947\" y=\"105.092147\" style=\"fill: #333333; stroke: #000000\"/>\n      </g>\n     </g>\n     <g id=\"text_7\">\n      <!-- 320 -->\n      <g style=\"fill: #4d4d4d\" transform=\"translate(7.2 107.520397)scale(0.088 -0.088)\">\n       <use xlink:href=\"#DejaVuSans-33\"/>\n       <use xlink:href=\"#DejaVuSans-32\" x=\"63.623047\"/>\n       <use xlink:href=\"#DejaVuSans-30\" x=\"127.246094\"/>\n      </g>\n     </g>\n    </g>\n    <g id=\"ytick_4\">\n     <g id=\"line2d_18\">\n      <path d=\"M 28.947 26.499744 \nL 386.067 26.499744 \n\" clip-path=\"url(#p3f6a3c0da2)\" style=\"fill: none; stroke: #ffffff\"/>\n     </g>\n     <g id=\"line2d_19\">\n      <path d=\"M 28.947 26.499744 \n\" style=\"fill: none; stroke: #333333; stroke-width: 1.5\"/>\n      <g>\n       <use xlink:href=\"#m682610208f\" x=\"28.947\" y=\"26.499744\" style=\"fill: #333333; stroke: #000000\"/>\n      </g>\n     </g>\n     <g id=\"text_8\">\n      <!-- 340 -->\n      <g style=\"fill: #4d4d4d\" transform=\"translate(7.2 28.927994)scale(0.088 -0.088)\">\n       <use xlink:href=\"#DejaVuSans-33\"/>\n       <use xlink:href=\"#DejaVuSans-34\" x=\"63.623047\"/>\n       <use xlink:href=\"#DejaVuSans-30\" x=\"127.246094\"/>\n      </g>\n     </g>\n    </g>\n    <g id=\"ytick_5\">\n     <g id=\"line2d_20\">\n      <path d=\"M 28.947 222.980753 \nL 386.067 222.980753 \n\" clip-path=\"url(#p3f6a3c0da2)\" style=\"fill: none; stroke: #ffffff; stroke-width: 0.5\"/>\n     </g>\n    </g>\n    <g id=\"ytick_6\">\n     <g id=\"line2d_21\">\n      <path d=\"M 28.947 144.388349 \nL 386.067 144.388349 \n\" clip-path=\"url(#p3f6a3c0da2)\" style=\"fill: none; stroke: #ffffff; stroke-width: 0.5\"/>\n     </g>\n    </g>\n    <g id=\"ytick_7\">\n     <g id=\"line2d_22\">\n      <path d=\"M 28.947 65.795946 \nL 386.067 65.795946 \n\" clip-path=\"url(#p3f6a3c0da2)\" style=\"fill: none; stroke: #ffffff; stroke-width: 0.5\"/>\n     </g>\n    </g>\n   </g>\n   <g id=\"line2d_23\">\n    <path d=\"M 45.179727 51.543953 \nL 48.405306 51.063628 \nL 51.630886 50.731911 \nL 54.856465 50.545435 \nL 58.082044 50.500834 \nL 61.307623 50.59474 \nL 64.533202 50.823788 \nL 67.758782 51.184611 \nL 70.984361 51.673843 \nL 74.20994 52.288116 \nL 77.435519 53.024065 \nL 80.661098 53.878322 \nL 83.886678 54.847522 \nL 87.112257 55.928298 \nL 90.337836 57.117284 \nL 93.563415 58.411112 \nL 96.788994 59.806416 \nL 100.014573 61.29983 \nL 103.240153 62.887987 \nL 106.465732 64.567521 \nL 109.691311 66.335065 \nL 112.91689 68.187253 \nL 116.142469 70.120718 \nL 119.368049 72.132094 \nL 122.593628 74.218014 \nL 125.819207 76.375111 \nL 129.044786 78.60002 \nL 132.270365 80.889373 \nL 135.495945 83.239804 \nL 138.721524 85.647946 \nL 141.947103 88.110434 \nL 145.172682 90.6239 \nL 148.398261 93.184978 \nL 151.623841 95.790301 \nL 154.84942 98.436504 \nL 158.074999 101.120218 \nL 161.300578 103.838079 \nL 164.526157 106.586719 \nL 167.751736 109.362771 \nL 170.977316 112.162871 \nL 174.202895 114.983649 \nL 177.428474 117.821741 \nL 180.654053 120.67378 \nL 183.879632 123.536399 \nL 187.105212 126.406232 \nL 190.330791 129.279912 \nL 193.55637 132.154073 \nL 196.781949 135.025347 \nL 200.007528 137.89037 \nL 203.233108 140.745773 \nL 206.458687 143.588191 \nL 209.684266 146.414257 \nL 212.909845 149.220605 \nL 216.135424 152.003867 \nL 219.361004 154.760678 \nL 222.586583 157.487672 \nL 225.812162 160.18148 \nL 229.037741 162.838738 \nL 232.26332 165.456077 \nL 235.488899 168.030133 \nL 238.714479 170.557538 \nL 241.940058 173.034926 \nL 245.165637 175.45893 \nL 248.391216 177.826185 \nL 251.616795 180.133322 \nL 254.842375 182.376976 \nL 258.067954 184.55378 \nL 261.293533 186.660369 \nL 264.519112 188.693374 \nL 267.744691 190.64943 \nL 270.970271 192.52517 \nL 274.19585 194.317228 \nL 277.421429 196.022237 \nL 280.647008 197.63683 \nL 283.872587 199.157642 \nL 287.098167 200.581305 \nL 290.323746 201.904453 \nL 293.549325 203.123719 \nL 296.774904 204.235738 \nL 300.000483 205.237142 \nL 303.226062 206.124565 \nL 306.451642 206.894641 \nL 309.677221 207.544002 \nL 312.9028 208.069283 \nL 316.128379 208.467117 \nL 319.353958 208.734137 \nL 322.579538 208.866976 \nL 325.805117 208.86227 \nL 329.030696 208.716649 \nL 332.256275 208.42675 \nL 335.481854 207.989204 \nL 338.707434 207.400645 \nL 341.933013 206.657707 \nL 345.158592 205.757023 \nL 348.384171 204.695226 \nL 351.60975 203.468951 \nL 354.835329 202.07483 \nL 358.060909 200.509498 \nL 361.286488 198.769587 \nL 364.512067 196.851731 \n\" clip-path=\"url(#p3f6a3c0da2)\" style=\"fill: none; stroke: #000000; stroke-width: 0.886227\"/>\n   </g>\n   <g id=\"line2d_24\">\n    <path d=\"M 45.179727 83.41268 \nL 50.501933 49.177926 \nL 55.824139 48.981853 \nL 61.146344 56.315113 \nL 66.46855 19.296 \nL 71.790756 31.609641 \nL 77.112961 74.981529 \nL 82.435167 50.236722 \nL 87.757373 88.47149 \nL 93.079578 92.785222 \nL 98.401784 108.039842 \nL 103.72399 79.099068 \nL 109.046195 55.922847 \nL 114.368401 50.079863 \nL 119.690607 19.648932 \nL 125.012812 24.35481 \nL 130.335018 21.609665 \nL 135.657224 31.923239 \nL 140.979429 43.687755 \nL 146.301635 49.844576 \nL 151.623841 72.354027 \nL 156.946046 121.882735 \nL 162.268252 131.686519 \nL 167.590458 131.059084 \nL 172.912663 130.157147 \nL 178.234869 127.372787 \nL 183.557075 114.471165 \nL 188.87928 167.293905 \nL 194.201486 146.117631 \nL 199.523692 175.725175 \nL 204.845897 173.058579 \nL 210.168103 179.842714 \nL 215.490308 201.685516 \nL 220.812514 200.352218 \nL 226.13472 231.253725 \nL 231.456925 199.01892 \nL 236.779131 186.744613 \nL 242.101337 153.725394 \nL 247.423542 143.058888 \nL 252.745748 151.764662 \nL 258.067954 133.333654 \nL 263.390159 181.215227 \nL 268.712365 162.823314 \nL 274.034571 182.391666 \nL 279.356776 168.235056 \nL 284.678982 142.157071 \nL 290.001188 176.783851 \nL 295.323393 205.567767 \nL 300.645599 205.724626 \nL 305.967805 184.27397 \nL 311.29001 185.649361 \nL 316.612216 220.112087 \nL 321.934422 231.115095 \nL 327.256627 231.940282 \nL 332.578833 261.216 \nL 337.901039 204.94381 \nL 343.223244 194.255239 \nL 348.54545 188.439358 \nL 353.867656 203.529085 \nL 359.189861 182.937913 \nL 364.512067 199.717348 \nL 369.834273 223.530957 \n\" clip-path=\"url(#p3f6a3c0da2)\" style=\"fill: none; stroke: #000000; stroke-width: 0.886227\"/>\n   </g>\n  </g>\n </g>\n <defs>\n  <clipPath id=\"p3f6a3c0da2\">\n   <rect x=\"28.947\" y=\"7.2\" width=\"357.12\" height=\"266.112\"/>\n  </clipPath>\n </defs>\n</svg>\n",
      "text/plain": [
       "<Figure size 640x480 with 1 Axes>"
      ]
     },
     "metadata": {},
     "output_type": "display_data"
    },
    {
     "data": {
      "text/plain": [
       "<ggplot: (306785818)>"
      ]
     },
     "execution_count": 145,
     "metadata": {},
     "output_type": "execute_result"
    }
   ],
   "source": [
    "def plot_model(model = linreg):\n",
    "    inputs = np.linspace(0,60,100)\n",
    "    inputs = poly.fit_transform(inputs.reshape(-1,1))\n",
    "\n",
    "    preds= polyreg.predict(inputs)\n",
    "\n",
    "    gg = (\n",
    "        ggplot()+\n",
    "        geom_line(aes(inputs[:,1],preds))+ # plot the model\n",
    "        geom_line(aes(hist['index'],hist['Close']))\n",
    "    )\n",
    "    return gg\n",
    "\n",
    "plot_model(polyreg)\n",
    "\n",
    "\n"
   ]
  },
  {
   "cell_type": "code",
   "execution_count": 42,
   "metadata": {},
   "outputs": [
    {
     "data": {
      "text/plain": [
       "array([336.047157])"
      ]
     },
     "execution_count": 42,
     "metadata": {},
     "output_type": "execute_result"
    }
   ],
   "source": [
    "linreg.predict(np.array([[1]]))"
   ]
  },
  {
   "cell_type": "code",
   "execution_count": 1,
   "metadata": {},
   "outputs": [],
   "source": [
    "import boto3"
   ]
  },
  {
   "cell_type": "code",
   "execution_count": 2,
   "metadata": {},
   "outputs": [],
   "source": [
    "s3_client = boto3.client('s3')"
   ]
  },
  {
   "cell_type": "code",
   "execution_count": 4,
   "metadata": {},
   "outputs": [],
   "source": [
    "\n",
    "s3_resource = boto3.resource('s3')"
   ]
  },
  {
   "cell_type": "code",
   "execution_count": 10,
   "metadata": {},
   "outputs": [
    {
     "name": "stdout",
     "output_type": "stream",
     "text": [
      "test-bucket31\n"
     ]
    }
   ],
   "source": [
    "for bucket in s3_resource.buckets.all():\n",
    "    print(bucket.name)"
   ]
  },
  {
   "cell_type": "code",
   "execution_count": 12,
   "metadata": {},
   "outputs": [],
   "source": [
    "mybucket = s3_resource.Bucket('test-bucket31')"
   ]
  },
  {
   "cell_type": "code",
   "execution_count": 13,
   "metadata": {},
   "outputs": [
    {
     "name": "stdout",
     "output_type": "stream",
     "text": [
      "s3.ObjectSummary(bucket_name='test-bucket31', key='Screenshot 2022-02-06 at 21.11.56.png')\n",
      "s3.ObjectSummary(bucket_name='test-bucket31', key='wage.csv')\n"
     ]
    }
   ],
   "source": [
    "for my_bucket_object in mybucket.objects.all():\n",
    "    print(my_bucket_object)"
   ]
  },
  {
   "cell_type": "code",
   "execution_count": 19,
   "metadata": {},
   "outputs": [],
   "source": [
    "s3_resource.Object('test-bucket31', 'wage.csv').download_file(\n",
    "    f\"tmp/{'wage.csv'}\") # Python 3.6+s3_resource"
   ]
  },
  {
   "cell_type": "code",
   "execution_count": 20,
   "metadata": {},
   "outputs": [
    {
     "name": "stdout",
     "output_type": "stream",
     "text": [
      "open_positions:\n",
      "Index(['size', 'high', 'updateTime', 'netChange', 'contractSize', 'delayTime',\n",
      "       'currency', 'createdDateUTC', 'level', 'direction',\n",
      "       'limitedRiskPremium', 'controlledRisk', 'instrumentName',\n",
      "       'marketStatus', 'instrumentType', 'offer', 'createdDate', 'expiry',\n",
      "       'bid', 'updateTimeUTC', 'trailingStopDistance', 'percentageChange',\n",
      "       'limitLevel', 'dealReference', 'low', 'stopLevel', 'trailingStep',\n",
      "       'scalingFactor', 'lotSize', 'dealId', 'epic',\n",
      "       'streamingPricesAvailable'],\n",
      "      dtype='object')\n"
     ]
    }
   ],
   "source": [
    "open_positions = ig_service.fetch_open_positions()\n",
    "print(f\"open_positions:\\n{open_positions}\" )"
   ]
  },
  {
   "cell_type": "code",
   "execution_count": null,
   "metadata": {},
   "outputs": [],
   "source": []
  }
 ],
 "metadata": {
  "interpreter": {
   "hash": "bb0009c52eb3c452c2ae3a00e04b4ba3f813f393dffc4e145dcc3528e51fe9eb"
  },
  "kernelspec": {
   "display_name": "Python 3.9.13 ('.venv': poetry)",
   "language": "python",
   "name": "python3"
  },
  "language_info": {
   "codemirror_mode": {
    "name": "ipython",
    "version": 3
   },
   "file_extension": ".py",
   "mimetype": "text/x-python",
   "name": "python",
   "nbconvert_exporter": "python",
   "pygments_lexer": "ipython3",
   "version": "3.9.13"
  },
  "orig_nbformat": 4
 },
 "nbformat": 4,
 "nbformat_minor": 2
}
