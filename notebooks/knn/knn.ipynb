{
 "cells": [
  {
   "cell_type": "markdown",
   "metadata": {},
   "source": [
    "\n",
    "# KNN \n",
    "### I explore the strategy of KNN. \n",
    "- I create a weighted KKN ensamble model\n",
    "- Create 3 KNN's with 3,10 and 20 periods. \n",
    "- Each period produces a mean and std() of what the next periods price will be.\n",
    "- The std() represents the confidence in the prediction. \n"
   ]
  },
  {
   "cell_type": "code",
   "execution_count": 73,
   "metadata": {},
   "outputs": [
    {
     "data": {
      "text/plain": [
       "[(2, 1), (2, 1), (1, 1)]"
      ]
     },
     "execution_count": 73,
     "metadata": {},
     "output_type": "execute_result"
    }
   ],
   "source": [
    "from itertools import permutations,combinations\n",
    "ll = [2,1,1]\n",
    "list(combinations(ll,2))"
   ]
  },
  {
   "cell_type": "code",
   "execution_count": null,
   "metadata": {},
   "outputs": [],
   "source": [
    "# train the model\n",
    "# on what data, how many knns\n",
    "# do a lin model on the outputs of the 3 knn near term, med term, long term mods\n"
   ]
  },
  {
   "cell_type": "code",
   "execution_count": 1,
   "metadata": {},
   "outputs": [],
   "source": [
    "# Look for similiar patters in the past using KNN\n",
    "# Use commodities\n",
    "# make ensamble model\n",
    "# implement 3 fold CV \n",
    "# give a numerical value of money made, in percentage?\n",
    "# plot predictions against acutals\n",
    "# Save down the training data sample used and then pick the most relevant parts and reweight to that\n",
    "# set up some persistence around data, so you are not redownloading all the yfinance data for every piece of \n",
    "# exploratory analysis you want to do"
   ]
  },
  {
   "cell_type": "code",
   "execution_count": 2,
   "metadata": {},
   "outputs": [],
   "source": [
    "## Imports"
   ]
  },
  {
   "cell_type": "code",
   "execution_count": 3,
   "metadata": {},
   "outputs": [
    {
     "name": "stdout",
     "output_type": "stream",
     "text": [
      "[1.0085201447364578]\n",
      "No buy lads\n"
     ]
    }
   ],
   "source": [
    "import pandas as pd\n",
    "import numpy as np\n",
    "import yfinance as yf\n",
    "import plotnine as pn\n",
    "import pickle\n",
    "from dateutil.relativedelta import relativedelta\n",
    "from dateutil import parser\n",
    "import datetime\n",
    "from IPython.display import display\n",
    "import os\n",
    "\n",
    "\n",
    "from autoIG import tickers\n",
    "from autoIG.utils import format_date\n",
    "from autoIG import autoknn\n"
   ]
  },
  {
   "cell_type": "code",
   "execution_count": 4,
   "metadata": {},
   "outputs": [],
   "source": [
    "## config"
   ]
  },
  {
   "cell_type": "code",
   "execution_count": 5,
   "metadata": {},
   "outputs": [],
   "source": [
    "START_DATE = \"2000-01-01\"\n",
    "END_DATE = \"2020-01-01\"\n",
    "INTERVAL  = \"1d\"\n",
    "\n",
    "def days_ago(n):\n",
    "    return format_date(datetime.datetime.now() - relativedelta(days=n))\n",
    "\n",
    "history_config = {\n",
    "    \"start\": START_DATE,\n",
    "    \"end\": END_DATE,\n",
    "    \"interval\": INTERVAL\n",
    "    }\n",
    "\n",
    "history_config_new = {\n",
    "    \"start\": days_ago(10) ,\n",
    "    \"interval\": INTERVAL,\n",
    "}"
   ]
  },
  {
   "cell_type": "code",
   "execution_count": 6,
   "metadata": {},
   "outputs": [],
   "source": [
    "## functions"
   ]
  },
  {
   "cell_type": "code",
   "execution_count": 7,
   "metadata": {},
   "outputs": [],
   "source": [
    "def transform_to_knn(df,n = 3):\n",
    "    s = df.Open.to_list() +[np.NaN] # so that if there arent 4 (at the end), we get an Na\n",
    "    d = df.Date.to_list()\n",
    "    col_names = [\"m\"+str(n-i) for i in range(n+1)]+['id']\n",
    "    df_dict = [dict( zip( col_names, s[i : (i + n+1) ]+[str(d[i].date())+\" : \"+str(d[i +n-1].date())]) ) for i in range(len(s) - (n-1)-1 )] # minus an extra1 to account for the na we added on\n",
    "    df_transformed = pd.DataFrame(\n",
    "        df_dict\n",
    "    )\n",
    "\n",
    "    df_transformed= df_transformed.fillna(np.NaN)\n",
    "    for i in col_names[-2::-1]:\n",
    "        df_transformed[i] =  df_transformed[i]/df_transformed[col_names[0]] # get the first and further back col name \n",
    "\n",
    "    return df_transformed"
   ]
  },
  {
   "cell_type": "code",
   "execution_count": 11,
   "metadata": {},
   "outputs": [],
   "source": [
    "gold = yf.Ticker(tickers.GOLD_TICKER)"
   ]
  },
  {
   "cell_type": "code",
   "execution_count": 12,
   "metadata": {},
   "outputs": [],
   "source": [
    "# history_raw = gold.history(**history_config)\n",
    "# history = history_raw.reset_index().reset_index()\n",
    "# history.head(3)\n",
    "# history.to_pickle(os.path.join(\"data\",\"training\",\"daily_gold_20080830_20200101.pkl\"))"
   ]
  },
  {
   "cell_type": "code",
   "execution_count": 13,
   "metadata": {},
   "outputs": [],
   "source": [
    "\n",
    "def load_historical_gold_data():\n",
    "    path = os.path.join(\"data\",\"training\",\"daily_gold_20080830_20200101.pkl\")\n",
    "    return pd.read_pickle(path)\n",
    "\n",
    "history_raw = load_historical_gold_data()"
   ]
  },
  {
   "cell_type": "code",
   "execution_count": 14,
   "metadata": {},
   "outputs": [],
   "source": [
    "history= history_raw"
   ]
  },
  {
   "cell_type": "code",
   "execution_count": 15,
   "metadata": {},
   "outputs": [
    {
     "data": {
      "text/html": [
       "<div>\n",
       "<style scoped>\n",
       "    .dataframe tbody tr th:only-of-type {\n",
       "        vertical-align: middle;\n",
       "    }\n",
       "\n",
       "    .dataframe tbody tr th {\n",
       "        vertical-align: top;\n",
       "    }\n",
       "\n",
       "    .dataframe thead th {\n",
       "        text-align: right;\n",
       "    }\n",
       "</style>\n",
       "<table border=\"1\" class=\"dataframe\">\n",
       "  <thead>\n",
       "    <tr style=\"text-align: right;\">\n",
       "      <th></th>\n",
       "      <th>index</th>\n",
       "      <th>Date</th>\n",
       "      <th>Open</th>\n",
       "      <th>High</th>\n",
       "      <th>Low</th>\n",
       "      <th>Close</th>\n",
       "      <th>Volume</th>\n",
       "      <th>Dividends</th>\n",
       "      <th>Stock Splits</th>\n",
       "    </tr>\n",
       "  </thead>\n",
       "  <tbody>\n",
       "    <tr>\n",
       "      <th>0</th>\n",
       "      <td>0</td>\n",
       "      <td>2022-06-01</td>\n",
       "      <td>1831.000000</td>\n",
       "      <td>1847.900024</td>\n",
       "      <td>1825.300049</td>\n",
       "      <td>1843.300049</td>\n",
       "      <td>1623</td>\n",
       "      <td>0</td>\n",
       "      <td>0</td>\n",
       "    </tr>\n",
       "    <tr>\n",
       "      <th>1</th>\n",
       "      <td>1</td>\n",
       "      <td>2022-06-02</td>\n",
       "      <td>1845.400024</td>\n",
       "      <td>1868.699951</td>\n",
       "      <td>1842.099976</td>\n",
       "      <td>1866.500000</td>\n",
       "      <td>551</td>\n",
       "      <td>0</td>\n",
       "      <td>0</td>\n",
       "    </tr>\n",
       "    <tr>\n",
       "      <th>2</th>\n",
       "      <td>2</td>\n",
       "      <td>2022-06-03</td>\n",
       "      <td>1867.599976</td>\n",
       "      <td>1871.800049</td>\n",
       "      <td>1845.400024</td>\n",
       "      <td>1845.400024</td>\n",
       "      <td>53</td>\n",
       "      <td>0</td>\n",
       "      <td>0</td>\n",
       "    </tr>\n",
       "    <tr>\n",
       "      <th>3</th>\n",
       "      <td>3</td>\n",
       "      <td>2022-06-06</td>\n",
       "      <td>1849.000000</td>\n",
       "      <td>1854.099976</td>\n",
       "      <td>1839.199951</td>\n",
       "      <td>1839.199951</td>\n",
       "      <td>142</td>\n",
       "      <td>0</td>\n",
       "      <td>0</td>\n",
       "    </tr>\n",
       "    <tr>\n",
       "      <th>4</th>\n",
       "      <td>4</td>\n",
       "      <td>2022-06-07</td>\n",
       "      <td>1836.900024</td>\n",
       "      <td>1851.599976</td>\n",
       "      <td>1835.000000</td>\n",
       "      <td>1847.500000</td>\n",
       "      <td>1168</td>\n",
       "      <td>0</td>\n",
       "      <td>0</td>\n",
       "    </tr>\n",
       "    <tr>\n",
       "      <th>5</th>\n",
       "      <td>5</td>\n",
       "      <td>2022-06-08</td>\n",
       "      <td>1844.800049</td>\n",
       "      <td>1855.000000</td>\n",
       "      <td>1844.400024</td>\n",
       "      <td>1851.900024</td>\n",
       "      <td>218</td>\n",
       "      <td>0</td>\n",
       "      <td>0</td>\n",
       "    </tr>\n",
       "    <tr>\n",
       "      <th>6</th>\n",
       "      <td>6</td>\n",
       "      <td>2022-06-09</td>\n",
       "      <td>1846.099976</td>\n",
       "      <td>1850.099976</td>\n",
       "      <td>1837.900024</td>\n",
       "      <td>1848.800049</td>\n",
       "      <td>159</td>\n",
       "      <td>0</td>\n",
       "      <td>0</td>\n",
       "    </tr>\n",
       "    <tr>\n",
       "      <th>7</th>\n",
       "      <td>7</td>\n",
       "      <td>2022-06-10</td>\n",
       "      <td>1842.699951</td>\n",
       "      <td>1875.599976</td>\n",
       "      <td>1823.900024</td>\n",
       "      <td>1871.500000</td>\n",
       "      <td>159</td>\n",
       "      <td>0</td>\n",
       "      <td>0</td>\n",
       "    </tr>\n",
       "  </tbody>\n",
       "</table>\n",
       "</div>"
      ],
      "text/plain": [
       "   index       Date         Open         High          Low        Close  \\\n",
       "0      0 2022-06-01  1831.000000  1847.900024  1825.300049  1843.300049   \n",
       "1      1 2022-06-02  1845.400024  1868.699951  1842.099976  1866.500000   \n",
       "2      2 2022-06-03  1867.599976  1871.800049  1845.400024  1845.400024   \n",
       "3      3 2022-06-06  1849.000000  1854.099976  1839.199951  1839.199951   \n",
       "4      4 2022-06-07  1836.900024  1851.599976  1835.000000  1847.500000   \n",
       "5      5 2022-06-08  1844.800049  1855.000000  1844.400024  1851.900024   \n",
       "6      6 2022-06-09  1846.099976  1850.099976  1837.900024  1848.800049   \n",
       "7      7 2022-06-10  1842.699951  1875.599976  1823.900024  1871.500000   \n",
       "\n",
       "   Volume  Dividends  Stock Splits  \n",
       "0    1623          0             0  \n",
       "1     551          0             0  \n",
       "2      53          0             0  \n",
       "3     142          0             0  \n",
       "4    1168          0             0  \n",
       "5     218          0             0  \n",
       "6     159          0             0  \n",
       "7     159          0             0  "
      ]
     },
     "metadata": {},
     "output_type": "display_data"
    },
    {
     "data": {
      "text/plain": [
       "array([[1.0218741233139024],\n",
       "       [1.0008013652728744],\n",
       "       [0.9831207173644506],\n",
       "       [1.0118666368779452],\n",
       "       [1.005345765414899],\n",
       "       [1.0085201447364578]], dtype=object)"
      ]
     },
     "execution_count": 15,
     "metadata": {},
     "output_type": "execute_result"
    }
   ],
   "source": [
    "modern_history = gold.history(**history_config_new).reset_index().reset_index()\n",
    "display(modern_history)\n",
    "transform_to_knn(modern_history)  # .drop(['id'],axis = 1).columns\n",
    "# model.predict(transform_to_knn(modern_history).drop(['m0','id'],axis = 1))\n",
    "filename =  '/Users/ezracitron/my_projects/autoIG/knn_regressor.sav'\n",
    "# pickle.dump(knn_regressor, open(filename, 'wb'))\n",
    "model = pickle.load(open(filename, 'rb'))\n",
    "model.predict(autoknn.transform_to_knn(modern_history).iloc[:,0:3])"
   ]
  },
  {
   "cell_type": "code",
   "execution_count": 16,
   "metadata": {},
   "outputs": [],
   "source": [
    "# (\n",
    "#     pn.ggplot(history)+\n",
    "#     pn.geom_point(pn.aes('Date','Open'))+\n",
    "#     pn.theme(figure_size=[18,3])\n",
    "# )\n"
   ]
  },
  {
   "cell_type": "code",
   "execution_count": 17,
   "metadata": {},
   "outputs": [
    {
     "data": {
      "text/plain": [
       "'2022-06-12'"
      ]
     },
     "execution_count": 17,
     "metadata": {},
     "output_type": "execute_result"
    }
   ],
   "source": [
    "days_ago(0)"
   ]
  },
  {
   "cell_type": "code",
   "execution_count": 18,
   "metadata": {},
   "outputs": [
    {
     "data": {
      "text/plain": [
       "Timestamp('2019-12-31 00:00:00')"
      ]
     },
     "execution_count": 18,
     "metadata": {},
     "output_type": "execute_result"
    }
   ],
   "source": [
    "history.Date.max()"
   ]
  },
  {
   "cell_type": "code",
   "execution_count": 19,
   "metadata": {},
   "outputs": [
    {
     "data": {
      "text/html": [
       "<div>\n",
       "<style scoped>\n",
       "    .dataframe tbody tr th:only-of-type {\n",
       "        vertical-align: middle;\n",
       "    }\n",
       "\n",
       "    .dataframe tbody tr th {\n",
       "        vertical-align: top;\n",
       "    }\n",
       "\n",
       "    .dataframe thead th {\n",
       "        text-align: right;\n",
       "    }\n",
       "</style>\n",
       "<table border=\"1\" class=\"dataframe\">\n",
       "  <thead>\n",
       "    <tr style=\"text-align: right;\">\n",
       "      <th></th>\n",
       "      <th>index</th>\n",
       "      <th>Date</th>\n",
       "      <th>Open</th>\n",
       "      <th>High</th>\n",
       "      <th>Low</th>\n",
       "      <th>Close</th>\n",
       "      <th>Volume</th>\n",
       "      <th>Dividends</th>\n",
       "      <th>Stock Splits</th>\n",
       "    </tr>\n",
       "  </thead>\n",
       "  <tbody>\n",
       "    <tr>\n",
       "      <th>0</th>\n",
       "      <td>0</td>\n",
       "      <td>2000-08-30</td>\n",
       "      <td>273.899994</td>\n",
       "      <td>273.899994</td>\n",
       "      <td>273.899994</td>\n",
       "      <td>273.899994</td>\n",
       "      <td>0</td>\n",
       "      <td>0</td>\n",
       "      <td>0</td>\n",
       "    </tr>\n",
       "    <tr>\n",
       "      <th>1</th>\n",
       "      <td>1</td>\n",
       "      <td>2000-08-31</td>\n",
       "      <td>274.799988</td>\n",
       "      <td>278.299988</td>\n",
       "      <td>274.799988</td>\n",
       "      <td>278.299988</td>\n",
       "      <td>0</td>\n",
       "      <td>0</td>\n",
       "      <td>0</td>\n",
       "    </tr>\n",
       "    <tr>\n",
       "      <th>2</th>\n",
       "      <td>2</td>\n",
       "      <td>2000-09-01</td>\n",
       "      <td>277.000000</td>\n",
       "      <td>277.000000</td>\n",
       "      <td>277.000000</td>\n",
       "      <td>277.000000</td>\n",
       "      <td>0</td>\n",
       "      <td>0</td>\n",
       "      <td>0</td>\n",
       "    </tr>\n",
       "  </tbody>\n",
       "</table>\n",
       "</div>"
      ],
      "text/plain": [
       "   index       Date        Open        High         Low       Close  Volume  \\\n",
       "0      0 2000-08-30  273.899994  273.899994  273.899994  273.899994       0   \n",
       "1      1 2000-08-31  274.799988  278.299988  274.799988  278.299988       0   \n",
       "2      2 2000-09-01  277.000000  277.000000  277.000000  277.000000       0   \n",
       "\n",
       "   Dividends  Stock Splits  \n",
       "0          0             0  \n",
       "1          0             0  \n",
       "2          0             0  "
      ]
     },
     "metadata": {},
     "output_type": "display_data"
    },
    {
     "data": {
      "text/html": [
       "<div>\n",
       "<style scoped>\n",
       "    .dataframe tbody tr th:only-of-type {\n",
       "        vertical-align: middle;\n",
       "    }\n",
       "\n",
       "    .dataframe tbody tr th {\n",
       "        vertical-align: top;\n",
       "    }\n",
       "\n",
       "    .dataframe thead th {\n",
       "        text-align: right;\n",
       "    }\n",
       "</style>\n",
       "<table border=\"1\" class=\"dataframe\">\n",
       "  <thead>\n",
       "    <tr style=\"text-align: right;\">\n",
       "      <th></th>\n",
       "      <th>index</th>\n",
       "      <th>Date</th>\n",
       "      <th>Open</th>\n",
       "      <th>High</th>\n",
       "      <th>Low</th>\n",
       "      <th>Close</th>\n",
       "      <th>Volume</th>\n",
       "      <th>Dividends</th>\n",
       "      <th>Stock Splits</th>\n",
       "    </tr>\n",
       "  </thead>\n",
       "  <tbody>\n",
       "    <tr>\n",
       "      <th>4472</th>\n",
       "      <td>4472</td>\n",
       "      <td>2018-07-05</td>\n",
       "      <td>1255.500000</td>\n",
       "      <td>1257.300049</td>\n",
       "      <td>1253.599976</td>\n",
       "      <td>1257.300049</td>\n",
       "      <td>9</td>\n",
       "      <td>0</td>\n",
       "      <td>0</td>\n",
       "    </tr>\n",
       "    <tr>\n",
       "      <th>4473</th>\n",
       "      <td>4473</td>\n",
       "      <td>2018-07-06</td>\n",
       "      <td>1255.500000</td>\n",
       "      <td>1255.500000</td>\n",
       "      <td>1254.300049</td>\n",
       "      <td>1254.300049</td>\n",
       "      <td>7</td>\n",
       "      <td>0</td>\n",
       "      <td>0</td>\n",
       "    </tr>\n",
       "    <tr>\n",
       "      <th>4474</th>\n",
       "      <td>4474</td>\n",
       "      <td>2018-07-09</td>\n",
       "      <td>1258.199951</td>\n",
       "      <td>1262.300049</td>\n",
       "      <td>1257.699951</td>\n",
       "      <td>1258.099976</td>\n",
       "      <td>37</td>\n",
       "      <td>0</td>\n",
       "      <td>0</td>\n",
       "    </tr>\n",
       "  </tbody>\n",
       "</table>\n",
       "</div>"
      ],
      "text/plain": [
       "      index       Date         Open         High          Low        Close  \\\n",
       "4472   4472 2018-07-05  1255.500000  1257.300049  1253.599976  1257.300049   \n",
       "4473   4473 2018-07-06  1255.500000  1255.500000  1254.300049  1254.300049   \n",
       "4474   4474 2018-07-09  1258.199951  1262.300049  1257.699951  1258.099976   \n",
       "\n",
       "      Volume  Dividends  Stock Splits  \n",
       "4472       9          0             0  \n",
       "4473       7          0             0  \n",
       "4474      37          0             0  "
      ]
     },
     "metadata": {},
     "output_type": "display_data"
    }
   ],
   "source": [
    "train = history.query(f\"Date < '{days_ago(360)}'\")\n",
    "test = history.query(f\"Date > '{days_ago(360*4)}'\")\n",
    "display(train.head(3))\n",
    "display(test.head(3))\n"
   ]
  },
  {
   "cell_type": "code",
   "execution_count": null,
   "metadata": {},
   "outputs": [],
   "source": []
  },
  {
   "cell_type": "code",
   "execution_count": 20,
   "metadata": {},
   "outputs": [],
   "source": [
    "# from sklearn.base import BaseEstimator,TransformerMixin\n",
    "# class KnnTransformer(BaseEstimator,TransformerMixin):\n",
    "#     def __init__(self,n):\n",
    "#         self.n = n\n",
    "#     def fit(self,X):\n",
    "#         return self\n",
    "#     def transform(self,X,y=None):\n",
    "#         X_ = X.copy()\n",
    "#         return transform_to_knn(X_,n = self.n)\n",
    "\n",
    "# kt = KnnTransformer(n=  3)\n",
    "# kt.fit_transform(train)\n",
    "\n",
    "        \n"
   ]
  },
  {
   "cell_type": "code",
   "execution_count": 21,
   "metadata": {},
   "outputs": [],
   "source": [
    "train_df = autoknn.transform_to_knn(train,n=3)\n",
    "test_df = autoknn.transform_to_knn(test,n=3)\n",
    "# train_df.head(3)"
   ]
  },
  {
   "cell_type": "code",
   "execution_count": 22,
   "metadata": {},
   "outputs": [],
   "source": [
    "train_X = train_df.drop(['m0','id'],axis = 1)\n",
    "train_y = train_df[['m0']]\n",
    "test_X = test_df.drop(['m0','id'],axis = 1)\n",
    "test_y = test_df[['m0']]\n"
   ]
  },
  {
   "cell_type": "markdown",
   "metadata": {},
   "source": [
    "## Implement in a pipeline"
   ]
  },
  {
   "cell_type": "code",
   "execution_count": 23,
   "metadata": {},
   "outputs": [],
   "source": [
    "from feature_engine.selection import DropFeatures\n",
    "from sklearn.neighbors import KNeighborsRegressor\n",
    "from sklearn.pipeline import Pipeline"
   ]
  },
  {
   "cell_type": "code",
   "execution_count": 26,
   "metadata": {},
   "outputs": [
    {
     "ename": "ValueError",
     "evalue": "Input y contains NaN.",
     "output_type": "error",
     "traceback": [
      "\u001b[0;31m---------------------------------------------------------------------------\u001b[0m",
      "\u001b[0;31mValueError\u001b[0m                                Traceback (most recent call last)",
      "\u001b[1;32m/Users/ezracitron/my_projects/autoIG/notebooks/knn/knn.ipynb Cell 23'\u001b[0m in \u001b[0;36m<cell line: 1>\u001b[0;34m()\u001b[0m\n\u001b[0;32m----> <a href='vscode-notebook-cell:/Users/ezracitron/my_projects/autoIG/notebooks/knn/knn.ipynb#ch0000019?line=0'>1</a>\u001b[0m knn_regressor \u001b[39m=\u001b[39m KNeighborsRegressor(n_neighbors\u001b[39m=\u001b[39;49m\u001b[39m3\u001b[39;49m)\u001b[39m.\u001b[39;49mfit(train_X,train_y)\n\u001b[1;32m      <a href='vscode-notebook-cell:/Users/ezracitron/my_projects/autoIG/notebooks/knn/knn.ipynb#ch0000019?line=2'>3</a>\u001b[0m knn_pl \u001b[39m=\u001b[39m Pipeline(\n\u001b[1;32m      <a href='vscode-notebook-cell:/Users/ezracitron/my_projects/autoIG/notebooks/knn/knn.ipynb#ch0000019?line=3'>4</a>\u001b[0m     [\n\u001b[1;32m      <a href='vscode-notebook-cell:/Users/ezracitron/my_projects/autoIG/notebooks/knn/knn.ipynb#ch0000019?line=4'>5</a>\u001b[0m         (\u001b[39m'\u001b[39m\u001b[39mdrop_features\u001b[39m\u001b[39m'\u001b[39m, DropFeatures(features_to_drop\u001b[39m=\u001b[39m[\u001b[39m'\u001b[39m\u001b[39mid\u001b[39m\u001b[39m'\u001b[39m]) ),\n\u001b[1;32m      <a href='vscode-notebook-cell:/Users/ezracitron/my_projects/autoIG/notebooks/knn/knn.ipynb#ch0000019?line=5'>6</a>\u001b[0m         (\u001b[39m'\u001b[39m\u001b[39mknnreg\u001b[39m\u001b[39m'\u001b[39m , KNeighborsRegressor(n_neighbors\u001b[39m=\u001b[39m\u001b[39m6\u001b[39m))\n\u001b[1;32m      <a href='vscode-notebook-cell:/Users/ezracitron/my_projects/autoIG/notebooks/knn/knn.ipynb#ch0000019?line=6'>7</a>\u001b[0m     ]\n\u001b[1;32m      <a href='vscode-notebook-cell:/Users/ezracitron/my_projects/autoIG/notebooks/knn/knn.ipynb#ch0000019?line=7'>8</a>\u001b[0m     )\n\u001b[1;32m     <a href='vscode-notebook-cell:/Users/ezracitron/my_projects/autoIG/notebooks/knn/knn.ipynb#ch0000019?line=9'>10</a>\u001b[0m knn_regressor\n",
      "File \u001b[0;32m~/my_projects/autoIG/.venv/lib/python3.9/site-packages/sklearn/neighbors/_regression.py:203\u001b[0m, in \u001b[0;36mKNeighborsRegressor.fit\u001b[0;34m(self, X, y)\u001b[0m\n\u001b[1;32m    <a href='file:///Users/ezracitron/my_projects/autoIG/.venv/lib/python3.9/site-packages/sklearn/neighbors/_regression.py?line=183'>184</a>\u001b[0m \u001b[39m\"\"\"Fit the k-nearest neighbors regressor from the training dataset.\u001b[39;00m\n\u001b[1;32m    <a href='file:///Users/ezracitron/my_projects/autoIG/.venv/lib/python3.9/site-packages/sklearn/neighbors/_regression.py?line=184'>185</a>\u001b[0m \n\u001b[1;32m    <a href='file:///Users/ezracitron/my_projects/autoIG/.venv/lib/python3.9/site-packages/sklearn/neighbors/_regression.py?line=185'>186</a>\u001b[0m \u001b[39mParameters\u001b[39;00m\n\u001b[0;32m   (...)\u001b[0m\n\u001b[1;32m    <a href='file:///Users/ezracitron/my_projects/autoIG/.venv/lib/python3.9/site-packages/sklearn/neighbors/_regression.py?line=198'>199</a>\u001b[0m \u001b[39m    The fitted k-nearest neighbors regressor.\u001b[39;00m\n\u001b[1;32m    <a href='file:///Users/ezracitron/my_projects/autoIG/.venv/lib/python3.9/site-packages/sklearn/neighbors/_regression.py?line=199'>200</a>\u001b[0m \u001b[39m\"\"\"\u001b[39;00m\n\u001b[1;32m    <a href='file:///Users/ezracitron/my_projects/autoIG/.venv/lib/python3.9/site-packages/sklearn/neighbors/_regression.py?line=200'>201</a>\u001b[0m \u001b[39mself\u001b[39m\u001b[39m.\u001b[39mweights \u001b[39m=\u001b[39m _check_weights(\u001b[39mself\u001b[39m\u001b[39m.\u001b[39mweights)\n\u001b[0;32m--> <a href='file:///Users/ezracitron/my_projects/autoIG/.venv/lib/python3.9/site-packages/sklearn/neighbors/_regression.py?line=202'>203</a>\u001b[0m \u001b[39mreturn\u001b[39;00m \u001b[39mself\u001b[39;49m\u001b[39m.\u001b[39;49m_fit(X, y)\n",
      "File \u001b[0;32m~/my_projects/autoIG/.venv/lib/python3.9/site-packages/sklearn/neighbors/_base.py:407\u001b[0m, in \u001b[0;36mNeighborsBase._fit\u001b[0;34m(self, X, y)\u001b[0m\n\u001b[1;32m    <a href='file:///Users/ezracitron/my_projects/autoIG/.venv/lib/python3.9/site-packages/sklearn/neighbors/_base.py?line=404'>405</a>\u001b[0m \u001b[39mif\u001b[39;00m \u001b[39mself\u001b[39m\u001b[39m.\u001b[39m_get_tags()[\u001b[39m\"\u001b[39m\u001b[39mrequires_y\u001b[39m\u001b[39m\"\u001b[39m]:\n\u001b[1;32m    <a href='file:///Users/ezracitron/my_projects/autoIG/.venv/lib/python3.9/site-packages/sklearn/neighbors/_base.py?line=405'>406</a>\u001b[0m     \u001b[39mif\u001b[39;00m \u001b[39mnot\u001b[39;00m \u001b[39misinstance\u001b[39m(X, (KDTree, BallTree, NeighborsBase)):\n\u001b[0;32m--> <a href='file:///Users/ezracitron/my_projects/autoIG/.venv/lib/python3.9/site-packages/sklearn/neighbors/_base.py?line=406'>407</a>\u001b[0m         X, y \u001b[39m=\u001b[39m \u001b[39mself\u001b[39;49m\u001b[39m.\u001b[39;49m_validate_data(\n\u001b[1;32m    <a href='file:///Users/ezracitron/my_projects/autoIG/.venv/lib/python3.9/site-packages/sklearn/neighbors/_base.py?line=407'>408</a>\u001b[0m             X, y, accept_sparse\u001b[39m=\u001b[39;49m\u001b[39m\"\u001b[39;49m\u001b[39mcsr\u001b[39;49m\u001b[39m\"\u001b[39;49m, multi_output\u001b[39m=\u001b[39;49m\u001b[39mTrue\u001b[39;49;00m, order\u001b[39m=\u001b[39;49m\u001b[39m\"\u001b[39;49m\u001b[39mC\u001b[39;49m\u001b[39m\"\u001b[39;49m\n\u001b[1;32m    <a href='file:///Users/ezracitron/my_projects/autoIG/.venv/lib/python3.9/site-packages/sklearn/neighbors/_base.py?line=408'>409</a>\u001b[0m         )\n\u001b[1;32m    <a href='file:///Users/ezracitron/my_projects/autoIG/.venv/lib/python3.9/site-packages/sklearn/neighbors/_base.py?line=410'>411</a>\u001b[0m     \u001b[39mif\u001b[39;00m is_classifier(\u001b[39mself\u001b[39m):\n\u001b[1;32m    <a href='file:///Users/ezracitron/my_projects/autoIG/.venv/lib/python3.9/site-packages/sklearn/neighbors/_base.py?line=411'>412</a>\u001b[0m         \u001b[39m# Classification targets require a specific format\u001b[39;00m\n\u001b[1;32m    <a href='file:///Users/ezracitron/my_projects/autoIG/.venv/lib/python3.9/site-packages/sklearn/neighbors/_base.py?line=412'>413</a>\u001b[0m         \u001b[39mif\u001b[39;00m y\u001b[39m.\u001b[39mndim \u001b[39m==\u001b[39m \u001b[39m1\u001b[39m \u001b[39mor\u001b[39;00m y\u001b[39m.\u001b[39mndim \u001b[39m==\u001b[39m \u001b[39m2\u001b[39m \u001b[39mand\u001b[39;00m y\u001b[39m.\u001b[39mshape[\u001b[39m1\u001b[39m] \u001b[39m==\u001b[39m \u001b[39m1\u001b[39m:\n",
      "File \u001b[0;32m~/my_projects/autoIG/.venv/lib/python3.9/site-packages/sklearn/base.py:596\u001b[0m, in \u001b[0;36mBaseEstimator._validate_data\u001b[0;34m(self, X, y, reset, validate_separately, **check_params)\u001b[0m\n\u001b[1;32m    <a href='file:///Users/ezracitron/my_projects/autoIG/.venv/lib/python3.9/site-packages/sklearn/base.py?line=593'>594</a>\u001b[0m         y \u001b[39m=\u001b[39m check_array(y, input_name\u001b[39m=\u001b[39m\u001b[39m\"\u001b[39m\u001b[39my\u001b[39m\u001b[39m\"\u001b[39m, \u001b[39m*\u001b[39m\u001b[39m*\u001b[39mcheck_y_params)\n\u001b[1;32m    <a href='file:///Users/ezracitron/my_projects/autoIG/.venv/lib/python3.9/site-packages/sklearn/base.py?line=594'>595</a>\u001b[0m     \u001b[39melse\u001b[39;00m:\n\u001b[0;32m--> <a href='file:///Users/ezracitron/my_projects/autoIG/.venv/lib/python3.9/site-packages/sklearn/base.py?line=595'>596</a>\u001b[0m         X, y \u001b[39m=\u001b[39m check_X_y(X, y, \u001b[39m*\u001b[39;49m\u001b[39m*\u001b[39;49mcheck_params)\n\u001b[1;32m    <a href='file:///Users/ezracitron/my_projects/autoIG/.venv/lib/python3.9/site-packages/sklearn/base.py?line=596'>597</a>\u001b[0m     out \u001b[39m=\u001b[39m X, y\n\u001b[1;32m    <a href='file:///Users/ezracitron/my_projects/autoIG/.venv/lib/python3.9/site-packages/sklearn/base.py?line=598'>599</a>\u001b[0m \u001b[39mif\u001b[39;00m \u001b[39mnot\u001b[39;00m no_val_X \u001b[39mand\u001b[39;00m check_params\u001b[39m.\u001b[39mget(\u001b[39m\"\u001b[39m\u001b[39mensure_2d\u001b[39m\u001b[39m\"\u001b[39m, \u001b[39mTrue\u001b[39;00m):\n",
      "File \u001b[0;32m~/my_projects/autoIG/.venv/lib/python3.9/site-packages/sklearn/utils/validation.py:1090\u001b[0m, in \u001b[0;36mcheck_X_y\u001b[0;34m(X, y, accept_sparse, accept_large_sparse, dtype, order, copy, force_all_finite, ensure_2d, allow_nd, multi_output, ensure_min_samples, ensure_min_features, y_numeric, estimator)\u001b[0m\n\u001b[1;32m   <a href='file:///Users/ezracitron/my_projects/autoIG/.venv/lib/python3.9/site-packages/sklearn/utils/validation.py?line=1069'>1070</a>\u001b[0m     \u001b[39mraise\u001b[39;00m \u001b[39mValueError\u001b[39;00m(\n\u001b[1;32m   <a href='file:///Users/ezracitron/my_projects/autoIG/.venv/lib/python3.9/site-packages/sklearn/utils/validation.py?line=1070'>1071</a>\u001b[0m         \u001b[39mf\u001b[39m\u001b[39m\"\u001b[39m\u001b[39m{\u001b[39;00mestimator_name\u001b[39m}\u001b[39;00m\u001b[39m requires y to be passed, but the target y is None\u001b[39m\u001b[39m\"\u001b[39m\n\u001b[1;32m   <a href='file:///Users/ezracitron/my_projects/autoIG/.venv/lib/python3.9/site-packages/sklearn/utils/validation.py?line=1071'>1072</a>\u001b[0m     )\n\u001b[1;32m   <a href='file:///Users/ezracitron/my_projects/autoIG/.venv/lib/python3.9/site-packages/sklearn/utils/validation.py?line=1073'>1074</a>\u001b[0m X \u001b[39m=\u001b[39m check_array(\n\u001b[1;32m   <a href='file:///Users/ezracitron/my_projects/autoIG/.venv/lib/python3.9/site-packages/sklearn/utils/validation.py?line=1074'>1075</a>\u001b[0m     X,\n\u001b[1;32m   <a href='file:///Users/ezracitron/my_projects/autoIG/.venv/lib/python3.9/site-packages/sklearn/utils/validation.py?line=1075'>1076</a>\u001b[0m     accept_sparse\u001b[39m=\u001b[39maccept_sparse,\n\u001b[0;32m   (...)\u001b[0m\n\u001b[1;32m   <a href='file:///Users/ezracitron/my_projects/autoIG/.venv/lib/python3.9/site-packages/sklearn/utils/validation.py?line=1086'>1087</a>\u001b[0m     input_name\u001b[39m=\u001b[39m\u001b[39m\"\u001b[39m\u001b[39mX\u001b[39m\u001b[39m\"\u001b[39m,\n\u001b[1;32m   <a href='file:///Users/ezracitron/my_projects/autoIG/.venv/lib/python3.9/site-packages/sklearn/utils/validation.py?line=1087'>1088</a>\u001b[0m )\n\u001b[0;32m-> <a href='file:///Users/ezracitron/my_projects/autoIG/.venv/lib/python3.9/site-packages/sklearn/utils/validation.py?line=1089'>1090</a>\u001b[0m y \u001b[39m=\u001b[39m _check_y(y, multi_output\u001b[39m=\u001b[39;49mmulti_output, y_numeric\u001b[39m=\u001b[39;49my_numeric, estimator\u001b[39m=\u001b[39;49mestimator)\n\u001b[1;32m   <a href='file:///Users/ezracitron/my_projects/autoIG/.venv/lib/python3.9/site-packages/sklearn/utils/validation.py?line=1091'>1092</a>\u001b[0m check_consistent_length(X, y)\n\u001b[1;32m   <a href='file:///Users/ezracitron/my_projects/autoIG/.venv/lib/python3.9/site-packages/sklearn/utils/validation.py?line=1093'>1094</a>\u001b[0m \u001b[39mreturn\u001b[39;00m X, y\n",
      "File \u001b[0;32m~/my_projects/autoIG/.venv/lib/python3.9/site-packages/sklearn/utils/validation.py:1100\u001b[0m, in \u001b[0;36m_check_y\u001b[0;34m(y, multi_output, y_numeric, estimator)\u001b[0m\n\u001b[1;32m   <a href='file:///Users/ezracitron/my_projects/autoIG/.venv/lib/python3.9/site-packages/sklearn/utils/validation.py?line=1097'>1098</a>\u001b[0m \u001b[39m\"\"\"Isolated part of check_X_y dedicated to y validation\"\"\"\u001b[39;00m\n\u001b[1;32m   <a href='file:///Users/ezracitron/my_projects/autoIG/.venv/lib/python3.9/site-packages/sklearn/utils/validation.py?line=1098'>1099</a>\u001b[0m \u001b[39mif\u001b[39;00m multi_output:\n\u001b[0;32m-> <a href='file:///Users/ezracitron/my_projects/autoIG/.venv/lib/python3.9/site-packages/sklearn/utils/validation.py?line=1099'>1100</a>\u001b[0m     y \u001b[39m=\u001b[39m check_array(\n\u001b[1;32m   <a href='file:///Users/ezracitron/my_projects/autoIG/.venv/lib/python3.9/site-packages/sklearn/utils/validation.py?line=1100'>1101</a>\u001b[0m         y,\n\u001b[1;32m   <a href='file:///Users/ezracitron/my_projects/autoIG/.venv/lib/python3.9/site-packages/sklearn/utils/validation.py?line=1101'>1102</a>\u001b[0m         accept_sparse\u001b[39m=\u001b[39;49m\u001b[39m\"\u001b[39;49m\u001b[39mcsr\u001b[39;49m\u001b[39m\"\u001b[39;49m,\n\u001b[1;32m   <a href='file:///Users/ezracitron/my_projects/autoIG/.venv/lib/python3.9/site-packages/sklearn/utils/validation.py?line=1102'>1103</a>\u001b[0m         force_all_finite\u001b[39m=\u001b[39;49m\u001b[39mTrue\u001b[39;49;00m,\n\u001b[1;32m   <a href='file:///Users/ezracitron/my_projects/autoIG/.venv/lib/python3.9/site-packages/sklearn/utils/validation.py?line=1103'>1104</a>\u001b[0m         ensure_2d\u001b[39m=\u001b[39;49m\u001b[39mFalse\u001b[39;49;00m,\n\u001b[1;32m   <a href='file:///Users/ezracitron/my_projects/autoIG/.venv/lib/python3.9/site-packages/sklearn/utils/validation.py?line=1104'>1105</a>\u001b[0m         dtype\u001b[39m=\u001b[39;49m\u001b[39mNone\u001b[39;49;00m,\n\u001b[1;32m   <a href='file:///Users/ezracitron/my_projects/autoIG/.venv/lib/python3.9/site-packages/sklearn/utils/validation.py?line=1105'>1106</a>\u001b[0m         input_name\u001b[39m=\u001b[39;49m\u001b[39m\"\u001b[39;49m\u001b[39my\u001b[39;49m\u001b[39m\"\u001b[39;49m,\n\u001b[1;32m   <a href='file:///Users/ezracitron/my_projects/autoIG/.venv/lib/python3.9/site-packages/sklearn/utils/validation.py?line=1106'>1107</a>\u001b[0m         estimator\u001b[39m=\u001b[39;49mestimator,\n\u001b[1;32m   <a href='file:///Users/ezracitron/my_projects/autoIG/.venv/lib/python3.9/site-packages/sklearn/utils/validation.py?line=1107'>1108</a>\u001b[0m     )\n\u001b[1;32m   <a href='file:///Users/ezracitron/my_projects/autoIG/.venv/lib/python3.9/site-packages/sklearn/utils/validation.py?line=1108'>1109</a>\u001b[0m \u001b[39melse\u001b[39;00m:\n\u001b[1;32m   <a href='file:///Users/ezracitron/my_projects/autoIG/.venv/lib/python3.9/site-packages/sklearn/utils/validation.py?line=1109'>1110</a>\u001b[0m     estimator_name \u001b[39m=\u001b[39m _check_estimator_name(estimator)\n",
      "File \u001b[0;32m~/my_projects/autoIG/.venv/lib/python3.9/site-packages/sklearn/utils/validation.py:899\u001b[0m, in \u001b[0;36mcheck_array\u001b[0;34m(array, accept_sparse, accept_large_sparse, dtype, order, copy, force_all_finite, ensure_2d, allow_nd, ensure_min_samples, ensure_min_features, estimator, input_name)\u001b[0m\n\u001b[1;32m    <a href='file:///Users/ezracitron/my_projects/autoIG/.venv/lib/python3.9/site-packages/sklearn/utils/validation.py?line=892'>893</a>\u001b[0m         \u001b[39mraise\u001b[39;00m \u001b[39mValueError\u001b[39;00m(\n\u001b[1;32m    <a href='file:///Users/ezracitron/my_projects/autoIG/.venv/lib/python3.9/site-packages/sklearn/utils/validation.py?line=893'>894</a>\u001b[0m             \u001b[39m\"\u001b[39m\u001b[39mFound array with dim \u001b[39m\u001b[39m%d\u001b[39;00m\u001b[39m. \u001b[39m\u001b[39m%s\u001b[39;00m\u001b[39m expected <= 2.\u001b[39m\u001b[39m\"\u001b[39m\n\u001b[1;32m    <a href='file:///Users/ezracitron/my_projects/autoIG/.venv/lib/python3.9/site-packages/sklearn/utils/validation.py?line=894'>895</a>\u001b[0m             \u001b[39m%\u001b[39m (array\u001b[39m.\u001b[39mndim, estimator_name)\n\u001b[1;32m    <a href='file:///Users/ezracitron/my_projects/autoIG/.venv/lib/python3.9/site-packages/sklearn/utils/validation.py?line=895'>896</a>\u001b[0m         )\n\u001b[1;32m    <a href='file:///Users/ezracitron/my_projects/autoIG/.venv/lib/python3.9/site-packages/sklearn/utils/validation.py?line=897'>898</a>\u001b[0m     \u001b[39mif\u001b[39;00m force_all_finite:\n\u001b[0;32m--> <a href='file:///Users/ezracitron/my_projects/autoIG/.venv/lib/python3.9/site-packages/sklearn/utils/validation.py?line=898'>899</a>\u001b[0m         _assert_all_finite(\n\u001b[1;32m    <a href='file:///Users/ezracitron/my_projects/autoIG/.venv/lib/python3.9/site-packages/sklearn/utils/validation.py?line=899'>900</a>\u001b[0m             array,\n\u001b[1;32m    <a href='file:///Users/ezracitron/my_projects/autoIG/.venv/lib/python3.9/site-packages/sklearn/utils/validation.py?line=900'>901</a>\u001b[0m             input_name\u001b[39m=\u001b[39;49minput_name,\n\u001b[1;32m    <a href='file:///Users/ezracitron/my_projects/autoIG/.venv/lib/python3.9/site-packages/sklearn/utils/validation.py?line=901'>902</a>\u001b[0m             estimator_name\u001b[39m=\u001b[39;49mestimator_name,\n\u001b[1;32m    <a href='file:///Users/ezracitron/my_projects/autoIG/.venv/lib/python3.9/site-packages/sklearn/utils/validation.py?line=902'>903</a>\u001b[0m             allow_nan\u001b[39m=\u001b[39;49mforce_all_finite \u001b[39m==\u001b[39;49m \u001b[39m\"\u001b[39;49m\u001b[39mallow-nan\u001b[39;49m\u001b[39m\"\u001b[39;49m,\n\u001b[1;32m    <a href='file:///Users/ezracitron/my_projects/autoIG/.venv/lib/python3.9/site-packages/sklearn/utils/validation.py?line=903'>904</a>\u001b[0m         )\n\u001b[1;32m    <a href='file:///Users/ezracitron/my_projects/autoIG/.venv/lib/python3.9/site-packages/sklearn/utils/validation.py?line=905'>906</a>\u001b[0m \u001b[39mif\u001b[39;00m ensure_min_samples \u001b[39m>\u001b[39m \u001b[39m0\u001b[39m:\n\u001b[1;32m    <a href='file:///Users/ezracitron/my_projects/autoIG/.venv/lib/python3.9/site-packages/sklearn/utils/validation.py?line=906'>907</a>\u001b[0m     n_samples \u001b[39m=\u001b[39m _num_samples(array)\n",
      "File \u001b[0;32m~/my_projects/autoIG/.venv/lib/python3.9/site-packages/sklearn/utils/validation.py:146\u001b[0m, in \u001b[0;36m_assert_all_finite\u001b[0;34m(X, allow_nan, msg_dtype, estimator_name, input_name)\u001b[0m\n\u001b[1;32m    <a href='file:///Users/ezracitron/my_projects/autoIG/.venv/lib/python3.9/site-packages/sklearn/utils/validation.py?line=123'>124</a>\u001b[0m         \u001b[39mif\u001b[39;00m (\n\u001b[1;32m    <a href='file:///Users/ezracitron/my_projects/autoIG/.venv/lib/python3.9/site-packages/sklearn/utils/validation.py?line=124'>125</a>\u001b[0m             \u001b[39mnot\u001b[39;00m allow_nan\n\u001b[1;32m    <a href='file:///Users/ezracitron/my_projects/autoIG/.venv/lib/python3.9/site-packages/sklearn/utils/validation.py?line=125'>126</a>\u001b[0m             \u001b[39mand\u001b[39;00m estimator_name\n\u001b[0;32m   (...)\u001b[0m\n\u001b[1;32m    <a href='file:///Users/ezracitron/my_projects/autoIG/.venv/lib/python3.9/site-packages/sklearn/utils/validation.py?line=129'>130</a>\u001b[0m             \u001b[39m# Improve the error message on how to handle missing values in\u001b[39;00m\n\u001b[1;32m    <a href='file:///Users/ezracitron/my_projects/autoIG/.venv/lib/python3.9/site-packages/sklearn/utils/validation.py?line=130'>131</a>\u001b[0m             \u001b[39m# scikit-learn.\u001b[39;00m\n\u001b[1;32m    <a href='file:///Users/ezracitron/my_projects/autoIG/.venv/lib/python3.9/site-packages/sklearn/utils/validation.py?line=131'>132</a>\u001b[0m             msg_err \u001b[39m+\u001b[39m\u001b[39m=\u001b[39m (\n\u001b[1;32m    <a href='file:///Users/ezracitron/my_projects/autoIG/.venv/lib/python3.9/site-packages/sklearn/utils/validation.py?line=132'>133</a>\u001b[0m                 \u001b[39mf\u001b[39m\u001b[39m\"\u001b[39m\u001b[39m\\n\u001b[39;00m\u001b[39m{\u001b[39;00mestimator_name\u001b[39m}\u001b[39;00m\u001b[39m does not accept missing values\u001b[39m\u001b[39m\"\u001b[39m\n\u001b[1;32m    <a href='file:///Users/ezracitron/my_projects/autoIG/.venv/lib/python3.9/site-packages/sklearn/utils/validation.py?line=133'>134</a>\u001b[0m                 \u001b[39m\"\u001b[39m\u001b[39m encoded as NaN natively. For supervised learning, you might want\u001b[39m\u001b[39m\"\u001b[39m\n\u001b[0;32m   (...)\u001b[0m\n\u001b[1;32m    <a href='file:///Users/ezracitron/my_projects/autoIG/.venv/lib/python3.9/site-packages/sklearn/utils/validation.py?line=143'>144</a>\u001b[0m                 \u001b[39m\"\u001b[39m\u001b[39m#estimators-that-handle-nan-values\u001b[39m\u001b[39m\"\u001b[39m\n\u001b[1;32m    <a href='file:///Users/ezracitron/my_projects/autoIG/.venv/lib/python3.9/site-packages/sklearn/utils/validation.py?line=144'>145</a>\u001b[0m             )\n\u001b[0;32m--> <a href='file:///Users/ezracitron/my_projects/autoIG/.venv/lib/python3.9/site-packages/sklearn/utils/validation.py?line=145'>146</a>\u001b[0m         \u001b[39mraise\u001b[39;00m \u001b[39mValueError\u001b[39;00m(msg_err)\n\u001b[1;32m    <a href='file:///Users/ezracitron/my_projects/autoIG/.venv/lib/python3.9/site-packages/sklearn/utils/validation.py?line=147'>148</a>\u001b[0m \u001b[39m# for object dtype data, we only check for NaNs (GH-13254)\u001b[39;00m\n\u001b[1;32m    <a href='file:///Users/ezracitron/my_projects/autoIG/.venv/lib/python3.9/site-packages/sklearn/utils/validation.py?line=148'>149</a>\u001b[0m \u001b[39melif\u001b[39;00m X\u001b[39m.\u001b[39mdtype \u001b[39m==\u001b[39m np\u001b[39m.\u001b[39mdtype(\u001b[39m\"\u001b[39m\u001b[39mobject\u001b[39m\u001b[39m\"\u001b[39m) \u001b[39mand\u001b[39;00m \u001b[39mnot\u001b[39;00m allow_nan:\n",
      "\u001b[0;31mValueError\u001b[0m: Input y contains NaN."
     ]
    }
   ],
   "source": [
    "knn_regressor = KNeighborsRegressor(n_neighbors=3).fit(train_X,train_y)\n",
    "\n",
    "knn_pl = Pipeline(\n",
    "    [\n",
    "        ('drop_features', DropFeatures(features_to_drop=['id']) ),\n",
    "        ('knnreg' , KNeighborsRegressor(n_neighbors=6))\n",
    "    ]\n",
    "    )\n",
    "\n",
    "knn_regressor"
   ]
  },
  {
   "cell_type": "code",
   "execution_count": 27,
   "metadata": {},
   "outputs": [
    {
     "data": {
      "text/plain": [
       "buy    up   \n",
       "False  True     168\n",
       "       False    138\n",
       "True   False     38\n",
       "       True      30\n",
       "dtype: int64"
      ]
     },
     "execution_count": 27,
     "metadata": {},
     "output_type": "execute_result"
    }
   ],
   "source": [
    "# knn_pl.fit(X = train_X,y= train_y)\n",
    "plt_data = test_df.assign(preds=  model.predict(test_X),buy = lambda df: df.preds>1.01,up = lambda df: df.m0>df.m1)\n",
    "plt_data.value_counts(['buy','up'])\n"
   ]
  },
  {
   "cell_type": "code",
   "execution_count": 28,
   "metadata": {},
   "outputs": [],
   "source": [
    "\n",
    "## hiw are buys disr across time"
   ]
  },
  {
   "cell_type": "code",
   "execution_count": 29,
   "metadata": {},
   "outputs": [],
   "source": [
    "from pandas import to_datetime"
   ]
  },
  {
   "cell_type": "code",
   "execution_count": 30,
   "metadata": {},
   "outputs": [
    {
     "data": {
      "text/html": [
       "<div>\n",
       "<style scoped>\n",
       "    .dataframe tbody tr th:only-of-type {\n",
       "        vertical-align: middle;\n",
       "    }\n",
       "\n",
       "    .dataframe tbody tr th {\n",
       "        vertical-align: top;\n",
       "    }\n",
       "\n",
       "    .dataframe thead th {\n",
       "        text-align: right;\n",
       "    }\n",
       "</style>\n",
       "<table border=\"1\" class=\"dataframe\">\n",
       "  <thead>\n",
       "    <tr style=\"text-align: right;\">\n",
       "      <th></th>\n",
       "      <th>m3</th>\n",
       "      <th>m2</th>\n",
       "      <th>m1</th>\n",
       "      <th>m0</th>\n",
       "      <th>id</th>\n",
       "      <th>preds</th>\n",
       "      <th>buy</th>\n",
       "      <th>up</th>\n",
       "      <th>Date</th>\n",
       "    </tr>\n",
       "  </thead>\n",
       "  <tbody>\n",
       "    <tr>\n",
       "      <th>0</th>\n",
       "      <td>1.0</td>\n",
       "      <td>1.000000</td>\n",
       "      <td>1.002150</td>\n",
       "      <td>1.000558</td>\n",
       "      <td>2018-07-05 : 2018-07-09</td>\n",
       "      <td>0.992522</td>\n",
       "      <td>False</td>\n",
       "      <td>False</td>\n",
       "      <td>2018-07-09</td>\n",
       "    </tr>\n",
       "    <tr>\n",
       "      <th>1</th>\n",
       "      <td>1.0</td>\n",
       "      <td>1.002150</td>\n",
       "      <td>1.000558</td>\n",
       "      <td>0.998168</td>\n",
       "      <td>2018-07-06 : 2018-07-10</td>\n",
       "      <td>1.004381</td>\n",
       "      <td>False</td>\n",
       "      <td>False</td>\n",
       "      <td>2018-07-10</td>\n",
       "    </tr>\n",
       "    <tr>\n",
       "      <th>2</th>\n",
       "      <td>1.0</td>\n",
       "      <td>0.998410</td>\n",
       "      <td>0.996026</td>\n",
       "      <td>0.986250</td>\n",
       "      <td>2018-07-09 : 2018-07-11</td>\n",
       "      <td>0.999775</td>\n",
       "      <td>False</td>\n",
       "      <td>False</td>\n",
       "      <td>2018-07-11</td>\n",
       "    </tr>\n",
       "    <tr>\n",
       "      <th>3</th>\n",
       "      <td>1.0</td>\n",
       "      <td>0.997612</td>\n",
       "      <td>0.987820</td>\n",
       "      <td>0.990845</td>\n",
       "      <td>2018-07-10 : 2018-07-12</td>\n",
       "      <td>0.993163</td>\n",
       "      <td>False</td>\n",
       "      <td>True</td>\n",
       "      <td>2018-07-12</td>\n",
       "    </tr>\n",
       "    <tr>\n",
       "      <th>4</th>\n",
       "      <td>1.0</td>\n",
       "      <td>0.990185</td>\n",
       "      <td>0.993217</td>\n",
       "      <td>0.991621</td>\n",
       "      <td>2018-07-11 : 2018-07-13</td>\n",
       "      <td>0.988889</td>\n",
       "      <td>False</td>\n",
       "      <td>False</td>\n",
       "      <td>2018-07-13</td>\n",
       "    </tr>\n",
       "    <tr>\n",
       "      <th>...</th>\n",
       "      <td>...</td>\n",
       "      <td>...</td>\n",
       "      <td>...</td>\n",
       "      <td>...</td>\n",
       "      <td>...</td>\n",
       "      <td>...</td>\n",
       "      <td>...</td>\n",
       "      <td>...</td>\n",
       "      <td>...</td>\n",
       "    </tr>\n",
       "    <tr>\n",
       "      <th>369</th>\n",
       "      <td>1.0</td>\n",
       "      <td>1.003792</td>\n",
       "      <td>1.008126</td>\n",
       "      <td>1.019300</td>\n",
       "      <td>2019-12-20 : 2019-12-24</td>\n",
       "      <td>1.008205</td>\n",
       "      <td>False</td>\n",
       "      <td>True</td>\n",
       "      <td>2019-12-24</td>\n",
       "    </tr>\n",
       "    <tr>\n",
       "      <th>370</th>\n",
       "      <td>1.0</td>\n",
       "      <td>1.004318</td>\n",
       "      <td>1.015449</td>\n",
       "      <td>1.021251</td>\n",
       "      <td>2019-12-23 : 2019-12-26</td>\n",
       "      <td>1.004042</td>\n",
       "      <td>False</td>\n",
       "      <td>True</td>\n",
       "      <td>2019-12-26</td>\n",
       "    </tr>\n",
       "    <tr>\n",
       "      <th>371</th>\n",
       "      <td>1.0</td>\n",
       "      <td>1.011083</td>\n",
       "      <td>1.016860</td>\n",
       "      <td>1.016054</td>\n",
       "      <td>2019-12-24 : 2019-12-27</td>\n",
       "      <td>1.014419</td>\n",
       "      <td>True</td>\n",
       "      <td>False</td>\n",
       "      <td>2019-12-27</td>\n",
       "    </tr>\n",
       "    <tr>\n",
       "      <th>372</th>\n",
       "      <td>1.0</td>\n",
       "      <td>1.005714</td>\n",
       "      <td>1.004916</td>\n",
       "      <td>1.005714</td>\n",
       "      <td>2019-12-26 : 2019-12-30</td>\n",
       "      <td>1.002327</td>\n",
       "      <td>False</td>\n",
       "      <td>True</td>\n",
       "      <td>2019-12-30</td>\n",
       "    </tr>\n",
       "    <tr>\n",
       "      <th>373</th>\n",
       "      <td>1.0</td>\n",
       "      <td>0.999207</td>\n",
       "      <td>1.000000</td>\n",
       "      <td>NaN</td>\n",
       "      <td>2019-12-27 : 2019-12-31</td>\n",
       "      <td>1.000488</td>\n",
       "      <td>False</td>\n",
       "      <td>False</td>\n",
       "      <td>2019-12-31</td>\n",
       "    </tr>\n",
       "  </tbody>\n",
       "</table>\n",
       "<p>374 rows × 9 columns</p>\n",
       "</div>"
      ],
      "text/plain": [
       "      m3        m2        m1        m0                       id     preds  \\\n",
       "0    1.0  1.000000  1.002150  1.000558  2018-07-05 : 2018-07-09  0.992522   \n",
       "1    1.0  1.002150  1.000558  0.998168  2018-07-06 : 2018-07-10  1.004381   \n",
       "2    1.0  0.998410  0.996026  0.986250  2018-07-09 : 2018-07-11  0.999775   \n",
       "3    1.0  0.997612  0.987820  0.990845  2018-07-10 : 2018-07-12  0.993163   \n",
       "4    1.0  0.990185  0.993217  0.991621  2018-07-11 : 2018-07-13  0.988889   \n",
       "..   ...       ...       ...       ...                      ...       ...   \n",
       "369  1.0  1.003792  1.008126  1.019300  2019-12-20 : 2019-12-24  1.008205   \n",
       "370  1.0  1.004318  1.015449  1.021251  2019-12-23 : 2019-12-26  1.004042   \n",
       "371  1.0  1.011083  1.016860  1.016054  2019-12-24 : 2019-12-27  1.014419   \n",
       "372  1.0  1.005714  1.004916  1.005714  2019-12-26 : 2019-12-30  1.002327   \n",
       "373  1.0  0.999207  1.000000       NaN  2019-12-27 : 2019-12-31  1.000488   \n",
       "\n",
       "       buy     up       Date  \n",
       "0    False  False 2018-07-09  \n",
       "1    False  False 2018-07-10  \n",
       "2    False  False 2018-07-11  \n",
       "3    False   True 2018-07-12  \n",
       "4    False  False 2018-07-13  \n",
       "..     ...    ...        ...  \n",
       "369  False   True 2019-12-24  \n",
       "370  False   True 2019-12-26  \n",
       "371   True  False 2019-12-27  \n",
       "372  False   True 2019-12-30  \n",
       "373  False  False 2019-12-31  \n",
       "\n",
       "[374 rows x 9 columns]"
      ]
     },
     "execution_count": 30,
     "metadata": {},
     "output_type": "execute_result"
    }
   ],
   "source": [
    "plt_data = plt_data.assign(Date = lambda df:  to_datetime( df.id.str.slice(13,)) )\n",
    "plt_data"
   ]
  },
  {
   "cell_type": "code",
   "execution_count": 31,
   "metadata": {},
   "outputs": [],
   "source": [
    "import plotnine as pn\n",
    "from plotnine import ggplot, aes, geom_col, theme, geom_point,scale_x_continuous ,scale_y_continuous, geom_histogram, geom_line, labs,facet_wrap"
   ]
  },
  {
   "cell_type": "code",
   "execution_count": 32,
   "metadata": {},
   "outputs": [
    {
     "data": {
      "image/png": "[encoded data removed]",
      "text/plain": [
       "<Figure size 432x288 with 1 Axes>"
      ]
     },
     "metadata": {},
     "output_type": "display_data"
    },
    {
     "data": {
      "text/plain": [
       "<ggplot: (311333840)>"
      ]
     },
     "execution_count": 32,
     "metadata": {},
     "output_type": "execute_result"
    }
   ],
   "source": [
    "(\n",
    "    ggplot(plt_data.query('buy'))+\n",
    "    geom_point(aes('Date',1,color=  'buy'),size = .1)#+\n",
    "    # theme(figure_size=[20,1])\n",
    ")"
   ]
  },
  {
   "cell_type": "code",
   "execution_count": 33,
   "metadata": {},
   "outputs": [
    {
     "data": {
      "text/html": [
       "<div>\n",
       "<style scoped>\n",
       "    .dataframe tbody tr th:only-of-type {\n",
       "        vertical-align: middle;\n",
       "    }\n",
       "\n",
       "    .dataframe tbody tr th {\n",
       "        vertical-align: top;\n",
       "    }\n",
       "\n",
       "    .dataframe thead th {\n",
       "        text-align: right;\n",
       "    }\n",
       "</style>\n",
       "<table border=\"1\" class=\"dataframe\">\n",
       "  <thead>\n",
       "    <tr style=\"text-align: right;\">\n",
       "      <th></th>\n",
       "      <th>m3</th>\n",
       "      <th>m2</th>\n",
       "      <th>m1</th>\n",
       "      <th>m0</th>\n",
       "      <th>id</th>\n",
       "      <th>preds</th>\n",
       "      <th>buy</th>\n",
       "      <th>up</th>\n",
       "      <th>Date</th>\n",
       "      <th>pr</th>\n",
       "    </tr>\n",
       "  </thead>\n",
       "  <tbody>\n",
       "    <tr>\n",
       "      <th>12</th>\n",
       "      <td>1.0</td>\n",
       "      <td>1.001555</td>\n",
       "      <td>1.007692</td>\n",
       "      <td>1.004746</td>\n",
       "      <td>2018-07-23 : 2018-07-25</td>\n",
       "      <td>1.015353</td>\n",
       "      <td>True</td>\n",
       "      <td>False</td>\n",
       "      <td>2018-07-25</td>\n",
       "      <td>0.997077</td>\n",
       "    </tr>\n",
       "    <tr>\n",
       "      <th>31</th>\n",
       "      <td>1.0</td>\n",
       "      <td>1.008598</td>\n",
       "      <td>1.012854</td>\n",
       "      <td>1.017026</td>\n",
       "      <td>2018-08-17 : 2018-08-21</td>\n",
       "      <td>1.016058</td>\n",
       "      <td>True</td>\n",
       "      <td>True</td>\n",
       "      <td>2018-08-21</td>\n",
       "      <td>1.004118</td>\n",
       "    </tr>\n",
       "    <tr>\n",
       "      <th>35</th>\n",
       "      <td>1.0</td>\n",
       "      <td>0.996637</td>\n",
       "      <td>1.017657</td>\n",
       "      <td>1.017153</td>\n",
       "      <td>2018-08-23 : 2018-08-27</td>\n",
       "      <td>1.016451</td>\n",
       "      <td>True</td>\n",
       "      <td>False</td>\n",
       "      <td>2018-08-27</td>\n",
       "      <td>0.999504</td>\n",
       "    </tr>\n",
       "    <tr>\n",
       "      <th>36</th>\n",
       "      <td>1.0</td>\n",
       "      <td>1.021092</td>\n",
       "      <td>1.020585</td>\n",
       "      <td>1.016789</td>\n",
       "      <td>2018-08-24 : 2018-08-28</td>\n",
       "      <td>1.02489</td>\n",
       "      <td>True</td>\n",
       "      <td>False</td>\n",
       "      <td>2018-08-28</td>\n",
       "      <td>0.996280</td>\n",
       "    </tr>\n",
       "    <tr>\n",
       "      <th>47</th>\n",
       "      <td>1.0</td>\n",
       "      <td>1.012265</td>\n",
       "      <td>1.010921</td>\n",
       "      <td>1.003864</td>\n",
       "      <td>2018-09-11 : 2018-09-13</td>\n",
       "      <td>1.014571</td>\n",
       "      <td>True</td>\n",
       "      <td>False</td>\n",
       "      <td>2018-09-13</td>\n",
       "      <td>0.993020</td>\n",
       "    </tr>\n",
       "    <tr>\n",
       "      <th>...</th>\n",
       "      <td>...</td>\n",
       "      <td>...</td>\n",
       "      <td>...</td>\n",
       "      <td>...</td>\n",
       "      <td>...</td>\n",
       "      <td>...</td>\n",
       "      <td>...</td>\n",
       "      <td>...</td>\n",
       "      <td>...</td>\n",
       "      <td>...</td>\n",
       "    </tr>\n",
       "    <tr>\n",
       "      <th>317</th>\n",
       "      <td>1.0</td>\n",
       "      <td>1.012287</td>\n",
       "      <td>1.014637</td>\n",
       "      <td>1.001679</td>\n",
       "      <td>2019-10-08 : 2019-10-10</td>\n",
       "      <td>1.01823</td>\n",
       "      <td>True</td>\n",
       "      <td>False</td>\n",
       "      <td>2019-10-10</td>\n",
       "      <td>0.987229</td>\n",
       "    </tr>\n",
       "    <tr>\n",
       "      <th>332</th>\n",
       "      <td>1.0</td>\n",
       "      <td>1.000875</td>\n",
       "      <td>1.006864</td>\n",
       "      <td>1.016892</td>\n",
       "      <td>2019-10-29 : 2019-10-31</td>\n",
       "      <td>1.015261</td>\n",
       "      <td>True</td>\n",
       "      <td>True</td>\n",
       "      <td>2019-10-31</td>\n",
       "      <td>1.009959</td>\n",
       "    </tr>\n",
       "    <tr>\n",
       "      <th>334</th>\n",
       "      <td>1.0</td>\n",
       "      <td>1.009959</td>\n",
       "      <td>1.010360</td>\n",
       "      <td>1.007352</td>\n",
       "      <td>2019-10-31 : 2019-11-04</td>\n",
       "      <td>1.014533</td>\n",
       "      <td>True</td>\n",
       "      <td>False</td>\n",
       "      <td>2019-11-04</td>\n",
       "      <td>0.997023</td>\n",
       "    </tr>\n",
       "    <tr>\n",
       "      <th>355</th>\n",
       "      <td>1.0</td>\n",
       "      <td>0.999180</td>\n",
       "      <td>1.010049</td>\n",
       "      <td>1.008135</td>\n",
       "      <td>2019-12-02 : 2019-12-04</td>\n",
       "      <td>1.010843</td>\n",
       "      <td>True</td>\n",
       "      <td>False</td>\n",
       "      <td>2019-12-04</td>\n",
       "      <td>0.998105</td>\n",
       "    </tr>\n",
       "    <tr>\n",
       "      <th>371</th>\n",
       "      <td>1.0</td>\n",
       "      <td>1.011083</td>\n",
       "      <td>1.016860</td>\n",
       "      <td>1.016054</td>\n",
       "      <td>2019-12-24 : 2019-12-27</td>\n",
       "      <td>1.014419</td>\n",
       "      <td>True</td>\n",
       "      <td>False</td>\n",
       "      <td>2019-12-27</td>\n",
       "      <td>0.999207</td>\n",
       "    </tr>\n",
       "  </tbody>\n",
       "</table>\n",
       "<p>68 rows × 10 columns</p>\n",
       "</div>"
      ],
      "text/plain": [
       "      m3        m2        m1        m0                       id     preds  \\\n",
       "12   1.0  1.001555  1.007692  1.004746  2018-07-23 : 2018-07-25  1.015353   \n",
       "31   1.0  1.008598  1.012854  1.017026  2018-08-17 : 2018-08-21  1.016058   \n",
       "35   1.0  0.996637  1.017657  1.017153  2018-08-23 : 2018-08-27  1.016451   \n",
       "36   1.0  1.021092  1.020585  1.016789  2018-08-24 : 2018-08-28   1.02489   \n",
       "47   1.0  1.012265  1.010921  1.003864  2018-09-11 : 2018-09-13  1.014571   \n",
       "..   ...       ...       ...       ...                      ...       ...   \n",
       "317  1.0  1.012287  1.014637  1.001679  2019-10-08 : 2019-10-10   1.01823   \n",
       "332  1.0  1.000875  1.006864  1.016892  2019-10-29 : 2019-10-31  1.015261   \n",
       "334  1.0  1.009959  1.010360  1.007352  2019-10-31 : 2019-11-04  1.014533   \n",
       "355  1.0  0.999180  1.010049  1.008135  2019-12-02 : 2019-12-04  1.010843   \n",
       "371  1.0  1.011083  1.016860  1.016054  2019-12-24 : 2019-12-27  1.014419   \n",
       "\n",
       "      buy     up       Date        pr  \n",
       "12   True  False 2018-07-25  0.997077  \n",
       "31   True   True 2018-08-21  1.004118  \n",
       "35   True  False 2018-08-27  0.999504  \n",
       "36   True  False 2018-08-28  0.996280  \n",
       "47   True  False 2018-09-13  0.993020  \n",
       "..    ...    ...        ...       ...  \n",
       "317  True  False 2019-10-10  0.987229  \n",
       "332  True   True 2019-10-31  1.009959  \n",
       "334  True  False 2019-11-04  0.997023  \n",
       "355  True  False 2019-12-04  0.998105  \n",
       "371  True  False 2019-12-27  0.999207  \n",
       "\n",
       "[68 rows x 10 columns]"
      ]
     },
     "execution_count": 33,
     "metadata": {},
     "output_type": "execute_result"
    }
   ],
   "source": [
    "plt_data.query('buy').assign(pr=lambda df:df.m0/df.m1)"
   ]
  },
  {
   "cell_type": "code",
   "execution_count": 43,
   "metadata": {},
   "outputs": [],
   "source": [
    "plt_data.preds=plt_data.preds.astype(np.float64)"
   ]
  },
  {
   "cell_type": "code",
   "execution_count": 34,
   "metadata": {},
   "outputs": [
    {
     "data": {
      "text/plain": [
       "0.9661508704061895"
      ]
     },
     "execution_count": 34,
     "metadata": {},
     "output_type": "execute_result"
    }
   ],
   "source": [
    "plt_data.m0.min()"
   ]
  },
  {
   "cell_type": "code",
   "execution_count": 55,
   "metadata": {},
   "outputs": [
    {
     "data": {
      "text/html": [
       "<div>\n",
       "<style scoped>\n",
       "    .dataframe tbody tr th:only-of-type {\n",
       "        vertical-align: middle;\n",
       "    }\n",
       "\n",
       "    .dataframe tbody tr th {\n",
       "        vertical-align: top;\n",
       "    }\n",
       "\n",
       "    .dataframe thead th {\n",
       "        text-align: right;\n",
       "    }\n",
       "</style>\n",
       "<table border=\"1\" class=\"dataframe\">\n",
       "  <thead>\n",
       "    <tr style=\"text-align: right;\">\n",
       "      <th></th>\n",
       "      <th>m3</th>\n",
       "      <th>m2</th>\n",
       "      <th>m1</th>\n",
       "      <th>m0</th>\n",
       "      <th>id</th>\n",
       "      <th>preds</th>\n",
       "      <th>buy</th>\n",
       "      <th>up</th>\n",
       "      <th>Date</th>\n",
       "    </tr>\n",
       "  </thead>\n",
       "  <tbody>\n",
       "    <tr>\n",
       "      <th>0</th>\n",
       "      <td>1.0</td>\n",
       "      <td>1.000000</td>\n",
       "      <td>1.002150</td>\n",
       "      <td>1.000558</td>\n",
       "      <td>2018-07-05 : 2018-07-09</td>\n",
       "      <td>0.992522</td>\n",
       "      <td>False</td>\n",
       "      <td>False</td>\n",
       "      <td>2018-07-09</td>\n",
       "    </tr>\n",
       "    <tr>\n",
       "      <th>1</th>\n",
       "      <td>1.0</td>\n",
       "      <td>1.002150</td>\n",
       "      <td>1.000558</td>\n",
       "      <td>0.998168</td>\n",
       "      <td>2018-07-06 : 2018-07-10</td>\n",
       "      <td>1.004381</td>\n",
       "      <td>False</td>\n",
       "      <td>False</td>\n",
       "      <td>2018-07-10</td>\n",
       "    </tr>\n",
       "    <tr>\n",
       "      <th>2</th>\n",
       "      <td>1.0</td>\n",
       "      <td>0.998410</td>\n",
       "      <td>0.996026</td>\n",
       "      <td>0.986250</td>\n",
       "      <td>2018-07-09 : 2018-07-11</td>\n",
       "      <td>0.999775</td>\n",
       "      <td>False</td>\n",
       "      <td>False</td>\n",
       "      <td>2018-07-11</td>\n",
       "    </tr>\n",
       "    <tr>\n",
       "      <th>3</th>\n",
       "      <td>1.0</td>\n",
       "      <td>0.997612</td>\n",
       "      <td>0.987820</td>\n",
       "      <td>0.990845</td>\n",
       "      <td>2018-07-10 : 2018-07-12</td>\n",
       "      <td>0.993163</td>\n",
       "      <td>False</td>\n",
       "      <td>True</td>\n",
       "      <td>2018-07-12</td>\n",
       "    </tr>\n",
       "    <tr>\n",
       "      <th>4</th>\n",
       "      <td>1.0</td>\n",
       "      <td>0.990185</td>\n",
       "      <td>0.993217</td>\n",
       "      <td>0.991621</td>\n",
       "      <td>2018-07-11 : 2018-07-13</td>\n",
       "      <td>0.988889</td>\n",
       "      <td>False</td>\n",
       "      <td>False</td>\n",
       "      <td>2018-07-13</td>\n",
       "    </tr>\n",
       "    <tr>\n",
       "      <th>...</th>\n",
       "      <td>...</td>\n",
       "      <td>...</td>\n",
       "      <td>...</td>\n",
       "      <td>...</td>\n",
       "      <td>...</td>\n",
       "      <td>...</td>\n",
       "      <td>...</td>\n",
       "      <td>...</td>\n",
       "      <td>...</td>\n",
       "    </tr>\n",
       "    <tr>\n",
       "      <th>368</th>\n",
       "      <td>1.0</td>\n",
       "      <td>1.000542</td>\n",
       "      <td>1.004336</td>\n",
       "      <td>1.008673</td>\n",
       "      <td>2019-12-19 : 2019-12-23</td>\n",
       "      <td>1.003367</td>\n",
       "      <td>False</td>\n",
       "      <td>True</td>\n",
       "      <td>2019-12-23</td>\n",
       "    </tr>\n",
       "    <tr>\n",
       "      <th>369</th>\n",
       "      <td>1.0</td>\n",
       "      <td>1.003792</td>\n",
       "      <td>1.008126</td>\n",
       "      <td>1.019300</td>\n",
       "      <td>2019-12-20 : 2019-12-24</td>\n",
       "      <td>1.008205</td>\n",
       "      <td>False</td>\n",
       "      <td>True</td>\n",
       "      <td>2019-12-24</td>\n",
       "    </tr>\n",
       "    <tr>\n",
       "      <th>370</th>\n",
       "      <td>1.0</td>\n",
       "      <td>1.004318</td>\n",
       "      <td>1.015449</td>\n",
       "      <td>1.021251</td>\n",
       "      <td>2019-12-23 : 2019-12-26</td>\n",
       "      <td>1.004042</td>\n",
       "      <td>False</td>\n",
       "      <td>True</td>\n",
       "      <td>2019-12-26</td>\n",
       "    </tr>\n",
       "    <tr>\n",
       "      <th>371</th>\n",
       "      <td>1.0</td>\n",
       "      <td>1.011083</td>\n",
       "      <td>1.016860</td>\n",
       "      <td>1.016054</td>\n",
       "      <td>2019-12-24 : 2019-12-27</td>\n",
       "      <td>1.014419</td>\n",
       "      <td>True</td>\n",
       "      <td>False</td>\n",
       "      <td>2019-12-27</td>\n",
       "    </tr>\n",
       "    <tr>\n",
       "      <th>372</th>\n",
       "      <td>1.0</td>\n",
       "      <td>1.005714</td>\n",
       "      <td>1.004916</td>\n",
       "      <td>1.005714</td>\n",
       "      <td>2019-12-26 : 2019-12-30</td>\n",
       "      <td>1.002327</td>\n",
       "      <td>False</td>\n",
       "      <td>True</td>\n",
       "      <td>2019-12-30</td>\n",
       "    </tr>\n",
       "  </tbody>\n",
       "</table>\n",
       "<p>373 rows × 9 columns</p>\n",
       "</div>"
      ],
      "text/plain": [
       "      m3        m2        m1        m0                       id     preds  \\\n",
       "0    1.0  1.000000  1.002150  1.000558  2018-07-05 : 2018-07-09  0.992522   \n",
       "1    1.0  1.002150  1.000558  0.998168  2018-07-06 : 2018-07-10  1.004381   \n",
       "2    1.0  0.998410  0.996026  0.986250  2018-07-09 : 2018-07-11  0.999775   \n",
       "3    1.0  0.997612  0.987820  0.990845  2018-07-10 : 2018-07-12  0.993163   \n",
       "4    1.0  0.990185  0.993217  0.991621  2018-07-11 : 2018-07-13  0.988889   \n",
       "..   ...       ...       ...       ...                      ...       ...   \n",
       "368  1.0  1.000542  1.004336  1.008673  2019-12-19 : 2019-12-23  1.003367   \n",
       "369  1.0  1.003792  1.008126  1.019300  2019-12-20 : 2019-12-24  1.008205   \n",
       "370  1.0  1.004318  1.015449  1.021251  2019-12-23 : 2019-12-26  1.004042   \n",
       "371  1.0  1.011083  1.016860  1.016054  2019-12-24 : 2019-12-27  1.014419   \n",
       "372  1.0  1.005714  1.004916  1.005714  2019-12-26 : 2019-12-30  1.002327   \n",
       "\n",
       "       buy     up       Date  \n",
       "0    False  False 2018-07-09  \n",
       "1    False  False 2018-07-10  \n",
       "2    False  False 2018-07-11  \n",
       "3    False   True 2018-07-12  \n",
       "4    False  False 2018-07-13  \n",
       "..     ...    ...        ...  \n",
       "368  False   True 2019-12-23  \n",
       "369  False   True 2019-12-24  \n",
       "370  False   True 2019-12-26  \n",
       "371   True  False 2019-12-27  \n",
       "372  False   True 2019-12-30  \n",
       "\n",
       "[373 rows x 9 columns]"
      ]
     },
     "execution_count": 55,
     "metadata": {},
     "output_type": "execute_result"
    }
   ],
   "source": []
  },
  {
   "cell_type": "code",
   "execution_count": 45,
   "metadata": {},
   "outputs": [
    {
     "name": "stderr",
     "output_type": "stream",
     "text": [
      "/Users/ezracitron/my_projects/autoIG/.venv/lib/python3.9/site-packages/plotnine/layer.py:401: PlotnineWarning: geom_point : Removed 1 rows containing missing values.\n"
     ]
    },
    {
     "data": {
      "image/png": "[encoded data removed]",
      "text/plain": [
       "<Figure size 640x480 with 1 Axes>"
      ]
     },
     "metadata": {},
     "output_type": "display_data"
    },
    {
     "data": {
      "text/plain": [
       "<ggplot: (312695242)>"
      ]
     },
     "execution_count": 45,
     "metadata": {},
     "output_type": "execute_result"
    }
   ],
   "source": [
    "import importlib\n",
    "import plotnine\n",
    "(\n",
    "    pn.ggplot()+\n",
    "    pn.geom_point(aes(plt_data.m0,plt_data.m1))+\n",
    "    theme()\n",
    ")"
   ]
  },
  {
   "cell_type": "code",
   "execution_count": 60,
   "metadata": {},
   "outputs": [
    {
     "name": "stdout",
     "output_type": "stream",
     "text": [
      "0.693165767061153\n",
      "0.7965741240547698\n"
     ]
    }
   ],
   "source": [
    "from scipy.stats import linregress\n",
    "lm_data=plt_data[~plt_data.m0.isna()]\n",
    "lm= linregress(x = lm_data.preds,y = lm_data.m0)\n",
    "print(lm.rvalue)\n",
    "lm= linregress(x = lm_data.m1,y = lm_data.m0)\n",
    "print(lm.rvalue)"
   ]
  },
  {
   "cell_type": "code",
   "execution_count": 253,
   "metadata": {},
   "outputs": [
    {
     "data": {
      "text/plain": [
       "{'fit_time': array([0.00617599, 0.00548697, 0.00508499]),\n",
       " 'score_time': array([0.00500107, 0.00805306, 0.00651002]),\n",
       " 'test_score': array([-0.00026379, -0.00016362, -0.00011011])}"
      ]
     },
     "execution_count": 253,
     "metadata": {},
     "output_type": "execute_result"
    }
   ],
   "source": [
    "from sklearn.model_selection import cross_validate, GridSearchCV\n",
    "cross_validate(estimator = knn_regressor, X=train_X,y= train_y, cv=3,scoring=\"neg_mean_squared_error\" )"
   ]
  },
  {
   "cell_type": "code",
   "execution_count": 255,
   "metadata": {},
   "outputs": [
    {
     "data": {
      "text/html": [
       "<style>#sk-container-id-38 {color: black;background-color: white;}#sk-container-id-38 pre{padding: 0;}#sk-container-id-38 div.sk-toggleable {background-color: white;}#sk-container-id-38 label.sk-toggleable__label {cursor: pointer;display: block;width: 100%;margin-bottom: 0;padding: 0.3em;box-sizing: border-box;text-align: center;}#sk-container-id-38 label.sk-toggleable__label-arrow:before {content: \"▸\";float: left;margin-right: 0.25em;color: #696969;}#sk-container-id-38 label.sk-toggleable__label-arrow:hover:before {color: black;}#sk-container-id-38 div.sk-estimator:hover label.sk-toggleable__label-arrow:before {color: black;}#sk-container-id-38 div.sk-toggleable__content {max-height: 0;max-width: 0;overflow: hidden;text-align: left;background-color: #f0f8ff;}#sk-container-id-38 div.sk-toggleable__content pre {margin: 0.2em;color: black;border-radius: 0.25em;background-color: #f0f8ff;}#sk-container-id-38 input.sk-toggleable__control:checked~div.sk-toggleable__content {max-height: 200px;max-width: 100%;overflow: auto;}#sk-container-id-38 input.sk-toggleable__control:checked~label.sk-toggleable__label-arrow:before {content: \"▾\";}#sk-container-id-38 div.sk-estimator input.sk-toggleable__control:checked~label.sk-toggleable__label {background-color: #d4ebff;}#sk-container-id-38 div.sk-label input.sk-toggleable__control:checked~label.sk-toggleable__label {background-color: #d4ebff;}#sk-container-id-38 input.sk-hidden--visually {border: 0;clip: rect(1px 1px 1px 1px);clip: rect(1px, 1px, 1px, 1px);height: 1px;margin: -1px;overflow: hidden;padding: 0;position: absolute;width: 1px;}#sk-container-id-38 div.sk-estimator {font-family: monospace;background-color: #f0f8ff;border: 1px dotted black;border-radius: 0.25em;box-sizing: border-box;margin-bottom: 0.5em;}#sk-container-id-38 div.sk-estimator:hover {background-color: #d4ebff;}#sk-container-id-38 div.sk-parallel-item::after {content: \"\";width: 100%;border-bottom: 1px solid gray;flex-grow: 1;}#sk-container-id-38 div.sk-label:hover label.sk-toggleable__label {background-color: #d4ebff;}#sk-container-id-38 div.sk-serial::before {content: \"\";position: absolute;border-left: 1px solid gray;box-sizing: border-box;top: 0;bottom: 0;left: 50%;z-index: 0;}#sk-container-id-38 div.sk-serial {display: flex;flex-direction: column;align-items: center;background-color: white;padding-right: 0.2em;padding-left: 0.2em;position: relative;}#sk-container-id-38 div.sk-item {position: relative;z-index: 1;}#sk-container-id-38 div.sk-parallel {display: flex;align-items: stretch;justify-content: center;background-color: white;position: relative;}#sk-container-id-38 div.sk-item::before, #sk-container-id-38 div.sk-parallel-item::before {content: \"\";position: absolute;border-left: 1px solid gray;box-sizing: border-box;top: 0;bottom: 0;left: 50%;z-index: -1;}#sk-container-id-38 div.sk-parallel-item {display: flex;flex-direction: column;z-index: 1;position: relative;background-color: white;}#sk-container-id-38 div.sk-parallel-item:first-child::after {align-self: flex-end;width: 50%;}#sk-container-id-38 div.sk-parallel-item:last-child::after {align-self: flex-start;width: 50%;}#sk-container-id-38 div.sk-parallel-item:only-child::after {width: 0;}#sk-container-id-38 div.sk-dashed-wrapped {border: 1px dashed gray;margin: 0 0.4em 0.5em 0.4em;box-sizing: border-box;padding-bottom: 0.4em;background-color: white;}#sk-container-id-38 div.sk-label label {font-family: monospace;font-weight: bold;display: inline-block;line-height: 1.2em;}#sk-container-id-38 div.sk-label-container {text-align: center;}#sk-container-id-38 div.sk-container {/* jupyter's `normalize.less` sets `[hidden] { display: none; }` but bootstrap.min.css set `[hidden] { display: none !important; }` so we also need the `!important` here to be able to override the default hidden behavior on the sphinx rendered scikit-learn.org. See: https://github.com/scikit-learn/scikit-learn/issues/21755 */display: inline-block !important;position: relative;}#sk-container-id-38 div.sk-text-repr-fallback {display: none;}</style><div id=\"sk-container-id-38\" class=\"sk-top-container\"><div class=\"sk-text-repr-fallback\"><pre>GridSearchCV(estimator=KNeighborsRegressor(n_neighbors=4),\n",
       "             param_grid={&#x27;n_neighbors&#x27;: [1, 3, 5, 7]})</pre><b>In a Jupyter environment, please rerun this cell to show the HTML representation or trust the notebook. <br />On GitHub, the HTML representation is unable to render, please try loading this page with nbviewer.org.</b></div><div class=\"sk-container\" hidden><div class=\"sk-item sk-dashed-wrapped\"><div class=\"sk-label-container\"><div class=\"sk-label sk-toggleable\"><input class=\"sk-toggleable__control sk-hidden--visually\" id=\"sk-estimator-id-112\" type=\"checkbox\" ><label for=\"sk-estimator-id-112\" class=\"sk-toggleable__label sk-toggleable__label-arrow\">GridSearchCV</label><div class=\"sk-toggleable__content\"><pre>GridSearchCV(estimator=KNeighborsRegressor(n_neighbors=4),\n",
       "             param_grid={&#x27;n_neighbors&#x27;: [1, 3, 5, 7]})</pre></div></div></div><div class=\"sk-parallel\"><div class=\"sk-parallel-item\"><div class=\"sk-item\"><div class=\"sk-label-container\"><div class=\"sk-label sk-toggleable\"><input class=\"sk-toggleable__control sk-hidden--visually\" id=\"sk-estimator-id-113\" type=\"checkbox\" ><label for=\"sk-estimator-id-113\" class=\"sk-toggleable__label sk-toggleable__label-arrow\">estimator: KNeighborsRegressor</label><div class=\"sk-toggleable__content\"><pre>KNeighborsRegressor(n_neighbors=4)</pre></div></div></div><div class=\"sk-serial\"><div class=\"sk-item\"><div class=\"sk-estimator sk-toggleable\"><input class=\"sk-toggleable__control sk-hidden--visually\" id=\"sk-estimator-id-114\" type=\"checkbox\" ><label for=\"sk-estimator-id-114\" class=\"sk-toggleable__label sk-toggleable__label-arrow\">KNeighborsRegressor</label><div class=\"sk-toggleable__content\"><pre>KNeighborsRegressor(n_neighbors=4)</pre></div></div></div></div></div></div></div></div></div></div>"
      ],
      "text/plain": [
       "GridSearchCV(estimator=KNeighborsRegressor(n_neighbors=4),\n",
       "             param_grid={'n_neighbors': [1, 3, 5, 7]})"
      ]
     },
     "execution_count": 255,
     "metadata": {},
     "output_type": "execute_result"
    }
   ],
   "source": [
    "grid_search = GridSearchCV(estimator = knn_regressor, param_grid={\"n_neighbors\":[1,3,5,7]})\n",
    "grid_search"
   ]
  },
  {
   "cell_type": "code",
   "execution_count": 261,
   "metadata": {},
   "outputs": [],
   "source": [
    "\n"
   ]
  },
  {
   "cell_type": "code",
   "execution_count": 267,
   "metadata": {},
   "outputs": [],
   "source": [
    "filename =  '../knn_regressor.sav'\n",
    "# pickle.dump(knn_regressor, open(filename, 'wb'))\n",
    "model = pickle.load(open(filename, 'rb'))"
   ]
  },
  {
   "cell_type": "code",
   "execution_count": null,
   "metadata": {},
   "outputs": [],
   "source": []
  },
  {
   "cell_type": "code",
   "execution_count": 52,
   "metadata": {},
   "outputs": [],
   "source": [
    "from  sklearn.metrics import confusion_matrix,mean_squared_error"
   ]
  },
  {
   "cell_type": "code",
   "execution_count": 268,
   "metadata": {},
   "outputs": [
    {
     "data": {
      "text/plain": [
       "0.00013791091432390485"
      ]
     },
     "execution_count": 268,
     "metadata": {},
     "output_type": "execute_result"
    }
   ],
   "source": [
    "mean_squared_error(model.predict(test_X),test_y)"
   ]
  },
  {
   "cell_type": "code",
   "execution_count": 54,
   "metadata": {},
   "outputs": [
    {
     "data": {
      "text/html": [
       "<div>\n",
       "<style scoped>\n",
       "    .dataframe tbody tr th:only-of-type {\n",
       "        vertical-align: middle;\n",
       "    }\n",
       "\n",
       "    .dataframe tbody tr th {\n",
       "        vertical-align: top;\n",
       "    }\n",
       "\n",
       "    .dataframe thead th {\n",
       "        text-align: right;\n",
       "    }\n",
       "</style>\n",
       "<table border=\"1\" class=\"dataframe\">\n",
       "  <thead>\n",
       "    <tr style=\"text-align: right;\">\n",
       "      <th></th>\n",
       "      <th>m3</th>\n",
       "      <th>m2</th>\n",
       "      <th>m1</th>\n",
       "      <th>m0</th>\n",
       "      <th>preds</th>\n",
       "      <th>preds_bool</th>\n",
       "      <th>diff</th>\n",
       "    </tr>\n",
       "  </thead>\n",
       "  <tbody>\n",
       "    <tr>\n",
       "      <th>0</th>\n",
       "      <td>1.0</td>\n",
       "      <td>0.998609</td>\n",
       "      <td>1.001700</td>\n",
       "      <td>1.003478</td>\n",
       "      <td>1.000798</td>\n",
       "      <td>1</td>\n",
       "      <td>-0.002680</td>\n",
       "    </tr>\n",
       "    <tr>\n",
       "      <th>1</th>\n",
       "      <td>1.0</td>\n",
       "      <td>1.003096</td>\n",
       "      <td>1.004876</td>\n",
       "      <td>1.002477</td>\n",
       "      <td>1.011788</td>\n",
       "      <td>1</td>\n",
       "      <td>0.009311</td>\n",
       "    </tr>\n",
       "    <tr>\n",
       "      <th>2</th>\n",
       "      <td>1.0</td>\n",
       "      <td>1.001775</td>\n",
       "      <td>0.999383</td>\n",
       "      <td>1.002469</td>\n",
       "      <td>1.006370</td>\n",
       "      <td>1</td>\n",
       "      <td>0.003901</td>\n",
       "    </tr>\n",
       "    <tr>\n",
       "      <th>3</th>\n",
       "      <td>1.0</td>\n",
       "      <td>0.997612</td>\n",
       "      <td>1.000693</td>\n",
       "      <td>0.999538</td>\n",
       "      <td>1.003020</td>\n",
       "      <td>1</td>\n",
       "      <td>0.003482</td>\n",
       "    </tr>\n",
       "    <tr>\n",
       "      <th>4</th>\n",
       "      <td>1.0</td>\n",
       "      <td>1.003088</td>\n",
       "      <td>1.001930</td>\n",
       "      <td>0.998996</td>\n",
       "      <td>1.006627</td>\n",
       "      <td>1</td>\n",
       "      <td>0.007630</td>\n",
       "    </tr>\n",
       "  </tbody>\n",
       "</table>\n",
       "</div>"
      ],
      "text/plain": [
       "    m3        m2        m1        m0     preds  preds_bool      diff\n",
       "0  1.0  0.998609  1.001700  1.003478  1.000798           1 -0.002680\n",
       "1  1.0  1.003096  1.004876  1.002477  1.011788           1  0.009311\n",
       "2  1.0  1.001775  0.999383  1.002469  1.006370           1  0.003901\n",
       "3  1.0  0.997612  1.000693  0.999538  1.003020           1  0.003482\n",
       "4  1.0  1.003088  1.001930  0.998996  1.006627           1  0.007630"
      ]
     },
     "execution_count": 54,
     "metadata": {},
     "output_type": "execute_result"
    }
   ],
   "source": [
    "df_test_accuracy = df_test_accuracy.assign(diff = lambda df: df.preds- df.m0)\n",
    "df_test_accuracy.head()"
   ]
  },
  {
   "cell_type": "code",
   "execution_count": 55,
   "metadata": {},
   "outputs": [
    {
     "name": "stderr",
     "output_type": "stream",
     "text": [
      "/Users/ezracitron/my_projects/autoIG/.venv/lib/python3.9/site-packages/plotnine/stats/stat_bin.py:95: PlotnineWarning: 'stat_bin()' using 'bins = 43'. Pick better value with 'binwidth'.\n"
     ]
    },
    {
     "data": {
      "image/png": "[encoded data removed]",
      "text/plain": [
       "<Figure size 640x480 with 1 Axes>"
      ]
     },
     "metadata": {},
     "output_type": "display_data"
    },
    {
     "data": {
      "text/plain": [
       "<ggplot: (306439684)>"
      ]
     },
     "execution_count": 55,
     "metadata": {},
     "output_type": "execute_result"
    }
   ],
   "source": [
    "import plotnine as pn\n",
    "from plotnine import ggplot, aes, geom_point, geom_col, theme, geom_point,scale_x_continuous ,scale_y_continuous, geom_histogram, geom_line, labs\n",
    "(\n",
    "    ggplot(df_test_accuracy)+\n",
    "    pn.geom_histogram(aes('preds'))+\n",
    "    theme()\n",
    ")"
   ]
  },
  {
   "cell_type": "code",
   "execution_count": 56,
   "metadata": {},
   "outputs": [
    {
     "name": "stderr",
     "output_type": "stream",
     "text": [
      "/Users/ezracitron/my_projects/autoIG/.venv/lib/python3.9/site-packages/plotnine/stats/stat_bin.py:95: PlotnineWarning: 'stat_bin()' using 'bins = 52'. Pick better value with 'binwidth'.\n"
     ]
    },
    {
     "data": {
      "image/png": "[encoded data removed]",
      "text/plain": [
       "<Figure size 640x480 with 1 Axes>"
      ]
     },
     "metadata": {},
     "output_type": "display_data"
    },
    {
     "data": {
      "text/plain": [
       "<ggplot: (306610288)>"
      ]
     },
     "execution_count": 56,
     "metadata": {},
     "output_type": "execute_result"
    }
   ],
   "source": [
    "import plotnine as pn\n",
    "from plotnine import ggplot, aes, geom_point, geom_col, theme, geom_point,scale_x_continuous ,scale_y_continuous, geom_histogram, geom_line, labs\n",
    "(\n",
    "    ggplot(df_test_accuracy)+\n",
    "    pn.geom_histogram(aes('diff'))+\n",
    "    theme()\n",
    ")"
   ]
  },
  {
   "cell_type": "code",
   "execution_count": 57,
   "metadata": {},
   "outputs": [
    {
     "data": {
      "text/html": [
       "<div>\n",
       "<style scoped>\n",
       "    .dataframe tbody tr th:only-of-type {\n",
       "        vertical-align: middle;\n",
       "    }\n",
       "\n",
       "    .dataframe tbody tr th {\n",
       "        vertical-align: top;\n",
       "    }\n",
       "\n",
       "    .dataframe thead th {\n",
       "        text-align: right;\n",
       "    }\n",
       "</style>\n",
       "<table border=\"1\" class=\"dataframe\">\n",
       "  <thead>\n",
       "    <tr style=\"text-align: right;\">\n",
       "      <th></th>\n",
       "      <th>m3</th>\n",
       "      <th>m2</th>\n",
       "      <th>m1</th>\n",
       "      <th>m0</th>\n",
       "      <th>preds</th>\n",
       "      <th>preds_bool</th>\n",
       "      <th>diff</th>\n",
       "    </tr>\n",
       "  </thead>\n",
       "  <tbody>\n",
       "    <tr>\n",
       "      <th>0</th>\n",
       "      <td>1.0</td>\n",
       "      <td>0.998609</td>\n",
       "      <td>1.001700</td>\n",
       "      <td>1.003478</td>\n",
       "      <td>1.000798</td>\n",
       "      <td>1</td>\n",
       "      <td>-0.002680</td>\n",
       "    </tr>\n",
       "    <tr>\n",
       "      <th>1</th>\n",
       "      <td>1.0</td>\n",
       "      <td>1.003096</td>\n",
       "      <td>1.004876</td>\n",
       "      <td>1.002477</td>\n",
       "      <td>1.011788</td>\n",
       "      <td>1</td>\n",
       "      <td>0.009311</td>\n",
       "    </tr>\n",
       "    <tr>\n",
       "      <th>2</th>\n",
       "      <td>1.0</td>\n",
       "      <td>1.001775</td>\n",
       "      <td>0.999383</td>\n",
       "      <td>1.002469</td>\n",
       "      <td>1.006370</td>\n",
       "      <td>1</td>\n",
       "      <td>0.003901</td>\n",
       "    </tr>\n",
       "    <tr>\n",
       "      <th>3</th>\n",
       "      <td>1.0</td>\n",
       "      <td>0.997612</td>\n",
       "      <td>1.000693</td>\n",
       "      <td>0.999538</td>\n",
       "      <td>1.003020</td>\n",
       "      <td>0</td>\n",
       "      <td>0.003482</td>\n",
       "    </tr>\n",
       "    <tr>\n",
       "      <th>4</th>\n",
       "      <td>1.0</td>\n",
       "      <td>1.003088</td>\n",
       "      <td>1.001930</td>\n",
       "      <td>0.998996</td>\n",
       "      <td>1.006627</td>\n",
       "      <td>0</td>\n",
       "      <td>0.007630</td>\n",
       "    </tr>\n",
       "    <tr>\n",
       "      <th>...</th>\n",
       "      <td>...</td>\n",
       "      <td>...</td>\n",
       "      <td>...</td>\n",
       "      <td>...</td>\n",
       "      <td>...</td>\n",
       "      <td>...</td>\n",
       "      <td>...</td>\n",
       "    </tr>\n",
       "    <tr>\n",
       "      <th>493</th>\n",
       "      <td>1.0</td>\n",
       "      <td>1.004243</td>\n",
       "      <td>1.001491</td>\n",
       "      <td>0.989909</td>\n",
       "      <td>0.998599</td>\n",
       "      <td>0</td>\n",
       "      <td>0.008689</td>\n",
       "    </tr>\n",
       "    <tr>\n",
       "      <th>494</th>\n",
       "      <td>1.0</td>\n",
       "      <td>0.997260</td>\n",
       "      <td>0.985727</td>\n",
       "      <td>0.985613</td>\n",
       "      <td>0.980172</td>\n",
       "      <td>0</td>\n",
       "      <td>-0.005441</td>\n",
       "    </tr>\n",
       "    <tr>\n",
       "      <th>495</th>\n",
       "      <td>1.0</td>\n",
       "      <td>0.988436</td>\n",
       "      <td>0.988321</td>\n",
       "      <td>0.964964</td>\n",
       "      <td>0.991892</td>\n",
       "      <td>0</td>\n",
       "      <td>0.026927</td>\n",
       "    </tr>\n",
       "    <tr>\n",
       "      <th>496</th>\n",
       "      <td>1.0</td>\n",
       "      <td>0.999884</td>\n",
       "      <td>0.976254</td>\n",
       "      <td>0.989980</td>\n",
       "      <td>0.985539</td>\n",
       "      <td>0</td>\n",
       "      <td>-0.004441</td>\n",
       "    </tr>\n",
       "    <tr>\n",
       "      <th>497</th>\n",
       "      <td>1.0</td>\n",
       "      <td>0.976367</td>\n",
       "      <td>0.990095</td>\n",
       "      <td>0.995598</td>\n",
       "      <td>0.988657</td>\n",
       "      <td>0</td>\n",
       "      <td>-0.006941</td>\n",
       "    </tr>\n",
       "  </tbody>\n",
       "</table>\n",
       "<p>498 rows × 7 columns</p>\n",
       "</div>"
      ],
      "text/plain": [
       "      m3        m2        m1        m0     preds  preds_bool      diff\n",
       "0    1.0  0.998609  1.001700  1.003478  1.000798           1 -0.002680\n",
       "1    1.0  1.003096  1.004876  1.002477  1.011788           1  0.009311\n",
       "2    1.0  1.001775  0.999383  1.002469  1.006370           1  0.003901\n",
       "3    1.0  0.997612  1.000693  0.999538  1.003020           0  0.003482\n",
       "4    1.0  1.003088  1.001930  0.998996  1.006627           0  0.007630\n",
       "..   ...       ...       ...       ...       ...         ...       ...\n",
       "493  1.0  1.004243  1.001491  0.989909  0.998599           0  0.008689\n",
       "494  1.0  0.997260  0.985727  0.985613  0.980172           0 -0.005441\n",
       "495  1.0  0.988436  0.988321  0.964964  0.991892           0  0.026927\n",
       "496  1.0  0.999884  0.976254  0.989980  0.985539           0 -0.004441\n",
       "497  1.0  0.976367  0.990095  0.995598  0.988657           0 -0.006941\n",
       "\n",
       "[498 rows x 7 columns]"
      ]
     },
     "execution_count": 57,
     "metadata": {},
     "output_type": "execute_result"
    }
   ],
   "source": [
    "# how many times did we predict up and it went down and vice versa\n",
    "df_test_accuracy = df_test_accuracy.assign(preds_bool= lambda df: ((df.preds > 1) * (df.m0> 1)).astype(int) )  # this cleverly checks if theyre the same sign\n",
    "df_test_accuracy\n"
   ]
  },
  {
   "cell_type": "code",
   "execution_count": 58,
   "metadata": {},
   "outputs": [
    {
     "data": {
      "text/html": [
       "<div>\n",
       "<style scoped>\n",
       "    .dataframe tbody tr th:only-of-type {\n",
       "        vertical-align: middle;\n",
       "    }\n",
       "\n",
       "    .dataframe tbody tr th {\n",
       "        vertical-align: top;\n",
       "    }\n",
       "\n",
       "    .dataframe thead th {\n",
       "        text-align: right;\n",
       "    }\n",
       "</style>\n",
       "<table border=\"1\" class=\"dataframe\">\n",
       "  <thead>\n",
       "    <tr style=\"text-align: right;\">\n",
       "      <th></th>\n",
       "      <th>m3</th>\n",
       "      <th>m2</th>\n",
       "      <th>m1</th>\n",
       "      <th>m0</th>\n",
       "      <th>preds</th>\n",
       "      <th>preds_bool</th>\n",
       "      <th>diff</th>\n",
       "      <th>confident_preds</th>\n",
       "      <th>m0_above_1</th>\n",
       "    </tr>\n",
       "  </thead>\n",
       "  <tbody>\n",
       "    <tr>\n",
       "      <th>0</th>\n",
       "      <td>1.0</td>\n",
       "      <td>0.998609</td>\n",
       "      <td>1.001700</td>\n",
       "      <td>1.003478</td>\n",
       "      <td>1.000798</td>\n",
       "      <td>1</td>\n",
       "      <td>-0.002680</td>\n",
       "      <td>0</td>\n",
       "      <td>1</td>\n",
       "    </tr>\n",
       "    <tr>\n",
       "      <th>1</th>\n",
       "      <td>1.0</td>\n",
       "      <td>1.003096</td>\n",
       "      <td>1.004876</td>\n",
       "      <td>1.002477</td>\n",
       "      <td>1.011788</td>\n",
       "      <td>1</td>\n",
       "      <td>0.009311</td>\n",
       "      <td>1</td>\n",
       "      <td>1</td>\n",
       "    </tr>\n",
       "    <tr>\n",
       "      <th>2</th>\n",
       "      <td>1.0</td>\n",
       "      <td>1.001775</td>\n",
       "      <td>0.999383</td>\n",
       "      <td>1.002469</td>\n",
       "      <td>1.006370</td>\n",
       "      <td>1</td>\n",
       "      <td>0.003901</td>\n",
       "      <td>0</td>\n",
       "      <td>1</td>\n",
       "    </tr>\n",
       "    <tr>\n",
       "      <th>3</th>\n",
       "      <td>1.0</td>\n",
       "      <td>0.997612</td>\n",
       "      <td>1.000693</td>\n",
       "      <td>0.999538</td>\n",
       "      <td>1.003020</td>\n",
       "      <td>0</td>\n",
       "      <td>0.003482</td>\n",
       "      <td>0</td>\n",
       "      <td>0</td>\n",
       "    </tr>\n",
       "    <tr>\n",
       "      <th>4</th>\n",
       "      <td>1.0</td>\n",
       "      <td>1.003088</td>\n",
       "      <td>1.001930</td>\n",
       "      <td>0.998996</td>\n",
       "      <td>1.006627</td>\n",
       "      <td>0</td>\n",
       "      <td>0.007630</td>\n",
       "      <td>0</td>\n",
       "      <td>0</td>\n",
       "    </tr>\n",
       "  </tbody>\n",
       "</table>\n",
       "</div>"
      ],
      "text/plain": [
       "    m3        m2        m1        m0     preds  preds_bool      diff  \\\n",
       "0  1.0  0.998609  1.001700  1.003478  1.000798           1 -0.002680   \n",
       "1  1.0  1.003096  1.004876  1.002477  1.011788           1  0.009311   \n",
       "2  1.0  1.001775  0.999383  1.002469  1.006370           1  0.003901   \n",
       "3  1.0  0.997612  1.000693  0.999538  1.003020           0  0.003482   \n",
       "4  1.0  1.003088  1.001930  0.998996  1.006627           0  0.007630   \n",
       "\n",
       "   confident_preds  m0_above_1  \n",
       "0                0           1  \n",
       "1                1           1  \n",
       "2                0           1  \n",
       "3                0           0  \n",
       "4                0           0  "
      ]
     },
     "execution_count": 58,
     "metadata": {},
     "output_type": "execute_result"
    }
   ],
   "source": [
    "# now we check how many went does when my algo said it preds was above 0.01\n",
    "df_test_accuracy = df_test_accuracy.assign(confident_preds = lambda df: (df.preds>1.01).astype(int), m0_above_1 = lambda df: (df.m0>1).astype(int) )\n",
    "df_test_accuracy.head()"
   ]
  },
  {
   "cell_type": "code",
   "execution_count": 60,
   "metadata": {},
   "outputs": [
    {
     "data": {
      "text/html": [
       "<div>\n",
       "<style scoped>\n",
       "    .dataframe tbody tr th:only-of-type {\n",
       "        vertical-align: middle;\n",
       "    }\n",
       "\n",
       "    .dataframe tbody tr th {\n",
       "        vertical-align: top;\n",
       "    }\n",
       "\n",
       "    .dataframe thead th {\n",
       "        text-align: right;\n",
       "    }\n",
       "</style>\n",
       "<table border=\"1\" class=\"dataframe\">\n",
       "  <thead>\n",
       "    <tr style=\"text-align: right;\">\n",
       "      <th></th>\n",
       "      <th>confident_preds</th>\n",
       "      <th>m0_above_1</th>\n",
       "      <th>value</th>\n",
       "    </tr>\n",
       "  </thead>\n",
       "  <tbody>\n",
       "    <tr>\n",
       "      <th>0</th>\n",
       "      <td>0</td>\n",
       "      <td>0</td>\n",
       "      <td>232</td>\n",
       "    </tr>\n",
       "    <tr>\n",
       "      <th>1</th>\n",
       "      <td>0</td>\n",
       "      <td>1</td>\n",
       "      <td>173</td>\n",
       "    </tr>\n",
       "    <tr>\n",
       "      <th>2</th>\n",
       "      <td>1</td>\n",
       "      <td>1</td>\n",
       "      <td>89</td>\n",
       "    </tr>\n",
       "    <tr>\n",
       "      <th>3</th>\n",
       "      <td>1</td>\n",
       "      <td>0</td>\n",
       "      <td>4</td>\n",
       "    </tr>\n",
       "  </tbody>\n",
       "</table>\n",
       "</div>"
      ],
      "text/plain": [
       "   confident_preds  m0_above_1  value\n",
       "0                0           0    232\n",
       "1                0           1    173\n",
       "2                1           1     89\n",
       "3                1           0      4"
      ]
     },
     "execution_count": 60,
     "metadata": {},
     "output_type": "execute_result"
    }
   ],
   "source": [
    "df_test_accuracy.value_counts(['confident_preds','m0_above_1']).reset_index().rename(columns = {0:'value'})"
   ]
  },
  {
   "cell_type": "code",
   "execution_count": 61,
   "metadata": {},
   "outputs": [],
   "source": [
    "## Where are the confident preds\n"
   ]
  },
  {
   "cell_type": "code",
   "execution_count": null,
   "metadata": {},
   "outputs": [],
   "source": []
  },
  {
   "cell_type": "code",
   "execution_count": 129,
   "metadata": {},
   "outputs": [
    {
     "name": "stdout",
     "output_type": "stream",
     "text": [
      "-0.05: 0.0029935118806478397\n",
      "-0.045000000000000005: 0.002500373541784269\n",
      "-0.04000000000000001: 0.0020572352029206973\n",
      "-0.03500000000000001: 0.0016640968640571259\n",
      "-0.030000000000000013: 0.0013209585251935543\n",
      "-0.025000000000000015: 0.001027820186329983\n",
      "-0.020000000000000018: 0.0007846818474664115\n",
      "-0.01500000000000002: 0.0005915435086028397\n",
      "-0.010000000000000023: 0.00044840516973926797\n",
      "-0.005000000000000025: 0.00035526683087569623\n",
      "-2.7755575615628914e-17: 0.00031212849201212446\n",
      "0.00499999999999997: 0.00031899015314855266\n",
      "0.009999999999999967: 0.00037585181428498077\n",
      "0.014999999999999972: 0.000482713475421409\n",
      "0.019999999999999962: 0.0006395751365578368\n",
      "0.024999999999999953: 0.0008464367976942647\n",
      "0.029999999999999957: 0.0011032984588306928\n",
      "0.03499999999999996: 0.001410160119967121\n",
      "0.03999999999999995: 0.0017670217811035485\n",
      "0.04499999999999994: 0.0021738834422399757\n"
     ]
    }
   ],
   "source": [
    "# is there any value that beats it?\n",
    "for i in np.arange(-0.05,0.05,0.005):\n",
    "    print(f\"{i}: {mean_squared_error(df_test.m0,[i]*len(df_test))}\")"
   ]
  },
  {
   "cell_type": "code",
   "execution_count": null,
   "metadata": {},
   "outputs": [],
   "source": []
  }
 ],
 "metadata": {
  "interpreter": {
   "hash": "bb0009c52eb3c452c2ae3a00e04b4ba3f813f393dffc4e145dcc3528e51fe9eb"
  },
  "kernelspec": {
   "display_name": "Python 3.9.13 ('.venv': poetry)",
   "language": "python",
   "name": "python3"
  },
  "language_info": {
   "codemirror_mode": {
    "name": "ipython",
    "version": 3
   },
   "file_extension": ".py",
   "mimetype": "text/x-python",
   "name": "python",
   "nbconvert_exporter": "python",
   "pygments_lexer": "ipython3",
   "version": "3.9.13"
  },
  "orig_nbformat": 4
 },
 "nbformat": 4,
 "nbformat_minor": 2
}
