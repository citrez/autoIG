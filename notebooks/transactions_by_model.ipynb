{
 "cells": [
  {
   "cell_type": "code",
   "execution_count": 51,
   "metadata": {},
   "outputs": [],
   "source": [
    "from trading_ig import IGService\n",
    "from autoIG.config import ig_service_config,open_position_config_,close_position_config_\n",
    "ig_service = IGService(**ig_service_config)\n",
    "from autoIG.instruments import Epics\n",
    "from datetime import date\n",
    "import pandas as pd\n",
    "from autoIG.utils import TMP_DIR\n",
    "create_session_responce = ig_service.create_session()"
   ]
  },
  {
   "cell_type": "code",
   "execution_count": 53,
   "metadata": {},
   "outputs": [],
   "source": [
    "def mins_to_ms(m = 1):\n",
    "    return 1000*60*m"
   ]
  },
  {
   "cell_type": "code",
   "execution_count": 54,
   "metadata": {},
   "outputs": [],
   "source": [
    "transactions = ig_service.fetch_transaction_history_by_type_and_period(trans_type='ALL',milliseconds=mins_to_ms(10))\n",
    "activity = ig_service.fetch_account_activity(\n",
    "    from_date=date(2022,12,28),\n",
    "    to_date=date(2023,1,1),\n",
    "    detailed=True,\n",
    "    )"
   ]
  },
  {
   "cell_type": "code",
   "execution_count": 82,
   "metadata": {},
   "outputs": [],
   "source": [
    "activity_filtered = activity[activity.direction=='SELL'][['date','epic','dealId','affectedDealId']]\n",
    "activity_filtered = activity_filtered.rename(columns = {'dealId':'closing_dealId','affectedDealId':'opening_dealId','date':'sell_date'})"
   ]
  },
  {
   "cell_type": "code",
   "execution_count": 83,
   "metadata": {},
   "outputs": [
    {
     "data": {
      "text/html": [
       "<div>\n",
       "<style scoped>\n",
       "    .dataframe tbody tr th:only-of-type {\n",
       "        vertical-align: middle;\n",
       "    }\n",
       "\n",
       "    .dataframe tbody tr th {\n",
       "        vertical-align: top;\n",
       "    }\n",
       "\n",
       "    .dataframe thead th {\n",
       "        text-align: right;\n",
       "    }\n",
       "</style>\n",
       "<table border=\"1\" class=\"dataframe\">\n",
       "  <thead>\n",
       "    <tr style=\"text-align: right;\">\n",
       "      <th></th>\n",
       "      <th>sell_date</th>\n",
       "      <th>epic</th>\n",
       "      <th>closing_dealId</th>\n",
       "      <th>opening_dealId</th>\n",
       "    </tr>\n",
       "  </thead>\n",
       "  <tbody>\n",
       "    <tr>\n",
       "      <th>0</th>\n",
       "      <td>2022-12-30T08:35:01</td>\n",
       "      <td>CC.D.CL.USS.IP</td>\n",
       "      <td>DIAAAALG2A5UNAT</td>\n",
       "      <td>DIAAAALG2AFVMBD</td>\n",
       "    </tr>\n",
       "    <tr>\n",
       "      <th>2</th>\n",
       "      <td>2022-12-30T08:34:03</td>\n",
       "      <td>CC.D.CL.USS.IP</td>\n",
       "      <td>DIAAAALG2AXABAX</td>\n",
       "      <td>DIAAAALGZ9V26AP</td>\n",
       "    </tr>\n",
       "    <tr>\n",
       "      <th>4</th>\n",
       "      <td>2022-12-30T08:33:03</td>\n",
       "      <td>CC.D.CL.USS.IP</td>\n",
       "      <td>DIAAAALG2AE4EAK</td>\n",
       "      <td>DIAAAALGZ9475AQ</td>\n",
       "    </tr>\n",
       "    <tr>\n",
       "      <th>6</th>\n",
       "      <td>2022-12-30T08:32:01</td>\n",
       "      <td>CC.D.CL.USS.IP</td>\n",
       "      <td>DIAAAALGZ9V5GAP</td>\n",
       "      <td>DIAAAALG2ADNAAM</td>\n",
       "    </tr>\n",
       "    <tr>\n",
       "      <th>21</th>\n",
       "      <td>2022-12-29T21:04:00</td>\n",
       "      <td>CS.D.GBPUSD.TODAY.IP</td>\n",
       "      <td>DIAAAALGUUXSKA3</td>\n",
       "      <td>DIAAAALGUT7GQAH</td>\n",
       "    </tr>\n",
       "    <tr>\n",
       "      <th>23</th>\n",
       "      <td>2022-12-29T21:03:00</td>\n",
       "      <td>CS.D.GBPUSD.TODAY.IP</td>\n",
       "      <td>DIAAAALGUUZ4HA5</td>\n",
       "      <td>DIAAAALGUVCLQAT</td>\n",
       "    </tr>\n",
       "    <tr>\n",
       "      <th>30</th>\n",
       "      <td>2022-12-28T22:13:23</td>\n",
       "      <td>CS.D.GBPUSD.TODAY.IP</td>\n",
       "      <td>DIAAAALGKBT6QBA</td>\n",
       "      <td>DIAAAALGKAQMLBB</td>\n",
       "    </tr>\n",
       "  </tbody>\n",
       "</table>\n",
       "</div>"
      ],
      "text/plain": [
       "              sell_date                  epic   closing_dealId  \\\n",
       "0   2022-12-30T08:35:01        CC.D.CL.USS.IP  DIAAAALG2A5UNAT   \n",
       "2   2022-12-30T08:34:03        CC.D.CL.USS.IP  DIAAAALG2AXABAX   \n",
       "4   2022-12-30T08:33:03        CC.D.CL.USS.IP  DIAAAALG2AE4EAK   \n",
       "6   2022-12-30T08:32:01        CC.D.CL.USS.IP  DIAAAALGZ9V5GAP   \n",
       "21  2022-12-29T21:04:00  CS.D.GBPUSD.TODAY.IP  DIAAAALGUUXSKA3   \n",
       "23  2022-12-29T21:03:00  CS.D.GBPUSD.TODAY.IP  DIAAAALGUUZ4HA5   \n",
       "30  2022-12-28T22:13:23  CS.D.GBPUSD.TODAY.IP  DIAAAALGKBT6QBA   \n",
       "\n",
       "     opening_dealId  \n",
       "0   DIAAAALG2AFVMBD  \n",
       "2   DIAAAALGZ9V26AP  \n",
       "4   DIAAAALGZ9475AQ  \n",
       "6   DIAAAALG2ADNAAM  \n",
       "21  DIAAAALGUT7GQAH  \n",
       "23  DIAAAALGUVCLQAT  \n",
       "30  DIAAAALGKAQMLBB  "
      ]
     },
     "execution_count": 83,
     "metadata": {},
     "output_type": "execute_result"
    }
   ],
   "source": [
    "activity_filtered"
   ]
  },
  {
   "cell_type": "code",
   "execution_count": 84,
   "metadata": {},
   "outputs": [],
   "source": [
    "transactions_filtered = transactions.drop(['date','period','transactionType','cashTransaction'],axis=1)\n",
    "transactions_filtered=  transactions_filtered.rename(columns = {'reference':'closing_dealId'}).astype({'openLevel':float,'closeLevel':float})"
   ]
  },
  {
   "cell_type": "code",
   "execution_count": 85,
   "metadata": {},
   "outputs": [],
   "source": [
    "position_metrics=  pd.read_csv(TMP_DIR/'position_metrics.csv')\n",
    "position_metrics = position_metrics.rename(columns = {'dealId':'opening_dealId'})"
   ]
  },
  {
   "cell_type": "code",
   "execution_count": 94,
   "metadata": {},
   "outputs": [],
   "source": [
    "joined = transactions_filtered.merge(activity_filtered, left_on='closing_dealId',right_on='closing_dealId').merge(position_metrics,left_on='opening_dealId',right_on='opening_dealId')\n",
    "joined['actual'] = joined['closeLevel']/ joined['openLevel']\n",
    "joined['profitAndLoss_numeric'] = joined['profitAndLoss'].str.removeprefix('£').astype(float)"
   ]
  },
  {
   "cell_type": "code",
   "execution_count": null,
   "metadata": {},
   "outputs": [],
   "source": []
  },
  {
   "cell_type": "code",
   "execution_count": 95,
   "metadata": {},
   "outputs": [],
   "source": [
    "reorder = [\n",
    "    \"sell_date\",\n",
    "    \"buy_date\",\n",
    "    \"epic\",\n",
    "    \"opening_dealId\",\n",
    "    \"closing_dealId\",\n",
    "    \"openLevel\",\n",
    "    \"closeLevel\",\n",
    "    \"instrumentName\",\n",
    "    \"profitAndLoss\",\n",
    "    'profitAndLoss_numeric',\n",
    "    \"size\",\n",
    "    \"currency\",\n",
    "    \"dealreference\",\n",
    "    \"model_used\",\n",
    "    \"prediction\",\n",
    "    'actual'\n",
    "]"
   ]
  },
  {
   "cell_type": "code",
   "execution_count": 99,
   "metadata": {},
   "outputs": [
    {
     "name": "stdout",
     "output_type": "stream",
     "text": [
      "(4, 16)\n",
      "(4, 16)\n"
     ]
    },
    {
     "data": {
      "text/html": [
       "<div>\n",
       "<style scoped>\n",
       "    .dataframe tbody tr th:only-of-type {\n",
       "        vertical-align: middle;\n",
       "    }\n",
       "\n",
       "    .dataframe tbody tr th {\n",
       "        vertical-align: top;\n",
       "    }\n",
       "\n",
       "    .dataframe thead th {\n",
       "        text-align: right;\n",
       "    }\n",
       "</style>\n",
       "<table border=\"1\" class=\"dataframe\">\n",
       "  <thead>\n",
       "    <tr style=\"text-align: right;\">\n",
       "      <th></th>\n",
       "      <th>sell_date</th>\n",
       "      <th>buy_date</th>\n",
       "      <th>epic</th>\n",
       "      <th>opening_dealId</th>\n",
       "      <th>closing_dealId</th>\n",
       "      <th>openLevel</th>\n",
       "      <th>closeLevel</th>\n",
       "      <th>instrumentName</th>\n",
       "      <th>profitAndLoss</th>\n",
       "      <th>profitAndLoss_numeric</th>\n",
       "      <th>size</th>\n",
       "      <th>currency</th>\n",
       "      <th>dealreference</th>\n",
       "      <th>model_used</th>\n",
       "      <th>prediction</th>\n",
       "      <th>actual</th>\n",
       "    </tr>\n",
       "  </thead>\n",
       "  <tbody>\n",
       "    <tr>\n",
       "      <th>3</th>\n",
       "      <td>2022-12-30T08:32:01</td>\n",
       "      <td>2022-12-30 08:29:00.351</td>\n",
       "      <td>CC.D.CL.USS.IP</td>\n",
       "      <td>DIAAAALG2ADNAAM</td>\n",
       "      <td>DIAAAALGZ9V5GAP</td>\n",
       "      <td>7872.6</td>\n",
       "      <td>7871.3</td>\n",
       "      <td>Oil - US Crude</td>\n",
       "      <td>£-1.30</td>\n",
       "      <td>-1.3</td>\n",
       "      <td>+1</td>\n",
       "      <td>£</td>\n",
       "      <td>P39FRZKS2SNTYQR</td>\n",
       "      <td>/Users/ezracitron/my_projects/auto_IG/mlruns/9...</td>\n",
       "      <td>1.000177</td>\n",
       "      <td>0.999835</td>\n",
       "    </tr>\n",
       "    <tr>\n",
       "      <th>2</th>\n",
       "      <td>2022-12-30T08:33:03</td>\n",
       "      <td>2022-12-30 08:30:00.296</td>\n",
       "      <td>CC.D.CL.USS.IP</td>\n",
       "      <td>DIAAAALGZ9475AQ</td>\n",
       "      <td>DIAAAALG2AE4EAK</td>\n",
       "      <td>7882.6</td>\n",
       "      <td>7874.1</td>\n",
       "      <td>Oil - US Crude</td>\n",
       "      <td>£-8.50</td>\n",
       "      <td>-8.5</td>\n",
       "      <td>+1</td>\n",
       "      <td>£</td>\n",
       "      <td>8W8TZ5MXRWNTYQR</td>\n",
       "      <td>/Users/ezracitron/my_projects/auto_IG/mlruns/9...</td>\n",
       "      <td>1.000490</td>\n",
       "      <td>0.998922</td>\n",
       "    </tr>\n",
       "    <tr>\n",
       "      <th>1</th>\n",
       "      <td>2022-12-30T08:34:03</td>\n",
       "      <td>2022-12-30 08:31:01.969</td>\n",
       "      <td>CC.D.CL.USS.IP</td>\n",
       "      <td>DIAAAALGZ9V26AP</td>\n",
       "      <td>DIAAAALG2AXABAX</td>\n",
       "      <td>7876.6</td>\n",
       "      <td>7871.8</td>\n",
       "      <td>Oil - US Crude</td>\n",
       "      <td>£-4.80</td>\n",
       "      <td>-4.8</td>\n",
       "      <td>+1</td>\n",
       "      <td>£</td>\n",
       "      <td>JMC34U69JT2TYQR</td>\n",
       "      <td>/Users/ezracitron/my_projects/auto_IG/mlruns/9...</td>\n",
       "      <td>1.000311</td>\n",
       "      <td>0.999391</td>\n",
       "    </tr>\n",
       "    <tr>\n",
       "      <th>0</th>\n",
       "      <td>2022-12-30T08:35:01</td>\n",
       "      <td>2022-12-30 08:32:01.393</td>\n",
       "      <td>CC.D.CL.USS.IP</td>\n",
       "      <td>DIAAAALG2AFVMBD</td>\n",
       "      <td>DIAAAALG2A5UNAT</td>\n",
       "      <td>7875.1</td>\n",
       "      <td>7878.3</td>\n",
       "      <td>Oil - US Crude</td>\n",
       "      <td>£3.20</td>\n",
       "      <td>3.2</td>\n",
       "      <td>+1</td>\n",
       "      <td>£</td>\n",
       "      <td>GJU29XBDV6WTYQR</td>\n",
       "      <td>/Users/ezracitron/my_projects/auto_IG/mlruns/9...</td>\n",
       "      <td>1.000005</td>\n",
       "      <td>1.000406</td>\n",
       "    </tr>\n",
       "  </tbody>\n",
       "</table>\n",
       "</div>"
      ],
      "text/plain": [
       "             sell_date                 buy_date            epic  \\\n",
       "3  2022-12-30T08:32:01  2022-12-30 08:29:00.351  CC.D.CL.USS.IP   \n",
       "2  2022-12-30T08:33:03  2022-12-30 08:30:00.296  CC.D.CL.USS.IP   \n",
       "1  2022-12-30T08:34:03  2022-12-30 08:31:01.969  CC.D.CL.USS.IP   \n",
       "0  2022-12-30T08:35:01  2022-12-30 08:32:01.393  CC.D.CL.USS.IP   \n",
       "\n",
       "    opening_dealId   closing_dealId  openLevel  closeLevel  instrumentName  \\\n",
       "3  DIAAAALG2ADNAAM  DIAAAALGZ9V5GAP     7872.6      7871.3  Oil - US Crude   \n",
       "2  DIAAAALGZ9475AQ  DIAAAALG2AE4EAK     7882.6      7874.1  Oil - US Crude   \n",
       "1  DIAAAALGZ9V26AP  DIAAAALG2AXABAX     7876.6      7871.8  Oil - US Crude   \n",
       "0  DIAAAALG2AFVMBD  DIAAAALG2A5UNAT     7875.1      7878.3  Oil - US Crude   \n",
       "\n",
       "  profitAndLoss  profitAndLoss_numeric size currency    dealreference  \\\n",
       "3        £-1.30                   -1.3   +1        £  P39FRZKS2SNTYQR   \n",
       "2        £-8.50                   -8.5   +1        £  8W8TZ5MXRWNTYQR   \n",
       "1        £-4.80                   -4.8   +1        £  JMC34U69JT2TYQR   \n",
       "0         £3.20                    3.2   +1        £  GJU29XBDV6WTYQR   \n",
       "\n",
       "                                          model_used  prediction    actual  \n",
       "3  /Users/ezracitron/my_projects/auto_IG/mlruns/9...    1.000177  0.999835  \n",
       "2  /Users/ezracitron/my_projects/auto_IG/mlruns/9...    1.000490  0.998922  \n",
       "1  /Users/ezracitron/my_projects/auto_IG/mlruns/9...    1.000311  0.999391  \n",
       "0  /Users/ezracitron/my_projects/auto_IG/mlruns/9...    1.000005  1.000406  "
      ]
     },
     "execution_count": 99,
     "metadata": {},
     "output_type": "execute_result"
    }
   ],
   "source": [
    "print(joined.shape)\n",
    "print(joined[reorder].shape)\n",
    "joined[reorder].sort_values('sell_date',ascending=True)\n"
   ]
  },
  {
   "cell_type": "code",
   "execution_count": 104,
   "metadata": {},
   "outputs": [
    {
     "name": "stdout",
     "output_type": "stream",
     "text": [
      "   instrumentName profitAndLoss   closing_dealId  openLevel  closeLevel size  \\\n",
      "3  Oil - US Crude        £-1.30  DIAAAALGZ9V5GAP     7872.6      7871.3   +1   \n",
      "\n",
      "  currency            sell_date            epic   opening_dealId  \\\n",
      "3        £  2022-12-30T08:32:01  CC.D.CL.USS.IP  DIAAAALG2ADNAAM   \n",
      "\n",
      "     dealreference  prediction  \\\n",
      "3  P39FRZKS2SNTYQR    1.000177   \n",
      "\n",
      "                                          model_used                 buy_date  \\\n",
      "3  /Users/ezracitron/my_projects/auto_IG/mlruns/9...  2022-12-30 08:29:00.351   \n",
      "\n",
      "     actual  profitAndLoss_numeric  \n",
      "3  0.999835                   -1.3  \n",
      "   instrumentName profitAndLoss   closing_dealId  openLevel  closeLevel size  \\\n",
      "0  Oil - US Crude         £3.20  DIAAAALG2A5UNAT     7875.1      7878.3   +1   \n",
      "\n",
      "  currency            sell_date            epic   opening_dealId  \\\n",
      "0        £  2022-12-30T08:35:01  CC.D.CL.USS.IP  DIAAAALG2AFVMBD   \n",
      "\n",
      "     dealreference  prediction  \\\n",
      "0  GJU29XBDV6WTYQR    1.000005   \n",
      "\n",
      "                                          model_used                 buy_date  \\\n",
      "0  /Users/ezracitron/my_projects/auto_IG/mlruns/9...  2022-12-30 08:32:01.393   \n",
      "\n",
      "     actual  profitAndLoss_numeric  \n",
      "0  1.000406                    3.2  \n",
      "   instrumentName profitAndLoss   closing_dealId  openLevel  closeLevel size  \\\n",
      "2  Oil - US Crude        £-8.50  DIAAAALG2AE4EAK     7882.6      7874.1   +1   \n",
      "\n",
      "  currency            sell_date            epic   opening_dealId  \\\n",
      "2        £  2022-12-30T08:33:03  CC.D.CL.USS.IP  DIAAAALGZ9475AQ   \n",
      "\n",
      "     dealreference  prediction  \\\n",
      "2  8W8TZ5MXRWNTYQR     1.00049   \n",
      "\n",
      "                                          model_used                 buy_date  \\\n",
      "2  /Users/ezracitron/my_projects/auto_IG/mlruns/9...  2022-12-30 08:30:00.296   \n",
      "\n",
      "     actual  profitAndLoss_numeric  \n",
      "2  0.998922                   -8.5  \n",
      "   instrumentName profitAndLoss   closing_dealId  openLevel  closeLevel size  \\\n",
      "1  Oil - US Crude        £-4.80  DIAAAALG2AXABAX     7876.6      7871.8   +1   \n",
      "\n",
      "  currency            sell_date            epic   opening_dealId  \\\n",
      "1        £  2022-12-30T08:34:03  CC.D.CL.USS.IP  DIAAAALGZ9V26AP   \n",
      "\n",
      "     dealreference  prediction  \\\n",
      "1  JMC34U69JT2TYQR    1.000311   \n",
      "\n",
      "                                          model_used                 buy_date  \\\n",
      "1  /Users/ezracitron/my_projects/auto_IG/mlruns/9...  2022-12-30 08:31:01.969   \n",
      "\n",
      "     actual  profitAndLoss_numeric  \n",
      "1  0.999391                   -4.8  \n"
     ]
    }
   ],
   "source": [
    "for i,df in joined.groupby('opening_dealId'):\n",
    "    print(df)"
   ]
  },
  {
   "cell_type": "code",
   "execution_count": 105,
   "metadata": {},
   "outputs": [
    {
     "data": {
      "image/png": "[encoded data removed]",
      "text/plain": [
       "<Figure size 640x480 with 1 Axes>"
      ]
     },
     "metadata": {},
     "output_type": "display_data"
    }
   ],
   "source": [
    "# Profit over time for a each model\n",
    "import matplotlib.pyplot as plt\n",
    "fig,ax = plt.subplots(1,1)\n",
    "# ax.plot(joined.profitAndLoss_numeric)\n",
    "for v,df in joined.groupby('model_used'):\n",
    "    ax.plot(df.profitAndLoss_numeric.cumsum())\n"
   ]
  }
 ],
 "metadata": {
  "kernelspec": {
   "display_name": ".venv",
   "language": "python",
   "name": "python3"
  },
  "language_info": {
   "codemirror_mode": {
    "name": "ipython",
    "version": 3
   },
   "file_extension": ".py",
   "mimetype": "text/x-python",
   "name": "python",
   "nbconvert_exporter": "python",
   "pygments_lexer": "ipython3",
   "version": "3.9.5"
  },
  "orig_nbformat": 4,
  "vscode": {
   "interpreter": {
    "hash": "a6f487c99caa30a143fa23621bc9ce160857a5bdd835349e8b66e6beb37010aa"
   }
  }
 },
 "nbformat": 4,
 "nbformat_minor": 2
}
