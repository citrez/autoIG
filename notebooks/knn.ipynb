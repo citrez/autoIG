{
 "cells": [
  {
   "cell_type": "code",
   "execution_count": 3,
   "metadata": {},
   "outputs": [],
   "source": [
    "# Look for similiar patters in the past using KNN\n",
    "# Use commodities"
   ]
  },
  {
   "cell_type": "code",
   "execution_count": 55,
   "metadata": {},
   "outputs": [],
   "source": [
    "# import numpy as np\n",
    "import pandas as pd\n",
    "import numpy as np\n",
    "import yfinance as yf\n",
    "from autoIG import tickers\n",
    "import plotnine as pn"
   ]
  },
  {
   "cell_type": "code",
   "execution_count": 57,
   "metadata": {},
   "outputs": [],
   "source": [
    "START_DATE = \"2008-06-01\"\n",
    "END_DATE = \"2020-06-01\"\n",
    "INTERVAL  = \"1d\"\n",
    "history_config =  {\"start\":START_DATE,\"end\":END_DATE,\"interval\":INTERVAL}\n",
    "gold = yf.Ticker(tickers.GOLD_TICKER)"
   ]
  },
  {
   "cell_type": "code",
   "execution_count": 7,
   "metadata": {},
   "outputs": [
    {
     "data": {
      "text/html": [
       "<div>\n",
       "<style scoped>\n",
       "    .dataframe tbody tr th:only-of-type {\n",
       "        vertical-align: middle;\n",
       "    }\n",
       "\n",
       "    .dataframe tbody tr th {\n",
       "        vertical-align: top;\n",
       "    }\n",
       "\n",
       "    .dataframe thead th {\n",
       "        text-align: right;\n",
       "    }\n",
       "</style>\n",
       "<table border=\"1\" class=\"dataframe\">\n",
       "  <thead>\n",
       "    <tr style=\"text-align: right;\">\n",
       "      <th></th>\n",
       "      <th>index</th>\n",
       "      <th>Date</th>\n",
       "      <th>Open</th>\n",
       "      <th>High</th>\n",
       "      <th>Low</th>\n",
       "      <th>Close</th>\n",
       "      <th>Volume</th>\n",
       "      <th>Dividends</th>\n",
       "      <th>Stock Splits</th>\n",
       "    </tr>\n",
       "  </thead>\n",
       "  <tbody>\n",
       "    <tr>\n",
       "      <th>0</th>\n",
       "      <td>0</td>\n",
       "      <td>2008-06-02</td>\n",
       "      <td>887.299988</td>\n",
       "      <td>898.000000</td>\n",
       "      <td>881.799988</td>\n",
       "      <td>892.900024</td>\n",
       "      <td>2132</td>\n",
       "      <td>0</td>\n",
       "      <td>0</td>\n",
       "    </tr>\n",
       "    <tr>\n",
       "      <th>1</th>\n",
       "      <td>1</td>\n",
       "      <td>2008-06-03</td>\n",
       "      <td>889.799988</td>\n",
       "      <td>896.099976</td>\n",
       "      <td>874.599976</td>\n",
       "      <td>881.599976</td>\n",
       "      <td>2079</td>\n",
       "      <td>0</td>\n",
       "      <td>0</td>\n",
       "    </tr>\n",
       "    <tr>\n",
       "      <th>2</th>\n",
       "      <td>2</td>\n",
       "      <td>2008-06-04</td>\n",
       "      <td>879.500000</td>\n",
       "      <td>886.099976</td>\n",
       "      <td>876.000000</td>\n",
       "      <td>879.900024</td>\n",
       "      <td>612</td>\n",
       "      <td>0</td>\n",
       "      <td>0</td>\n",
       "    </tr>\n",
       "  </tbody>\n",
       "</table>\n",
       "</div>"
      ],
      "text/plain": [
       "   index       Date        Open        High         Low       Close  Volume  \\\n",
       "0      0 2008-06-02  887.299988  898.000000  881.799988  892.900024    2132   \n",
       "1      1 2008-06-03  889.799988  896.099976  874.599976  881.599976    2079   \n",
       "2      2 2008-06-04  879.500000  886.099976  876.000000  879.900024     612   \n",
       "\n",
       "   Dividends  Stock Splits  \n",
       "0          0             0  \n",
       "1          0             0  \n",
       "2          0             0  "
      ]
     },
     "execution_count": 7,
     "metadata": {},
     "output_type": "execute_result"
    }
   ],
   "source": [
    "history_raw = gold.history(**history_config)\n",
    "history = history_raw.reset_index()\n",
    "history = history.reset_index()\n",
    "history.head(3)"
   ]
  },
  {
   "cell_type": "code",
   "execution_count": 10,
   "metadata": {},
   "outputs": [
    {
     "data": {
      "image/png": "[encoded data removed]",
      "text/plain": [
       "<Figure size 432x288 with 1 Axes>"
      ]
     },
     "metadata": {},
     "output_type": "display_data"
    },
    {
     "data": {
      "text/plain": [
       "<ggplot: (310210807)>"
      ]
     },
     "execution_count": 10,
     "metadata": {},
     "output_type": "execute_result"
    }
   ],
   "source": [
    "(\n",
    "    pn.ggplot(history)+\n",
    "    pn.geom_point(pn.aes('Date','Open'))+\n",
    "    pn.theme(figure_size=[12,3])\n",
    ")\n"
   ]
  },
  {
   "cell_type": "code",
   "execution_count": 80,
   "metadata": {},
   "outputs": [],
   "source": [
    "import datetime\n",
    "import dateutil\n",
    "from dateutil.relativedelta import relativedelta\n",
    "START_10_DATE = (dateutil.parser.parse(START_DATE) + relativedelta(years=10)).strftime(format = \"%Y-%m-%d\")\n",
    "train = history.query(f\"Date < '{START_10_DATE}'\")\n",
    "test = history.query(f\"Date > '{START_10_DATE}'\")"
   ]
  },
  {
   "cell_type": "code",
   "execution_count": null,
   "metadata": {},
   "outputs": [],
   "source": []
  },
  {
   "cell_type": "code",
   "execution_count": null,
   "metadata": {},
   "outputs": [],
   "source": [
    "from sklearn.pipeline import Pipeline\n"
   ]
  },
  {
   "cell_type": "code",
   "execution_count": 164,
   "metadata": {},
   "outputs": [
    {
     "name": "stdout",
     "output_type": "stream",
     "text": [
      "['m3', 'm2', 'm1', 'm0']\n"
     ]
    },
    {
     "data": {
      "text/html": [
       "<div>\n",
       "<style scoped>\n",
       "    .dataframe tbody tr th:only-of-type {\n",
       "        vertical-align: middle;\n",
       "    }\n",
       "\n",
       "    .dataframe tbody tr th {\n",
       "        vertical-align: top;\n",
       "    }\n",
       "\n",
       "    .dataframe thead th {\n",
       "        text-align: right;\n",
       "    }\n",
       "</style>\n",
       "<table border=\"1\" class=\"dataframe\">\n",
       "  <thead>\n",
       "    <tr style=\"text-align: right;\">\n",
       "      <th></th>\n",
       "      <th>m3</th>\n",
       "      <th>m2</th>\n",
       "      <th>m1</th>\n",
       "      <th>m0</th>\n",
       "    </tr>\n",
       "  </thead>\n",
       "  <tbody>\n",
       "    <tr>\n",
       "      <th>0</th>\n",
       "      <td>1.0</td>\n",
       "      <td>1.002818</td>\n",
       "      <td>0.991209</td>\n",
       "      <td>-0.012623</td>\n",
       "    </tr>\n",
       "    <tr>\n",
       "      <th>1</th>\n",
       "      <td>1.0</td>\n",
       "      <td>0.988424</td>\n",
       "      <td>0.984603</td>\n",
       "      <td>-0.012699</td>\n",
       "    </tr>\n",
       "    <tr>\n",
       "      <th>2</th>\n",
       "      <td>1.0</td>\n",
       "      <td>0.996134</td>\n",
       "      <td>0.998863</td>\n",
       "      <td>0.024105</td>\n",
       "    </tr>\n",
       "    <tr>\n",
       "      <th>3</th>\n",
       "      <td>1.0</td>\n",
       "      <td>1.002739</td>\n",
       "      <td>1.028079</td>\n",
       "      <td>0.011985</td>\n",
       "    </tr>\n",
       "    <tr>\n",
       "      <th>4</th>\n",
       "      <td>1.0</td>\n",
       "      <td>1.025270</td>\n",
       "      <td>1.009220</td>\n",
       "      <td>-0.010245</td>\n",
       "    </tr>\n",
       "    <tr>\n",
       "      <th>...</th>\n",
       "      <td>...</td>\n",
       "      <td>...</td>\n",
       "      <td>...</td>\n",
       "      <td>...</td>\n",
       "    </tr>\n",
       "    <tr>\n",
       "      <th>2507</th>\n",
       "      <td>1.0</td>\n",
       "      <td>1.003340</td>\n",
       "      <td>1.001476</td>\n",
       "      <td>0.012661</td>\n",
       "    </tr>\n",
       "    <tr>\n",
       "      <th>2508</th>\n",
       "      <td>1.0</td>\n",
       "      <td>0.998142</td>\n",
       "      <td>1.009290</td>\n",
       "      <td>0.008980</td>\n",
       "    </tr>\n",
       "    <tr>\n",
       "      <th>2509</th>\n",
       "      <td>1.0</td>\n",
       "      <td>1.011169</td>\n",
       "      <td>1.010859</td>\n",
       "      <td>0.007291</td>\n",
       "    </tr>\n",
       "    <tr>\n",
       "      <th>2510</th>\n",
       "      <td>1.0</td>\n",
       "      <td>0.999693</td>\n",
       "      <td>0.996165</td>\n",
       "      <td>-0.004372</td>\n",
       "    </tr>\n",
       "    <tr>\n",
       "      <th>2511</th>\n",
       "      <td>1.0</td>\n",
       "      <td>0.996470</td>\n",
       "      <td>0.995933</td>\n",
       "      <td>-0.001765</td>\n",
       "    </tr>\n",
       "  </tbody>\n",
       "</table>\n",
       "<p>2512 rows × 4 columns</p>\n",
       "</div>"
      ],
      "text/plain": [
       "       m3        m2        m1        m0\n",
       "0     1.0  1.002818  0.991209 -0.012623\n",
       "1     1.0  0.988424  0.984603 -0.012699\n",
       "2     1.0  0.996134  0.998863  0.024105\n",
       "3     1.0  1.002739  1.028079  0.011985\n",
       "4     1.0  1.025270  1.009220 -0.010245\n",
       "...   ...       ...       ...       ...\n",
       "2507  1.0  1.003340  1.001476  0.012661\n",
       "2508  1.0  0.998142  1.009290  0.008980\n",
       "2509  1.0  1.011169  1.010859  0.007291\n",
       "2510  1.0  0.999693  0.996165 -0.004372\n",
       "2511  1.0  0.996470  0.995933 -0.001765\n",
       "\n",
       "[2512 rows x 4 columns]"
      ]
     },
     "execution_count": 164,
     "metadata": {},
     "output_type": "execute_result"
    }
   ],
   "source": [
    "transform_to_knn(train,n=3)\n"
   ]
  },
  {
   "cell_type": "code",
   "execution_count": 166,
   "metadata": {},
   "outputs": [
    {
     "data": {
      "text/html": [
       "<div>\n",
       "<style scoped>\n",
       "    .dataframe tbody tr th:only-of-type {\n",
       "        vertical-align: middle;\n",
       "    }\n",
       "\n",
       "    .dataframe tbody tr th {\n",
       "        vertical-align: top;\n",
       "    }\n",
       "\n",
       "    .dataframe thead th {\n",
       "        text-align: right;\n",
       "    }\n",
       "</style>\n",
       "<table border=\"1\" class=\"dataframe\">\n",
       "  <thead>\n",
       "    <tr style=\"text-align: right;\">\n",
       "      <th></th>\n",
       "      <th>m5</th>\n",
       "      <th>m4</th>\n",
       "      <th>m3</th>\n",
       "      <th>m2</th>\n",
       "      <th>m1</th>\n",
       "      <th>m0</th>\n",
       "    </tr>\n",
       "  </thead>\n",
       "  <tbody>\n",
       "    <tr>\n",
       "      <th>0</th>\n",
       "      <td>1.0</td>\n",
       "      <td>1.002818</td>\n",
       "      <td>0.991209</td>\n",
       "      <td>0.987377</td>\n",
       "      <td>0.990082</td>\n",
       "      <td>0.015102</td>\n",
       "    </tr>\n",
       "    <tr>\n",
       "      <th>1</th>\n",
       "      <td>1.0</td>\n",
       "      <td>0.988424</td>\n",
       "      <td>0.984603</td>\n",
       "      <td>0.987301</td>\n",
       "      <td>1.012250</td>\n",
       "      <td>-0.003596</td>\n",
       "    </tr>\n",
       "    <tr>\n",
       "      <th>2</th>\n",
       "      <td>1.0</td>\n",
       "      <td>0.996134</td>\n",
       "      <td>0.998863</td>\n",
       "      <td>1.024105</td>\n",
       "      <td>1.008073</td>\n",
       "      <td>-0.011370</td>\n",
       "    </tr>\n",
       "    <tr>\n",
       "      <th>3</th>\n",
       "      <td>1.0</td>\n",
       "      <td>1.002739</td>\n",
       "      <td>1.028079</td>\n",
       "      <td>1.011985</td>\n",
       "      <td>0.992467</td>\n",
       "      <td>-0.002854</td>\n",
       "    </tr>\n",
       "    <tr>\n",
       "      <th>4</th>\n",
       "      <td>1.0</td>\n",
       "      <td>1.025270</td>\n",
       "      <td>1.009220</td>\n",
       "      <td>0.989755</td>\n",
       "      <td>0.994422</td>\n",
       "      <td>-0.009334</td>\n",
       "    </tr>\n",
       "  </tbody>\n",
       "</table>\n",
       "</div>"
      ],
      "text/plain": [
       "    m5        m4        m3        m2        m1        m0\n",
       "0  1.0  1.002818  0.991209  0.987377  0.990082  0.015102\n",
       "1  1.0  0.988424  0.984603  0.987301  1.012250 -0.003596\n",
       "2  1.0  0.996134  0.998863  1.024105  1.008073 -0.011370\n",
       "3  1.0  1.002739  1.028079  1.011985  0.992467 -0.002854\n",
       "4  1.0  1.025270  1.009220  0.989755  0.994422 -0.009334"
      ]
     },
     "execution_count": 166,
     "metadata": {},
     "output_type": "execute_result"
    }
   ],
   "source": [
    "def transform_to_knn(df,n = 3):\n",
    "    s = df.Open.to_list()\n",
    "    col_names = [\"m\"+str(n-i) for i in range(n+1)]\n",
    "    df_transformed = pd.DataFrame(\n",
    "        [dict(zip(col_names, s[i : (i + n+1) ])) for i in range(len(s) - (n-1) )]\n",
    "    )\n",
    "\n",
    "    for i in col_names[::-1]:\n",
    "        df_transformed[i] = df_transformed[i] / df_transformed[col_names[0]]\n",
    "\n",
    "    df_transformed = df_transformed.assign(m0=lambda df: df[\"m0\"]-1)\n",
    "    df_transformed= df_transformed.iloc[0:-1,:]\n",
    "    return df_transformed\n",
    "transform_to_knn(train.iloc[0:10,:],n= 5)"
   ]
  },
  {
   "cell_type": "code",
   "execution_count": 167,
   "metadata": {},
   "outputs": [],
   "source": [
    "df_test = transform_to_knn(test,n=3)\n"
   ]
  },
  {
   "cell_type": "code",
   "execution_count": 100,
   "metadata": {},
   "outputs": [
    {
     "data": {
      "text/html": [
       "<div>\n",
       "<style scoped>\n",
       "    .dataframe tbody tr th:only-of-type {\n",
       "        vertical-align: middle;\n",
       "    }\n",
       "\n",
       "    .dataframe tbody tr th {\n",
       "        vertical-align: top;\n",
       "    }\n",
       "\n",
       "    .dataframe thead th {\n",
       "        text-align: right;\n",
       "    }\n",
       "</style>\n",
       "<table border=\"1\" class=\"dataframe\">\n",
       "  <thead>\n",
       "    <tr style=\"text-align: right;\">\n",
       "      <th></th>\n",
       "      <th>m3</th>\n",
       "      <th>m2</th>\n",
       "      <th>m1</th>\n",
       "      <th>m0</th>\n",
       "    </tr>\n",
       "  </thead>\n",
       "  <tbody>\n",
       "  </tbody>\n",
       "</table>\n",
       "</div>"
      ],
      "text/plain": [
       "Empty DataFrame\n",
       "Columns: [m3, m2, m1, m0]\n",
       "Index: []"
      ]
     },
     "execution_count": 100,
     "metadata": {},
     "output_type": "execute_result"
    }
   ],
   "source": [
    "# check for NAs\n",
    "df.iloc[df.isna().sum(axis = 1).astype(bool).to_list(),:]"
   ]
  },
  {
   "cell_type": "code",
   "execution_count": 168,
   "metadata": {},
   "outputs": [],
   "source": [
    "from sklearn.neighbors import KNeighborsRegressor\n",
    "knnreg = KNeighborsRegressor(n_neighbors=5)\n",
    "\n",
    "knnreg.fit(X=df[['m3','m2','m1']],y = df.m0)\n",
    "preds = knnreg.predict(df_test[['m3','m2','m1']])\n",
    "df_test = df_test.assign(preds =  preds)"
   ]
  },
  {
   "cell_type": "code",
   "execution_count": 169,
   "metadata": {},
   "outputs": [],
   "source": [
    "from  sklearn.metrics import confusion_matrix,mean_squared_error"
   ]
  },
  {
   "cell_type": "code",
   "execution_count": 170,
   "metadata": {},
   "outputs": [
    {
     "data": {
      "text/plain": [
       "0.0001339917648789515"
      ]
     },
     "execution_count": 170,
     "metadata": {},
     "output_type": "execute_result"
    }
   ],
   "source": [
    "mean_squared_error(df_test.m0,df_test.preds)"
   ]
  },
  {
   "cell_type": "code",
   "execution_count": 179,
   "metadata": {},
   "outputs": [
    {
     "data": {
      "text/html": [
       "<div>\n",
       "<style scoped>\n",
       "    .dataframe tbody tr th:only-of-type {\n",
       "        vertical-align: middle;\n",
       "    }\n",
       "\n",
       "    .dataframe tbody tr th {\n",
       "        vertical-align: top;\n",
       "    }\n",
       "\n",
       "    .dataframe thead th {\n",
       "        text-align: right;\n",
       "    }\n",
       "</style>\n",
       "<table border=\"1\" class=\"dataframe\">\n",
       "  <thead>\n",
       "    <tr style=\"text-align: right;\">\n",
       "      <th></th>\n",
       "      <th>m3</th>\n",
       "      <th>m2</th>\n",
       "      <th>m1</th>\n",
       "      <th>m0</th>\n",
       "      <th>preds</th>\n",
       "      <th>diff</th>\n",
       "    </tr>\n",
       "  </thead>\n",
       "  <tbody>\n",
       "    <tr>\n",
       "      <th>0</th>\n",
       "      <td>1.0</td>\n",
       "      <td>0.998609</td>\n",
       "      <td>1.001700</td>\n",
       "      <td>0.003478</td>\n",
       "      <td>0.000798</td>\n",
       "      <td>-0.002680</td>\n",
       "    </tr>\n",
       "    <tr>\n",
       "      <th>1</th>\n",
       "      <td>1.0</td>\n",
       "      <td>1.003096</td>\n",
       "      <td>1.004876</td>\n",
       "      <td>0.002477</td>\n",
       "      <td>0.011788</td>\n",
       "      <td>0.009311</td>\n",
       "    </tr>\n",
       "    <tr>\n",
       "      <th>2</th>\n",
       "      <td>1.0</td>\n",
       "      <td>1.001775</td>\n",
       "      <td>0.999383</td>\n",
       "      <td>0.002469</td>\n",
       "      <td>0.006370</td>\n",
       "      <td>0.003901</td>\n",
       "    </tr>\n",
       "    <tr>\n",
       "      <th>3</th>\n",
       "      <td>1.0</td>\n",
       "      <td>0.997612</td>\n",
       "      <td>1.000693</td>\n",
       "      <td>-0.000462</td>\n",
       "      <td>0.003020</td>\n",
       "      <td>0.003482</td>\n",
       "    </tr>\n",
       "    <tr>\n",
       "      <th>4</th>\n",
       "      <td>1.0</td>\n",
       "      <td>1.003088</td>\n",
       "      <td>1.001930</td>\n",
       "      <td>-0.001004</td>\n",
       "      <td>0.006627</td>\n",
       "      <td>0.007630</td>\n",
       "    </tr>\n",
       "  </tbody>\n",
       "</table>\n",
       "</div>"
      ],
      "text/plain": [
       "    m3        m2        m1        m0     preds      diff\n",
       "0  1.0  0.998609  1.001700  0.003478  0.000798 -0.002680\n",
       "1  1.0  1.003096  1.004876  0.002477  0.011788  0.009311\n",
       "2  1.0  1.001775  0.999383  0.002469  0.006370  0.003901\n",
       "3  1.0  0.997612  1.000693 -0.000462  0.003020  0.003482\n",
       "4  1.0  1.003088  1.001930 -0.001004  0.006627  0.007630"
      ]
     },
     "execution_count": 179,
     "metadata": {},
     "output_type": "execute_result"
    }
   ],
   "source": [
    "df_test = df_test.assign(diff = lambda df: df.preds- df.m0)\n",
    "df_test.head()"
   ]
  },
  {
   "cell_type": "code",
   "execution_count": 174,
   "metadata": {},
   "outputs": [
    {
     "name": "stderr",
     "output_type": "stream",
     "text": [
      "/Users/ezracitron/my_projects/autoIG/.venv/lib/python3.9/site-packages/plotnine/stats/stat_bin.py:95: PlotnineWarning: 'stat_bin()' using 'bins = 43'. Pick better value with 'binwidth'.\n"
     ]
    },
    {
     "data": {
      "image/png": "[encoded data removed]",
      "text/plain": [
       "<Figure size 640x480 with 1 Axes>"
      ]
     },
     "metadata": {},
     "output_type": "display_data"
    },
    {
     "data": {
      "text/plain": [
       "<ggplot: (318337567)>"
      ]
     },
     "execution_count": 174,
     "metadata": {},
     "output_type": "execute_result"
    }
   ],
   "source": [
    "import plotnine as pn\n",
    "from plotnine import ggplot, aes, geom_point, geom_col, theme, geom_point,scale_x_continuous ,scale_y_continuous, geom_histogram, geom_line, labs\n",
    "(\n",
    "    ggplot(df_test)+\n",
    "    pn.geom_histogram(aes('preds'))+\n",
    "    theme()\n",
    ")"
   ]
  },
  {
   "cell_type": "code",
   "execution_count": 178,
   "metadata": {},
   "outputs": [
    {
     "name": "stderr",
     "output_type": "stream",
     "text": [
      "/Users/ezracitron/my_projects/autoIG/.venv/lib/python3.9/site-packages/plotnine/stats/stat_bin.py:95: PlotnineWarning: 'stat_bin()' using 'bins = 52'. Pick better value with 'binwidth'.\n"
     ]
    },
    {
     "data": {
      "image/png": "[encoded data removed]",
      "text/plain": [
       "<Figure size 640x480 with 1 Axes>"
      ]
     },
     "metadata": {},
     "output_type": "display_data"
    },
    {
     "data": {
      "text/plain": [
       "<ggplot: (310977555)>"
      ]
     },
     "execution_count": 178,
     "metadata": {},
     "output_type": "execute_result"
    }
   ],
   "source": [
    "import plotnine as pn\n",
    "from plotnine import ggplot, aes, geom_point, geom_col, theme, geom_point,scale_x_continuous ,scale_y_continuous, geom_histogram, geom_line, labs\n",
    "(\n",
    "    ggplot(df_test)+\n",
    "    pn.geom_histogram(aes('diff'))+\n",
    "    theme()\n",
    ")"
   ]
  },
  {
   "cell_type": "code",
   "execution_count": 187,
   "metadata": {},
   "outputs": [],
   "source": [
    "# how many times did we predict up and it went down and vice versa\n",
    "df_test = df_test.assign(preds_bool= lambda df: (df.preds * df.m0> 0).astype(int) )  # this cleverly checks if theyre the same sign\n"
   ]
  },
  {
   "cell_type": "code",
   "execution_count": 193,
   "metadata": {},
   "outputs": [
    {
     "data": {
      "text/html": [
       "<div>\n",
       "<style scoped>\n",
       "    .dataframe tbody tr th:only-of-type {\n",
       "        vertical-align: middle;\n",
       "    }\n",
       "\n",
       "    .dataframe tbody tr th {\n",
       "        vertical-align: top;\n",
       "    }\n",
       "\n",
       "    .dataframe thead th {\n",
       "        text-align: right;\n",
       "    }\n",
       "</style>\n",
       "<table border=\"1\" class=\"dataframe\">\n",
       "  <thead>\n",
       "    <tr style=\"text-align: right;\">\n",
       "      <th></th>\n",
       "      <th>m3</th>\n",
       "      <th>m2</th>\n",
       "      <th>m1</th>\n",
       "      <th>m0</th>\n",
       "      <th>preds</th>\n",
       "      <th>diff</th>\n",
       "      <th>preds_bool</th>\n",
       "      <th>confident_preds</th>\n",
       "      <th>m0_above_0</th>\n",
       "    </tr>\n",
       "  </thead>\n",
       "  <tbody>\n",
       "    <tr>\n",
       "      <th>0</th>\n",
       "      <td>1.0</td>\n",
       "      <td>0.998609</td>\n",
       "      <td>1.001700</td>\n",
       "      <td>0.003478</td>\n",
       "      <td>0.000798</td>\n",
       "      <td>-0.002680</td>\n",
       "      <td>1</td>\n",
       "      <td>0</td>\n",
       "      <td>1</td>\n",
       "    </tr>\n",
       "    <tr>\n",
       "      <th>1</th>\n",
       "      <td>1.0</td>\n",
       "      <td>1.003096</td>\n",
       "      <td>1.004876</td>\n",
       "      <td>0.002477</td>\n",
       "      <td>0.011788</td>\n",
       "      <td>0.009311</td>\n",
       "      <td>1</td>\n",
       "      <td>1</td>\n",
       "      <td>1</td>\n",
       "    </tr>\n",
       "    <tr>\n",
       "      <th>2</th>\n",
       "      <td>1.0</td>\n",
       "      <td>1.001775</td>\n",
       "      <td>0.999383</td>\n",
       "      <td>0.002469</td>\n",
       "      <td>0.006370</td>\n",
       "      <td>0.003901</td>\n",
       "      <td>1</td>\n",
       "      <td>0</td>\n",
       "      <td>1</td>\n",
       "    </tr>\n",
       "    <tr>\n",
       "      <th>3</th>\n",
       "      <td>1.0</td>\n",
       "      <td>0.997612</td>\n",
       "      <td>1.000693</td>\n",
       "      <td>-0.000462</td>\n",
       "      <td>0.003020</td>\n",
       "      <td>0.003482</td>\n",
       "      <td>0</td>\n",
       "      <td>0</td>\n",
       "      <td>0</td>\n",
       "    </tr>\n",
       "    <tr>\n",
       "      <th>4</th>\n",
       "      <td>1.0</td>\n",
       "      <td>1.003088</td>\n",
       "      <td>1.001930</td>\n",
       "      <td>-0.001004</td>\n",
       "      <td>0.006627</td>\n",
       "      <td>0.007630</td>\n",
       "      <td>0</td>\n",
       "      <td>0</td>\n",
       "      <td>0</td>\n",
       "    </tr>\n",
       "  </tbody>\n",
       "</table>\n",
       "</div>"
      ],
      "text/plain": [
       "    m3        m2        m1        m0     preds      diff  preds_bool  \\\n",
       "0  1.0  0.998609  1.001700  0.003478  0.000798 -0.002680           1   \n",
       "1  1.0  1.003096  1.004876  0.002477  0.011788  0.009311           1   \n",
       "2  1.0  1.001775  0.999383  0.002469  0.006370  0.003901           1   \n",
       "3  1.0  0.997612  1.000693 -0.000462  0.003020  0.003482           0   \n",
       "4  1.0  1.003088  1.001930 -0.001004  0.006627  0.007630           0   \n",
       "\n",
       "   confident_preds  m0_above_0  \n",
       "0                0           1  \n",
       "1                1           1  \n",
       "2                0           1  \n",
       "3                0           0  \n",
       "4                0           0  "
      ]
     },
     "execution_count": 193,
     "metadata": {},
     "output_type": "execute_result"
    }
   ],
   "source": [
    "# now we check how many went does when my algo said it preds was above 0.01\n",
    "df_test = df_test.assign(confident_preds = lambda df: (df.preds>0.01).astype(int), m0_above_0 = lambda df: (df.m0>0).astype(int) )\n",
    "df_test.head()"
   ]
  },
  {
   "cell_type": "code",
   "execution_count": 196,
   "metadata": {},
   "outputs": [
    {
     "data": {
      "text/html": [
       "<div>\n",
       "<style scoped>\n",
       "    .dataframe tbody tr th:only-of-type {\n",
       "        vertical-align: middle;\n",
       "    }\n",
       "\n",
       "    .dataframe tbody tr th {\n",
       "        vertical-align: top;\n",
       "    }\n",
       "\n",
       "    .dataframe thead th {\n",
       "        text-align: right;\n",
       "    }\n",
       "</style>\n",
       "<table border=\"1\" class=\"dataframe\">\n",
       "  <thead>\n",
       "    <tr style=\"text-align: right;\">\n",
       "      <th></th>\n",
       "      <th>confident_preds</th>\n",
       "      <th>m0_above_0</th>\n",
       "      <th>value</th>\n",
       "    </tr>\n",
       "  </thead>\n",
       "  <tbody>\n",
       "    <tr>\n",
       "      <th>0</th>\n",
       "      <td>0</td>\n",
       "      <td>0</td>\n",
       "      <td>232</td>\n",
       "    </tr>\n",
       "    <tr>\n",
       "      <th>1</th>\n",
       "      <td>0</td>\n",
       "      <td>1</td>\n",
       "      <td>173</td>\n",
       "    </tr>\n",
       "    <tr>\n",
       "      <th>2</th>\n",
       "      <td>1</td>\n",
       "      <td>1</td>\n",
       "      <td>89</td>\n",
       "    </tr>\n",
       "    <tr>\n",
       "      <th>3</th>\n",
       "      <td>1</td>\n",
       "      <td>0</td>\n",
       "      <td>4</td>\n",
       "    </tr>\n",
       "  </tbody>\n",
       "</table>\n",
       "</div>"
      ],
      "text/plain": [
       "   confident_preds  m0_above_0  value\n",
       "0                0           0    232\n",
       "1                0           1    173\n",
       "2                1           1     89\n",
       "3                1           0      4"
      ]
     },
     "execution_count": 196,
     "metadata": {},
     "output_type": "execute_result"
    }
   ],
   "source": [
    "df_test.value_counts(['confident_preds','m0_above_0']).reset_index().rename(columns = {0:'value'})"
   ]
  },
  {
   "cell_type": "code",
   "execution_count": 129,
   "metadata": {},
   "outputs": [
    {
     "name": "stdout",
     "output_type": "stream",
     "text": [
      "-0.05: 0.0029935118806478397\n",
      "-0.045000000000000005: 0.002500373541784269\n",
      "-0.04000000000000001: 0.0020572352029206973\n",
      "-0.03500000000000001: 0.0016640968640571259\n",
      "-0.030000000000000013: 0.0013209585251935543\n",
      "-0.025000000000000015: 0.001027820186329983\n",
      "-0.020000000000000018: 0.0007846818474664115\n",
      "-0.01500000000000002: 0.0005915435086028397\n",
      "-0.010000000000000023: 0.00044840516973926797\n",
      "-0.005000000000000025: 0.00035526683087569623\n",
      "-2.7755575615628914e-17: 0.00031212849201212446\n",
      "0.00499999999999997: 0.00031899015314855266\n",
      "0.009999999999999967: 0.00037585181428498077\n",
      "0.014999999999999972: 0.000482713475421409\n",
      "0.019999999999999962: 0.0006395751365578368\n",
      "0.024999999999999953: 0.0008464367976942647\n",
      "0.029999999999999957: 0.0011032984588306928\n",
      "0.03499999999999996: 0.001410160119967121\n",
      "0.03999999999999995: 0.0017670217811035485\n",
      "0.04499999999999994: 0.0021738834422399757\n"
     ]
    }
   ],
   "source": [
    "# is there any value that beats it?\n",
    "for i in np.arange(-0.05,0.05,0.005):\n",
    "    print(f\"{i}: {mean_squared_error(df_test.m0,[i]*len(df_test))}\")"
   ]
  },
  {
   "cell_type": "code",
   "execution_count": null,
   "metadata": {},
   "outputs": [],
   "source": []
  }
 ],
 "metadata": {
  "interpreter": {
   "hash": "bb0009c52eb3c452c2ae3a00e04b4ba3f813f393dffc4e145dcc3528e51fe9eb"
  },
  "kernelspec": {
   "display_name": "Python 3.9.13 ('.venv': poetry)",
   "language": "python",
   "name": "python3"
  },
  "language_info": {
   "codemirror_mode": {
    "name": "ipython",
    "version": 3
   },
   "file_extension": ".py",
   "mimetype": "text/x-python",
   "name": "python",
   "nbconvert_exporter": "python",
   "pygments_lexer": "ipython3",
   "version": "3.9.13"
  },
  "orig_nbformat": 4
 },
 "nbformat": 4,
 "nbformat_minor": 2
}
