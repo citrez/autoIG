{
 "cells": [
  {
   "cell_type": "code",
   "execution_count": 2,
   "metadata": {},
   "outputs": [],
   "source": [
    "from trading_ig import IGService\n",
    "from autoIG.config import ig_service_config,open_position_config_,close_position_config_\n",
    "ig_service = IGService(**ig_service_config)\n",
    "from autoIG.instruments import Epics\n",
    "\n",
    "create_session_responce = ig_service.create_session()"
   ]
  },
  {
   "cell_type": "code",
   "execution_count": 3,
   "metadata": {},
   "outputs": [],
   "source": [
    "open_position_responce = ig_service.create_open_position(\n",
    "    **open_position_config_(Epics.US_CRUDE_OIL.value)\n",
    ")\n"
   ]
  },
  {
   "cell_type": "code",
   "execution_count": 4,
   "metadata": {},
   "outputs": [
    {
     "data": {
      "text/plain": [
       "{'date': '2022-12-26T10:37:35.449',\n",
       " 'status': None,\n",
       " 'reason': 'MARKET_CLOSED_WITH_EDITS',\n",
       " 'dealStatus': 'REJECTED',\n",
       " 'epic': 'CC.D.CL.USS.IP',\n",
       " 'expiry': None,\n",
       " 'dealReference': 'MGDGR7ESRJJTYQR',\n",
       " 'dealId': 'DIAAAALFU2QVGAR',\n",
       " 'affectedDeals': [],\n",
       " 'level': None,\n",
       " 'size': None,\n",
       " 'direction': 'BUY',\n",
       " 'stopLevel': None,\n",
       " 'limitLevel': None,\n",
       " 'stopDistance': None,\n",
       " 'limitDistance': None,\n",
       " 'guaranteedStop': False,\n",
       " 'trailingStop': False,\n",
       " 'profit': None,\n",
       " 'profitCurrency': None}"
      ]
     },
     "execution_count": 4,
     "metadata": {},
     "output_type": "execute_result"
    }
   ],
   "source": [
    "open_position_responce"
   ]
  },
  {
   "cell_type": "code",
   "execution_count": 4,
   "metadata": {},
   "outputs": [
    {
     "ename": "ValueError",
     "evalue": "columns cannot be a set",
     "output_type": "error",
     "traceback": [
      "\u001b[0;31m---------------------------------------------------------------------------\u001b[0m",
      "\u001b[0;31mValueError\u001b[0m                                Traceback (most recent call last)",
      "Cell \u001b[0;32mIn[4], line 4\u001b[0m\n\u001b[1;32m      2\u001b[0m \u001b[39mimport\u001b[39;00m \u001b[39mpandas\u001b[39;00m \u001b[39mas\u001b[39;00m \u001b[39mpd\u001b[39;00m\n\u001b[1;32m      3\u001b[0m pd\u001b[39m.\u001b[39moptions\u001b[39m.\u001b[39mdisplay\u001b[39m.\u001b[39mmax_columns\u001b[39m=\u001b[39m\u001b[39m33\u001b[39m\n\u001b[0;32m----> 4\u001b[0m ig_service\u001b[39m.\u001b[39;49mfetch_open_positions()\n",
      "File \u001b[0;32m~/my_projects/auto_IG/.venv/lib/python3.9/site-packages/trading_ig/rest.py:888\u001b[0m, in \u001b[0;36mIGService.fetch_open_positions\u001b[0;34m(self, session, version)\u001b[0m\n\u001b[1;32m    885\u001b[0m     cols[\u001b[39m'\u001b[39m\u001b[39mmarket\u001b[39m\u001b[39m'\u001b[39m]\u001b[39m.\u001b[39mremove(\u001b[39m'\u001b[39m\u001b[39mupdateTimeUTC\u001b[39m\u001b[39m'\u001b[39m)\n\u001b[1;32m    887\u001b[0m \u001b[39mif\u001b[39;00m \u001b[39mlen\u001b[39m(data) \u001b[39m==\u001b[39m \u001b[39m0\u001b[39m:\n\u001b[0;32m--> 888\u001b[0m     data \u001b[39m=\u001b[39m pd\u001b[39m.\u001b[39;49mDataFrame(columns\u001b[39m=\u001b[39;49m\u001b[39mself\u001b[39;49m\u001b[39m.\u001b[39;49mcolname_unique(cols))\n\u001b[1;32m    889\u001b[0m     \u001b[39mreturn\u001b[39;00m data\n\u001b[1;32m    891\u001b[0m data \u001b[39m=\u001b[39m \u001b[39mself\u001b[39m\u001b[39m.\u001b[39mexpand_columns(data, cols)\n",
      "File \u001b[0;32m~/my_projects/auto_IG/.venv/lib/python3.9/site-packages/pandas/core/frame.py:639\u001b[0m, in \u001b[0;36mDataFrame.__init__\u001b[0;34m(self, data, index, columns, dtype, copy)\u001b[0m\n\u001b[1;32m    637\u001b[0m     \u001b[39mraise\u001b[39;00m \u001b[39mValueError\u001b[39;00m(\u001b[39m\"\u001b[39m\u001b[39mindex cannot be a set\u001b[39m\u001b[39m\"\u001b[39m)\n\u001b[1;32m    638\u001b[0m \u001b[39mif\u001b[39;00m columns \u001b[39mis\u001b[39;00m \u001b[39mnot\u001b[39;00m \u001b[39mNone\u001b[39;00m \u001b[39mand\u001b[39;00m \u001b[39misinstance\u001b[39m(columns, \u001b[39mset\u001b[39m):\n\u001b[0;32m--> 639\u001b[0m     \u001b[39mraise\u001b[39;00m \u001b[39mValueError\u001b[39;00m(\u001b[39m\"\u001b[39m\u001b[39mcolumns cannot be a set\u001b[39m\u001b[39m\"\u001b[39m)\n\u001b[1;32m    641\u001b[0m \u001b[39mif\u001b[39;00m copy \u001b[39mis\u001b[39;00m \u001b[39mNone\u001b[39;00m:\n\u001b[1;32m    642\u001b[0m     \u001b[39mif\u001b[39;00m \u001b[39misinstance\u001b[39m(data, \u001b[39mdict\u001b[39m):\n\u001b[1;32m    643\u001b[0m         \u001b[39m# retain pre-GH#38939 default behavior\u001b[39;00m\n",
      "\u001b[0;31mValueError\u001b[0m: columns cannot be a set"
     ]
    }
   ],
   "source": [
    "# ig_service.fetch_open_position_by_deal_id('DIAAAALC5PV9LA6')\n",
    "import pandas as pd\n",
    "pd.options.display.max_columns=33\n",
    "ig_service.fetch_open_positions()"
   ]
  },
  {
   "cell_type": "code",
   "execution_count": 23,
   "metadata": {},
   "outputs": [],
   "source": [
    "close_position_responce = ig_service.close_open_position(\n",
    "    **close_position_config_(\n",
    "        dealId='DIAAAALFR7K4EAP', # One or the other\n",
    "        # epic=Epics.US_CRUDE_OIL.value, # One or the other \n",
    "        # THIS CLOSES THE OLDESET N DEALID OF THIS EPIC!!! DEPENDING ON THE SIZE\n",
    "        direction = 'SELL',\n",
    "        size = 1.0)\n",
    ")\n"
   ]
  },
  {
   "cell_type": "code",
   "execution_count": 24,
   "metadata": {},
   "outputs": [
    {
     "data": {
      "text/plain": [
       "{'date': '2022-12-23T16:06:21.337',\n",
       " 'status': 'CLOSED',\n",
       " 'reason': 'SUCCESS',\n",
       " 'dealStatus': 'ACCEPTED',\n",
       " 'epic': 'CC.D.CL.USS.IP',\n",
       " 'expiry': 'DFB',\n",
       " 'dealReference': 'D5YH37M9ZLJTYQR',\n",
       " 'dealId': 'DIAAAALFR7K4EAP',\n",
       " 'affectedDeals': [{'dealId': 'DIAAAALFR7K4EAP', 'status': 'FULLY_CLOSED'}],\n",
       " 'level': 7964.4,\n",
       " 'size': 1.0,\n",
       " 'direction': 'SELL',\n",
       " 'stopLevel': None,\n",
       " 'limitLevel': None,\n",
       " 'stopDistance': None,\n",
       " 'limitDistance': None,\n",
       " 'guaranteedStop': False,\n",
       " 'trailingStop': False,\n",
       " 'profit': -10.1,\n",
       " 'profitCurrency': 'GBP'}"
      ]
     },
     "execution_count": 24,
     "metadata": {},
     "output_type": "execute_result"
    }
   ],
   "source": [
    "close_position_responce"
   ]
  },
  {
   "cell_type": "code",
   "execution_count": null,
   "metadata": {},
   "outputs": [],
   "source": []
  },
  {
   "cell_type": "code",
   "execution_count": null,
   "metadata": {},
   "outputs": [],
   "source": []
  }
 ],
 "metadata": {
  "kernelspec": {
   "display_name": ".venv",
   "language": "python",
   "name": "python3"
  },
  "language_info": {
   "codemirror_mode": {
    "name": "ipython",
    "version": 3
   },
   "file_extension": ".py",
   "mimetype": "text/x-python",
   "name": "python",
   "nbconvert_exporter": "python",
   "pygments_lexer": "ipython3",
   "version": "3.9.5"
  },
  "orig_nbformat": 4,
  "vscode": {
   "interpreter": {
    "hash": "a6f487c99caa30a143fa23621bc9ce160857a5bdd835349e8b66e6beb37010aa"
   }
  }
 },
 "nbformat": 4,
 "nbformat_minor": 2
}
