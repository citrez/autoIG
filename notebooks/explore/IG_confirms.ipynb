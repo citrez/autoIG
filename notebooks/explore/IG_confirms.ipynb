{
 "cells": [
  {
   "cell_type": "code",
   "execution_count": 5,
   "metadata": {},
   "outputs": [],
   "source": [
    "from trading_ig import IGService\n",
    "from autoIG.config import ig_service_config,open_position_config_,close_position_config_\n",
    "ig_service = IGService(**ig_service_config)\n",
    "from autoIG.instruments import Epics\n",
    "\n",
    "create_session_responce = ig_service.create_session()"
   ]
  },
  {
   "cell_type": "code",
   "execution_count": 6,
   "metadata": {},
   "outputs": [],
   "source": [
    "open_position_responce = ig_service.create_open_position(\n",
    "    **open_position_config_(Epics.US_CRUDE_OIL.value)\n",
    ")\n"
   ]
  },
  {
   "cell_type": "code",
   "execution_count": 7,
   "metadata": {},
   "outputs": [
    {
     "data": {
      "text/plain": [
       "{'date': '2022-12-27T17:25:30.162',\n",
       " 'status': 'OPEN',\n",
       " 'reason': 'SUCCESS',\n",
       " 'dealStatus': 'ACCEPTED',\n",
       " 'epic': 'CC.D.CL.USS.IP',\n",
       " 'expiry': 'DFB',\n",
       " 'dealReference': 'B74VBQNRRLJTYQR',\n",
       " 'dealId': 'DIAAAALGA5RK4AQ',\n",
       " 'affectedDeals': [{'dealId': 'DIAAAALGA5RK4AQ', 'status': 'OPENED'}],\n",
       " 'level': 8072.0,\n",
       " 'size': 1.0,\n",
       " 'direction': 'BUY',\n",
       " 'stopLevel': None,\n",
       " 'limitLevel': None,\n",
       " 'stopDistance': None,\n",
       " 'limitDistance': None,\n",
       " 'guaranteedStop': False,\n",
       " 'trailingStop': False,\n",
       " 'profit': None,\n",
       " 'profitCurrency': None}"
      ]
     },
     "execution_count": 7,
     "metadata": {},
     "output_type": "execute_result"
    }
   ],
   "source": [
    "open_position_responce"
   ]
  },
  {
   "cell_type": "code",
   "execution_count": 8,
   "metadata": {},
   "outputs": [
    {
     "data": {
      "text/html": [
       "<div>\n",
       "<style scoped>\n",
       "    .dataframe tbody tr th:only-of-type {\n",
       "        vertical-align: middle;\n",
       "    }\n",
       "\n",
       "    .dataframe tbody tr th {\n",
       "        vertical-align: top;\n",
       "    }\n",
       "\n",
       "    .dataframe thead th {\n",
       "        text-align: right;\n",
       "    }\n",
       "</style>\n",
       "<table border=\"1\" class=\"dataframe\">\n",
       "  <thead>\n",
       "    <tr style=\"text-align: right;\">\n",
       "      <th></th>\n",
       "      <th>contractSize</th>\n",
       "      <th>createdDate</th>\n",
       "      <th>createdDateUTC</th>\n",
       "      <th>dealId</th>\n",
       "      <th>dealReference</th>\n",
       "      <th>size</th>\n",
       "      <th>direction</th>\n",
       "      <th>limitLevel</th>\n",
       "      <th>level</th>\n",
       "      <th>currency</th>\n",
       "      <th>controlledRisk</th>\n",
       "      <th>stopLevel</th>\n",
       "      <th>trailingStep</th>\n",
       "      <th>trailingStopDistance</th>\n",
       "      <th>limitedRiskPremium</th>\n",
       "      <th>instrumentName</th>\n",
       "      <th>expiry</th>\n",
       "      <th>epic</th>\n",
       "      <th>instrumentType</th>\n",
       "      <th>lotSize</th>\n",
       "      <th>high</th>\n",
       "      <th>low</th>\n",
       "      <th>percentageChange</th>\n",
       "      <th>netChange</th>\n",
       "      <th>bid</th>\n",
       "      <th>offer</th>\n",
       "      <th>updateTime</th>\n",
       "      <th>updateTimeUTC</th>\n",
       "      <th>delayTime</th>\n",
       "      <th>streamingPricesAvailable</th>\n",
       "      <th>marketStatus</th>\n",
       "      <th>scalingFactor</th>\n",
       "    </tr>\n",
       "  </thead>\n",
       "  <tbody>\n",
       "    <tr>\n",
       "      <th>0</th>\n",
       "      <td>1.0</td>\n",
       "      <td>2022/12/27 17:25:30:000</td>\n",
       "      <td>2022-12-27T17:25:30</td>\n",
       "      <td>DIAAAALGA5RK4AQ</td>\n",
       "      <td>B74VBQNRRLJTYQR</td>\n",
       "      <td>1.0</td>\n",
       "      <td>BUY</td>\n",
       "      <td>None</td>\n",
       "      <td>8072.0</td>\n",
       "      <td>GBP</td>\n",
       "      <td>False</td>\n",
       "      <td>None</td>\n",
       "      <td>None</td>\n",
       "      <td>None</td>\n",
       "      <td>None</td>\n",
       "      <td>Oil - US Crude</td>\n",
       "      <td>DFB</td>\n",
       "      <td>CC.D.CL.USS.IP</td>\n",
       "      <td>COMMODITIES</td>\n",
       "      <td>1.0</td>\n",
       "      <td>8120.5</td>\n",
       "      <td>7933.0</td>\n",
       "      <td>0.63</td>\n",
       "      <td>50.8</td>\n",
       "      <td>8067.2</td>\n",
       "      <td>8071.0</td>\n",
       "      <td>17:25:35</td>\n",
       "      <td>17:25:35</td>\n",
       "      <td>0</td>\n",
       "      <td>True</td>\n",
       "      <td>TRADEABLE</td>\n",
       "      <td>1</td>\n",
       "    </tr>\n",
       "  </tbody>\n",
       "</table>\n",
       "</div>"
      ],
      "text/plain": [
       "   contractSize              createdDate       createdDateUTC  \\\n",
       "0           1.0  2022/12/27 17:25:30:000  2022-12-27T17:25:30   \n",
       "\n",
       "            dealId    dealReference  size direction limitLevel   level  \\\n",
       "0  DIAAAALGA5RK4AQ  B74VBQNRRLJTYQR   1.0       BUY       None  8072.0   \n",
       "\n",
       "  currency  controlledRisk stopLevel trailingStep trailingStopDistance  \\\n",
       "0      GBP           False      None         None                 None   \n",
       "\n",
       "  limitedRiskPremium  instrumentName expiry            epic instrumentType  \\\n",
       "0               None  Oil - US Crude    DFB  CC.D.CL.USS.IP    COMMODITIES   \n",
       "\n",
       "   lotSize    high     low  percentageChange  netChange     bid   offer  \\\n",
       "0      1.0  8120.5  7933.0              0.63       50.8  8067.2  8071.0   \n",
       "\n",
       "  updateTime updateTimeUTC  delayTime  streamingPricesAvailable marketStatus  \\\n",
       "0   17:25:35      17:25:35          0                      True    TRADEABLE   \n",
       "\n",
       "   scalingFactor  \n",
       "0              1  "
      ]
     },
     "execution_count": 8,
     "metadata": {},
     "output_type": "execute_result"
    }
   ],
   "source": [
    "# ig_service.fetch_open_position_by_deal_id('DIAAAALC5PV9LA6')\n",
    "import pandas as pd\n",
    "pd.options.display.max_columns=33\n",
    "ig_service.fetch_open_positions()"
   ]
  },
  {
   "cell_type": "code",
   "execution_count": 9,
   "metadata": {},
   "outputs": [],
   "source": [
    "close_position_responce = ig_service.close_open_position(\n",
    "    **close_position_config_(\n",
    "        dealId='DIAAAALGA5RK4AQ', # One or the other\n",
    "        # epic=Epics.US_CRUDE_OIL.value, # One or the other \n",
    "        # THIS CLOSES THE OLDESET N DEALID OF THIS EPIC!!! DEPENDING ON THE SIZE\n",
    "        direction = 'SELL',\n",
    "        size = 1.0)\n",
    ")\n"
   ]
  },
  {
   "cell_type": "code",
   "execution_count": 10,
   "metadata": {},
   "outputs": [
    {
     "data": {
      "text/plain": [
       "{'date': '2022-12-27T17:26:39.442',\n",
       " 'status': 'CLOSED',\n",
       " 'reason': 'SUCCESS',\n",
       " 'dealStatus': 'ACCEPTED',\n",
       " 'epic': 'CC.D.CL.USS.IP',\n",
       " 'expiry': 'DFB',\n",
       " 'dealReference': 'B74VBQNRRLJTYQR',\n",
       " 'dealId': 'DIAAAALGA5RK4AQ',\n",
       " 'affectedDeals': [{'dealId': 'DIAAAALGA5RK4AQ', 'status': 'FULLY_CLOSED'}],\n",
       " 'level': 8071.2,\n",
       " 'size': 1.0,\n",
       " 'direction': 'SELL',\n",
       " 'stopLevel': None,\n",
       " 'limitLevel': None,\n",
       " 'stopDistance': None,\n",
       " 'limitDistance': None,\n",
       " 'guaranteedStop': False,\n",
       " 'trailingStop': False,\n",
       " 'profit': -0.8,\n",
       " 'profitCurrency': 'GBP'}"
      ]
     },
     "execution_count": 10,
     "metadata": {},
     "output_type": "execute_result"
    }
   ],
   "source": [
    "close_position_responce"
   ]
  },
  {
   "cell_type": "code",
   "execution_count": null,
   "metadata": {},
   "outputs": [],
   "source": []
  },
  {
   "cell_type": "code",
   "execution_count": null,
   "metadata": {},
   "outputs": [],
   "source": []
  }
 ],
 "metadata": {
  "kernelspec": {
   "display_name": ".venv",
   "language": "python",
   "name": "python3"
  },
  "language_info": {
   "codemirror_mode": {
    "name": "ipython",
    "version": 3
   },
   "file_extension": ".py",
   "mimetype": "text/x-python",
   "name": "python",
   "nbconvert_exporter": "python",
   "pygments_lexer": "ipython3",
   "version": "3.9.5 (default, May 31 2022, 15:23:50) \n[Clang 12.0.5 (clang-1205.0.22.11)]"
  },
  "orig_nbformat": 4,
  "vscode": {
   "interpreter": {
    "hash": "a6f487c99caa30a143fa23621bc9ce160857a5bdd835349e8b66e6beb37010aa"
   }
  }
 },
 "nbformat": 4,
 "nbformat_minor": 2
}
