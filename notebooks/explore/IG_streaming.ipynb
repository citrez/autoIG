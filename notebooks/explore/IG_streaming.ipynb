{
 "cells": [
  {
   "cell_type": "raw",
   "metadata": {},
   "source": [
    "This notebook is for exploring the IG trading service.\n",
    "IG is a platform that allows you to buy and sell derivates.\n",
    "It offers spread betting and CFD trading, which allows you to bet on the direction \n",
    "of equities, bonds and currencies, without owning the underlying asset."
   ]
  },
  {
   "cell_type": "code",
   "execution_count": 3,
   "metadata": {},
   "outputs": [],
   "source": [
    "import sqlite3\n",
    "import json\n",
    "import datetime\n",
    "import pandas as pd\n",
    "import numpy as np\n",
    "from trading_ig.config import config\n",
    "import yfinance as yf\n",
    "from pathlib import Path\n",
    "from trading_ig import IGService, IGStreamService\n",
    "from trading_ig.lightstreamer import Subscription\n",
    "from autoIG.config import ig_service_config\n",
    "import time\n",
    "from autoIG.instruments import Epics\n",
    "\n",
    "# from autoIG.utils import load_model,read_stream_,parse_item\n",
    "# model = load_model(\"base_model/base_model.pkl\")\n",
    "\n",
    "# Set up Subscription\n",
    "ig_service = IGService(**ig_service_config)\n",
    "ig_stream_service = IGStreamService(ig_service)"
   ]
  },
  {
   "cell_type": "code",
   "execution_count": 4,
   "metadata": {},
   "outputs": [
    {
     "name": "stdout",
     "output_type": "stream",
     "text": [
      "null\n",
      "\n",
      "{'channel': 'WTP',\n",
      " 'dealId': 'DIAAAALKY47SCAY',\n",
      " 'dealIdOrigin': 'DIAAAALKY47SCAY',\n",
      " 'dealReference': '2EPNCGC1GPWW3Z111C',\n",
      " 'dealStatus': 'ACCEPTED',\n",
      " 'direction': 'SELL',\n",
      " 'epic': 'CC.D.CL.USS.IP',\n",
      " 'expiry': 'DFB',\n",
      " 'guaranteedStop': False,\n",
      " 'level': 7942.9,\n",
      " 'limitLevel': None,\n",
      " 'size': 3,\n",
      " 'status': 'OPEN',\n",
      " 'stopLevel': None,\n",
      " 'timestamp': '2023-01-16T08:51:28.125'}\n",
      "null\n",
      "\n",
      "{'channel': 'WTP',\n",
      " 'dealId': 'DIAAAALKY47SCAY',\n",
      " 'dealIdOrigin': 'DIAAAALKY47SCAY',\n",
      " 'dealReference': '2EPNCGC1GPWW3Z111C',\n",
      " 'dealStatus': 'ACCEPTED',\n",
      " 'direction': 'SELL',\n",
      " 'epic': 'CC.D.CL.USS.IP',\n",
      " 'expiry': 'DFB',\n",
      " 'guaranteedStop': False,\n",
      " 'level': 7947.7,\n",
      " 'limitLevel': None,\n",
      " 'size': 2,\n",
      " 'status': 'UPDATED',\n",
      " 'stopLevel': None,\n",
      " 'timestamp': '2023-01-16T08:51:47.515'}\n"
     ]
    }
   ],
   "source": [
    "ig_stream_service.create_session()\n",
    "\n",
    "sub2 = Subscription(\n",
    "    mode ='DISTINCT',\n",
    "    items=['TRADE:Z4JO3H'],\n",
    "    fields=['CONFIRMS',\"OPU\"])\n",
    "\n",
    "def on_update(item):\n",
    "    import json\n",
    "    import pprint\n",
    "    pp = pprint.PrettyPrinter(depth=4)\n",
    "    print(json.dumps(item['values']['CONFIRMS'],indent=4))\n",
    "    print()\n",
    "    pp.pprint(json.loads(item['values']['OPU']))\n",
    "    return None\n",
    "sub2.addlistener(on_update)\n",
    "ig_stream_service.ls_client.subscribe(sub2)\n",
    "time.sleep(300)\n",
    "ig_stream_service.disconnect()\n"
   ]
  },
  {
   "cell_type": "code",
   "execution_count": 6,
   "metadata": {},
   "outputs": [
    {
     "name": "stdout",
     "output_type": "stream",
     "text": [
      "{'pos': 1, 'name': 'TRADE:Z4JO3H', 'values': {'CONFIRMS': None}}{'pos': 1, 'name': 'TRADE:Z4JO3H', 'values': {'OPU': '{\"dealReference\":\"2EPNCGC1GPWTEHRMB\",\"dealId\":\"DIAAAALKYZ2BGBC\",\"direction\":\"BUY\",\"epic\":\"CC.D.CL.USS.IP\",\"status\":\"OPEN\",\"dealStatus\":\"ACCEPTED\",\"level\":7941.5,\"size\":1,\"timestamp\":\"2023-01-16T08:18:00.939\",\"channel\":\"WTP\",\"dealIdOrigin\":\"DIAAAALKYZ2BGBC\",\"expiry\":\"DFB\",\"stopLevel\":null,\"limitLevel\":null,\"guaranteedStop\":false}'}}\n",
      "\n",
      "{'pos': 1, 'name': 'TRADE:Z4JO3H', 'values': {'CONFIRMS': None}}\n",
      "{'pos': 1, 'name': 'TRADE:Z4JO3H', 'values': {'CONFIRMS': None}}{'pos': 1, 'name': 'TRADE:Z4JO3H', 'values': {'OPU': '{\"dealReference\":\"2EPNCGC1GPWTED9NA\",\"dealId\":\"DIAAAALKYZXGKAS\",\"direction\":\"BUY\",\"epic\":\"CC.D.CL.USS.IP\",\"status\":\"DELETED\",\"dealStatus\":\"ACCEPTED\",\"level\":7933.8,\"size\":0,\"timestamp\":\"2023-01-16T08:18:49.813\",\"channel\":\"WTP\",\"dealIdOrigin\":\"DIAAAALKYZXGKAS\",\"expiry\":\"DFB\",\"stopLevel\":null,\"limitLevel\":null,\"guaranteedStop\":false}'}}\n",
      "\n",
      "{'pos': 1, 'name': 'TRADE:Z4JO3H', 'values': {'CONFIRMS': None}}\n",
      "{'pos': 1, 'name': 'TRADE:Z4JO3H', 'values': {'CONFIRMS': None}}\n",
      "{'pos': 1, 'name': 'TRADE:Z4JO3H', 'values': {'CONFIRMS': None}}\n",
      "{'pos': 1, 'name': 'TRADE:Z4JO3H', 'values': {'OPU': '{\"dealReference\":\"2EPNCGC1GPWTEHRMB\",\"dealId\":\"DIAAAALKYZ2BGBC\",\"direction\":\"BUY\",\"epic\":\"CC.D.CL.USS.IP\",\"status\":\"DELETED\",\"dealStatus\":\"ACCEPTED\",\"level\":7936.8,\"size\":0,\"timestamp\":\"2023-01-16T08:19:14.487\",\"channel\":\"WTP\",\"dealIdOrigin\":\"DIAAAALKYZ2BGBC\",\"expiry\":\"DFB\",\"stopLevel\":null,\"limitLevel\":null,\"guaranteedStop\":false}'}}\n",
      "{'pos': 1, 'name': 'TRADE:Z4JO3H', 'values': {'CONFIRMS': None}}\n",
      "{'pos': 1, 'name': 'TRADE:Z4JO3H', 'values': {'CONFIRMS': None}}\n",
      "{'pos': 1, 'name': 'TRADE:Z4JO3H', 'values': {'OPU': '{\"dealReference\":\"2EPNCGC1GPWTJFBFE\",\"dealId\":\"DIAAAALKYZ8BHAT\",\"direction\":\"SELL\",\"epic\":\"CC.D.CL.USS.IP\",\"status\":\"OPEN\",\"dealStatus\":\"ACCEPTED\",\"level\":7932.8,\"size\":1,\"timestamp\":\"2023-01-16T08:19:38.049\",\"channel\":\"WTP\",\"dealIdOrigin\":\"DIAAAALKYZ8BHAT\",\"expiry\":\"DFB\",\"stopLevel\":null,\"limitLevel\":null,\"guaranteedStop\":false}'}}\n"
     ]
    },
    {
     "ename": "KeyboardInterrupt",
     "evalue": "",
     "output_type": "error",
     "traceback": [
      "\u001b[0;31m---------------------------------------------------------------------------\u001b[0m",
      "\u001b[0;31mKeyboardInterrupt\u001b[0m                         Traceback (most recent call last)",
      "Cell \u001b[0;32mIn[6], line 13\u001b[0m\n\u001b[1;32m     11\u001b[0m sub2\u001b[39m.\u001b[39maddlistener(on_update)\n\u001b[1;32m     12\u001b[0m ig_stream_service\u001b[39m.\u001b[39mls_client\u001b[39m.\u001b[39msubscribe(sub2)\n\u001b[0;32m---> 13\u001b[0m time\u001b[39m.\u001b[39;49msleep(\u001b[39m300\u001b[39;49m)\n\u001b[1;32m     14\u001b[0m ig_stream_service\u001b[39m.\u001b[39mdisconnect()\n",
      "\u001b[0;31mKeyboardInterrupt\u001b[0m: "
     ]
    }
   ],
   "source": [
    "ig_stream_service.create_session()\n",
    "\n",
    "sub2 = Subscription(\n",
    "    mode ='DISTINCT',\n",
    "    items=['TRADE:Z4JO3H'],\n",
    "    fields=['OPU'])\n",
    "\n",
    "def on_update(item):\n",
    "    print(item)\n",
    "    return None\n",
    "sub2.addlistener(on_update)\n",
    "ig_stream_service.ls_client.subscribe(sub2)\n",
    "time.sleep(300)\n",
    "ig_stream_service.disconnect()\n"
   ]
  },
  {
   "cell_type": "code",
   "execution_count": 3,
   "metadata": {},
   "outputs": [
    {
     "name": "stdout",
     "output_type": "stream",
     "text": [
      "DISCONNECTED FROM LIGHTSTREAMER\n"
     ]
    }
   ],
   "source": [
    "ig_stream_service.create_session()\n",
    "sub = Subscription(\n",
    "    mode=\"MERGE\",\n",
    "    items=[\"MARKET:\" + Epics.GBP_USD.value],\n",
    "    fields=[\"UPDATE_TIME\", \"BID\", \"OFFER\"]\n",
    ")\n",
    "\n",
    "def on_update(item):\n",
    "    print(item)\n",
    "    return None\n",
    "\n",
    "sub.addlistener(on_update)\n",
    "ig_stream_service.ls_client.subscribe(sub)\n",
    "time.sleep(30)\n",
    "ig_stream_service.disconnect()\n"
   ]
  },
  {
   "cell_type": "code",
   "execution_count": null,
   "metadata": {},
   "outputs": [],
   "source": [
    "\n",
    "\n"
   ]
  }
 ],
 "metadata": {
  "kernelspec": {
   "display_name": "Python 3.9.13 ('.venv': poetry)",
   "language": "python",
   "name": "python3"
  },
  "language_info": {
   "codemirror_mode": {
    "name": "ipython",
    "version": 3
   },
   "file_extension": ".py",
   "mimetype": "text/x-python",
   "name": "python",
   "nbconvert_exporter": "python",
   "pygments_lexer": "ipython3",
   "version": "3.9.5"
  },
  "orig_nbformat": 4,
  "vscode": {
   "interpreter": {
    "hash": "a6f487c99caa30a143fa23621bc9ce160857a5bdd835349e8b66e6beb37010aa"
   }
  }
 },
 "nbformat": 4,
 "nbformat_minor": 2
}
