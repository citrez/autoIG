{
 "cells": [
  {
   "cell_type": "raw",
   "metadata": {},
   "source": [
    "This notebook is for exploring the IG trading service.\n",
    "IG is a platform that allows you to buy and sell derivates.\n",
    "It offers spread betting and CFD trading, which allows you to bet on the direction \n",
    "of equities, bonds and currencies, without owning the underlying asset."
   ]
  },
  {
   "cell_type": "code",
   "execution_count": 1,
   "metadata": {},
   "outputs": [],
   "source": [
    "import sqlite3\n",
    "import json\n",
    "import datetime\n",
    "import pandas as pd\n",
    "import numpy as np\n",
    "from trading_ig.config import config\n",
    "import yfinance as yf\n",
    "from pathlib import Path\n",
    "from trading_ig import IGService, IGStreamService\n",
    "from trading_ig.lightstreamer import Subscription\n",
    "from autoIG.config import ig_service_config\n",
    "import time\n",
    "from autoIG.instruments import Epics\n",
    "\n",
    "# from autoIG.utils import load_model,read_stream_,parse_item\n",
    "# model = load_model(\"base_model/base_model.pkl\")\n",
    "\n",
    "# Set up Subscription\n",
    "ig_service = IGService(**ig_service_config)\n",
    "ig_stream_service = IGStreamService(ig_service)\n",
    "\n"
   ]
  },
  {
   "cell_type": "code",
   "execution_count": 2,
   "metadata": {},
   "outputs": [
    {
     "name": "stdout",
     "output_type": "stream",
     "text": [
      "{'pos': 1, 'name': 'TRADE:Z4JO3H', 'values': {'CONFIRMS': '{\"direction\":\"BUY\",\"epic\":\"CC.D.CL.USS.IP\",\"stopLevel\":null,\"limitLevel\":null,\"dealReference\":\"MGDGR7ESRJJTYQR\",\"dealId\":\"DIAAAALFU2QVGAR\",\"limitDistance\":null,\"stopDistance\":null,\"expiry\":null,\"affectedDeals\":[],\"dealStatus\":\"REJECTED\",\"guaranteedStop\":false,\"trailingStop\":false,\"level\":null,\"reason\":\"MARKET_CLOSED_WITH_EDITS\",\"status\":null,\"size\":null,\"profit\":null,\"profitCurrency\":null,\"date\":\"2022-12-26T10:37:35.449\",\"channel\":\"PublicRestOTC\"}'}}\n",
      "DISCONNECTED FROM LIGHTSTREAMER\n"
     ]
    }
   ],
   "source": [
    "ig_stream_service.create_session()\n",
    "\n",
    "sub2 = Subscription(\n",
    "    mode ='DISTINCT',\n",
    "    items=['TRADE:Z4JO3H'],\n",
    "    fields=['CONFIRMS'])\n",
    "\n",
    "def on_update(item):\n",
    "    print(item)\n",
    "    return None\n",
    "sub2.addlistener(on_update)\n",
    "ig_stream_service.ls_client.subscribe(sub2)\n",
    "time.sleep(3)\n",
    "ig_stream_service.disconnect()\n"
   ]
  },
  {
   "cell_type": "code",
   "execution_count": 3,
   "metadata": {},
   "outputs": [
    {
     "name": "stdout",
     "output_type": "stream",
     "text": [
      "DISCONNECTED FROM LIGHTSTREAMER\n"
     ]
    }
   ],
   "source": [
    "ig_stream_service.create_session()\n",
    "sub = Subscription(\n",
    "    mode=\"MERGE\",\n",
    "    items=[\"MARKET:\" + Epics.GBP_USD.value],\n",
    "    fields=[\"UPDATE_TIME\", \"BID\", \"OFFER\"]\n",
    ")\n",
    "\n",
    "def on_update(item):\n",
    "    print(item)\n",
    "    return None\n",
    "\n",
    "sub.addlistener(on_update)\n",
    "ig_stream_service.ls_client.subscribe(sub)\n",
    "time.sleep(30)\n",
    "ig_stream_service.disconnect()\n"
   ]
  },
  {
   "cell_type": "code",
   "execution_count": null,
   "metadata": {},
   "outputs": [],
   "source": [
    "\n",
    "\n"
   ]
  }
 ],
 "metadata": {
  "kernelspec": {
   "display_name": "Python 3.9.13 ('.venv': poetry)",
   "language": "python",
   "name": "python3"
  },
  "language_info": {
   "codemirror_mode": {
    "name": "ipython",
    "version": 3
   },
   "file_extension": ".py",
   "mimetype": "text/x-python",
   "name": "python",
   "nbconvert_exporter": "python",
   "pygments_lexer": "ipython3",
   "version": "3.9.5"
  },
  "orig_nbformat": 4,
  "vscode": {
   "interpreter": {
    "hash": "a6f487c99caa30a143fa23621bc9ce160857a5bdd835349e8b66e6beb37010aa"
   }
  }
 },
 "nbformat": 4,
 "nbformat_minor": 2
}
